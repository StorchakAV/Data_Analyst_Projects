{
 "cells": [
  {
   "cell_type": "markdown",
   "metadata": {},
   "source": [
    "# Выявление закономерностей, определяющих успешность игр"
   ]
  },
  {
   "cell_type": "markdown",
   "metadata": {},
   "source": [
    "## План исследования\n",
    "Используя исторические данные о продажах компьютерных игр, оценки пользователей и экспертов, жанры и платформы, выявить закономерности, определяющие успешность игр."
   ]
  },
  {
   "cell_type": "markdown",
   "metadata": {},
   "source": [
    "## Описание данных\n",
    "\n",
    "- Name — название игры\n",
    "- Platform — платформа\n",
    "- Year_of_Release — год выпуска\n",
    "- Genre — жанр игры\n",
    "- NA_sales — продажи в Северной Америке (в миллионах проданных копий)\n",
    "- EU_sales — продажи в Европе (в миллионах проданных копий)\n",
    "- JP_sales — продажи в Японии (в миллионах проданных копий)\n",
    "- Other_sales — продажи в других странах (в миллионах проданных копий)\n",
    "- Critic_Score — оценка критиков (максимум 100)\n",
    "- User_Score — оценка пользователей (максимум 10)\n",
    "- Rating — рейтинг от организации ESRB (англ. Entertainment Software Rating Board). Эта ассоциация определяет рейтинг компьютерных игр и присваивает им подходящую возрастную категорию. \n",
    "    \n",
    "    Действующие рейтинги:\n",
    "\n",
    "    - «EC» («Early childhood») — «Для детей младшего возраста.\n",
    "    - «E» («Everyone») — «Для всех»\n",
    "    - «E10+» («Everyone 10 and older») — «Для всех старше 10 лет.\n",
    "    - «T» («Teen») — «Подросткам»\n",
    "    - «M» («Mature») — «От 17 лет»\n",
    "    - «AO» («Adults Only 18+») — «Только для взрослых»\n",
    "    - «RP» («Rating Pending»») — «Рейтинг ожидается»\n",
    "    - K-A устаревший рейтинг, данные игры имеют рейтинг \"E\" согласно информации в интернете\n",
    "\n",
    "\n",
    "*Примечание:\n",
    "Данные за 2016 год могут быть неполными.*"
   ]
  },
  {
   "cell_type": "markdown",
   "metadata": {},
   "source": [
    "## Изучение данных"
   ]
  },
  {
   "cell_type": "code",
   "execution_count": 1,
   "metadata": {},
   "outputs": [
    {
     "data": {
      "text/html": [
       "<style>.container { width:95% !important; }</style>"
      ],
      "text/plain": [
       "<IPython.core.display.HTML object>"
      ]
     },
     "metadata": {},
     "output_type": "display_data"
    }
   ],
   "source": [
    "# загрузим все необходимые библиотеки\n",
    "import pandas as pd\n",
    "import numpy as np\n",
    "import matplotlib.pyplot as plt\n",
    "import seaborn as sns\n",
    "from scipy import stats as st\n",
    "import warnings\n",
    "warnings.filterwarnings('ignore')\n",
    "\n",
    "from IPython.display import display, HTML\n",
    "display(HTML(\"<style>.container { width:95% !important; }</style>\"))\n",
    "\n",
    "pd.set_option('display.max_columns', None)"
   ]
  },
  {
   "cell_type": "code",
   "execution_count": 2,
   "metadata": {
    "scrolled": false
   },
   "outputs": [
    {
     "name": "stdout",
     "output_type": "stream",
     "text": [
      "<class 'pandas.core.frame.DataFrame'>\n",
      "RangeIndex: 16715 entries, 0 to 16714\n",
      "Data columns (total 11 columns):\n",
      " #   Column           Non-Null Count  Dtype  \n",
      "---  ------           --------------  -----  \n",
      " 0   Name             16713 non-null  object \n",
      " 1   Platform         16715 non-null  object \n",
      " 2   Year_of_Release  16446 non-null  float64\n",
      " 3   Genre            16713 non-null  object \n",
      " 4   NA_sales         16715 non-null  float64\n",
      " 5   EU_sales         16715 non-null  float64\n",
      " 6   JP_sales         16715 non-null  float64\n",
      " 7   Other_sales      16715 non-null  float64\n",
      " 8   Critic_Score     8137 non-null   float64\n",
      " 9   User_Score       10014 non-null  object \n",
      " 10  Rating           9949 non-null   object \n",
      "dtypes: float64(6), object(5)\n",
      "memory usage: 1.4+ MB\n"
     ]
    },
    {
     "data": {
      "text/html": [
       "<div>\n",
       "<style scoped>\n",
       "    .dataframe tbody tr th:only-of-type {\n",
       "        vertical-align: middle;\n",
       "    }\n",
       "\n",
       "    .dataframe tbody tr th {\n",
       "        vertical-align: top;\n",
       "    }\n",
       "\n",
       "    .dataframe thead th {\n",
       "        text-align: right;\n",
       "    }\n",
       "</style>\n",
       "<table border=\"1\" class=\"dataframe\">\n",
       "  <thead>\n",
       "    <tr style=\"text-align: right;\">\n",
       "      <th></th>\n",
       "      <th>Name</th>\n",
       "      <th>Platform</th>\n",
       "      <th>Year_of_Release</th>\n",
       "      <th>Genre</th>\n",
       "      <th>NA_sales</th>\n",
       "      <th>EU_sales</th>\n",
       "      <th>JP_sales</th>\n",
       "      <th>Other_sales</th>\n",
       "      <th>Critic_Score</th>\n",
       "      <th>User_Score</th>\n",
       "      <th>Rating</th>\n",
       "    </tr>\n",
       "  </thead>\n",
       "  <tbody>\n",
       "    <tr>\n",
       "      <th>0</th>\n",
       "      <td>Wii Sports</td>\n",
       "      <td>Wii</td>\n",
       "      <td>2006.0</td>\n",
       "      <td>Sports</td>\n",
       "      <td>41.36</td>\n",
       "      <td>28.96</td>\n",
       "      <td>3.77</td>\n",
       "      <td>8.45</td>\n",
       "      <td>76.0</td>\n",
       "      <td>8</td>\n",
       "      <td>E</td>\n",
       "    </tr>\n",
       "    <tr>\n",
       "      <th>1</th>\n",
       "      <td>Super Mario Bros.</td>\n",
       "      <td>NES</td>\n",
       "      <td>1985.0</td>\n",
       "      <td>Platform</td>\n",
       "      <td>29.08</td>\n",
       "      <td>3.58</td>\n",
       "      <td>6.81</td>\n",
       "      <td>0.77</td>\n",
       "      <td>NaN</td>\n",
       "      <td>NaN</td>\n",
       "      <td>NaN</td>\n",
       "    </tr>\n",
       "    <tr>\n",
       "      <th>2</th>\n",
       "      <td>Mario Kart Wii</td>\n",
       "      <td>Wii</td>\n",
       "      <td>2008.0</td>\n",
       "      <td>Racing</td>\n",
       "      <td>15.68</td>\n",
       "      <td>12.76</td>\n",
       "      <td>3.79</td>\n",
       "      <td>3.29</td>\n",
       "      <td>82.0</td>\n",
       "      <td>8.3</td>\n",
       "      <td>E</td>\n",
       "    </tr>\n",
       "    <tr>\n",
       "      <th>3</th>\n",
       "      <td>Wii Sports Resort</td>\n",
       "      <td>Wii</td>\n",
       "      <td>2009.0</td>\n",
       "      <td>Sports</td>\n",
       "      <td>15.61</td>\n",
       "      <td>10.93</td>\n",
       "      <td>3.28</td>\n",
       "      <td>2.95</td>\n",
       "      <td>80.0</td>\n",
       "      <td>8</td>\n",
       "      <td>E</td>\n",
       "    </tr>\n",
       "    <tr>\n",
       "      <th>4</th>\n",
       "      <td>Pokemon Red/Pokemon Blue</td>\n",
       "      <td>GB</td>\n",
       "      <td>1996.0</td>\n",
       "      <td>Role-Playing</td>\n",
       "      <td>11.27</td>\n",
       "      <td>8.89</td>\n",
       "      <td>10.22</td>\n",
       "      <td>1.00</td>\n",
       "      <td>NaN</td>\n",
       "      <td>NaN</td>\n",
       "      <td>NaN</td>\n",
       "    </tr>\n",
       "  </tbody>\n",
       "</table>\n",
       "</div>"
      ],
      "text/plain": [
       "                       Name Platform  Year_of_Release         Genre  NA_sales  \\\n",
       "0                Wii Sports      Wii           2006.0        Sports     41.36   \n",
       "1         Super Mario Bros.      NES           1985.0      Platform     29.08   \n",
       "2            Mario Kart Wii      Wii           2008.0        Racing     15.68   \n",
       "3         Wii Sports Resort      Wii           2009.0        Sports     15.61   \n",
       "4  Pokemon Red/Pokemon Blue       GB           1996.0  Role-Playing     11.27   \n",
       "\n",
       "   EU_sales  JP_sales  Other_sales  Critic_Score User_Score Rating  \n",
       "0     28.96      3.77         8.45          76.0          8      E  \n",
       "1      3.58      6.81         0.77           NaN        NaN    NaN  \n",
       "2     12.76      3.79         3.29          82.0        8.3      E  \n",
       "3     10.93      3.28         2.95          80.0          8      E  \n",
       "4      8.89     10.22         1.00           NaN        NaN    NaN  "
      ]
     },
     "execution_count": 2,
     "metadata": {},
     "output_type": "execute_result"
    }
   ],
   "source": [
    "# откроем файл с играми и изучим информацию\n",
    "data = pd.read_csv('games.csv')\n",
    "data.info()\n",
    "data.head()"
   ]
  },
  {
   "cell_type": "markdown",
   "metadata": {},
   "source": [
    "**Вывод**"
   ]
  },
  {
   "cell_type": "markdown",
   "metadata": {},
   "source": [
    "Файл с данными состоит из 11 столбцов и 16715 строк. В названии столбцов видны заглавные буквы, которые необходимо привести к нижнему регистру. Так же в данных имеются пропуски, основная доля которых приходится на рейтинг, оценку критиков и оценку пользователей. Тип данных в столбце *user_score* необходимо изменить с object на float, поскольку данные представлены в виде оценки от 0 до 10. Столбец с годом реализа преобразуем в целочисленный тип, вместо вещественного."
   ]
  },
  {
   "cell_type": "markdown",
   "metadata": {},
   "source": [
    "## Подготовка данных"
   ]
  },
  {
   "cell_type": "code",
   "execution_count": 3,
   "metadata": {},
   "outputs": [
    {
     "data": {
      "text/plain": [
       "Index(['name', 'platform', 'year_of_release', 'genre', 'na_sales', 'eu_sales',\n",
       "       'jp_sales', 'other_sales', 'critic_score', 'user_score', 'rating'],\n",
       "      dtype='object')"
      ]
     },
     "execution_count": 3,
     "metadata": {},
     "output_type": "execute_result"
    }
   ],
   "source": [
    "# приведём заголовки столбцов к нижнему регистру\n",
    "data.columns = [x.lower() for x in data.columns]\n",
    "data.columns"
   ]
  },
  {
   "cell_type": "markdown",
   "metadata": {},
   "source": [
    "Наименования столбцов приведены к нижнему регистру. Проверим наличие полных дубликатов в данных."
   ]
  },
  {
   "cell_type": "code",
   "execution_count": 4,
   "metadata": {},
   "outputs": [
    {
     "name": "stdout",
     "output_type": "stream",
     "text": [
      "Кол-во дубликатов в данных: 0\n"
     ]
    }
   ],
   "source": [
    "# проверим данные на полные дубликаты\n",
    "print('Кол-во дубликатов в данных:', data.duplicated().sum())"
   ]
  },
  {
   "cell_type": "markdown",
   "metadata": {},
   "source": [
    "Дубликатов в данных не обнаружено. Приступим к обработке пропусков."
   ]
  },
  {
   "cell_type": "code",
   "execution_count": 5,
   "metadata": {},
   "outputs": [
    {
     "name": "stdout",
     "output_type": "stream",
     "text": [
      "---------------------------------------------------------\n",
      "name            - кол-во NaN: 2    - процент NaN: 0.01  %    \n",
      "---------------------------------------------------------\n",
      "platform        - кол-во NaN: 0    - процент NaN: 0.0   %    \n",
      "---------------------------------------------------------\n",
      "year_of_release - кол-во NaN: 269  - процент NaN: 1.61  %    \n",
      "---------------------------------------------------------\n",
      "genre           - кол-во NaN: 2    - процент NaN: 0.01  %    \n",
      "---------------------------------------------------------\n",
      "na_sales        - кол-во NaN: 0    - процент NaN: 0.0   %    \n",
      "---------------------------------------------------------\n",
      "eu_sales        - кол-во NaN: 0    - процент NaN: 0.0   %    \n",
      "---------------------------------------------------------\n",
      "jp_sales        - кол-во NaN: 0    - процент NaN: 0.0   %    \n",
      "---------------------------------------------------------\n",
      "other_sales     - кол-во NaN: 0    - процент NaN: 0.0   %    \n",
      "---------------------------------------------------------\n",
      "critic_score    - кол-во NaN: 8578 - процент NaN: 51.32 %    \n",
      "---------------------------------------------------------\n",
      "user_score      - кол-во NaN: 6701 - процент NaN: 40.09 %    \n",
      "---------------------------------------------------------\n",
      "rating          - кол-во NaN: 6766 - процент NaN: 40.48 %    \n"
     ]
    }
   ],
   "source": [
    "# найдём количество и долю пропусков в каждом столбце\n",
    "for column in data.columns:\n",
    "    print('-' * 57)\n",
    "    print(\"{:<16}{:<14}{:<5}{:<15}{:<6}{:<5}\".format(column, '- кол-во NaN:', data[column].isna().sum(),\n",
    "          '- процент NaN:', round(data[column].isna().sum() / len(data) * 100, 2), '%'))"
   ]
  },
  {
   "cell_type": "markdown",
   "metadata": {},
   "source": [
    "Учитывая то, что в столбцах с именем, жанром и годом выхода игр доля пропусков небольшая (максимум 1.61%), а заменить пропуски на соответствующие значения не представляется возможным, логичным решением будет их удалить. Причиной пропусков вероятнее всего является ошибка ввода данных."
   ]
  },
  {
   "cell_type": "code",
   "execution_count": 6,
   "metadata": {},
   "outputs": [],
   "source": [
    "# удалим пропуски в столбцах с именем, годом выпуска и жанром\n",
    "data.dropna(subset=['name', 'genre', 'year_of_release'], inplace=True)"
   ]
  },
  {
   "cell_type": "code",
   "execution_count": 7,
   "metadata": {
    "scrolled": true
   },
   "outputs": [
    {
     "name": "stdout",
     "output_type": "stream",
     "text": [
      "[1980. 1981. 1982. 1983. 1984. 1985. 1986. 1987. 1988. 1989. 1990. 1991.\n",
      " 1992. 1993. 1994. 1995. 1996. 1997. 1998. 1999. 2000. 2001. 2002. 2003.\n",
      " 2004. 2005. 2006. 2007. 2008. 2009. 2010. 2011. 2012. 2013. 2014. 2015.\n",
      " 2016.]\n"
     ]
    }
   ],
   "source": [
    "# найдём уникальные значения в столбце year_of_release\n",
    "print(data['year_of_release'].sort_values().unique())"
   ]
  },
  {
   "cell_type": "markdown",
   "metadata": {},
   "source": [
    "В данных присутствуют игры начиная с 1980 по 2016 год включительно, причём данные за 2016 год могут быть неполными, как следует из условия задачи. Преобразуем тип данных в столбце с годом релиза с типа float на int, поскольку дробных годов у нас нет. "
   ]
  },
  {
   "cell_type": "code",
   "execution_count": 8,
   "metadata": {},
   "outputs": [],
   "source": [
    "# преобразование типа данных с вещественного на целочисленный тип\n",
    "data['year_of_release'] = data['year_of_release'].astype(int)"
   ]
  },
  {
   "cell_type": "markdown",
   "metadata": {},
   "source": [
    "Осталось 3 столбца, в которых находится основная доля пропусков: \"critic_score\", \"user_score\", \"rating\". Причиной пропусков в столбцах с оценкой может являться технологический фактор. Так как игры выпускались с 1980 года, в то время вполне могло не быть единой системы оценок. Пропуски в столбце с рейтингом, вероятно, возникли из-за специфики самой организации, основное направление деятельности которой приходится на США и Канаду. Для того, чтобы не потерять данные при анализе, заполним пустые значения заглушкой \"-1\"."
   ]
  },
  {
   "cell_type": "code",
   "execution_count": 9,
   "metadata": {},
   "outputs": [],
   "source": [
    "# заполним пропуски в рейтинге, оценке пользователей и критиков \n",
    "data.fillna({'user_score':-1, 'critic_score':-1, 'rating':'Empty'}, inplace=True)"
   ]
  },
  {
   "cell_type": "markdown",
   "metadata": {},
   "source": [
    "Исправим в столбце *user_score* тип данных с object на float, так как данные представляют собой оценку в виде числовых значений от 0 до 10."
   ]
  },
  {
   "cell_type": "code",
   "execution_count": 10,
   "metadata": {},
   "outputs": [
    {
     "data": {
      "text/plain": [
       "-1     6605\n",
       "tbd    2376\n",
       "7.8     322\n",
       "8       285\n",
       "8.2     276\n",
       "       ... \n",
       "1.3       2\n",
       "1.1       2\n",
       "0.6       2\n",
       "9.7       1\n",
       "0         1\n",
       "Name: user_score, Length: 97, dtype: int64"
      ]
     },
     "execution_count": 10,
     "metadata": {},
     "output_type": "execute_result"
    }
   ],
   "source": [
    "# найдём уникальные значения в столбце с пользовательской оценкой\n",
    "data['user_score'].value_counts()"
   ]
  },
  {
   "cell_type": "markdown",
   "metadata": {},
   "source": [
    "Теперь ясно, почему столбец *user_score* не является количественным типом: в данных присутствует текст. Значение 'tbd' может интерпретироваться с англ.языка как 'to be determined', что в переводе на русский - информация не определена, либо её только предстоит определить. Фактически, это отсутствие оценок пользователей, поэтому логичным решением будет заменить их числом, не входящим в диапазон значений столбца, например, отрицательной единицей \"-1\"."
   ]
  },
  {
   "cell_type": "code",
   "execution_count": 11,
   "metadata": {},
   "outputs": [],
   "source": [
    "# заменим все строковые значения в столбце user_score на -1\n",
    "data.loc[data['user_score'] == 'tbd', 'user_score'] = -1"
   ]
  },
  {
   "cell_type": "markdown",
   "metadata": {},
   "source": [
    "Данные в столбце с пользовательской оценкой исправлены и теперь можно изменить тип данных на корректный."
   ]
  },
  {
   "cell_type": "code",
   "execution_count": 12,
   "metadata": {},
   "outputs": [
    {
     "data": {
      "text/plain": [
       "name                object\n",
       "platform            object\n",
       "year_of_release      int64\n",
       "genre               object\n",
       "na_sales           float64\n",
       "eu_sales           float64\n",
       "jp_sales           float64\n",
       "other_sales        float64\n",
       "critic_score       float64\n",
       "user_score         float64\n",
       "rating              object\n",
       "dtype: object"
      ]
     },
     "execution_count": 12,
     "metadata": {},
     "output_type": "execute_result"
    }
   ],
   "source": [
    "# изменим тип данных в user_score с object на float\n",
    "data['user_score'] = pd.to_numeric(data['user_score'])\n",
    "data.dtypes"
   ]
  },
  {
   "cell_type": "markdown",
   "metadata": {},
   "source": [
    "Тип данных успешно изменён. В заключении данного раздела рассчитаем суммарное количество продаж по всем регионам для каждой игры и запишем их в отдельный столбец *total_sales*."
   ]
  },
  {
   "cell_type": "code",
   "execution_count": 13,
   "metadata": {},
   "outputs": [
    {
     "data": {
      "text/html": [
       "<div>\n",
       "<style scoped>\n",
       "    .dataframe tbody tr th:only-of-type {\n",
       "        vertical-align: middle;\n",
       "    }\n",
       "\n",
       "    .dataframe tbody tr th {\n",
       "        vertical-align: top;\n",
       "    }\n",
       "\n",
       "    .dataframe thead th {\n",
       "        text-align: right;\n",
       "    }\n",
       "</style>\n",
       "<table border=\"1\" class=\"dataframe\">\n",
       "  <thead>\n",
       "    <tr style=\"text-align: right;\">\n",
       "      <th></th>\n",
       "      <th>name</th>\n",
       "      <th>platform</th>\n",
       "      <th>year_of_release</th>\n",
       "      <th>genre</th>\n",
       "      <th>na_sales</th>\n",
       "      <th>eu_sales</th>\n",
       "      <th>jp_sales</th>\n",
       "      <th>other_sales</th>\n",
       "      <th>critic_score</th>\n",
       "      <th>user_score</th>\n",
       "      <th>rating</th>\n",
       "      <th>total_sales</th>\n",
       "    </tr>\n",
       "  </thead>\n",
       "  <tbody>\n",
       "    <tr>\n",
       "      <th>0</th>\n",
       "      <td>Wii Sports</td>\n",
       "      <td>Wii</td>\n",
       "      <td>2006</td>\n",
       "      <td>Sports</td>\n",
       "      <td>41.36</td>\n",
       "      <td>28.96</td>\n",
       "      <td>3.77</td>\n",
       "      <td>8.45</td>\n",
       "      <td>76.0</td>\n",
       "      <td>8.0</td>\n",
       "      <td>E</td>\n",
       "      <td>82.54</td>\n",
       "    </tr>\n",
       "    <tr>\n",
       "      <th>1</th>\n",
       "      <td>Super Mario Bros.</td>\n",
       "      <td>NES</td>\n",
       "      <td>1985</td>\n",
       "      <td>Platform</td>\n",
       "      <td>29.08</td>\n",
       "      <td>3.58</td>\n",
       "      <td>6.81</td>\n",
       "      <td>0.77</td>\n",
       "      <td>-1.0</td>\n",
       "      <td>-1.0</td>\n",
       "      <td>Empty</td>\n",
       "      <td>40.24</td>\n",
       "    </tr>\n",
       "    <tr>\n",
       "      <th>2</th>\n",
       "      <td>Mario Kart Wii</td>\n",
       "      <td>Wii</td>\n",
       "      <td>2008</td>\n",
       "      <td>Racing</td>\n",
       "      <td>15.68</td>\n",
       "      <td>12.76</td>\n",
       "      <td>3.79</td>\n",
       "      <td>3.29</td>\n",
       "      <td>82.0</td>\n",
       "      <td>8.3</td>\n",
       "      <td>E</td>\n",
       "      <td>35.52</td>\n",
       "    </tr>\n",
       "    <tr>\n",
       "      <th>3</th>\n",
       "      <td>Wii Sports Resort</td>\n",
       "      <td>Wii</td>\n",
       "      <td>2009</td>\n",
       "      <td>Sports</td>\n",
       "      <td>15.61</td>\n",
       "      <td>10.93</td>\n",
       "      <td>3.28</td>\n",
       "      <td>2.95</td>\n",
       "      <td>80.0</td>\n",
       "      <td>8.0</td>\n",
       "      <td>E</td>\n",
       "      <td>32.77</td>\n",
       "    </tr>\n",
       "    <tr>\n",
       "      <th>4</th>\n",
       "      <td>Pokemon Red/Pokemon Blue</td>\n",
       "      <td>GB</td>\n",
       "      <td>1996</td>\n",
       "      <td>Role-Playing</td>\n",
       "      <td>11.27</td>\n",
       "      <td>8.89</td>\n",
       "      <td>10.22</td>\n",
       "      <td>1.00</td>\n",
       "      <td>-1.0</td>\n",
       "      <td>-1.0</td>\n",
       "      <td>Empty</td>\n",
       "      <td>31.38</td>\n",
       "    </tr>\n",
       "  </tbody>\n",
       "</table>\n",
       "</div>"
      ],
      "text/plain": [
       "                       name platform  year_of_release         genre  na_sales  \\\n",
       "0                Wii Sports      Wii             2006        Sports     41.36   \n",
       "1         Super Mario Bros.      NES             1985      Platform     29.08   \n",
       "2            Mario Kart Wii      Wii             2008        Racing     15.68   \n",
       "3         Wii Sports Resort      Wii             2009        Sports     15.61   \n",
       "4  Pokemon Red/Pokemon Blue       GB             1996  Role-Playing     11.27   \n",
       "\n",
       "   eu_sales  jp_sales  other_sales  critic_score  user_score rating  \\\n",
       "0     28.96      3.77         8.45          76.0         8.0      E   \n",
       "1      3.58      6.81         0.77          -1.0        -1.0  Empty   \n",
       "2     12.76      3.79         3.29          82.0         8.3      E   \n",
       "3     10.93      3.28         2.95          80.0         8.0      E   \n",
       "4      8.89     10.22         1.00          -1.0        -1.0  Empty   \n",
       "\n",
       "   total_sales  \n",
       "0        82.54  \n",
       "1        40.24  \n",
       "2        35.52  \n",
       "3        32.77  \n",
       "4        31.38  "
      ]
     },
     "execution_count": 13,
     "metadata": {},
     "output_type": "execute_result"
    }
   ],
   "source": [
    "# добавим столбец total_sales для подсчёта общего количества проданных игр\n",
    "data['total_sales'] = data['na_sales'] + data['eu_sales'] + data['jp_sales'] + data['other_sales']\n",
    "data.head()"
   ]
  },
  {
   "cell_type": "markdown",
   "metadata": {},
   "source": [
    "Общие продажи для каждой игры посчитаны и на этом подготовка данных завершена. Проверим, что стало с исходным файлом по итогу предобработки."
   ]
  },
  {
   "cell_type": "code",
   "execution_count": 14,
   "metadata": {},
   "outputs": [
    {
     "name": "stdout",
     "output_type": "stream",
     "text": [
      "<class 'pandas.core.frame.DataFrame'>\n",
      "Int64Index: 16444 entries, 0 to 16714\n",
      "Data columns (total 12 columns):\n",
      " #   Column           Non-Null Count  Dtype  \n",
      "---  ------           --------------  -----  \n",
      " 0   name             16444 non-null  object \n",
      " 1   platform         16444 non-null  object \n",
      " 2   year_of_release  16444 non-null  int64  \n",
      " 3   genre            16444 non-null  object \n",
      " 4   na_sales         16444 non-null  float64\n",
      " 5   eu_sales         16444 non-null  float64\n",
      " 6   jp_sales         16444 non-null  float64\n",
      " 7   other_sales      16444 non-null  float64\n",
      " 8   critic_score     16444 non-null  float64\n",
      " 9   user_score       16444 non-null  float64\n",
      " 10  rating           16444 non-null  object \n",
      " 11  total_sales      16444 non-null  float64\n",
      "dtypes: float64(7), int64(1), object(4)\n",
      "memory usage: 1.6+ MB\n"
     ]
    }
   ],
   "source": [
    "# финальная проверка данных после предобработки\n",
    "data.info()"
   ]
  },
  {
   "cell_type": "markdown",
   "metadata": {},
   "source": [
    "**Вывод**"
   ]
  },
  {
   "cell_type": "markdown",
   "metadata": {},
   "source": [
    "В данном разделе были приведены к нижнему регистру названия столбцов и проверены данные на наличие полных дубликатов. В столбцах с именем, жанром и годом выпуска игр пропущенные значения удалены, а в столбцах с рейтингом, пользовательской оценкой и оценкой критиков заполнены отрицательной единицей (заглушкой). Ко всему прочему, в столбце с пользовательскими оценками значение 'tbd'(от англ. 'to be determined') также заменено на отрицальную единицу для того, чтобы присвоить столбцу числовой тип данных вместо строкового без потери смысла. В заключении раздела был добавлен еще один столбец total_sales, в котором отражается количество продаж (в млн.копий) по всем регионам для каждой игры. Общая потеря данных после предобработки составила 1.6%"
   ]
  },
  {
   "cell_type": "markdown",
   "metadata": {},
   "source": [
    "## Исследовательский анализ данных"
   ]
  },
  {
   "cell_type": "markdown",
   "metadata": {},
   "source": [
    "Первым делом посмотрим, какое количество игр выпускалось в разные годы. Для наглядности представим данные в виде гистограммы частот."
   ]
  },
  {
   "cell_type": "code",
   "execution_count": 15,
   "metadata": {},
   "outputs": [
    {
     "data": {
      "image/png": "[encoded data removed]",
      "text/plain": [
       "<Figure size 1296x432 with 1 Axes>"
      ]
     },
     "metadata": {
      "needs_background": "light"
     },
     "output_type": "display_data"
    }
   ],
   "source": [
    "# построим гистограмму частот для кол-ва выпущенных игр в год\n",
    "plt.figure(figsize=(18, 6))\n",
    "sns.histplot(\n",
    "    data,\n",
    "    x = 'year_of_release',\n",
    "    color = 'c',\n",
    "    bins = 36)\n",
    "\n",
    "plt.xlabel('Год выпуска', fontsize=14)\n",
    "plt.ylabel('Кол-во игр', fontsize=14)\n",
    "plt.title('Выпуск игр по годам', fontsize=16)\n",
    "plt.show()"
   ]
  },
  {
   "cell_type": "markdown",
   "metadata": {},
   "source": [
    "Из гистограммы видно, что вплоть до 1995 года количество выпущенных игр в год не превышало 200 шт. После 1995 года началось бурное развитие игровой индустрии, достигнув максимальной отметки в 2009-2010 годах на уровне более 1400 выпущенных в год игр. После пикового значения наступил спад, который закончился в 2014 году с отметкой в ~580 игр в год и уже в 2016 году значение составило примерно 1100 шт, при том, что данные еще не окончательные."
   ]
  },
  {
   "cell_type": "code",
   "execution_count": 16,
   "metadata": {
    "scrolled": false
   },
   "outputs": [
    {
     "data": {
      "text/html": [
       "<div>\n",
       "<style scoped>\n",
       "    .dataframe tbody tr th:only-of-type {\n",
       "        vertical-align: middle;\n",
       "    }\n",
       "\n",
       "    .dataframe tbody tr th {\n",
       "        vertical-align: top;\n",
       "    }\n",
       "\n",
       "    .dataframe thead th {\n",
       "        text-align: right;\n",
       "    }\n",
       "</style>\n",
       "<table border=\"1\" class=\"dataframe\">\n",
       "  <thead>\n",
       "    <tr style=\"text-align: right;\">\n",
       "      <th></th>\n",
       "      <th>platform</th>\n",
       "      <th>total_sales</th>\n",
       "    </tr>\n",
       "  </thead>\n",
       "  <tbody>\n",
       "    <tr>\n",
       "      <th>16</th>\n",
       "      <td>PS2</td>\n",
       "      <td>1233.56</td>\n",
       "    </tr>\n",
       "    <tr>\n",
       "      <th>28</th>\n",
       "      <td>X360</td>\n",
       "      <td>961.24</td>\n",
       "    </tr>\n",
       "    <tr>\n",
       "      <th>17</th>\n",
       "      <td>PS3</td>\n",
       "      <td>931.34</td>\n",
       "    </tr>\n",
       "    <tr>\n",
       "      <th>26</th>\n",
       "      <td>Wii</td>\n",
       "      <td>891.18</td>\n",
       "    </tr>\n",
       "    <tr>\n",
       "      <th>4</th>\n",
       "      <td>DS</td>\n",
       "      <td>802.78</td>\n",
       "    </tr>\n",
       "  </tbody>\n",
       "</table>\n",
       "</div>"
      ],
      "text/plain": [
       "   platform  total_sales\n",
       "16      PS2      1233.56\n",
       "28     X360       961.24\n",
       "17      PS3       931.34\n",
       "26      Wii       891.18\n",
       "4        DS       802.78"
      ]
     },
     "execution_count": 16,
     "metadata": {},
     "output_type": "execute_result"
    }
   ],
   "source": [
    "# найдём платформы с наибольшими суммарными продажами\n",
    "sales_per_platform = (\n",
    "    data.groupby('platform', as_index = False)['total_sales'].sum()\\\n",
    "    .sort_values(by = 'total_sales', ascending = False)\n",
    ")\n",
    "sales_per_platform.head(5)"
   ]
  },
  {
   "cell_type": "markdown",
   "metadata": {},
   "source": [
    "Из сводной таблицы `sales_per_platform` выберем самые популярные платформы: PS2, X360, PS3, Wii, DS; и построим для каждой из них график с распределением продаж в разрезе лет."
   ]
  },
  {
   "cell_type": "code",
   "execution_count": 17,
   "metadata": {
    "scrolled": false
   },
   "outputs": [
    {
     "data": {
      "image/png": "[encoded data removed]",
      "text/plain": [
       "<Figure size 1152x576 with 1 Axes>"
      ]
     },
     "metadata": {
      "needs_background": "light"
     },
     "output_type": "display_data"
    }
   ],
   "source": [
    "# передадим переменной список наиболее популярных платформ\n",
    "platforms = ['PS2', 'X360', 'PS3', 'Wii', 'DS']\n",
    "\n",
    "# сделаем сводную таблицу по самым популярным платформам\n",
    "most_popular_platform = (data\n",
    "    .query('@platforms in platform')\n",
    "    .pivot_table(\n",
    "        index = ['platform', 'year_of_release'],  \n",
    "        values = 'total_sales', \n",
    "        aggfunc = 'sum'\n",
    "    ).reset_index()\n",
    ")\n",
    "\n",
    "# построим график зависимости суммы продаж по каждом году в каждой из популярных платформ\n",
    "plt.figure(figsize = (16, 8))\n",
    "sns.lineplot(\n",
    "        data = most_popular_platform,\n",
    "        x = 'year_of_release',\n",
    "        y = 'total_sales',\n",
    "        hue = 'platform')\n",
    "\n",
    "plt.legend(loc = 'upper left', fontsize=14)\n",
    "plt.xlabel('Год продаж', fontsize=14)\n",
    "plt.ylabel('Сумма продаж', fontsize=14)\n",
    "plt.title('Динамика продаж по самым популярным платформам в разрезе лет', fontsize=16)\n",
    "plt.show()        "
   ]
  },
  {
   "cell_type": "markdown",
   "metadata": {},
   "source": [
    "Анализируя полученный график о количестве продаж по самым популярным платформам в течении времени, стоит отметить, что в среднем жизненный цикл одной платформы находится приблизительно на одном уровне - 10 лет."
   ]
  },
  {
   "cell_type": "markdown",
   "metadata": {},
   "source": [
    "## Поиск потенциальных платформ"
   ]
  },
  {
   "cell_type": "markdown",
   "metadata": {},
   "source": [
    "Рассуждая об актуальном периоде, на основании которого можно понять, у каких платформ продажи растут, а у каких падают, или кто является лидером, а кто - аутсайдером, достаточно будет взять период за последние 3 года и проанализировать его. Такой период поможет выявить потенциально популярный продукт и спланировать рекламную кампанию на следующий 2017 год."
   ]
  },
  {
   "cell_type": "code",
   "execution_count": 18,
   "metadata": {},
   "outputs": [
    {
     "data": {
      "text/html": [
       "<div>\n",
       "<style scoped>\n",
       "    .dataframe tbody tr th:only-of-type {\n",
       "        vertical-align: middle;\n",
       "    }\n",
       "\n",
       "    .dataframe tbody tr th {\n",
       "        vertical-align: top;\n",
       "    }\n",
       "\n",
       "    .dataframe thead th {\n",
       "        text-align: right;\n",
       "    }\n",
       "</style>\n",
       "<table border=\"1\" class=\"dataframe\">\n",
       "  <thead>\n",
       "    <tr style=\"text-align: right;\">\n",
       "      <th></th>\n",
       "      <th></th>\n",
       "      <th>sum</th>\n",
       "      <th>count</th>\n",
       "    </tr>\n",
       "    <tr>\n",
       "      <th>platform</th>\n",
       "      <th>year_of_release</th>\n",
       "      <th></th>\n",
       "      <th></th>\n",
       "    </tr>\n",
       "  </thead>\n",
       "  <tbody>\n",
       "    <tr>\n",
       "      <th rowspan=\"3\" valign=\"top\">3DS</th>\n",
       "      <th>2013</th>\n",
       "      <td>56.57</td>\n",
       "      <td>91</td>\n",
       "    </tr>\n",
       "    <tr>\n",
       "      <th>2014</th>\n",
       "      <td>43.76</td>\n",
       "      <td>80</td>\n",
       "    </tr>\n",
       "    <tr>\n",
       "      <th>2015</th>\n",
       "      <td>27.78</td>\n",
       "      <td>86</td>\n",
       "    </tr>\n",
       "    <tr>\n",
       "      <th>DS</th>\n",
       "      <th>2013</th>\n",
       "      <td>1.54</td>\n",
       "      <td>8</td>\n",
       "    </tr>\n",
       "    <tr>\n",
       "      <th rowspan=\"3\" valign=\"top\">PC</th>\n",
       "      <th>2013</th>\n",
       "      <td>12.38</td>\n",
       "      <td>38</td>\n",
       "    </tr>\n",
       "    <tr>\n",
       "      <th>2014</th>\n",
       "      <td>13.28</td>\n",
       "      <td>47</td>\n",
       "    </tr>\n",
       "    <tr>\n",
       "      <th>2015</th>\n",
       "      <td>8.52</td>\n",
       "      <td>50</td>\n",
       "    </tr>\n",
       "    <tr>\n",
       "      <th rowspan=\"3\" valign=\"top\">PS3</th>\n",
       "      <th>2013</th>\n",
       "      <td>113.25</td>\n",
       "      <td>126</td>\n",
       "    </tr>\n",
       "    <tr>\n",
       "      <th>2014</th>\n",
       "      <td>47.76</td>\n",
       "      <td>108</td>\n",
       "    </tr>\n",
       "    <tr>\n",
       "      <th>2015</th>\n",
       "      <td>16.82</td>\n",
       "      <td>73</td>\n",
       "    </tr>\n",
       "    <tr>\n",
       "      <th rowspan=\"3\" valign=\"top\">PS4</th>\n",
       "      <th>2013</th>\n",
       "      <td>25.99</td>\n",
       "      <td>16</td>\n",
       "    </tr>\n",
       "    <tr>\n",
       "      <th>2014</th>\n",
       "      <td>100.00</td>\n",
       "      <td>75</td>\n",
       "    </tr>\n",
       "    <tr>\n",
       "      <th>2015</th>\n",
       "      <td>118.90</td>\n",
       "      <td>137</td>\n",
       "    </tr>\n",
       "    <tr>\n",
       "      <th rowspan=\"3\" valign=\"top\">PSP</th>\n",
       "      <th>2013</th>\n",
       "      <td>3.14</td>\n",
       "      <td>54</td>\n",
       "    </tr>\n",
       "    <tr>\n",
       "      <th>2014</th>\n",
       "      <td>0.24</td>\n",
       "      <td>10</td>\n",
       "    </tr>\n",
       "    <tr>\n",
       "      <th>2015</th>\n",
       "      <td>0.12</td>\n",
       "      <td>3</td>\n",
       "    </tr>\n",
       "    <tr>\n",
       "      <th rowspan=\"3\" valign=\"top\">PSV</th>\n",
       "      <th>2013</th>\n",
       "      <td>10.59</td>\n",
       "      <td>63</td>\n",
       "    </tr>\n",
       "    <tr>\n",
       "      <th>2014</th>\n",
       "      <td>11.90</td>\n",
       "      <td>100</td>\n",
       "    </tr>\n",
       "    <tr>\n",
       "      <th>2015</th>\n",
       "      <td>6.25</td>\n",
       "      <td>110</td>\n",
       "    </tr>\n",
       "    <tr>\n",
       "      <th rowspan=\"3\" valign=\"top\">Wii</th>\n",
       "      <th>2013</th>\n",
       "      <td>8.59</td>\n",
       "      <td>12</td>\n",
       "    </tr>\n",
       "    <tr>\n",
       "      <th>2014</th>\n",
       "      <td>3.75</td>\n",
       "      <td>6</td>\n",
       "    </tr>\n",
       "    <tr>\n",
       "      <th>2015</th>\n",
       "      <td>1.14</td>\n",
       "      <td>4</td>\n",
       "    </tr>\n",
       "    <tr>\n",
       "      <th rowspan=\"3\" valign=\"top\">WiiU</th>\n",
       "      <th>2013</th>\n",
       "      <td>21.65</td>\n",
       "      <td>42</td>\n",
       "    </tr>\n",
       "    <tr>\n",
       "      <th>2014</th>\n",
       "      <td>22.03</td>\n",
       "      <td>31</td>\n",
       "    </tr>\n",
       "    <tr>\n",
       "      <th>2015</th>\n",
       "      <td>16.35</td>\n",
       "      <td>28</td>\n",
       "    </tr>\n",
       "    <tr>\n",
       "      <th rowspan=\"3\" valign=\"top\">X360</th>\n",
       "      <th>2013</th>\n",
       "      <td>88.58</td>\n",
       "      <td>75</td>\n",
       "    </tr>\n",
       "    <tr>\n",
       "      <th>2014</th>\n",
       "      <td>34.74</td>\n",
       "      <td>63</td>\n",
       "    </tr>\n",
       "    <tr>\n",
       "      <th>2015</th>\n",
       "      <td>11.96</td>\n",
       "      <td>35</td>\n",
       "    </tr>\n",
       "    <tr>\n",
       "      <th rowspan=\"3\" valign=\"top\">XOne</th>\n",
       "      <th>2013</th>\n",
       "      <td>18.96</td>\n",
       "      <td>19</td>\n",
       "    </tr>\n",
       "    <tr>\n",
       "      <th>2014</th>\n",
       "      <td>54.07</td>\n",
       "      <td>61</td>\n",
       "    </tr>\n",
       "    <tr>\n",
       "      <th>2015</th>\n",
       "      <td>60.14</td>\n",
       "      <td>80</td>\n",
       "    </tr>\n",
       "  </tbody>\n",
       "</table>\n",
       "</div>"
      ],
      "text/plain": [
       "                             sum  count\n",
       "platform year_of_release               \n",
       "3DS      2013              56.57     91\n",
       "         2014              43.76     80\n",
       "         2015              27.78     86\n",
       "DS       2013               1.54      8\n",
       "PC       2013              12.38     38\n",
       "         2014              13.28     47\n",
       "         2015               8.52     50\n",
       "PS3      2013             113.25    126\n",
       "         2014              47.76    108\n",
       "         2015              16.82     73\n",
       "PS4      2013              25.99     16\n",
       "         2014             100.00     75\n",
       "         2015             118.90    137\n",
       "PSP      2013               3.14     54\n",
       "         2014               0.24     10\n",
       "         2015               0.12      3\n",
       "PSV      2013              10.59     63\n",
       "         2014              11.90    100\n",
       "         2015               6.25    110\n",
       "Wii      2013               8.59     12\n",
       "         2014               3.75      6\n",
       "         2015               1.14      4\n",
       "WiiU     2013              21.65     42\n",
       "         2014              22.03     31\n",
       "         2015              16.35     28\n",
       "X360     2013              88.58     75\n",
       "         2014              34.74     63\n",
       "         2015              11.96     35\n",
       "XOne     2013              18.96     19\n",
       "         2014              54.07     61\n",
       "         2015              60.14     80"
      ]
     },
     "execution_count": 18,
     "metadata": {},
     "output_type": "execute_result"
    }
   ],
   "source": [
    "# создадим обновленную таблицу new_data с актуальным периодом\n",
    "new_data = data.query('year_of_release >= 2013 and year_of_release < 2016')\n",
    "\n",
    "# построим сводную таблицу для поиска потенциального продукта на рынке игровых услуг\n",
    "actual_platform_sales = new_data.groupby(\n",
    "    ['platform', 'year_of_release'], as_index = False)['total_sales'].agg(['sum', 'count'])\n",
    "\n",
    "actual_platform_sales"
   ]
  },
  {
   "cell_type": "markdown",
   "metadata": {},
   "source": [
    "Период для анализа выбрали с 2013 по 2015 год включительно. Данные за 2016 год брать не имеет смысла, так как они неполные. За последние 3 года можно увидеть, как набирают популярность платформы PS4 и XOne. Их выручка и количество выпущенных игр растут, а значит, есть смысл активно продвигать эти платформы. Менее популярны платформы 3DS и WiiU, имеющие значительную долю на рынке игр, однако их продажи в последние годы падают. "
   ]
  },
  {
   "cell_type": "markdown",
   "metadata": {},
   "source": [
    "## Распределение продаж по актуальным платформам"
   ]
  },
  {
   "cell_type": "code",
   "execution_count": 19,
   "metadata": {},
   "outputs": [],
   "source": [
    "# передадим переменной список наиболее актуальных платформ\n",
    "actual_platforms = ['PS4', 'XOne', '3DS', 'WiiU']\n",
    "\n",
    "# сделаем сводную таблицу по самым актуальным платформам\n",
    "most_actual_platform = new_data.query('@actual_platforms in platform')"
   ]
  },
  {
   "cell_type": "code",
   "execution_count": 20,
   "metadata": {
    "scrolled": false
   },
   "outputs": [
    {
     "data": {
      "image/png": "[encoded data removed]",
      "text/plain": [
       "<Figure size 1296x432 with 1 Axes>"
      ]
     },
     "metadata": {
      "needs_background": "light"
     },
     "output_type": "display_data"
    }
   ],
   "source": [
    "# построим диаграмму размаха по актуальным платформам\n",
    "plt.figure(figsize = (18, 6))\n",
    "sns.boxplot(\n",
    "    data = most_actual_platform,\n",
    "    x = 'platform',\n",
    "    y = 'total_sales')\n",
    "\n",
    "plt.xlabel('Актуальные платформы', fontsize = 14)\n",
    "plt.ylabel('Продажи', fontsize = 14)\n",
    "plt.title('Распределение продаж в разбивке по актуальным платформам', fontsize = 16)\n",
    "plt.show()"
   ]
  },
  {
   "cell_type": "markdown",
   "metadata": {},
   "source": [
    "На диаграмме размаха очень много выбрасов. Масштабируем диаграмму для поиска более детальной информации по каждой платформе."
   ]
  },
  {
   "cell_type": "code",
   "execution_count": 21,
   "metadata": {},
   "outputs": [
    {
     "data": {
      "image/png": "[encoded data removed]",
      "text/plain": [
       "<Figure size 1296x432 with 1 Axes>"
      ]
     },
     "metadata": {
      "needs_background": "light"
     },
     "output_type": "display_data"
    }
   ],
   "source": [
    "# построим диаграмму размаха по актуальным платформам (масштабированную)\n",
    "plt.figure(figsize = (18, 6))\n",
    "sns.boxplot(\n",
    "    data = most_actual_platform,\n",
    "    x = 'platform',\n",
    "    y = 'total_sales')\n",
    "\n",
    "plt.xlabel('Актуальные платформы', fontsize = 14)\n",
    "plt.ylabel('Продажи', fontsize = 14)\n",
    "plt.title('Распределение продаж в разбивке по актуальным платформам (масштабированная)', fontsize = 16)\n",
    "plt.ylim(0, 3)\n",
    "plt.show()"
   ]
  },
  {
   "cell_type": "markdown",
   "metadata": {},
   "source": [
    "Из масштабированной диаграммы размаха видно, что медианное количество продаж у актуальных платформ PS4, 3DS, XOne и WiiU не превышает 500 тыс. проданных копий, при чём для всех без исключения платформ медиана находится ближе к первому квартилю. Межквартильный размах наиболее ярко выражен у платформ PS4 и XOne, который превысил 1 млн. проданных копий, а нормальное распределение находится в пределах 2.5 млн проданных копий."
   ]
  },
  {
   "cell_type": "markdown",
   "metadata": {},
   "source": [
    "## Влияние оценок пользователей и критиков на продажи"
   ]
  },
  {
   "cell_type": "markdown",
   "metadata": {},
   "source": [
    "Построим диаграммы рассеяния по каждой актуальной платформе и посмотрим, есть ли зависимость между продажами и оценками критиков/пользователей."
   ]
  },
  {
   "cell_type": "code",
   "execution_count": 22,
   "metadata": {
    "scrolled": false
   },
   "outputs": [
    {
     "name": "stdout",
     "output_type": "stream",
     "text": [
      "------------------------------------------------------------------------------------------------------------------------------------------------\n"
     ]
    },
    {
     "data": {
      "image/png": "[encoded data removed]",
      "text/plain": [
       "<Figure size 1296x432 with 1 Axes>"
      ]
     },
     "metadata": {
      "needs_background": "light"
     },
     "output_type": "display_data"
    },
    {
     "name": "stdout",
     "output_type": "stream",
     "text": [
      "Корреляция между оценкой критиков и продажами: 0.38\n"
     ]
    },
    {
     "data": {
      "image/png": "[encoded data removed]",
      "text/plain": [
       "<Figure size 1296x432 with 1 Axes>"
      ]
     },
     "metadata": {
      "needs_background": "light"
     },
     "output_type": "display_data"
    },
    {
     "name": "stdout",
     "output_type": "stream",
     "text": [
      "Корреляция между оценкой пользователей и продажами: 0.26\n",
      "------------------------------------------------------------------------------------------------------------------------------------------------\n"
     ]
    },
    {
     "data": {
      "image/png": "[encoded data removed]",
      "text/plain": [
       "<Figure size 1296x432 with 1 Axes>"
      ]
     },
     "metadata": {
      "needs_background": "light"
     },
     "output_type": "display_data"
    },
    {
     "name": "stdout",
     "output_type": "stream",
     "text": [
      "Корреляция между оценкой критиков и продажами: 0.43\n"
     ]
    },
    {
     "data": {
      "image/png": "[encoded data removed]",
      "text/plain": [
       "<Figure size 1296x432 with 1 Axes>"
      ]
     },
     "metadata": {
      "needs_background": "light"
     },
     "output_type": "display_data"
    },
    {
     "name": "stdout",
     "output_type": "stream",
     "text": [
      "Корреляция между оценкой пользователей и продажами: 0.02\n",
      "------------------------------------------------------------------------------------------------------------------------------------------------\n"
     ]
    },
    {
     "data": {
      "image/png": "[encoded data removed]",
      "text/plain": [
       "<Figure size 1296x432 with 1 Axes>"
      ]
     },
     "metadata": {
      "needs_background": "light"
     },
     "output_type": "display_data"
    },
    {
     "name": "stdout",
     "output_type": "stream",
     "text": [
      "Корреляция между оценкой критиков и продажами: 0.38\n"
     ]
    },
    {
     "data": {
      "image/png": "[encoded data removed]",
      "text/plain": [
       "<Figure size 1296x432 with 1 Axes>"
      ]
     },
     "metadata": {
      "needs_background": "light"
     },
     "output_type": "display_data"
    },
    {
     "name": "stdout",
     "output_type": "stream",
     "text": [
      "Корреляция между оценкой пользователей и продажами: 0.43\n",
      "------------------------------------------------------------------------------------------------------------------------------------------------\n"
     ]
    },
    {
     "data": {
      "image/png": "[encoded data removed]",
      "text/plain": [
       "<Figure size 1296x432 with 1 Axes>"
      ]
     },
     "metadata": {
      "needs_background": "light"
     },
     "output_type": "display_data"
    },
    {
     "name": "stdout",
     "output_type": "stream",
     "text": [
      "Корреляция между оценкой критиков и продажами: 0.46\n"
     ]
    },
    {
     "data": {
      "image/png": "[encoded data removed]",
      "text/plain": [
       "<Figure size 1296x432 with 1 Axes>"
      ]
     },
     "metadata": {
      "needs_background": "light"
     },
     "output_type": "display_data"
    },
    {
     "name": "stdout",
     "output_type": "stream",
     "text": [
      "Корреляция между оценкой пользователей и продажами: -0.04\n"
     ]
    }
   ],
   "source": [
    "# создание цикла для поиска зависимостей\n",
    "df, revenue = most_actual_platform, 'total_sales'\n",
    "\n",
    "for platform, i in df.groupby('platform'):\n",
    "    print('-' * 144)\n",
    "    i[i['critic_score'] >= 0].plot(\n",
    "        kind = 'scatter',\n",
    "        x = 'critic_score', \n",
    "        y = revenue,\n",
    "        color = 'c',\n",
    "        figsize = (18, 6)\n",
    "    )\n",
    "    plt.title(f'Распределение продаж в зависимости от оценки критиков на платформе {platform}', fontsize = 16)\n",
    "    plt.xlabel('Оценка критиков', fontsize = 14)\n",
    "    plt.ylabel('Продажи', fontsize = 14) \n",
    "    plt.show() \n",
    "    print('Корреляция между оценкой критиков и продажами:', \n",
    "          (i[i['critic_score'] >= 0]['critic_score'].corr(i[revenue])).round(2))\n",
    "    \n",
    "    i[i['user_score'] >= 0].plot(\n",
    "        kind = 'scatter',\n",
    "        x = 'user_score', \n",
    "        y = revenue,\n",
    "        color = 'm',\n",
    "        figsize = (18, 6)\n",
    "    )\n",
    "    plt.title(f'Распределение продаж в зависимости от оценки пользователей на платформе {platform}', fontsize = 16)\n",
    "    plt.xlabel('Оценка пользователей', fontsize = 14)\n",
    "    plt.ylabel('Продажи', fontsize = 14) \n",
    "    plt.show()  \n",
    "    print('Корреляция между оценкой пользователей и продажами:', \n",
    "          (i[i['user_score'] >= 0]['user_score'].corr(i[revenue])).round(2))"
   ]
  },
  {
   "cell_type": "markdown",
   "metadata": {},
   "source": [
    "Явной зависимости от оценки критиков для платформ PS4 и XOne не видно, однако она всё-таки есть. На диаграмме можно увидеть как продажи начинают расти тем больше, чем выше оценка. Но так происходит не во всех представленных случаях. В одном случае можно заметить, что оценка критиков достигает 90 баллов, однако продажи по этой игре близки к нулю. В то же время, нет ни одного случая, где оценка критиков была бы низкой, но при этом, продажи по игре имели успех. Что касается зависимости продаж от оценок пользователей, то явной зависимости для платформ PS4 и XOne не обнаружено.\n",
    "\n",
    "На платформах 3DS и WiiU наблюдается обоюдная корреляция оценок к продажам, однако выражена она неявно. По большому счету, сравнивая топовую платформу PS4 с аналогами, ничего необычного замечено не было. \n",
    "\n",
    "Возможно, на PS4 выходят самые лучшие и востребованные у потребителей игры, а остальным платформам приходится довольствоваться тем, что есть. Отсюда и возникла такая разница в объёмах продаж."
   ]
  },
  {
   "cell_type": "markdown",
   "metadata": {},
   "source": [
    "## Распределение продаж по жанрам"
   ]
  },
  {
   "cell_type": "markdown",
   "metadata": {},
   "source": [
    "Для максимальной прибыльности необходимо найти стабильные жанры, на которые есть устойчивый спрос. Можно сделать уникальный сюжет, быстрый движок, красивую графику и вложить кучу денег в рекламу и продажи игры подпрыгнут. Но нам лучше выбирать игру из жанра, на которой есть постоянный спрос независимо от платформы или маркетинговых усилий производителей игр. Для этого сравним медианные продажи и построим столбчатую диаграмму и диаграмму размаха."
   ]
  },
  {
   "cell_type": "code",
   "execution_count": 23,
   "metadata": {},
   "outputs": [
    {
     "data": {
      "image/png": "[encoded data removed]",
      "text/plain": [
       "<Figure size 1296x432 with 1 Axes>"
      ]
     },
     "metadata": {
      "needs_background": "light"
     },
     "output_type": "display_data"
    }
   ],
   "source": [
    "# группировка медианных продаж по жанрам\n",
    "genre_per_sales = (\n",
    "    most_actual_platform.groupby('genre', as_index = False)['total_sales'].agg('median')\\\n",
    "    .sort_values('total_sales', ascending = False)\n",
    ")    \n",
    "\n",
    "# построение столбчатой диаграммы\n",
    "plt.figure(figsize = (18, 6))\n",
    "sns.barplot(\n",
    "    data = genre_per_sales,\n",
    "    x = 'total_sales',\n",
    "    y = 'genre')\n",
    "plt.xlabel('Медианные продажи', fontsize = 14)\n",
    "plt.ylabel('Жанр', fontsize = 14)\n",
    "plt.title('Сравнение медианных продаж по каждому жанру', fontsize = 16);"
   ]
  },
  {
   "cell_type": "code",
   "execution_count": 24,
   "metadata": {
    "scrolled": false
   },
   "outputs": [
    {
     "data": {
      "image/png": "[encoded data removed]",
      "text/plain": [
       "<Figure size 1296x432 with 1 Axes>"
      ]
     },
     "metadata": {
      "needs_background": "light"
     },
     "output_type": "display_data"
    }
   ],
   "source": [
    "genres = ['Shooter', 'Racing', 'Platform', 'Sports']\n",
    "actual_genre = most_actual_platform.query('@genres in genre')\n",
    "\n",
    "# построение диаграммы размаха по актуальным платформам и жанрам\n",
    "plt.figure(figsize = (18, 6))\n",
    "sns.boxplot(\n",
    "    data = actual_genre,\n",
    "    x = 'genre',\n",
    "    y = 'total_sales')\n",
    "\n",
    "plt.xlabel('Жанр', fontsize = 14)\n",
    "plt.ylabel('Медианные продажи', fontsize = 14)\n",
    "plt.title('Распределение продаж по актуальным платформам и жанрам', fontsize = 16);"
   ]
  },
  {
   "cell_type": "markdown",
   "metadata": {},
   "source": [
    "## Промежуточный вывод\n",
    "Бурное развитие игровой индустрии началось с 1995 года, достигнув пика в 2009-2010 годах. Средний жизненный цикл одной платформы составляет 10 лет. В качестве актуального периода был взят диапазон в 3 года: с 2013 по 2015 год включительно. Такой период поможет понять, какие предпочтения у клиентов в последнее время, позволит спрогнозировать продажи на будущий период и правильно спланировать рекламные кампании. \n",
    "\n",
    "За последние 3 года можно увидеть, как набирают популярность платформы PS4 и XOne. Их выручка и количество выпущенных игр растут, а значит, есть смысла активно продвигать эти платформы. Менее популярны платформы 3DS и WiiU, имеющие значительную долю на рынке игр, однако их продажи в последние годы падают.\n",
    "\n",
    "Выявлена умеренная корреляция между продажами и оценками критиков по топовым платформам PS4 и XOne. У платформ 3DS и WiiU корреляция между оценками критиков/пользователей и продажами выражена слабо.\n",
    "\n",
    "Наиболее продаваемым жанром является Shooter. Также неплохо показали себя жанры Racing, Platform и Sports, медианные продажи которых стабильно высокие."
   ]
  },
  {
   "cell_type": "markdown",
   "metadata": {},
   "source": [
    "## Портрет пользователя каждого региона"
   ]
  },
  {
   "cell_type": "code",
   "execution_count": 25,
   "metadata": {
    "scrolled": false
   },
   "outputs": [
    {
     "data": {
      "image/png": "[encoded data removed]",
      "text/plain": [
       "<Figure size 1296x648 with 3 Axes>"
      ]
     },
     "metadata": {},
     "output_type": "display_data"
    }
   ],
   "source": [
    "#задаем список регионов\n",
    "countries = new_data.columns[4:7]\n",
    "\n",
    "#создадим круговую диаграмму для каждого региона\n",
    "fig, axs = plt.subplots(1, 3, figsize = (18, 9))\n",
    "fig.suptitle('ТОП-5 платформ в регионах', fontsize = 16)\n",
    "for i in range(3):\n",
    "    #выберем 5 самых продающих платформ\n",
    "    df_i = (new_data.groupby('platform', as_index = False)[countries[i]].sum()\n",
    "            .sort_values(countries[i], ascending = False, ignore_index = True)\n",
    "            .head()\n",
    "           )\n",
    "    #занесём все остальные продажи в Other\n",
    "    df_i = df_i.append({'platform':'Other', countries[i]:new_data[countries[i]].sum() - df_i[countries[i]].sum()}, ignore_index = True)\n",
    "    axs[i].pie(df_i[countries[i]], labels = df_i['platform'], autopct = '%1.1f%%')\n",
    "    \n",
    "    #зададим название региона\n",
    "    axs[i].set_title(df_i.columns[1].split('_')[0].upper())\n",
    "plt.show()    "
   ]
  },
  {
   "cell_type": "markdown",
   "metadata": {},
   "source": [
    "В основном пользователи из Сев.Америки играют через PS4, XOne и X360 общая доля которых составила 63%. Доля топ-5 платформ от общего числа составила 88%. Поведение жителей Европы немного отлично от житилей Сев.Америки, так как самой популярной платформой там считается PS4, которая занимает треть всего рынка. Следом за ней по популярности идет PS3 с долей 19.5%. XOne и X360 распределились равными долями 12.3%. Всего на топ-5 приходится 85% от всех используемых платформ. В Японии ситуация сильно отличается от двух других частей света. Основную долю рынка в ней составляет платформа 3DS, на которую приходится 49,2% всех продаж. При этом на долю топ-5 платформ приходится более 96% от всех продаж."
   ]
  },
  {
   "cell_type": "code",
   "execution_count": 26,
   "metadata": {},
   "outputs": [
    {
     "data": {
      "image/png": "[encoded data removed]",
      "text/plain": [
       "<Figure size 1296x648 with 3 Axes>"
      ]
     },
     "metadata": {},
     "output_type": "display_data"
    }
   ],
   "source": [
    "#создадим круговую диаграмму для каждого региона\n",
    "fig, axs = plt.subplots(1, 3, figsize = (18,9))\n",
    "fig.suptitle('ТОП-5 жанров в регионах', fontsize = 16)\n",
    "for i in range(3):\n",
    "    #выберем 5 самых продающихся жанров\n",
    "    df2_i = (new_data.groupby('genre', as_index = False)[countries[i]].sum()\n",
    "            .sort_values(countries[i], ascending = False, ignore_index = True)\n",
    "            .head()\n",
    "            )\n",
    "    #занесём все остальные продажи в Other\n",
    "    df2_i = df2_i.append({'genre':'Other', countries[i]:new_data[countries[i]].sum() - df2_i[countries[i]].sum()}, ignore_index = True)\n",
    "    axs[i].pie(df2_i[countries[i]], labels = df2_i['genre'], autopct = '%1.1f%%')\n",
    "    \n",
    "    #зададим название региона\n",
    "    axs[i].set_title(df2_i.columns[1].split('_')[0].upper())\n",
    "plt.show()    "
   ]
  },
  {
   "cell_type": "markdown",
   "metadata": {},
   "source": [
    "Жители Северной Америки больше предпочитают играть в экшен, шутеры, спортивные и ролевые игры. Доля топ-5 жанров от общего числа составила 85%. Ситуация у жителей Европы схожа с жителями Сев.Америки, однако больше всего люди предпочитают экшен игры, доля которых составила 31,5%. Всего на долю топ-5 пришлось 82,1% продаж. Любители игр из Японии больше предпочитают ролевые и экшен игры, обоюдная доля которых составила 64%. Доля топ-5 от общего количества проданных игр составила 81%. Также жители Японии любят игры с файтингом, что также является их отличительной чертой."
   ]
  },
  {
   "cell_type": "markdown",
   "metadata": {},
   "source": [
    "Посмотрим, как влияет рейтинг ESRB на продажи в каждом регионе и в целом. "
   ]
  },
  {
   "cell_type": "code",
   "execution_count": 27,
   "metadata": {},
   "outputs": [
    {
     "data": {
      "text/html": [
       "<div>\n",
       "<style scoped>\n",
       "    .dataframe tbody tr th:only-of-type {\n",
       "        vertical-align: middle;\n",
       "    }\n",
       "\n",
       "    .dataframe tbody tr th {\n",
       "        vertical-align: top;\n",
       "    }\n",
       "\n",
       "    .dataframe thead th {\n",
       "        text-align: right;\n",
       "    }\n",
       "</style>\n",
       "<table border=\"1\" class=\"dataframe\">\n",
       "  <thead>\n",
       "    <tr style=\"text-align: right;\">\n",
       "      <th></th>\n",
       "      <th>na_sales</th>\n",
       "      <th>eu_sales</th>\n",
       "      <th>jp_sales</th>\n",
       "      <th>total_sales</th>\n",
       "    </tr>\n",
       "    <tr>\n",
       "      <th>rating</th>\n",
       "      <th></th>\n",
       "      <th></th>\n",
       "      <th></th>\n",
       "      <th></th>\n",
       "    </tr>\n",
       "  </thead>\n",
       "  <tbody>\n",
       "    <tr>\n",
       "      <th>Для подростков</th>\n",
       "      <td>40.84</td>\n",
       "      <td>32.16</td>\n",
       "      <td>18.32</td>\n",
       "      <td>91.32</td>\n",
       "    </tr>\n",
       "    <tr>\n",
       "      <th>Для всех старше 10 лет</th>\n",
       "      <td>50.43</td>\n",
       "      <td>38.88</td>\n",
       "      <td>5.44</td>\n",
       "      <td>94.75</td>\n",
       "    </tr>\n",
       "    <tr>\n",
       "      <th>Для всех</th>\n",
       "      <td>71.08</td>\n",
       "      <td>69.75</td>\n",
       "      <td>14.07</td>\n",
       "      <td>154.90</td>\n",
       "    </tr>\n",
       "    <tr>\n",
       "      <th>Empty</th>\n",
       "      <td>80.89</td>\n",
       "      <td>71.44</td>\n",
       "      <td>70.73</td>\n",
       "      <td>223.06</td>\n",
       "    </tr>\n",
       "    <tr>\n",
       "      <th>Для взрослых</th>\n",
       "      <td>149.54</td>\n",
       "      <td>128.78</td>\n",
       "      <td>12.91</td>\n",
       "      <td>291.23</td>\n",
       "    </tr>\n",
       "    <tr>\n",
       "      <th>total_sales</th>\n",
       "      <td>392.78</td>\n",
       "      <td>341.01</td>\n",
       "      <td>121.47</td>\n",
       "      <td>855.26</td>\n",
       "    </tr>\n",
       "  </tbody>\n",
       "</table>\n",
       "</div>"
      ],
      "text/plain": [
       "                        na_sales  eu_sales  jp_sales  total_sales\n",
       "rating                                                           \n",
       "Для подростков             40.84     32.16     18.32        91.32\n",
       "Для всех старше 10 лет     50.43     38.88      5.44        94.75\n",
       "Для всех                   71.08     69.75     14.07       154.90\n",
       "Empty                      80.89     71.44     70.73       223.06\n",
       "Для взрослых              149.54    128.78     12.91       291.23\n",
       "total_sales               392.78    341.01    121.47       855.26"
      ]
     },
     "execution_count": 27,
     "metadata": {},
     "output_type": "execute_result"
    }
   ],
   "source": [
    "# добавим к аббревиатуре рейтинга возрастное ограничение\n",
    "new_data.loc[new_data.rating == 'M', 'rating'] = 'Для взрослых'\n",
    "new_data.loc[new_data.rating == 'E', 'rating'] = 'Для всех'\n",
    "new_data.loc[new_data.rating == 'T', 'rating'] = 'Для подростков'\n",
    "new_data.loc[new_data.rating == 'E10+', 'rating'] = 'Для всех старше 10 лет'\n",
    "\n",
    "# построим сводную таблицу для выявления зависимости продаж от рейтинга ESRB\n",
    "rating_pivot = (\n",
    "    new_data.pivot_table(\n",
    "        index = 'rating', \n",
    "        values = ['na_sales', 'eu_sales', 'jp_sales'], \n",
    "        aggfunc = 'sum', \n",
    "        margins = True, \n",
    "        margins_name = 'total_sales')\n",
    ")   \n",
    "rating_pivot['total_sales'] = rating_pivot['na_sales'] + rating_pivot['eu_sales'] + rating_pivot['jp_sales']\n",
    "rating_pivot = (rating_pivot\n",
    "                .sort_values('total_sales', ascending = True)\n",
    "                .reindex(columns=['na_sales', 'eu_sales', 'jp_sales', 'total_sales'])\n",
    ")                \n",
    "rating_pivot"
   ]
  },
  {
   "cell_type": "markdown",
   "metadata": {},
   "source": [
    "Пользователи Северной Америки в основном предпочитают игры для взрослых и игры для всех возрастов. Так же присутствуют игры без рейтинга, продажи которых составили 20.6% (80.9 млн копий) от общего числа проданных игр в размере 393 млн копий. Похожая ситуация наблюдается у любителей игр в Европе, общие продажи которых оказались чуть ниже - 341 млн копий. В Японии структура иная: основная доля продаж - 58% - приходится на игры без маркировки и 15% на игры для подростков. Общие продажи в Японии составили 121.5 млн копий, что в среднем почти в 3 раза меньше чем у Европы и у Северной Америки. Отсутствие рейтинга, вероятно, связано с тем, что рейтинг ESRB предназначен для маркировки игр, выпущенных из США и Канады, поэтому логично, что для Европы и Японии его нет, так как у них присутствуют другие рейтинги: PEGI для стран Европы и CERO для Японии."
   ]
  },
  {
   "cell_type": "markdown",
   "metadata": {},
   "source": [
    "## А/Б-тестирование"
   ]
  },
  {
   "cell_type": "markdown",
   "metadata": {},
   "source": [
    "### Проверка на нормальность распределения для определения статистического критерия"
   ]
  },
  {
   "cell_type": "code",
   "execution_count": 28,
   "metadata": {},
   "outputs": [
    {
     "data": {
      "image/png": "[encoded data removed]",
      "text/plain": [
       "<Figure size 1296x432 with 1 Axes>"
      ]
     },
     "metadata": {
      "needs_background": "light"
     },
     "output_type": "display_data"
    }
   ],
   "source": [
    "pc = new_data.query('platform == \"PC\" and user_score >= 0')  # выборка по РС\n",
    "xone = new_data.query('platform == \"XOne\" and user_score >= 0')  # выборка по XOne\n",
    "\n",
    "plt.figure(figsize = (18, 6))\n",
    "sns.distplot(pc['user_score'], color = 'c')\n",
    "sns.distplot(xone['user_score'], color = 'm')\n",
    "plt.xlabel('Оценка критиков', fontsize = 14)\n",
    "plt.ylabel('Плотность', fontsize = 14)\n",
    "plt.title('Распределение оценок критиков для PC и XOne', fontsize = 16);"
   ]
  },
  {
   "cell_type": "code",
   "execution_count": 29,
   "metadata": {},
   "outputs": [
    {
     "name": "stdout",
     "output_type": "stream",
     "text": [
      "PC - ShapiroResult(statistic=0.9425097107887268, pvalue=0.00013064080849289894)\n",
      "XOne - ShapiroResult(statistic=0.9568126201629639, pvalue=0.0008991601062007248)\n"
     ]
    }
   ],
   "source": [
    "# тест Шапиро-Уилка на нормальность распределения\n",
    "print('PC -', st.shapiro(pc['user_score']))\n",
    "print('XOne -', st.shapiro(xone['user_score']))"
   ]
  },
  {
   "cell_type": "code",
   "execution_count": 30,
   "metadata": {},
   "outputs": [
    {
     "data": {
      "image/png": "[encoded data removed]",
      "text/plain": [
       "<Figure size 1440x576 with 2 Axes>"
      ]
     },
     "metadata": {
      "needs_background": "light"
     },
     "output_type": "display_data"
    }
   ],
   "source": [
    "# QQ-plot\n",
    "plt.figure(figsize=(20,8))\n",
    "plt.subplot(2,2,1)\n",
    "st.probplot(pc['user_score'], dist = \"norm\", plot = plt)\n",
    "plt.subplot(2,2,2)\n",
    "st.probplot(xone['user_score'], dist = \"norm\", plot = plt);"
   ]
  },
  {
   "cell_type": "markdown",
   "metadata": {},
   "source": [
    "По результату проверки, распределения оказались неравномерными, поэтому для корректного А/Б-тестирования воспользуемся непараметрическим критерием Манна-Уитни."
   ]
  },
  {
   "cell_type": "markdown",
   "metadata": {},
   "source": [
    "## Сравнение средних пользовательских рейтингов платформ XOne и PC"
   ]
  },
  {
   "cell_type": "markdown",
   "metadata": {},
   "source": [
    "Введем основную и альтернативные гипотезы:\n",
    "\n",
    "$\\begin{equation*}\n",
    " \\begin{cases}\n",
    "   H_0 :\\text{Средние пользовательские рейтинги платформ XOne и PC одинаковыe}\\\\\n",
    "   H_1 :\\text{Средние пользовательские рейтинги платформ XOne и PC отличаются}\n",
    " \\end{cases}\n",
    "\\end{equation*}$\n",
    "\n",
    "Уровень значимости: $\\alpha = 0.05$\n",
    "\n",
    "Посчитаем p-value, используя mannwhitneyu из библиотеки scipy для сравнения средних двух выборок.\n",
    "\n",
    "Если p-value будет меньше выбранного уровня значимости $\\alpha = 0.05$, то нулевую гипотезу о равенстве средних отвергнем. Иначе сделаем вывод, что данные не позволили нам отвергнуть нулевую гипотезу."
   ]
  },
  {
   "cell_type": "code",
   "execution_count": 31,
   "metadata": {},
   "outputs": [
    {
     "name": "stdout",
     "output_type": "stream",
     "text": [
      "p-value: 0.825\n",
      "Не получилось отвергнуть нулевую гипотезу\n"
     ]
    }
   ],
   "source": [
    "#присвоим уровень статистической значимости\n",
    "alpha = 0.05\n",
    "\n",
    "#проверим гипотезу о равенстве средних двух независимых совокупностей\n",
    "first_hypo = st.mannwhitneyu(pc['user_score'], xone['user_score'], alternative = 'two-sided')\n",
    "print('p-value:', round(first_hypo.pvalue, 3))\n",
    "\n",
    "#сравним фактическое p-значение с заданным уровнем статистической значимости\n",
    "if first_hypo.pvalue < alpha:\n",
    "    print('Отвергаем нулевую гипотезу')\n",
    "else:\n",
    "    print('Не получилось отвергнуть нулевую гипотезу')"
   ]
  },
  {
   "cell_type": "code",
   "execution_count": 32,
   "metadata": {},
   "outputs": [
    {
     "name": "stdout",
     "output_type": "stream",
     "text": [
      "Средний пользовательский рейтинг XOne: 6.478\n",
      "Средний пользовательский рейтинг PC: 6.258\n"
     ]
    }
   ],
   "source": [
    "# проверим результат расчета \n",
    "print('Средний пользовательский рейтинг XOne:',\n",
    "      round(xone['user_score'].mean(), 3))\n",
    "print('Средний пользовательский рейтинг PC:',\n",
    "      round(pc['user_score'].mean(), 3))"
   ]
  },
  {
   "cell_type": "markdown",
   "metadata": {},
   "source": [
    "Нулевая гипотеза по результату не отвергается, а значит: средние пользовательские рейтинги платформ XOne и PC одинаковые.  "
   ]
  },
  {
   "cell_type": "markdown",
   "metadata": {},
   "source": [
    "## Сравнение пользовательских рейтингов для жанров Action и Sports"
   ]
  },
  {
   "cell_type": "markdown",
   "metadata": {},
   "source": [
    "Так как тестируем одну и ту же величину - пользовательский рейтинг - проверку на нормальность дважды проводить не имеет смысла. Поскольку распределение ненормальное, гипотезы также будем проверять непараметрическим тестом Манна-Уитни.\n",
    "\n",
    "Введем основную и альтернативные гипотезы:\n",
    "\n",
    "$\\begin{equation*}\n",
    " \\begin{cases}\n",
    "   H_0 :\\text{Средние пользовательские рейтинги жанров Action и Sports одинаковыe}\\\\\n",
    "   H_1 :\\text{Средние пользовательские рейтинги жанров Action и Sports отличаются}\n",
    " \\end{cases}\n",
    "\\end{equation*}$\n",
    "\n",
    "Уровень значимости: $\\alpha = 0.05$\n",
    "\n",
    "Посчитаем p-value, используя mannwhitneyu из библиотеки scipy для сравнения средних двух выборок.\n",
    "\n",
    "Если p-value будет меньше выбранного уровня значимости $\\alpha = 0.05$, то нулевую гипотезу о равенстве средних отвергнем. Иначе сделаем вывод, что данные не позволили нам отвергнуть нулевую гипотезу."
   ]
  },
  {
   "cell_type": "code",
   "execution_count": 33,
   "metadata": {},
   "outputs": [
    {
     "name": "stdout",
     "output_type": "stream",
     "text": [
      "p-value: 0.0\n",
      "Отвергаем нулевую гипотезу\n"
     ]
    }
   ],
   "source": [
    "action = new_data.query('genre == \"Action\" and user_score >= 0')  # выборка по Action\n",
    "sports = new_data.query('genre == \"Sports\" and user_score >= 0')  # выборка по Sports\n",
    "\n",
    "#проверим гипотезу о равенстве средних двух независимых совокупностей\n",
    "second_hypo = st.mannwhitneyu(action['user_score'], sports['user_score'], alternative = 'two-sided')\n",
    "print('p-value:', round(second_hypo.pvalue, 3))\n",
    "\n",
    "#сравним фактическое p-значение с заданным уровнем статистической значимости\n",
    "if second_hypo.pvalue < alpha:\n",
    "    print('Отвергаем нулевую гипотезу')\n",
    "else:\n",
    "    print('Не получилось отвергнуть нулевую гипотезу')"
   ]
  },
  {
   "cell_type": "code",
   "execution_count": 34,
   "metadata": {},
   "outputs": [
    {
     "name": "stdout",
     "output_type": "stream",
     "text": [
      "Средний пользовательский рейтинг Action: 6.893\n",
      "Средний пользовательский рейтинг Sports: 5.18\n"
     ]
    }
   ],
   "source": [
    "# проверим результат расчета \n",
    "print('Средний пользовательский рейтинг Action:',\n",
    "      round(action['user_score'].mean(), 3))\n",
    "print('Средний пользовательский рейтинг Sports:',\n",
    "      round(sports['user_score'].mean(), 3))"
   ]
  },
  {
   "cell_type": "markdown",
   "metadata": {},
   "source": [
    "Нулевая гипотеза по результату теста отвергается и принимается альтернативная. Это означает, что средние пользовательские рейтинги в жанрах Action и Sports - различны. В целом, статистические тесты и выдвижение гипотез здесь не совсем уместно, так как судя по данным, мы имеем дело не с выборкой, а с генеральной совокупностью и можем сравнивать истинные средние напрямую."
   ]
  },
  {
   "cell_type": "markdown",
   "metadata": {},
   "source": [
    "## Общий вывод\n",
    "В данном проекте была представлена ситуация на рынке игровых услуг с 1980 года по 2016 год включительно. Основная задача исследования заключалась в выявлении закономерностей успешных игр, на основании которых можно эффективно спланировать рекламную кампанию на будущий 2017 год. В целом ситуация в игровой индустрии на данный момент испытывает не самые лучшие времена. Пик продаж пришелся на 2009-2010 года, после чего динамика пошла на спад. В качестве актуальных данных, на которых построен расчет и анализ, был взят период за последние 3 полных года (с 2013 по 2015 год включительно). \n",
    "\n",
    "За последние 3 года можно увидеть, как набирают популярность платформы PS4 и XOne. Их выручка и количество выпущенных игр растут, а значит, есть смысл активно продвигать эти платформы. Менее популярны платформы 3DS и WiiU, имеющие значительную долю на рынке игр, однако их продажи в последние годы падают.\n",
    "\n",
    "Явной зависимости от оценки критиков для платформ PS4 и XOne не видно, однако она всё-таки есть. Что касается зависимости продаж от оценок пользователей, то явной зависимости для платформ PS4 и XOne не обнаружено. На платформах 3DS и WiiU наблюдается обоюдная корреляция оценок к продажам, однако выражена она неявно.\n",
    "\n",
    "Наиболее продаваемым жанром является Shooter. Также неплохо показали себя жанры Racing, Platform и Sports, медианные продажи которых за последние 3 года стабильно высокие.\n",
    "\n",
    "Наибольшей популярностью в Северной Америке пользуются платформы PS4, X360 и XOne, для Европы - PS4, для Японии - 3DS.\n",
    "Самыми продаваемыми жанрами для Северной Америки и Европы являются: Shooter, Action и Sports; а для Японии - Role-Playing и Action.\n",
    "Пользователи Северной Америки в основном предпочитают игры для взрослых и игры для всех возрастов. В Японии структура несколько иная: основная доля продаж приходится на игры без маркировки и на игры для подростков.\n",
    "\n",
    "Также были проверены 2 гипотезы:\n",
    "\n",
    "- Средние пользовательские рейтинги платформ Xbox One и PC одинаковые - полученные результаты говорят о том, что средние пользовательсике рейтинги не различаются статистически значимо по данным платформам.\n",
    "- Средние пользовательские рейтинги жанров Action и Sports разные - полученные результаты говорят о том, что средние пользовательские рейтинги жанров Action и Sports различаются статистически значимо."
   ]
  }
 ],
 "metadata": {
  "ExecuteTimeLog": [
   {
    "duration": 647,
    "start_time": "2022-06-02T10:28:38.006Z"
   },
   {
    "duration": 4,
    "start_time": "2022-06-02T10:28:41.369Z"
   },
   {
    "duration": 1065,
    "start_time": "2022-06-02T10:30:29.071Z"
   },
   {
    "duration": 115,
    "start_time": "2022-06-02T10:33:46.241Z"
   },
   {
    "duration": 117,
    "start_time": "2022-06-02T10:58:15.927Z"
   },
   {
    "duration": 54,
    "start_time": "2022-06-02T11:14:25.763Z"
   },
   {
    "duration": 17,
    "start_time": "2022-06-02T11:15:50.134Z"
   },
   {
    "duration": 17,
    "start_time": "2022-06-02T11:16:01.886Z"
   },
   {
    "duration": 6,
    "start_time": "2022-06-02T11:18:26.890Z"
   },
   {
    "duration": 20,
    "start_time": "2022-06-02T11:19:56.477Z"
   },
   {
    "duration": 16,
    "start_time": "2022-06-02T11:21:45.999Z"
   },
   {
    "duration": 13,
    "start_time": "2022-06-02T11:27:18.678Z"
   },
   {
    "duration": 13,
    "start_time": "2022-06-02T11:27:41.100Z"
   },
   {
    "duration": 105,
    "start_time": "2022-06-02T11:29:29.982Z"
   },
   {
    "duration": 37,
    "start_time": "2022-06-02T11:33:49.915Z"
   },
   {
    "duration": 38,
    "start_time": "2022-06-02T11:34:14.285Z"
   },
   {
    "duration": 18,
    "start_time": "2022-06-02T11:34:47.088Z"
   },
   {
    "duration": 23,
    "start_time": "2022-06-02T11:37:38.072Z"
   },
   {
    "duration": 162,
    "start_time": "2022-06-02T11:44:01.709Z"
   },
   {
    "duration": 36,
    "start_time": "2022-06-02T11:45:02.549Z"
   },
   {
    "duration": 23,
    "start_time": "2022-06-02T11:58:20.463Z"
   },
   {
    "duration": 8,
    "start_time": "2022-06-02T11:58:45.268Z"
   },
   {
    "duration": 21,
    "start_time": "2022-06-02T12:05:24.271Z"
   },
   {
    "duration": 42,
    "start_time": "2022-06-02T12:05:38.706Z"
   },
   {
    "duration": 28,
    "start_time": "2022-06-02T12:05:54.240Z"
   },
   {
    "duration": 8,
    "start_time": "2022-06-02T12:07:52.607Z"
   },
   {
    "duration": 8,
    "start_time": "2022-06-02T12:10:45.293Z"
   },
   {
    "duration": 12,
    "start_time": "2022-06-02T12:11:36.246Z"
   },
   {
    "duration": 11,
    "start_time": "2022-06-02T12:13:11.177Z"
   },
   {
    "duration": 584,
    "start_time": "2022-06-02T12:16:35.103Z"
   },
   {
    "duration": 7,
    "start_time": "2022-06-02T12:16:59.837Z"
   },
   {
    "duration": 1208,
    "start_time": "2022-06-02T12:17:11.550Z"
   },
   {
    "duration": 93,
    "start_time": "2022-06-02T12:17:12.761Z"
   },
   {
    "duration": 7,
    "start_time": "2022-06-02T12:17:12.856Z"
   },
   {
    "duration": 24,
    "start_time": "2022-06-02T12:17:12.866Z"
   },
   {
    "duration": 46,
    "start_time": "2022-06-02T12:17:12.893Z"
   },
   {
    "duration": 10,
    "start_time": "2022-06-02T12:17:12.941Z"
   },
   {
    "duration": 6,
    "start_time": "2022-06-02T12:24:39.984Z"
   },
   {
    "duration": 10,
    "start_time": "2022-06-02T12:24:45.025Z"
   },
   {
    "duration": 6,
    "start_time": "2022-06-02T12:24:51.584Z"
   },
   {
    "duration": 12,
    "start_time": "2022-06-02T12:24:53.297Z"
   },
   {
    "duration": 170,
    "start_time": "2022-06-02T12:33:41.598Z"
   },
   {
    "duration": 17,
    "start_time": "2022-06-02T12:33:57.498Z"
   },
   {
    "duration": 129,
    "start_time": "2022-06-02T12:34:18.902Z"
   },
   {
    "duration": 21,
    "start_time": "2022-06-02T12:34:56.185Z"
   },
   {
    "duration": 7,
    "start_time": "2022-06-02T12:35:18.200Z"
   },
   {
    "duration": 14,
    "start_time": "2022-06-02T12:37:02.909Z"
   },
   {
    "duration": 15,
    "start_time": "2022-06-02T12:38:59.185Z"
   },
   {
    "duration": 26,
    "start_time": "2022-06-02T12:39:05.382Z"
   },
   {
    "duration": 22,
    "start_time": "2022-06-02T13:54:21.265Z"
   },
   {
    "duration": 1263,
    "start_time": "2022-06-02T13:59:33.216Z"
   },
   {
    "duration": 125,
    "start_time": "2022-06-02T13:59:34.484Z"
   },
   {
    "duration": 7,
    "start_time": "2022-06-02T13:59:34.611Z"
   },
   {
    "duration": 46,
    "start_time": "2022-06-02T13:59:34.620Z"
   },
   {
    "duration": 45,
    "start_time": "2022-06-02T13:59:34.669Z"
   },
   {
    "duration": 42,
    "start_time": "2022-06-02T13:59:34.716Z"
   },
   {
    "duration": 24,
    "start_time": "2022-06-02T13:59:34.760Z"
   },
   {
    "duration": 27,
    "start_time": "2022-06-02T13:59:34.787Z"
   },
   {
    "duration": 9,
    "start_time": "2022-06-02T14:00:49.505Z"
   },
   {
    "duration": 8,
    "start_time": "2022-06-02T14:01:09.986Z"
   },
   {
    "duration": 125,
    "start_time": "2022-06-02T14:01:38.977Z"
   },
   {
    "duration": 22,
    "start_time": "2022-06-02T14:01:43.364Z"
   },
   {
    "duration": 19,
    "start_time": "2022-06-02T14:01:46.768Z"
   },
   {
    "duration": 18,
    "start_time": "2022-06-02T14:01:53.220Z"
   },
   {
    "duration": 91,
    "start_time": "2022-06-02T16:31:24.116Z"
   },
   {
    "duration": 1470,
    "start_time": "2022-06-02T16:31:40.795Z"
   },
   {
    "duration": 159,
    "start_time": "2022-06-02T16:31:42.268Z"
   },
   {
    "duration": 7,
    "start_time": "2022-06-02T16:31:42.429Z"
   },
   {
    "duration": 27,
    "start_time": "2022-06-02T16:31:42.439Z"
   },
   {
    "duration": 23,
    "start_time": "2022-06-02T16:31:42.468Z"
   },
   {
    "duration": 37,
    "start_time": "2022-06-02T16:31:42.493Z"
   },
   {
    "duration": 29,
    "start_time": "2022-06-02T16:31:42.533Z"
   },
   {
    "duration": 13,
    "start_time": "2022-06-02T16:31:42.565Z"
   },
   {
    "duration": 12,
    "start_time": "2022-06-02T16:31:42.580Z"
   },
   {
    "duration": 10,
    "start_time": "2022-06-02T16:31:42.595Z"
   },
   {
    "duration": 5,
    "start_time": "2022-06-02T17:13:21.476Z"
   },
   {
    "duration": 7,
    "start_time": "2022-06-02T17:43:11.486Z"
   },
   {
    "duration": 1061,
    "start_time": "2022-06-02T17:43:31.248Z"
   },
   {
    "duration": 79,
    "start_time": "2022-06-02T17:43:32.311Z"
   },
   {
    "duration": 5,
    "start_time": "2022-06-02T17:43:32.394Z"
   },
   {
    "duration": 27,
    "start_time": "2022-06-02T17:43:32.400Z"
   },
   {
    "duration": 14,
    "start_time": "2022-06-02T17:43:32.430Z"
   },
   {
    "duration": 21,
    "start_time": "2022-06-02T17:43:32.446Z"
   },
   {
    "duration": 14,
    "start_time": "2022-06-02T17:43:32.469Z"
   },
   {
    "duration": 9,
    "start_time": "2022-06-02T17:43:32.485Z"
   },
   {
    "duration": 6,
    "start_time": "2022-06-02T17:43:32.496Z"
   },
   {
    "duration": 6,
    "start_time": "2022-06-02T17:43:32.504Z"
   },
   {
    "duration": 7,
    "start_time": "2022-06-02T17:43:55.527Z"
   },
   {
    "duration": 8,
    "start_time": "2022-06-02T17:44:06.066Z"
   },
   {
    "duration": 5,
    "start_time": "2022-06-02T17:58:58.589Z"
   },
   {
    "duration": 106,
    "start_time": "2022-06-02T18:00:31.407Z"
   },
   {
    "duration": 11,
    "start_time": "2022-06-02T18:01:07.905Z"
   },
   {
    "duration": 10,
    "start_time": "2022-06-02T18:03:08.316Z"
   },
   {
    "duration": 11,
    "start_time": "2022-06-02T18:05:11.592Z"
   },
   {
    "duration": 1052,
    "start_time": "2022-06-02T18:18:01.769Z"
   },
   {
    "duration": 77,
    "start_time": "2022-06-02T18:18:02.823Z"
   },
   {
    "duration": 5,
    "start_time": "2022-06-02T18:18:02.901Z"
   },
   {
    "duration": 21,
    "start_time": "2022-06-02T18:18:02.908Z"
   },
   {
    "duration": 24,
    "start_time": "2022-06-02T18:18:02.931Z"
   },
   {
    "duration": 10,
    "start_time": "2022-06-02T18:18:02.957Z"
   },
   {
    "duration": 16,
    "start_time": "2022-06-02T18:18:02.969Z"
   },
   {
    "duration": 10,
    "start_time": "2022-06-02T18:18:02.986Z"
   },
   {
    "duration": 9,
    "start_time": "2022-06-02T18:18:02.997Z"
   },
   {
    "duration": 20,
    "start_time": "2022-06-02T18:18:03.008Z"
   },
   {
    "duration": 5,
    "start_time": "2022-06-02T18:18:26.871Z"
   },
   {
    "duration": 1104,
    "start_time": "2022-06-02T18:19:04.247Z"
   },
   {
    "duration": 77,
    "start_time": "2022-06-02T18:19:05.352Z"
   },
   {
    "duration": 4,
    "start_time": "2022-06-02T18:19:05.431Z"
   },
   {
    "duration": 17,
    "start_time": "2022-06-02T18:19:05.437Z"
   },
   {
    "duration": 13,
    "start_time": "2022-06-02T18:19:05.456Z"
   },
   {
    "duration": 9,
    "start_time": "2022-06-02T18:19:05.470Z"
   },
   {
    "duration": 14,
    "start_time": "2022-06-02T18:19:05.481Z"
   },
   {
    "duration": 35,
    "start_time": "2022-06-02T18:19:05.497Z"
   },
   {
    "duration": 9,
    "start_time": "2022-06-02T18:19:05.533Z"
   },
   {
    "duration": 13,
    "start_time": "2022-06-02T18:19:05.544Z"
   },
   {
    "duration": 10,
    "start_time": "2022-06-02T18:19:05.559Z"
   },
   {
    "duration": 23,
    "start_time": "2022-06-02T18:19:05.571Z"
   },
   {
    "duration": 9,
    "start_time": "2022-06-02T18:19:28.397Z"
   },
   {
    "duration": 5,
    "start_time": "2022-06-02T18:19:30.505Z"
   },
   {
    "duration": 6,
    "start_time": "2022-06-02T18:20:55.527Z"
   },
   {
    "duration": 21,
    "start_time": "2022-06-02T18:28:06.549Z"
   },
   {
    "duration": 17,
    "start_time": "2022-06-02T18:30:30.776Z"
   },
   {
    "duration": 1175,
    "start_time": "2022-06-02T18:30:39.788Z"
   },
   {
    "duration": 93,
    "start_time": "2022-06-02T18:30:40.966Z"
   },
   {
    "duration": 5,
    "start_time": "2022-06-02T18:30:41.061Z"
   },
   {
    "duration": 23,
    "start_time": "2022-06-02T18:30:41.069Z"
   },
   {
    "duration": 34,
    "start_time": "2022-06-02T18:30:41.094Z"
   },
   {
    "duration": 27,
    "start_time": "2022-06-02T18:30:41.130Z"
   },
   {
    "duration": 13,
    "start_time": "2022-06-02T18:30:41.159Z"
   },
   {
    "duration": 10,
    "start_time": "2022-06-02T18:30:41.174Z"
   },
   {
    "duration": 10,
    "start_time": "2022-06-02T18:30:41.186Z"
   },
   {
    "duration": 39,
    "start_time": "2022-06-02T18:30:41.199Z"
   },
   {
    "duration": 51,
    "start_time": "2022-06-02T18:30:41.240Z"
   },
   {
    "duration": 57,
    "start_time": "2022-06-03T07:48:10.355Z"
   },
   {
    "duration": 6,
    "start_time": "2022-06-03T07:50:13.813Z"
   },
   {
    "duration": 7,
    "start_time": "2022-06-03T07:50:43.724Z"
   },
   {
    "duration": 1259,
    "start_time": "2022-06-03T07:50:56.376Z"
   },
   {
    "duration": 116,
    "start_time": "2022-06-03T07:50:57.637Z"
   },
   {
    "duration": 5,
    "start_time": "2022-06-03T07:50:57.755Z"
   },
   {
    "duration": 16,
    "start_time": "2022-06-03T07:50:57.762Z"
   },
   {
    "duration": 14,
    "start_time": "2022-06-03T07:50:57.779Z"
   },
   {
    "duration": 12,
    "start_time": "2022-06-03T07:50:57.795Z"
   },
   {
    "duration": 44,
    "start_time": "2022-06-03T07:50:57.809Z"
   },
   {
    "duration": 9,
    "start_time": "2022-06-03T07:50:57.856Z"
   },
   {
    "duration": 23,
    "start_time": "2022-06-03T07:50:57.867Z"
   },
   {
    "duration": 22,
    "start_time": "2022-06-03T07:50:57.892Z"
   },
   {
    "duration": 23,
    "start_time": "2022-06-03T07:50:57.916Z"
   },
   {
    "duration": 4,
    "start_time": "2022-06-03T07:50:57.941Z"
   },
   {
    "duration": 25,
    "start_time": "2022-06-03T07:51:06.100Z"
   },
   {
    "duration": 10,
    "start_time": "2022-06-03T07:51:27.397Z"
   },
   {
    "duration": 104,
    "start_time": "2022-06-03T07:53:27.691Z"
   },
   {
    "duration": 15,
    "start_time": "2022-06-03T07:56:11.281Z"
   },
   {
    "duration": 7,
    "start_time": "2022-06-03T07:56:39.012Z"
   },
   {
    "duration": 7,
    "start_time": "2022-06-03T07:57:09.957Z"
   },
   {
    "duration": 6,
    "start_time": "2022-06-03T07:57:38.664Z"
   },
   {
    "duration": 11,
    "start_time": "2022-06-03T07:57:57.265Z"
   },
   {
    "duration": 3,
    "start_time": "2022-06-03T07:58:00.436Z"
   },
   {
    "duration": 3,
    "start_time": "2022-06-03T07:58:02.350Z"
   },
   {
    "duration": 9,
    "start_time": "2022-06-03T07:58:05.110Z"
   },
   {
    "duration": 9,
    "start_time": "2022-06-03T07:58:33.416Z"
   },
   {
    "duration": 9,
    "start_time": "2022-06-03T07:58:39.300Z"
   },
   {
    "duration": 5,
    "start_time": "2022-06-03T07:58:42.554Z"
   },
   {
    "duration": 8,
    "start_time": "2022-06-03T07:59:18.273Z"
   },
   {
    "duration": 5,
    "start_time": "2022-06-03T07:59:25.462Z"
   },
   {
    "duration": 223,
    "start_time": "2022-06-03T08:02:47.911Z"
   },
   {
    "duration": 229,
    "start_time": "2022-06-03T08:03:23.303Z"
   },
   {
    "duration": 281,
    "start_time": "2022-06-03T08:08:06.170Z"
   },
   {
    "duration": 222,
    "start_time": "2022-06-03T08:08:22.964Z"
   },
   {
    "duration": 6,
    "start_time": "2022-06-03T08:26:08.377Z"
   },
   {
    "duration": 21,
    "start_time": "2022-06-03T08:26:16.923Z"
   },
   {
    "duration": 7,
    "start_time": "2022-06-03T08:37:33.533Z"
   },
   {
    "duration": 12,
    "start_time": "2022-06-03T08:38:05.082Z"
   },
   {
    "duration": 13,
    "start_time": "2022-06-03T08:38:49.713Z"
   },
   {
    "duration": 15,
    "start_time": "2022-06-03T08:38:55.041Z"
   },
   {
    "duration": 4,
    "start_time": "2022-06-03T08:39:44.260Z"
   },
   {
    "duration": 13,
    "start_time": "2022-06-03T08:40:19.367Z"
   },
   {
    "duration": 151,
    "start_time": "2022-06-03T10:32:22.218Z"
   },
   {
    "duration": 177,
    "start_time": "2022-06-03T10:32:37.297Z"
   },
   {
    "duration": 13,
    "start_time": "2022-06-03T10:34:18.558Z"
   },
   {
    "duration": 10,
    "start_time": "2022-06-03T10:36:47.607Z"
   },
   {
    "duration": 447,
    "start_time": "2022-06-03T10:42:08.086Z"
   },
   {
    "duration": 209,
    "start_time": "2022-06-03T10:42:14.914Z"
   },
   {
    "duration": 188,
    "start_time": "2022-06-03T10:43:25.742Z"
   },
   {
    "duration": 16,
    "start_time": "2022-06-03T10:52:34.606Z"
   },
   {
    "duration": 13,
    "start_time": "2022-06-03T10:53:06.989Z"
   },
   {
    "duration": 17,
    "start_time": "2022-06-03T10:53:53.909Z"
   },
   {
    "duration": 97,
    "start_time": "2022-06-03T10:53:59.493Z"
   },
   {
    "duration": 84,
    "start_time": "2022-06-03T10:54:37.187Z"
   },
   {
    "duration": 580,
    "start_time": "2022-06-03T10:58:09.264Z"
   },
   {
    "duration": 42,
    "start_time": "2022-06-03T10:59:54.160Z"
   },
   {
    "duration": 32,
    "start_time": "2022-06-03T11:03:41.429Z"
   },
   {
    "duration": 34,
    "start_time": "2022-06-03T11:07:18.044Z"
   },
   {
    "duration": 11,
    "start_time": "2022-06-03T11:07:23.779Z"
   },
   {
    "duration": 17,
    "start_time": "2022-06-03T11:08:01.561Z"
   },
   {
    "duration": 15,
    "start_time": "2022-06-03T11:11:16.402Z"
   },
   {
    "duration": 28,
    "start_time": "2022-06-03T11:11:34.170Z"
   },
   {
    "duration": 300,
    "start_time": "2022-06-03T11:15:21.879Z"
   },
   {
    "duration": 179,
    "start_time": "2022-06-03T11:17:41.279Z"
   },
   {
    "duration": 298,
    "start_time": "2022-06-03T11:17:50.829Z"
   },
   {
    "duration": 357,
    "start_time": "2022-06-03T11:17:56.708Z"
   },
   {
    "duration": 317,
    "start_time": "2022-06-03T11:18:05.417Z"
   },
   {
    "duration": 244,
    "start_time": "2022-06-03T11:20:04.765Z"
   },
   {
    "duration": 279,
    "start_time": "2022-06-03T11:20:20.864Z"
   },
   {
    "duration": 257,
    "start_time": "2022-06-03T11:20:45.040Z"
   },
   {
    "duration": 343,
    "start_time": "2022-06-03T11:36:00.842Z"
   },
   {
    "duration": 10,
    "start_time": "2022-06-03T12:57:57.155Z"
   },
   {
    "duration": 7,
    "start_time": "2022-06-03T12:58:25.878Z"
   },
   {
    "duration": 1099,
    "start_time": "2022-06-03T13:01:16.051Z"
   },
   {
    "duration": 76,
    "start_time": "2022-06-03T13:01:17.153Z"
   },
   {
    "duration": 5,
    "start_time": "2022-06-03T13:01:17.231Z"
   },
   {
    "duration": 22,
    "start_time": "2022-06-03T13:01:17.237Z"
   },
   {
    "duration": 14,
    "start_time": "2022-06-03T13:01:17.261Z"
   },
   {
    "duration": 19,
    "start_time": "2022-06-03T13:01:17.277Z"
   },
   {
    "duration": 14,
    "start_time": "2022-06-03T13:01:17.298Z"
   },
   {
    "duration": 14,
    "start_time": "2022-06-03T13:01:17.314Z"
   },
   {
    "duration": 15,
    "start_time": "2022-06-03T13:01:17.330Z"
   },
   {
    "duration": 14,
    "start_time": "2022-06-03T13:01:17.346Z"
   },
   {
    "duration": 26,
    "start_time": "2022-06-03T13:01:17.362Z"
   },
   {
    "duration": 231,
    "start_time": "2022-06-03T13:01:17.389Z"
   },
   {
    "duration": 14,
    "start_time": "2022-06-03T13:01:17.621Z"
   },
   {
    "duration": 272,
    "start_time": "2022-06-03T13:01:17.636Z"
   },
   {
    "duration": 8,
    "start_time": "2022-06-03T13:01:17.910Z"
   },
   {
    "duration": 7,
    "start_time": "2022-06-03T13:28:56.973Z"
   },
   {
    "duration": 7,
    "start_time": "2022-06-03T13:29:02.117Z"
   },
   {
    "duration": 440,
    "start_time": "2022-06-03T13:34:12.411Z"
   },
   {
    "duration": 291,
    "start_time": "2022-06-03T13:35:41.649Z"
   },
   {
    "duration": 307,
    "start_time": "2022-06-03T13:36:14.949Z"
   },
   {
    "duration": 292,
    "start_time": "2022-06-03T13:38:16.591Z"
   },
   {
    "duration": 26,
    "start_time": "2022-06-03T13:38:41.975Z"
   },
   {
    "duration": 347,
    "start_time": "2022-06-03T13:38:59.980Z"
   },
   {
    "duration": 29,
    "start_time": "2022-06-03T13:39:02.732Z"
   },
   {
    "duration": 298,
    "start_time": "2022-06-03T13:41:14.593Z"
   },
   {
    "duration": 14,
    "start_time": "2022-06-03T13:41:37.910Z"
   },
   {
    "duration": 27,
    "start_time": "2022-06-03T13:45:50.312Z"
   },
   {
    "duration": 1146,
    "start_time": "2022-06-03T16:50:03.672Z"
   },
   {
    "duration": 127,
    "start_time": "2022-06-03T16:50:04.820Z"
   },
   {
    "duration": 4,
    "start_time": "2022-06-03T16:50:04.948Z"
   },
   {
    "duration": 38,
    "start_time": "2022-06-03T16:50:04.953Z"
   },
   {
    "duration": 20,
    "start_time": "2022-06-03T16:50:04.994Z"
   },
   {
    "duration": 18,
    "start_time": "2022-06-03T16:50:05.016Z"
   },
   {
    "duration": 35,
    "start_time": "2022-06-03T16:50:05.035Z"
   },
   {
    "duration": 34,
    "start_time": "2022-06-03T16:50:05.072Z"
   },
   {
    "duration": 29,
    "start_time": "2022-06-03T16:50:05.108Z"
   },
   {
    "duration": 17,
    "start_time": "2022-06-03T16:50:05.139Z"
   },
   {
    "duration": 40,
    "start_time": "2022-06-03T16:50:05.157Z"
   },
   {
    "duration": 221,
    "start_time": "2022-06-03T16:50:05.198Z"
   },
   {
    "duration": 18,
    "start_time": "2022-06-03T16:50:05.420Z"
   },
   {
    "duration": 307,
    "start_time": "2022-06-03T16:50:05.440Z"
   },
   {
    "duration": 106,
    "start_time": "2022-06-03T16:50:05.750Z"
   },
   {
    "duration": 175,
    "start_time": "2022-06-03T17:05:05.046Z"
   },
   {
    "duration": 204,
    "start_time": "2022-06-03T17:18:00.053Z"
   },
   {
    "duration": 204,
    "start_time": "2022-06-03T17:18:48.936Z"
   },
   {
    "duration": 316,
    "start_time": "2022-06-03T17:18:59.216Z"
   },
   {
    "duration": 227,
    "start_time": "2022-06-03T17:19:12.744Z"
   },
   {
    "duration": 428,
    "start_time": "2022-06-03T18:17:00.342Z"
   },
   {
    "duration": 136,
    "start_time": "2022-06-03T18:17:45.144Z"
   },
   {
    "duration": 259,
    "start_time": "2022-06-03T18:18:13.525Z"
   },
   {
    "duration": 20,
    "start_time": "2022-06-03T18:19:11.956Z"
   },
   {
    "duration": 7,
    "start_time": "2022-06-03T18:19:58.140Z"
   },
   {
    "duration": 139,
    "start_time": "2022-06-03T18:21:17.952Z"
   },
   {
    "duration": 5,
    "start_time": "2022-06-03T18:21:31.282Z"
   },
   {
    "duration": 163,
    "start_time": "2022-06-03T18:29:54.068Z"
   },
   {
    "duration": 149,
    "start_time": "2022-06-03T18:30:19.897Z"
   },
   {
    "duration": 55,
    "start_time": "2022-06-04T14:17:19.656Z"
   },
   {
    "duration": 1214,
    "start_time": "2022-06-04T14:17:42.836Z"
   },
   {
    "duration": 115,
    "start_time": "2022-06-04T14:17:44.052Z"
   },
   {
    "duration": 4,
    "start_time": "2022-06-04T14:17:44.168Z"
   },
   {
    "duration": 19,
    "start_time": "2022-06-04T14:17:44.174Z"
   },
   {
    "duration": 13,
    "start_time": "2022-06-04T14:17:44.194Z"
   },
   {
    "duration": 8,
    "start_time": "2022-06-04T14:17:44.208Z"
   },
   {
    "duration": 16,
    "start_time": "2022-06-04T14:17:44.217Z"
   },
   {
    "duration": 8,
    "start_time": "2022-06-04T14:17:44.235Z"
   },
   {
    "duration": 6,
    "start_time": "2022-06-04T14:17:44.245Z"
   },
   {
    "duration": 10,
    "start_time": "2022-06-04T14:17:44.253Z"
   },
   {
    "duration": 16,
    "start_time": "2022-06-04T14:17:44.264Z"
   },
   {
    "duration": 247,
    "start_time": "2022-06-04T14:17:44.282Z"
   },
   {
    "duration": 14,
    "start_time": "2022-06-04T14:17:44.531Z"
   },
   {
    "duration": 257,
    "start_time": "2022-06-04T14:17:44.546Z"
   },
   {
    "duration": 91,
    "start_time": "2022-06-04T14:17:44.805Z"
   },
   {
    "duration": 220,
    "start_time": "2022-06-04T14:17:44.897Z"
   },
   {
    "duration": 194,
    "start_time": "2022-06-04T14:17:45.119Z"
   },
   {
    "duration": 11,
    "start_time": "2022-06-04T14:17:45.314Z"
   },
   {
    "duration": 182,
    "start_time": "2022-06-04T14:17:45.326Z"
   },
   {
    "duration": 5,
    "start_time": "2022-06-04T14:17:45.509Z"
   },
   {
    "duration": 180,
    "start_time": "2022-06-04T14:17:45.523Z"
   },
   {
    "duration": 5,
    "start_time": "2022-06-04T14:18:21.456Z"
   },
   {
    "duration": 4,
    "start_time": "2022-06-04T14:28:58.939Z"
   },
   {
    "duration": 110,
    "start_time": "2022-06-04T14:29:07.109Z"
   },
   {
    "duration": 12,
    "start_time": "2022-06-04T14:29:37.696Z"
   },
   {
    "duration": 12,
    "start_time": "2022-06-04T14:29:56.408Z"
   },
   {
    "duration": 12,
    "start_time": "2022-06-04T14:37:55.060Z"
   },
   {
    "duration": 10,
    "start_time": "2022-06-04T14:38:13.117Z"
   },
   {
    "duration": 25,
    "start_time": "2022-06-04T14:50:13.824Z"
   },
   {
    "duration": 465,
    "start_time": "2022-06-04T14:50:44.507Z"
   },
   {
    "duration": 5,
    "start_time": "2022-06-04T14:51:09.010Z"
   },
   {
    "duration": 410,
    "start_time": "2022-06-04T14:51:32.545Z"
   },
   {
    "duration": 174,
    "start_time": "2022-06-04T14:52:05.021Z"
   },
   {
    "duration": 207,
    "start_time": "2022-06-04T14:52:16.566Z"
   },
   {
    "duration": 233,
    "start_time": "2022-06-04T14:52:25.710Z"
   },
   {
    "duration": 232,
    "start_time": "2022-06-04T14:54:16.613Z"
   },
   {
    "duration": 204,
    "start_time": "2022-06-04T14:54:35.610Z"
   },
   {
    "duration": 197,
    "start_time": "2022-06-04T14:55:24.850Z"
   },
   {
    "duration": 29,
    "start_time": "2022-06-04T15:37:18.812Z"
   },
   {
    "duration": 24,
    "start_time": "2022-06-04T16:32:55.347Z"
   },
   {
    "duration": 16,
    "start_time": "2022-06-04T16:33:18.367Z"
   },
   {
    "duration": 1170,
    "start_time": "2022-06-04T16:33:40.099Z"
   },
   {
    "duration": 82,
    "start_time": "2022-06-04T16:33:41.271Z"
   },
   {
    "duration": 4,
    "start_time": "2022-06-04T16:33:41.355Z"
   },
   {
    "duration": 18,
    "start_time": "2022-06-04T16:33:41.360Z"
   },
   {
    "duration": 14,
    "start_time": "2022-06-04T16:33:41.380Z"
   },
   {
    "duration": 42,
    "start_time": "2022-06-04T16:33:41.395Z"
   },
   {
    "duration": 18,
    "start_time": "2022-06-04T16:33:41.439Z"
   },
   {
    "duration": 12,
    "start_time": "2022-06-04T16:33:41.459Z"
   },
   {
    "duration": 8,
    "start_time": "2022-06-04T16:33:41.472Z"
   },
   {
    "duration": 23,
    "start_time": "2022-06-04T16:33:41.481Z"
   },
   {
    "duration": 24,
    "start_time": "2022-06-04T16:33:41.506Z"
   },
   {
    "duration": 242,
    "start_time": "2022-06-04T16:33:41.531Z"
   },
   {
    "duration": 14,
    "start_time": "2022-06-04T16:33:41.775Z"
   },
   {
    "duration": 311,
    "start_time": "2022-06-04T16:33:41.792Z"
   },
   {
    "duration": 115,
    "start_time": "2022-06-04T16:33:42.106Z"
   },
   {
    "duration": 38,
    "start_time": "2022-06-04T16:33:42.223Z"
   },
   {
    "duration": 256,
    "start_time": "2022-06-04T16:33:42.263Z"
   },
   {
    "duration": 241,
    "start_time": "2022-06-04T16:33:42.522Z"
   },
   {
    "duration": 6,
    "start_time": "2022-06-04T16:33:42.765Z"
   },
   {
    "duration": 205,
    "start_time": "2022-06-04T16:33:42.773Z"
   },
   {
    "duration": 5,
    "start_time": "2022-06-04T16:33:42.980Z"
   },
   {
    "duration": 15,
    "start_time": "2022-06-04T16:33:42.987Z"
   },
   {
    "duration": 250,
    "start_time": "2022-06-04T16:33:43.003Z"
   },
   {
    "duration": 7,
    "start_time": "2022-06-04T16:33:43.254Z"
   },
   {
    "duration": 121,
    "start_time": "2022-06-04T16:33:43.262Z"
   },
   {
    "duration": 17,
    "start_time": "2022-06-04T16:33:55.406Z"
   },
   {
    "duration": 20,
    "start_time": "2022-06-04T16:34:10.156Z"
   },
   {
    "duration": 1117,
    "start_time": "2022-06-04T16:34:20.302Z"
   },
   {
    "duration": 83,
    "start_time": "2022-06-04T16:34:21.422Z"
   },
   {
    "duration": 8,
    "start_time": "2022-06-04T16:34:21.507Z"
   },
   {
    "duration": 28,
    "start_time": "2022-06-04T16:34:21.517Z"
   },
   {
    "duration": 22,
    "start_time": "2022-06-04T16:34:21.548Z"
   },
   {
    "duration": 7,
    "start_time": "2022-06-04T16:34:21.572Z"
   },
   {
    "duration": 19,
    "start_time": "2022-06-04T16:34:21.581Z"
   },
   {
    "duration": 46,
    "start_time": "2022-06-04T16:34:21.602Z"
   },
   {
    "duration": 9,
    "start_time": "2022-06-04T16:34:21.650Z"
   },
   {
    "duration": 20,
    "start_time": "2022-06-04T16:34:21.661Z"
   },
   {
    "duration": 31,
    "start_time": "2022-06-04T16:34:21.684Z"
   },
   {
    "duration": 251,
    "start_time": "2022-06-04T16:34:21.717Z"
   },
   {
    "duration": 16,
    "start_time": "2022-06-04T16:34:21.970Z"
   },
   {
    "duration": 326,
    "start_time": "2022-06-04T16:34:21.989Z"
   },
   {
    "duration": 116,
    "start_time": "2022-06-04T16:34:22.317Z"
   },
   {
    "duration": 23,
    "start_time": "2022-06-04T16:34:22.437Z"
   },
   {
    "duration": 297,
    "start_time": "2022-06-04T16:34:22.462Z"
   },
   {
    "duration": 317,
    "start_time": "2022-06-04T16:34:22.761Z"
   },
   {
    "duration": 7,
    "start_time": "2022-06-04T16:34:23.080Z"
   },
   {
    "duration": 193,
    "start_time": "2022-06-04T16:34:23.090Z"
   },
   {
    "duration": 6,
    "start_time": "2022-06-04T16:34:23.285Z"
   },
   {
    "duration": 13,
    "start_time": "2022-06-04T16:34:23.293Z"
   },
   {
    "duration": 241,
    "start_time": "2022-06-04T16:34:23.329Z"
   },
   {
    "duration": 6,
    "start_time": "2022-06-04T16:34:23.572Z"
   },
   {
    "duration": 24,
    "start_time": "2022-06-04T16:34:23.579Z"
   },
   {
    "duration": 1140,
    "start_time": "2022-06-04T16:34:46.053Z"
   },
   {
    "duration": 84,
    "start_time": "2022-06-04T16:34:47.195Z"
   },
   {
    "duration": 4,
    "start_time": "2022-06-04T16:34:47.281Z"
   },
   {
    "duration": 44,
    "start_time": "2022-06-04T16:34:47.287Z"
   },
   {
    "duration": 16,
    "start_time": "2022-06-04T16:34:47.332Z"
   },
   {
    "duration": 5,
    "start_time": "2022-06-04T16:34:47.350Z"
   },
   {
    "duration": 17,
    "start_time": "2022-06-04T16:34:47.357Z"
   },
   {
    "duration": 10,
    "start_time": "2022-06-04T16:34:47.375Z"
   },
   {
    "duration": 58,
    "start_time": "2022-06-04T16:34:47.386Z"
   },
   {
    "duration": 14,
    "start_time": "2022-06-04T16:34:47.447Z"
   },
   {
    "duration": 22,
    "start_time": "2022-06-04T16:34:47.462Z"
   },
   {
    "duration": 243,
    "start_time": "2022-06-04T16:34:47.486Z"
   },
   {
    "duration": 16,
    "start_time": "2022-06-04T16:34:47.731Z"
   },
   {
    "duration": 322,
    "start_time": "2022-06-04T16:34:47.749Z"
   },
   {
    "duration": 105,
    "start_time": "2022-06-04T16:34:48.073Z"
   },
   {
    "duration": 27,
    "start_time": "2022-06-04T16:34:48.179Z"
   },
   {
    "duration": 254,
    "start_time": "2022-06-04T16:34:48.208Z"
   },
   {
    "duration": 202,
    "start_time": "2022-06-04T16:34:48.464Z"
   },
   {
    "duration": 6,
    "start_time": "2022-06-04T16:34:48.667Z"
   },
   {
    "duration": 192,
    "start_time": "2022-06-04T16:34:48.675Z"
   },
   {
    "duration": 6,
    "start_time": "2022-06-04T16:34:48.869Z"
   },
   {
    "duration": 14,
    "start_time": "2022-06-04T16:34:48.877Z"
   },
   {
    "duration": 255,
    "start_time": "2022-06-04T16:34:48.893Z"
   },
   {
    "duration": 6,
    "start_time": "2022-06-04T16:34:49.150Z"
   },
   {
    "duration": 18,
    "start_time": "2022-06-04T16:34:49.158Z"
   },
   {
    "duration": 1089,
    "start_time": "2022-06-04T16:35:32.918Z"
   },
   {
    "duration": 78,
    "start_time": "2022-06-04T16:35:34.010Z"
   },
   {
    "duration": 5,
    "start_time": "2022-06-04T16:35:34.090Z"
   },
   {
    "duration": 21,
    "start_time": "2022-06-04T16:35:34.097Z"
   },
   {
    "duration": 22,
    "start_time": "2022-06-04T16:35:34.121Z"
   },
   {
    "duration": 7,
    "start_time": "2022-06-04T16:35:34.144Z"
   },
   {
    "duration": 15,
    "start_time": "2022-06-04T16:35:34.152Z"
   },
   {
    "duration": 11,
    "start_time": "2022-06-04T16:35:34.168Z"
   },
   {
    "duration": 7,
    "start_time": "2022-06-04T16:35:34.180Z"
   },
   {
    "duration": 9,
    "start_time": "2022-06-04T16:35:34.188Z"
   },
   {
    "duration": 36,
    "start_time": "2022-06-04T16:35:34.199Z"
   },
   {
    "duration": 230,
    "start_time": "2022-06-04T16:35:34.237Z"
   },
   {
    "duration": 12,
    "start_time": "2022-06-04T16:35:34.468Z"
   },
   {
    "duration": 304,
    "start_time": "2022-06-04T16:35:34.483Z"
   },
   {
    "duration": 98,
    "start_time": "2022-06-04T16:35:34.789Z"
   },
   {
    "duration": 20,
    "start_time": "2022-06-04T16:35:34.889Z"
   },
   {
    "duration": 231,
    "start_time": "2022-06-04T16:35:34.911Z"
   },
   {
    "duration": 193,
    "start_time": "2022-06-04T16:35:35.144Z"
   },
   {
    "duration": 5,
    "start_time": "2022-06-04T16:35:35.339Z"
   },
   {
    "duration": 156,
    "start_time": "2022-06-04T16:35:35.345Z"
   },
   {
    "duration": 4,
    "start_time": "2022-06-04T16:35:35.503Z"
   },
   {
    "duration": 29,
    "start_time": "2022-06-04T16:35:35.509Z"
   },
   {
    "duration": 198,
    "start_time": "2022-06-04T16:35:35.539Z"
   },
   {
    "duration": 6,
    "start_time": "2022-06-04T16:35:35.738Z"
   },
   {
    "duration": 16,
    "start_time": "2022-06-04T16:35:35.746Z"
   },
   {
    "duration": 1074,
    "start_time": "2022-06-04T16:36:59.240Z"
   },
   {
    "duration": 80,
    "start_time": "2022-06-04T16:37:00.316Z"
   },
   {
    "duration": 4,
    "start_time": "2022-06-04T16:37:00.398Z"
   },
   {
    "duration": 32,
    "start_time": "2022-06-04T16:37:00.404Z"
   },
   {
    "duration": 22,
    "start_time": "2022-06-04T16:37:00.437Z"
   },
   {
    "duration": 21,
    "start_time": "2022-06-04T16:37:00.460Z"
   },
   {
    "duration": 25,
    "start_time": "2022-06-04T16:37:00.483Z"
   },
   {
    "duration": 21,
    "start_time": "2022-06-04T16:37:00.509Z"
   },
   {
    "duration": 25,
    "start_time": "2022-06-04T16:37:00.531Z"
   },
   {
    "duration": 22,
    "start_time": "2022-06-04T16:37:00.558Z"
   },
   {
    "duration": 25,
    "start_time": "2022-06-04T16:37:00.582Z"
   },
   {
    "duration": 241,
    "start_time": "2022-06-04T16:37:00.608Z"
   },
   {
    "duration": 15,
    "start_time": "2022-06-04T16:37:00.850Z"
   },
   {
    "duration": 297,
    "start_time": "2022-06-04T16:37:00.866Z"
   },
   {
    "duration": 104,
    "start_time": "2022-06-04T16:37:01.165Z"
   },
   {
    "duration": 24,
    "start_time": "2022-06-04T16:37:01.270Z"
   },
   {
    "duration": 275,
    "start_time": "2022-06-04T16:37:01.297Z"
   },
   {
    "duration": 198,
    "start_time": "2022-06-04T16:37:01.575Z"
   },
   {
    "duration": 5,
    "start_time": "2022-06-04T16:37:01.775Z"
   },
   {
    "duration": 193,
    "start_time": "2022-06-04T16:37:01.782Z"
   },
   {
    "duration": 5,
    "start_time": "2022-06-04T16:37:01.977Z"
   },
   {
    "duration": 45,
    "start_time": "2022-06-04T16:37:01.984Z"
   },
   {
    "duration": 228,
    "start_time": "2022-06-04T16:37:02.032Z"
   },
   {
    "duration": 6,
    "start_time": "2022-06-04T16:37:02.261Z"
   },
   {
    "duration": 17,
    "start_time": "2022-06-04T16:37:02.268Z"
   },
   {
    "duration": 14,
    "start_time": "2022-06-04T16:37:56.845Z"
   },
   {
    "duration": 115,
    "start_time": "2022-06-04T16:43:42.268Z"
   },
   {
    "duration": 13,
    "start_time": "2022-06-04T16:45:00.871Z"
   },
   {
    "duration": 14,
    "start_time": "2022-06-04T16:45:27.835Z"
   },
   {
    "duration": 241,
    "start_time": "2022-06-04T16:49:18.112Z"
   },
   {
    "duration": 18,
    "start_time": "2022-06-04T16:49:37.330Z"
   },
   {
    "duration": 20,
    "start_time": "2022-06-04T16:50:08.008Z"
   },
   {
    "duration": 1076,
    "start_time": "2022-06-04T16:52:33.138Z"
   },
   {
    "duration": 89,
    "start_time": "2022-06-04T16:52:34.216Z"
   },
   {
    "duration": 5,
    "start_time": "2022-06-04T16:52:34.306Z"
   },
   {
    "duration": 23,
    "start_time": "2022-06-04T16:52:34.312Z"
   },
   {
    "duration": 22,
    "start_time": "2022-06-04T16:52:34.338Z"
   },
   {
    "duration": 6,
    "start_time": "2022-06-04T16:52:34.362Z"
   },
   {
    "duration": 16,
    "start_time": "2022-06-04T16:52:34.370Z"
   },
   {
    "duration": 11,
    "start_time": "2022-06-04T16:52:34.387Z"
   },
   {
    "duration": 25,
    "start_time": "2022-06-04T16:52:34.399Z"
   },
   {
    "duration": 15,
    "start_time": "2022-06-04T16:52:34.426Z"
   },
   {
    "duration": 19,
    "start_time": "2022-06-04T16:52:34.443Z"
   },
   {
    "duration": 254,
    "start_time": "2022-06-04T16:52:34.464Z"
   },
   {
    "duration": 22,
    "start_time": "2022-06-04T16:52:34.720Z"
   },
   {
    "duration": 294,
    "start_time": "2022-06-04T16:52:34.746Z"
   },
   {
    "duration": 106,
    "start_time": "2022-06-04T16:52:35.042Z"
   },
   {
    "duration": 19,
    "start_time": "2022-06-04T16:52:35.150Z"
   },
   {
    "duration": 252,
    "start_time": "2022-06-04T16:52:35.171Z"
   },
   {
    "duration": 194,
    "start_time": "2022-06-04T16:52:35.425Z"
   },
   {
    "duration": 7,
    "start_time": "2022-06-04T16:52:35.623Z"
   },
   {
    "duration": 197,
    "start_time": "2022-06-04T16:52:35.632Z"
   },
   {
    "duration": 6,
    "start_time": "2022-06-04T16:52:35.831Z"
   },
   {
    "duration": 13,
    "start_time": "2022-06-04T16:52:35.839Z"
   },
   {
    "duration": 236,
    "start_time": "2022-06-04T16:52:35.854Z"
   },
   {
    "duration": 6,
    "start_time": "2022-06-04T16:52:36.092Z"
   },
   {
    "duration": 25,
    "start_time": "2022-06-04T16:52:36.099Z"
   },
   {
    "duration": 19,
    "start_time": "2022-06-04T16:53:01.239Z"
   },
   {
    "duration": 19,
    "start_time": "2022-06-04T16:53:23.958Z"
   },
   {
    "duration": 16,
    "start_time": "2022-06-04T16:57:49.847Z"
   },
   {
    "duration": 15,
    "start_time": "2022-06-04T16:58:04.994Z"
   },
   {
    "duration": 16,
    "start_time": "2022-06-04T17:01:04.006Z"
   },
   {
    "duration": 125,
    "start_time": "2022-06-04T17:04:59.766Z"
   },
   {
    "duration": 17,
    "start_time": "2022-06-04T17:05:08.811Z"
   },
   {
    "duration": 17,
    "start_time": "2022-06-04T17:07:04.521Z"
   },
   {
    "duration": 613,
    "start_time": "2022-06-04T17:08:19.051Z"
   },
   {
    "duration": 17,
    "start_time": "2022-06-04T17:08:34.622Z"
   },
   {
    "duration": 1092,
    "start_time": "2022-06-04T17:08:42.254Z"
   },
   {
    "duration": 81,
    "start_time": "2022-06-04T17:08:43.349Z"
   },
   {
    "duration": 4,
    "start_time": "2022-06-04T17:08:43.431Z"
   },
   {
    "duration": 19,
    "start_time": "2022-06-04T17:08:43.437Z"
   },
   {
    "duration": 14,
    "start_time": "2022-06-04T17:08:43.459Z"
   },
   {
    "duration": 8,
    "start_time": "2022-06-04T17:08:43.475Z"
   },
   {
    "duration": 39,
    "start_time": "2022-06-04T17:08:43.485Z"
   },
   {
    "duration": 9,
    "start_time": "2022-06-04T17:08:43.526Z"
   },
   {
    "duration": 11,
    "start_time": "2022-06-04T17:08:43.536Z"
   },
   {
    "duration": 11,
    "start_time": "2022-06-04T17:08:43.549Z"
   },
   {
    "duration": 20,
    "start_time": "2022-06-04T17:08:43.561Z"
   },
   {
    "duration": 263,
    "start_time": "2022-06-04T17:08:43.583Z"
   },
   {
    "duration": 15,
    "start_time": "2022-06-04T17:08:43.848Z"
   },
   {
    "duration": 304,
    "start_time": "2022-06-04T17:08:43.867Z"
   },
   {
    "duration": 109,
    "start_time": "2022-06-04T17:08:44.173Z"
   },
   {
    "duration": 24,
    "start_time": "2022-06-04T17:08:44.284Z"
   },
   {
    "duration": 236,
    "start_time": "2022-06-04T17:08:44.322Z"
   },
   {
    "duration": 187,
    "start_time": "2022-06-04T17:08:44.560Z"
   },
   {
    "duration": 6,
    "start_time": "2022-06-04T17:08:44.749Z"
   },
   {
    "duration": 167,
    "start_time": "2022-06-04T17:08:44.757Z"
   },
   {
    "duration": 5,
    "start_time": "2022-06-04T17:08:44.926Z"
   },
   {
    "duration": 11,
    "start_time": "2022-06-04T17:08:44.933Z"
   },
   {
    "duration": 227,
    "start_time": "2022-06-04T17:08:44.946Z"
   },
   {
    "duration": 6,
    "start_time": "2022-06-04T17:08:45.175Z"
   },
   {
    "duration": 17,
    "start_time": "2022-06-04T17:08:45.183Z"
   },
   {
    "duration": 34,
    "start_time": "2022-06-04T17:08:45.201Z"
   },
   {
    "duration": 14,
    "start_time": "2022-06-04T17:08:45.237Z"
   },
   {
    "duration": 15,
    "start_time": "2022-06-04T17:13:39.655Z"
   },
   {
    "duration": 20,
    "start_time": "2022-06-04T17:29:15.830Z"
   },
   {
    "duration": 20,
    "start_time": "2022-06-04T17:34:55.037Z"
   },
   {
    "duration": 17,
    "start_time": "2022-06-04T17:42:39.006Z"
   },
   {
    "duration": 15,
    "start_time": "2022-06-04T18:00:47.899Z"
   },
   {
    "duration": 17,
    "start_time": "2022-06-04T18:00:53.199Z"
   },
   {
    "duration": 136,
    "start_time": "2022-06-04T18:01:46.547Z"
   },
   {
    "duration": 334,
    "start_time": "2022-06-04T18:03:05.645Z"
   },
   {
    "duration": 653,
    "start_time": "2022-06-04T18:03:38.144Z"
   },
   {
    "duration": 17,
    "start_time": "2022-06-04T18:04:30.602Z"
   },
   {
    "duration": 21,
    "start_time": "2022-06-04T18:04:38.668Z"
   },
   {
    "duration": 1179,
    "start_time": "2022-06-04T18:05:51.538Z"
   },
   {
    "duration": 111,
    "start_time": "2022-06-04T18:05:52.720Z"
   },
   {
    "duration": 8,
    "start_time": "2022-06-04T18:05:52.835Z"
   },
   {
    "duration": 42,
    "start_time": "2022-06-04T18:05:52.845Z"
   },
   {
    "duration": 24,
    "start_time": "2022-06-04T18:05:52.890Z"
   },
   {
    "duration": 39,
    "start_time": "2022-06-04T18:05:52.917Z"
   },
   {
    "duration": 16,
    "start_time": "2022-06-04T18:05:52.958Z"
   },
   {
    "duration": 10,
    "start_time": "2022-06-04T18:05:52.976Z"
   },
   {
    "duration": 11,
    "start_time": "2022-06-04T18:05:52.988Z"
   },
   {
    "duration": 18,
    "start_time": "2022-06-04T18:05:53.000Z"
   },
   {
    "duration": 33,
    "start_time": "2022-06-04T18:05:53.020Z"
   },
   {
    "duration": 247,
    "start_time": "2022-06-04T18:05:53.055Z"
   },
   {
    "duration": 20,
    "start_time": "2022-06-04T18:05:53.304Z"
   },
   {
    "duration": 358,
    "start_time": "2022-06-04T18:05:53.329Z"
   },
   {
    "duration": 109,
    "start_time": "2022-06-04T18:05:53.689Z"
   },
   {
    "duration": 40,
    "start_time": "2022-06-04T18:05:53.800Z"
   },
   {
    "duration": 254,
    "start_time": "2022-06-04T18:05:53.843Z"
   },
   {
    "duration": 215,
    "start_time": "2022-06-04T18:05:54.098Z"
   },
   {
    "duration": 16,
    "start_time": "2022-06-04T18:05:54.315Z"
   },
   {
    "duration": 174,
    "start_time": "2022-06-04T18:05:54.332Z"
   },
   {
    "duration": 20,
    "start_time": "2022-06-04T18:05:54.508Z"
   },
   {
    "duration": 16,
    "start_time": "2022-06-04T18:05:54.531Z"
   },
   {
    "duration": 223,
    "start_time": "2022-06-04T18:05:54.549Z"
   },
   {
    "duration": 6,
    "start_time": "2022-06-04T18:05:54.774Z"
   },
   {
    "duration": 24,
    "start_time": "2022-06-04T18:05:54.782Z"
   },
   {
    "duration": 36,
    "start_time": "2022-06-04T18:05:54.807Z"
   },
   {
    "duration": 23,
    "start_time": "2022-06-04T18:05:54.845Z"
   },
   {
    "duration": 16,
    "start_time": "2022-06-04T18:05:54.869Z"
   },
   {
    "duration": 21,
    "start_time": "2022-06-04T18:05:54.887Z"
   },
   {
    "duration": 31,
    "start_time": "2022-06-04T18:05:54.910Z"
   },
   {
    "duration": 53,
    "start_time": "2022-06-05T06:48:04.948Z"
   },
   {
    "duration": 1191,
    "start_time": "2022-06-05T06:48:19.042Z"
   },
   {
    "duration": 119,
    "start_time": "2022-06-05T06:48:20.235Z"
   },
   {
    "duration": 4,
    "start_time": "2022-06-05T06:48:20.355Z"
   },
   {
    "duration": 16,
    "start_time": "2022-06-05T06:48:20.361Z"
   },
   {
    "duration": 13,
    "start_time": "2022-06-05T06:48:20.379Z"
   },
   {
    "duration": 8,
    "start_time": "2022-06-05T06:48:20.394Z"
   },
   {
    "duration": 32,
    "start_time": "2022-06-05T06:48:20.404Z"
   },
   {
    "duration": 13,
    "start_time": "2022-06-05T06:48:20.437Z"
   },
   {
    "duration": 7,
    "start_time": "2022-06-05T06:48:20.452Z"
   },
   {
    "duration": 10,
    "start_time": "2022-06-05T06:48:20.461Z"
   },
   {
    "duration": 19,
    "start_time": "2022-06-05T06:48:20.473Z"
   },
   {
    "duration": 245,
    "start_time": "2022-06-05T06:48:20.494Z"
   },
   {
    "duration": 13,
    "start_time": "2022-06-05T06:48:20.741Z"
   },
   {
    "duration": 323,
    "start_time": "2022-06-05T06:48:20.756Z"
   },
   {
    "duration": 103,
    "start_time": "2022-06-05T06:48:21.081Z"
   },
   {
    "duration": 24,
    "start_time": "2022-06-05T06:48:21.186Z"
   },
   {
    "duration": 248,
    "start_time": "2022-06-05T06:48:21.222Z"
   },
   {
    "duration": 174,
    "start_time": "2022-06-05T06:48:21.472Z"
   },
   {
    "duration": 5,
    "start_time": "2022-06-05T06:48:21.647Z"
   },
   {
    "duration": 160,
    "start_time": "2022-06-05T06:48:21.653Z"
   },
   {
    "duration": 10,
    "start_time": "2022-06-05T06:48:21.815Z"
   },
   {
    "duration": 12,
    "start_time": "2022-06-05T06:48:21.827Z"
   },
   {
    "duration": 203,
    "start_time": "2022-06-05T06:48:21.841Z"
   },
   {
    "duration": 6,
    "start_time": "2022-06-05T06:48:22.045Z"
   },
   {
    "duration": 18,
    "start_time": "2022-06-05T06:48:22.053Z"
   },
   {
    "duration": 15,
    "start_time": "2022-06-05T06:48:22.072Z"
   },
   {
    "duration": 36,
    "start_time": "2022-06-05T06:48:22.089Z"
   },
   {
    "duration": 34,
    "start_time": "2022-06-05T06:48:22.128Z"
   },
   {
    "duration": 25,
    "start_time": "2022-06-05T06:48:22.164Z"
   },
   {
    "duration": 16,
    "start_time": "2022-06-05T06:48:22.191Z"
   },
   {
    "duration": 318,
    "start_time": "2022-06-05T06:48:22.209Z"
   },
   {
    "duration": 19050,
    "start_time": "2022-06-05T06:48:42.990Z"
   },
   {
    "duration": 125,
    "start_time": "2022-06-05T06:51:53.980Z"
   },
   {
    "duration": 7,
    "start_time": "2022-06-05T06:54:25.169Z"
   },
   {
    "duration": 20,
    "start_time": "2022-06-05T07:16:30.751Z"
   },
   {
    "duration": 24,
    "start_time": "2022-06-05T07:20:16.689Z"
   },
   {
    "duration": 28,
    "start_time": "2022-06-05T07:20:37.108Z"
   },
   {
    "duration": 23,
    "start_time": "2022-06-05T07:21:38.913Z"
   },
   {
    "duration": 407,
    "start_time": "2022-06-05T07:22:29.122Z"
   },
   {
    "duration": 26,
    "start_time": "2022-06-05T07:22:44.533Z"
   },
   {
    "duration": 24,
    "start_time": "2022-06-05T07:25:58.020Z"
   },
   {
    "duration": 19,
    "start_time": "2022-06-05T07:26:17.989Z"
   },
   {
    "duration": 12,
    "start_time": "2022-06-05T07:35:42.560Z"
   },
   {
    "duration": 10,
    "start_time": "2022-06-05T07:35:53.564Z"
   },
   {
    "duration": 10,
    "start_time": "2022-06-05T07:41:04.567Z"
   },
   {
    "duration": 12,
    "start_time": "2022-06-05T07:46:15.434Z"
   },
   {
    "duration": 1051,
    "start_time": "2022-06-05T07:46:52.553Z"
   },
   {
    "duration": 82,
    "start_time": "2022-06-05T07:46:53.606Z"
   },
   {
    "duration": 4,
    "start_time": "2022-06-05T07:46:53.690Z"
   },
   {
    "duration": 17,
    "start_time": "2022-06-05T07:46:53.696Z"
   },
   {
    "duration": 19,
    "start_time": "2022-06-05T07:46:53.714Z"
   },
   {
    "duration": 14,
    "start_time": "2022-06-05T07:46:53.734Z"
   },
   {
    "duration": 13,
    "start_time": "2022-06-05T07:46:53.750Z"
   },
   {
    "duration": 8,
    "start_time": "2022-06-05T07:46:53.765Z"
   },
   {
    "duration": 6,
    "start_time": "2022-06-05T07:46:53.774Z"
   },
   {
    "duration": 11,
    "start_time": "2022-06-05T07:46:53.782Z"
   },
   {
    "duration": 37,
    "start_time": "2022-06-05T07:46:53.795Z"
   },
   {
    "duration": 242,
    "start_time": "2022-06-05T07:46:53.835Z"
   },
   {
    "duration": 14,
    "start_time": "2022-06-05T07:46:54.078Z"
   },
   {
    "duration": 305,
    "start_time": "2022-06-05T07:46:54.094Z"
   },
   {
    "duration": 102,
    "start_time": "2022-06-05T07:46:54.401Z"
   },
   {
    "duration": 35,
    "start_time": "2022-06-05T07:46:54.504Z"
   },
   {
    "duration": 229,
    "start_time": "2022-06-05T07:46:54.541Z"
   },
   {
    "duration": 192,
    "start_time": "2022-06-05T07:46:54.771Z"
   },
   {
    "duration": 5,
    "start_time": "2022-06-05T07:46:54.965Z"
   },
   {
    "duration": 177,
    "start_time": "2022-06-05T07:46:54.971Z"
   },
   {
    "duration": 5,
    "start_time": "2022-06-05T07:46:55.149Z"
   },
   {
    "duration": 14,
    "start_time": "2022-06-05T07:46:55.156Z"
   },
   {
    "duration": 217,
    "start_time": "2022-06-05T07:46:55.173Z"
   },
   {
    "duration": 5,
    "start_time": "2022-06-05T07:46:55.392Z"
   },
   {
    "duration": 40,
    "start_time": "2022-06-05T07:46:55.398Z"
   },
   {
    "duration": 18,
    "start_time": "2022-06-05T07:46:55.440Z"
   },
   {
    "duration": 15,
    "start_time": "2022-06-05T07:46:55.459Z"
   },
   {
    "duration": 16,
    "start_time": "2022-06-05T07:46:55.476Z"
   },
   {
    "duration": 35,
    "start_time": "2022-06-05T07:46:55.494Z"
   },
   {
    "duration": 16,
    "start_time": "2022-06-05T07:46:55.531Z"
   },
   {
    "duration": 23,
    "start_time": "2022-06-05T07:46:55.548Z"
   },
   {
    "duration": 1083,
    "start_time": "2022-06-05T07:47:41.945Z"
   },
   {
    "duration": 80,
    "start_time": "2022-06-05T07:47:43.031Z"
   },
   {
    "duration": 4,
    "start_time": "2022-06-05T07:47:43.113Z"
   },
   {
    "duration": 35,
    "start_time": "2022-06-05T07:47:43.118Z"
   },
   {
    "duration": 12,
    "start_time": "2022-06-05T07:47:43.155Z"
   },
   {
    "duration": 7,
    "start_time": "2022-06-05T07:47:43.169Z"
   },
   {
    "duration": 14,
    "start_time": "2022-06-05T07:47:43.177Z"
   },
   {
    "duration": 8,
    "start_time": "2022-06-05T07:47:43.193Z"
   },
   {
    "duration": 6,
    "start_time": "2022-06-05T07:47:43.203Z"
   },
   {
    "duration": 27,
    "start_time": "2022-06-05T07:47:43.210Z"
   },
   {
    "duration": 20,
    "start_time": "2022-06-05T07:47:43.239Z"
   },
   {
    "duration": 235,
    "start_time": "2022-06-05T07:47:43.261Z"
   },
   {
    "duration": 12,
    "start_time": "2022-06-05T07:47:43.498Z"
   },
   {
    "duration": 282,
    "start_time": "2022-06-05T07:47:43.513Z"
   },
   {
    "duration": 101,
    "start_time": "2022-06-05T07:47:43.797Z"
   },
   {
    "duration": 31,
    "start_time": "2022-06-05T07:47:43.900Z"
   },
   {
    "duration": 243,
    "start_time": "2022-06-05T07:47:43.933Z"
   },
   {
    "duration": 193,
    "start_time": "2022-06-05T07:47:44.178Z"
   },
   {
    "duration": 5,
    "start_time": "2022-06-05T07:47:44.373Z"
   },
   {
    "duration": 181,
    "start_time": "2022-06-05T07:47:44.379Z"
   },
   {
    "duration": 6,
    "start_time": "2022-06-05T07:47:44.561Z"
   },
   {
    "duration": 16,
    "start_time": "2022-06-05T07:47:44.569Z"
   },
   {
    "duration": 223,
    "start_time": "2022-06-05T07:47:44.587Z"
   },
   {
    "duration": 6,
    "start_time": "2022-06-05T07:47:44.812Z"
   },
   {
    "duration": 23,
    "start_time": "2022-06-05T07:47:44.823Z"
   },
   {
    "duration": 15,
    "start_time": "2022-06-05T07:47:44.847Z"
   },
   {
    "duration": 18,
    "start_time": "2022-06-05T07:47:44.863Z"
   },
   {
    "duration": 42,
    "start_time": "2022-06-05T07:47:44.883Z"
   },
   {
    "duration": 22,
    "start_time": "2022-06-05T07:47:44.926Z"
   },
   {
    "duration": 17,
    "start_time": "2022-06-05T07:47:44.950Z"
   },
   {
    "duration": 16,
    "start_time": "2022-06-05T07:47:44.969Z"
   },
   {
    "duration": 24,
    "start_time": "2022-06-05T07:48:22.544Z"
   },
   {
    "duration": 128,
    "start_time": "2022-06-05T07:50:59.212Z"
   },
   {
    "duration": 268,
    "start_time": "2022-06-05T08:00:06.318Z"
   },
   {
    "duration": 1058,
    "start_time": "2022-06-05T08:00:29.960Z"
   },
   {
    "duration": 87,
    "start_time": "2022-06-05T08:00:31.020Z"
   },
   {
    "duration": 6,
    "start_time": "2022-06-05T08:00:31.110Z"
   },
   {
    "duration": 53,
    "start_time": "2022-06-05T08:00:31.118Z"
   },
   {
    "duration": 17,
    "start_time": "2022-06-05T08:00:31.173Z"
   },
   {
    "duration": 22,
    "start_time": "2022-06-05T08:00:31.192Z"
   },
   {
    "duration": 38,
    "start_time": "2022-06-05T08:00:31.216Z"
   },
   {
    "duration": 37,
    "start_time": "2022-06-05T08:00:31.255Z"
   },
   {
    "duration": 13,
    "start_time": "2022-06-05T08:00:31.294Z"
   },
   {
    "duration": 27,
    "start_time": "2022-06-05T08:00:31.309Z"
   },
   {
    "duration": 28,
    "start_time": "2022-06-05T08:00:31.337Z"
   },
   {
    "duration": 235,
    "start_time": "2022-06-05T08:00:31.366Z"
   },
   {
    "duration": 21,
    "start_time": "2022-06-05T08:00:31.603Z"
   },
   {
    "duration": 349,
    "start_time": "2022-06-05T08:00:31.626Z"
   },
   {
    "duration": 125,
    "start_time": "2022-06-05T08:00:31.978Z"
   },
   {
    "duration": 36,
    "start_time": "2022-06-05T08:00:32.106Z"
   },
   {
    "duration": 267,
    "start_time": "2022-06-05T08:00:32.155Z"
   },
   {
    "duration": 222,
    "start_time": "2022-06-05T08:00:32.423Z"
   },
   {
    "duration": 6,
    "start_time": "2022-06-05T08:00:32.647Z"
   },
   {
    "duration": 238,
    "start_time": "2022-06-05T08:00:32.655Z"
   },
   {
    "duration": 7,
    "start_time": "2022-06-05T08:00:32.895Z"
   },
   {
    "duration": 36,
    "start_time": "2022-06-05T08:00:32.903Z"
   },
   {
    "duration": 212,
    "start_time": "2022-06-05T08:00:32.940Z"
   },
   {
    "duration": 5,
    "start_time": "2022-06-05T08:00:33.154Z"
   },
   {
    "duration": 22,
    "start_time": "2022-06-05T08:00:33.161Z"
   },
   {
    "duration": 18,
    "start_time": "2022-06-05T08:00:33.185Z"
   },
   {
    "duration": 40,
    "start_time": "2022-06-05T08:00:33.204Z"
   },
   {
    "duration": 17,
    "start_time": "2022-06-05T08:00:33.247Z"
   },
   {
    "duration": 24,
    "start_time": "2022-06-05T08:00:33.266Z"
   },
   {
    "duration": 44,
    "start_time": "2022-06-05T08:00:33.292Z"
   },
   {
    "duration": 25,
    "start_time": "2022-06-05T08:00:33.338Z"
   },
   {
    "duration": 1100,
    "start_time": "2022-06-05T08:01:23.136Z"
   },
   {
    "duration": 79,
    "start_time": "2022-06-05T08:01:24.239Z"
   },
   {
    "duration": 11,
    "start_time": "2022-06-05T08:01:24.319Z"
   },
   {
    "duration": 34,
    "start_time": "2022-06-05T08:01:24.334Z"
   },
   {
    "duration": 14,
    "start_time": "2022-06-05T08:01:24.370Z"
   },
   {
    "duration": 6,
    "start_time": "2022-06-05T08:01:24.386Z"
   },
   {
    "duration": 14,
    "start_time": "2022-06-05T08:01:24.394Z"
   },
   {
    "duration": 10,
    "start_time": "2022-06-05T08:01:24.409Z"
   },
   {
    "duration": 18,
    "start_time": "2022-06-05T08:01:24.421Z"
   },
   {
    "duration": 16,
    "start_time": "2022-06-05T08:01:24.443Z"
   },
   {
    "duration": 21,
    "start_time": "2022-06-05T08:01:24.461Z"
   },
   {
    "duration": 249,
    "start_time": "2022-06-05T08:01:24.483Z"
   },
   {
    "duration": 16,
    "start_time": "2022-06-05T08:01:24.733Z"
   },
   {
    "duration": 293,
    "start_time": "2022-06-05T08:01:24.752Z"
   },
   {
    "duration": 106,
    "start_time": "2022-06-05T08:01:25.047Z"
   },
   {
    "duration": 22,
    "start_time": "2022-06-05T08:01:25.154Z"
   },
   {
    "duration": 233,
    "start_time": "2022-06-05T08:01:25.178Z"
   },
   {
    "duration": 180,
    "start_time": "2022-06-05T08:01:25.413Z"
   },
   {
    "duration": 4,
    "start_time": "2022-06-05T08:01:25.595Z"
   },
   {
    "duration": 170,
    "start_time": "2022-06-05T08:01:25.601Z"
   },
   {
    "duration": 5,
    "start_time": "2022-06-05T08:01:25.772Z"
   },
   {
    "duration": 12,
    "start_time": "2022-06-05T08:01:25.779Z"
   },
   {
    "duration": 221,
    "start_time": "2022-06-05T08:01:25.792Z"
   },
   {
    "duration": 16,
    "start_time": "2022-06-05T08:01:26.015Z"
   },
   {
    "duration": 35,
    "start_time": "2022-06-05T08:01:26.034Z"
   },
   {
    "duration": 18,
    "start_time": "2022-06-05T08:01:26.071Z"
   },
   {
    "duration": 15,
    "start_time": "2022-06-05T08:01:26.091Z"
   },
   {
    "duration": 29,
    "start_time": "2022-06-05T08:01:26.108Z"
   },
   {
    "duration": 21,
    "start_time": "2022-06-05T08:01:26.138Z"
   },
   {
    "duration": 19,
    "start_time": "2022-06-05T08:01:26.161Z"
   },
   {
    "duration": 16,
    "start_time": "2022-06-05T08:01:26.182Z"
   },
   {
    "duration": 24,
    "start_time": "2022-06-05T08:06:34.041Z"
   },
   {
    "duration": 20,
    "start_time": "2022-06-05T08:07:26.556Z"
   },
   {
    "duration": 1073,
    "start_time": "2022-06-05T08:09:36.335Z"
   },
   {
    "duration": 91,
    "start_time": "2022-06-05T08:09:37.412Z"
   },
   {
    "duration": 5,
    "start_time": "2022-06-05T08:09:37.508Z"
   },
   {
    "duration": 23,
    "start_time": "2022-06-05T08:09:37.516Z"
   },
   {
    "duration": 21,
    "start_time": "2022-06-05T08:09:37.541Z"
   },
   {
    "duration": 5,
    "start_time": "2022-06-05T08:09:37.564Z"
   },
   {
    "duration": 15,
    "start_time": "2022-06-05T08:09:37.570Z"
   },
   {
    "duration": 10,
    "start_time": "2022-06-05T08:09:37.586Z"
   },
   {
    "duration": 7,
    "start_time": "2022-06-05T08:09:37.598Z"
   },
   {
    "duration": 33,
    "start_time": "2022-06-05T08:09:37.606Z"
   },
   {
    "duration": 28,
    "start_time": "2022-06-05T08:09:37.641Z"
   },
   {
    "duration": 246,
    "start_time": "2022-06-05T08:09:37.671Z"
   },
   {
    "duration": 24,
    "start_time": "2022-06-05T08:09:37.920Z"
   },
   {
    "duration": 294,
    "start_time": "2022-06-05T08:09:37.945Z"
   },
   {
    "duration": 103,
    "start_time": "2022-06-05T08:09:38.241Z"
   },
   {
    "duration": 21,
    "start_time": "2022-06-05T08:09:38.345Z"
   },
   {
    "duration": 234,
    "start_time": "2022-06-05T08:09:38.367Z"
   },
   {
    "duration": 198,
    "start_time": "2022-06-05T08:09:38.603Z"
   },
   {
    "duration": 5,
    "start_time": "2022-06-05T08:09:38.803Z"
   },
   {
    "duration": 186,
    "start_time": "2022-06-05T08:09:38.809Z"
   },
   {
    "duration": 6,
    "start_time": "2022-06-05T08:09:38.997Z"
   },
   {
    "duration": 32,
    "start_time": "2022-06-05T08:09:39.005Z"
   },
   {
    "duration": 227,
    "start_time": "2022-06-05T08:09:39.038Z"
   },
   {
    "duration": 6,
    "start_time": "2022-06-05T08:09:39.267Z"
   },
   {
    "duration": 17,
    "start_time": "2022-06-05T08:09:39.275Z"
   },
   {
    "duration": 48,
    "start_time": "2022-06-05T08:09:39.294Z"
   },
   {
    "duration": 28,
    "start_time": "2022-06-05T08:09:39.343Z"
   },
   {
    "duration": 28,
    "start_time": "2022-06-05T08:09:39.373Z"
   },
   {
    "duration": 17,
    "start_time": "2022-06-05T08:09:39.403Z"
   },
   {
    "duration": 24,
    "start_time": "2022-06-05T08:09:39.422Z"
   },
   {
    "duration": 22,
    "start_time": "2022-06-05T08:09:39.448Z"
   },
   {
    "duration": 1073,
    "start_time": "2022-06-05T08:16:10.349Z"
   },
   {
    "duration": 86,
    "start_time": "2022-06-05T08:16:11.426Z"
   },
   {
    "duration": 6,
    "start_time": "2022-06-05T08:16:11.513Z"
   },
   {
    "duration": 35,
    "start_time": "2022-06-05T08:16:11.521Z"
   },
   {
    "duration": 18,
    "start_time": "2022-06-05T08:16:11.558Z"
   },
   {
    "duration": 9,
    "start_time": "2022-06-05T08:16:11.578Z"
   },
   {
    "duration": 19,
    "start_time": "2022-06-05T08:16:11.589Z"
   },
   {
    "duration": 16,
    "start_time": "2022-06-05T08:16:11.610Z"
   },
   {
    "duration": 27,
    "start_time": "2022-06-05T08:16:11.627Z"
   },
   {
    "duration": 11,
    "start_time": "2022-06-05T08:16:11.657Z"
   },
   {
    "duration": 30,
    "start_time": "2022-06-05T08:16:11.670Z"
   },
   {
    "duration": 244,
    "start_time": "2022-06-05T08:16:11.702Z"
   },
   {
    "duration": 19,
    "start_time": "2022-06-05T08:16:11.947Z"
   },
   {
    "duration": 351,
    "start_time": "2022-06-05T08:16:11.968Z"
   },
   {
    "duration": 113,
    "start_time": "2022-06-05T08:16:12.322Z"
   },
   {
    "duration": 35,
    "start_time": "2022-06-05T08:16:12.443Z"
   },
   {
    "duration": 291,
    "start_time": "2022-06-05T08:16:12.480Z"
   },
   {
    "duration": 269,
    "start_time": "2022-06-05T08:16:12.773Z"
   },
   {
    "duration": 6,
    "start_time": "2022-06-05T08:16:13.043Z"
   },
   {
    "duration": 189,
    "start_time": "2022-06-05T08:16:13.051Z"
   },
   {
    "duration": 6,
    "start_time": "2022-06-05T08:16:13.246Z"
   },
   {
    "duration": 13,
    "start_time": "2022-06-05T08:16:13.253Z"
   },
   {
    "duration": 213,
    "start_time": "2022-06-05T08:16:13.268Z"
   },
   {
    "duration": 5,
    "start_time": "2022-06-05T08:16:13.483Z"
   },
   {
    "duration": 31,
    "start_time": "2022-06-05T08:16:13.489Z"
   },
   {
    "duration": 28,
    "start_time": "2022-06-05T08:16:13.525Z"
   },
   {
    "duration": 31,
    "start_time": "2022-06-05T08:16:13.555Z"
   },
   {
    "duration": 21,
    "start_time": "2022-06-05T08:16:13.590Z"
   },
   {
    "duration": 36,
    "start_time": "2022-06-05T08:16:13.613Z"
   },
   {
    "duration": 18,
    "start_time": "2022-06-05T08:16:13.652Z"
   },
   {
    "duration": 33,
    "start_time": "2022-06-05T08:16:13.671Z"
   },
   {
    "duration": 1084,
    "start_time": "2022-06-05T08:18:09.779Z"
   },
   {
    "duration": 82,
    "start_time": "2022-06-05T08:18:10.865Z"
   },
   {
    "duration": 4,
    "start_time": "2022-06-05T08:18:10.949Z"
   },
   {
    "duration": 19,
    "start_time": "2022-06-05T08:18:10.955Z"
   },
   {
    "duration": 14,
    "start_time": "2022-06-05T08:18:10.975Z"
   },
   {
    "duration": 6,
    "start_time": "2022-06-05T08:18:10.990Z"
   },
   {
    "duration": 42,
    "start_time": "2022-06-05T08:18:10.998Z"
   },
   {
    "duration": 7,
    "start_time": "2022-06-05T08:18:11.042Z"
   },
   {
    "duration": 10,
    "start_time": "2022-06-05T08:18:11.050Z"
   },
   {
    "duration": 13,
    "start_time": "2022-06-05T08:18:11.063Z"
   },
   {
    "duration": 27,
    "start_time": "2022-06-05T08:18:11.077Z"
   },
   {
    "duration": 276,
    "start_time": "2022-06-05T08:18:11.105Z"
   },
   {
    "duration": 16,
    "start_time": "2022-06-05T08:18:11.383Z"
   },
   {
    "duration": 385,
    "start_time": "2022-06-05T08:18:11.402Z"
   },
   {
    "duration": 107,
    "start_time": "2022-06-05T08:18:11.790Z"
   },
   {
    "duration": 26,
    "start_time": "2022-06-05T08:18:11.898Z"
   },
   {
    "duration": 257,
    "start_time": "2022-06-05T08:18:11.926Z"
   },
   {
    "duration": 188,
    "start_time": "2022-06-05T08:18:12.185Z"
   },
   {
    "duration": 5,
    "start_time": "2022-06-05T08:18:12.375Z"
   },
   {
    "duration": 192,
    "start_time": "2022-06-05T08:18:12.382Z"
   },
   {
    "duration": 6,
    "start_time": "2022-06-05T08:18:12.576Z"
   },
   {
    "duration": 23,
    "start_time": "2022-06-05T08:18:12.584Z"
   },
   {
    "duration": 305,
    "start_time": "2022-06-05T08:18:12.609Z"
   },
   {
    "duration": 15,
    "start_time": "2022-06-05T08:18:12.916Z"
   },
   {
    "duration": 28,
    "start_time": "2022-06-05T08:18:12.935Z"
   },
   {
    "duration": 20,
    "start_time": "2022-06-05T08:18:12.964Z"
   },
   {
    "duration": 20,
    "start_time": "2022-06-05T08:18:12.986Z"
   },
   {
    "duration": 30,
    "start_time": "2022-06-05T08:18:13.009Z"
   },
   {
    "duration": 19,
    "start_time": "2022-06-05T08:18:13.041Z"
   },
   {
    "duration": 17,
    "start_time": "2022-06-05T08:18:13.061Z"
   },
   {
    "duration": 52,
    "start_time": "2022-06-05T08:18:13.080Z"
   },
   {
    "duration": 32,
    "start_time": "2022-06-05T08:20:08.901Z"
   },
   {
    "duration": 24,
    "start_time": "2022-06-05T08:20:23.480Z"
   },
   {
    "duration": 30,
    "start_time": "2022-06-05T08:21:56.116Z"
   },
   {
    "duration": 1069,
    "start_time": "2022-06-05T08:22:03.054Z"
   },
   {
    "duration": 81,
    "start_time": "2022-06-05T08:22:04.125Z"
   },
   {
    "duration": 4,
    "start_time": "2022-06-05T08:22:04.207Z"
   },
   {
    "duration": 27,
    "start_time": "2022-06-05T08:22:04.213Z"
   },
   {
    "duration": 17,
    "start_time": "2022-06-05T08:22:04.242Z"
   },
   {
    "duration": 7,
    "start_time": "2022-06-05T08:22:04.260Z"
   },
   {
    "duration": 17,
    "start_time": "2022-06-05T08:22:04.269Z"
   },
   {
    "duration": 8,
    "start_time": "2022-06-05T08:22:04.288Z"
   },
   {
    "duration": 8,
    "start_time": "2022-06-05T08:22:04.298Z"
   },
   {
    "duration": 35,
    "start_time": "2022-06-05T08:22:04.309Z"
   },
   {
    "duration": 23,
    "start_time": "2022-06-05T08:22:04.346Z"
   },
   {
    "duration": 273,
    "start_time": "2022-06-05T08:22:04.370Z"
   },
   {
    "duration": 15,
    "start_time": "2022-06-05T08:22:04.645Z"
   },
   {
    "duration": 294,
    "start_time": "2022-06-05T08:22:04.661Z"
   },
   {
    "duration": 100,
    "start_time": "2022-06-05T08:22:04.957Z"
   },
   {
    "duration": 24,
    "start_time": "2022-06-05T08:22:05.059Z"
   },
   {
    "duration": 246,
    "start_time": "2022-06-05T08:22:05.084Z"
   },
   {
    "duration": 194,
    "start_time": "2022-06-05T08:22:05.333Z"
   },
   {
    "duration": 8,
    "start_time": "2022-06-05T08:22:05.533Z"
   },
   {
    "duration": 174,
    "start_time": "2022-06-05T08:22:05.543Z"
   },
   {
    "duration": 10,
    "start_time": "2022-06-05T08:22:05.722Z"
   },
   {
    "duration": 20,
    "start_time": "2022-06-05T08:22:05.733Z"
   },
   {
    "duration": 216,
    "start_time": "2022-06-05T08:22:05.754Z"
   },
   {
    "duration": 7,
    "start_time": "2022-06-05T08:22:05.971Z"
   },
   {
    "duration": 31,
    "start_time": "2022-06-05T08:22:05.980Z"
   },
   {
    "duration": 39,
    "start_time": "2022-06-05T08:22:06.013Z"
   },
   {
    "duration": 19,
    "start_time": "2022-06-05T08:22:06.054Z"
   },
   {
    "duration": 19,
    "start_time": "2022-06-05T08:22:06.076Z"
   },
   {
    "duration": 21,
    "start_time": "2022-06-05T08:22:06.097Z"
   },
   {
    "duration": 21,
    "start_time": "2022-06-05T08:22:06.120Z"
   },
   {
    "duration": 26,
    "start_time": "2022-06-05T08:22:06.142Z"
   },
   {
    "duration": 1115,
    "start_time": "2022-06-05T08:24:08.595Z"
   },
   {
    "duration": 91,
    "start_time": "2022-06-05T08:24:09.712Z"
   },
   {
    "duration": 4,
    "start_time": "2022-06-05T08:24:09.805Z"
   },
   {
    "duration": 24,
    "start_time": "2022-06-05T08:24:09.810Z"
   },
   {
    "duration": 17,
    "start_time": "2022-06-05T08:24:09.837Z"
   },
   {
    "duration": 5,
    "start_time": "2022-06-05T08:24:09.855Z"
   },
   {
    "duration": 16,
    "start_time": "2022-06-05T08:24:09.861Z"
   },
   {
    "duration": 8,
    "start_time": "2022-06-05T08:24:09.879Z"
   },
   {
    "duration": 7,
    "start_time": "2022-06-05T08:24:09.889Z"
   },
   {
    "duration": 11,
    "start_time": "2022-06-05T08:24:09.897Z"
   },
   {
    "duration": 49,
    "start_time": "2022-06-05T08:24:09.910Z"
   },
   {
    "duration": 243,
    "start_time": "2022-06-05T08:24:09.961Z"
   },
   {
    "duration": 24,
    "start_time": "2022-06-05T08:24:10.206Z"
   },
   {
    "duration": 275,
    "start_time": "2022-06-05T08:24:10.236Z"
   },
   {
    "duration": 102,
    "start_time": "2022-06-05T08:24:10.513Z"
   },
   {
    "duration": 31,
    "start_time": "2022-06-05T08:24:10.617Z"
   },
   {
    "duration": 235,
    "start_time": "2022-06-05T08:24:10.650Z"
   },
   {
    "duration": 204,
    "start_time": "2022-06-05T08:24:10.887Z"
   },
   {
    "duration": 5,
    "start_time": "2022-06-05T08:24:11.093Z"
   },
   {
    "duration": 183,
    "start_time": "2022-06-05T08:24:11.100Z"
   },
   {
    "duration": 5,
    "start_time": "2022-06-05T08:24:11.284Z"
   },
   {
    "duration": 13,
    "start_time": "2022-06-05T08:24:11.290Z"
   },
   {
    "duration": 234,
    "start_time": "2022-06-05T08:24:11.305Z"
   },
   {
    "duration": 6,
    "start_time": "2022-06-05T08:24:11.541Z"
   },
   {
    "duration": 21,
    "start_time": "2022-06-05T08:24:11.548Z"
   },
   {
    "duration": 15,
    "start_time": "2022-06-05T08:24:11.570Z"
   },
   {
    "duration": 16,
    "start_time": "2022-06-05T08:24:11.586Z"
   },
   {
    "duration": 21,
    "start_time": "2022-06-05T08:24:11.623Z"
   },
   {
    "duration": 33,
    "start_time": "2022-06-05T08:24:11.646Z"
   },
   {
    "duration": 21,
    "start_time": "2022-06-05T08:24:11.681Z"
   },
   {
    "duration": 44,
    "start_time": "2022-06-05T08:24:11.704Z"
   },
   {
    "duration": 1179,
    "start_time": "2022-06-05T08:41:21.766Z"
   },
   {
    "duration": 110,
    "start_time": "2022-06-05T08:41:22.954Z"
   },
   {
    "duration": 6,
    "start_time": "2022-06-05T08:41:23.065Z"
   },
   {
    "duration": 43,
    "start_time": "2022-06-05T08:41:23.073Z"
   },
   {
    "duration": 18,
    "start_time": "2022-06-05T08:41:23.118Z"
   },
   {
    "duration": 53,
    "start_time": "2022-06-05T08:41:23.138Z"
   },
   {
    "duration": 20,
    "start_time": "2022-06-05T08:41:23.193Z"
   },
   {
    "duration": 24,
    "start_time": "2022-06-05T08:41:23.215Z"
   },
   {
    "duration": 17,
    "start_time": "2022-06-05T08:41:23.241Z"
   },
   {
    "duration": 10,
    "start_time": "2022-06-05T08:41:23.261Z"
   },
   {
    "duration": 25,
    "start_time": "2022-06-05T08:41:23.272Z"
   },
   {
    "duration": 246,
    "start_time": "2022-06-05T08:41:23.299Z"
   },
   {
    "duration": 15,
    "start_time": "2022-06-05T08:41:23.547Z"
   },
   {
    "duration": 442,
    "start_time": "2022-06-05T08:41:23.563Z"
   },
   {
    "duration": 130,
    "start_time": "2022-06-05T08:41:24.007Z"
   },
   {
    "duration": 32,
    "start_time": "2022-06-05T08:41:24.139Z"
   },
   {
    "duration": 315,
    "start_time": "2022-06-05T08:41:24.173Z"
   },
   {
    "duration": 222,
    "start_time": "2022-06-05T08:41:24.490Z"
   },
   {
    "duration": 11,
    "start_time": "2022-06-05T08:41:24.714Z"
   },
   {
    "duration": 214,
    "start_time": "2022-06-05T08:41:24.727Z"
   },
   {
    "duration": 12,
    "start_time": "2022-06-05T08:41:24.942Z"
   },
   {
    "duration": 16,
    "start_time": "2022-06-05T08:41:24.955Z"
   },
   {
    "duration": 308,
    "start_time": "2022-06-05T08:41:24.973Z"
   },
   {
    "duration": 6,
    "start_time": "2022-06-05T08:41:25.283Z"
   },
   {
    "duration": 20,
    "start_time": "2022-06-05T08:41:25.291Z"
   },
   {
    "duration": 35,
    "start_time": "2022-06-05T08:41:25.325Z"
   },
   {
    "duration": 24,
    "start_time": "2022-06-05T08:41:25.362Z"
   },
   {
    "duration": 22,
    "start_time": "2022-06-05T08:41:25.390Z"
   },
   {
    "duration": 32,
    "start_time": "2022-06-05T08:41:25.414Z"
   },
   {
    "duration": 22,
    "start_time": "2022-06-05T08:41:25.448Z"
   },
   {
    "duration": 139,
    "start_time": "2022-06-05T08:41:25.474Z"
   },
   {
    "duration": 1101,
    "start_time": "2022-06-05T08:43:23.296Z"
   },
   {
    "duration": 85,
    "start_time": "2022-06-05T08:43:24.399Z"
   },
   {
    "duration": 4,
    "start_time": "2022-06-05T08:43:24.486Z"
   },
   {
    "duration": 29,
    "start_time": "2022-06-05T08:43:24.492Z"
   },
   {
    "duration": 19,
    "start_time": "2022-06-05T08:43:24.524Z"
   },
   {
    "duration": 10,
    "start_time": "2022-06-05T08:43:24.545Z"
   },
   {
    "duration": 16,
    "start_time": "2022-06-05T08:43:24.556Z"
   },
   {
    "duration": 9,
    "start_time": "2022-06-05T08:43:24.574Z"
   },
   {
    "duration": 8,
    "start_time": "2022-06-05T08:43:24.584Z"
   },
   {
    "duration": 35,
    "start_time": "2022-06-05T08:43:24.594Z"
   },
   {
    "duration": 20,
    "start_time": "2022-06-05T08:43:24.634Z"
   },
   {
    "duration": 236,
    "start_time": "2022-06-05T08:43:24.656Z"
   },
   {
    "duration": 14,
    "start_time": "2022-06-05T08:43:24.894Z"
   },
   {
    "duration": 304,
    "start_time": "2022-06-05T08:43:24.911Z"
   },
   {
    "duration": 105,
    "start_time": "2022-06-05T08:43:25.217Z"
   },
   {
    "duration": 36,
    "start_time": "2022-06-05T08:43:25.328Z"
   },
   {
    "duration": 228,
    "start_time": "2022-06-05T08:43:25.366Z"
   },
   {
    "duration": 196,
    "start_time": "2022-06-05T08:43:25.595Z"
   },
   {
    "duration": 5,
    "start_time": "2022-06-05T08:43:25.793Z"
   },
   {
    "duration": 200,
    "start_time": "2022-06-05T08:43:25.799Z"
   },
   {
    "duration": 6,
    "start_time": "2022-06-05T08:43:26.001Z"
   },
   {
    "duration": 20,
    "start_time": "2022-06-05T08:43:26.008Z"
   },
   {
    "duration": 239,
    "start_time": "2022-06-05T08:43:26.030Z"
   },
   {
    "duration": 5,
    "start_time": "2022-06-05T08:43:26.271Z"
   },
   {
    "duration": 19,
    "start_time": "2022-06-05T08:43:26.278Z"
   },
   {
    "duration": 34,
    "start_time": "2022-06-05T08:43:26.298Z"
   },
   {
    "duration": 32,
    "start_time": "2022-06-05T08:43:26.338Z"
   },
   {
    "duration": 22,
    "start_time": "2022-06-05T08:43:26.372Z"
   },
   {
    "duration": 20,
    "start_time": "2022-06-05T08:43:26.396Z"
   },
   {
    "duration": 19,
    "start_time": "2022-06-05T08:43:26.426Z"
   },
   {
    "duration": 22,
    "start_time": "2022-06-05T08:43:26.449Z"
   },
   {
    "duration": 147,
    "start_time": "2022-06-05T10:22:15.223Z"
   },
   {
    "duration": 39,
    "start_time": "2022-06-05T10:22:29.524Z"
   },
   {
    "duration": 20,
    "start_time": "2022-06-05T10:22:37.997Z"
   },
   {
    "duration": 41,
    "start_time": "2022-06-05T10:22:42.764Z"
   },
   {
    "duration": 40,
    "start_time": "2022-06-05T10:22:54.875Z"
   },
   {
    "duration": 9,
    "start_time": "2022-06-05T10:23:35.728Z"
   },
   {
    "duration": 9,
    "start_time": "2022-06-05T10:26:58.298Z"
   },
   {
    "duration": 9,
    "start_time": "2022-06-05T10:29:54.446Z"
   },
   {
    "duration": 9,
    "start_time": "2022-06-05T10:34:28.330Z"
   },
   {
    "duration": 13,
    "start_time": "2022-06-05T10:41:11.964Z"
   },
   {
    "duration": 9,
    "start_time": "2022-06-05T10:41:27.603Z"
   },
   {
    "duration": 17,
    "start_time": "2022-06-05T10:41:31.913Z"
   },
   {
    "duration": 12,
    "start_time": "2022-06-05T10:54:05.254Z"
   },
   {
    "duration": 12,
    "start_time": "2022-06-05T10:54:11.810Z"
   },
   {
    "duration": 9,
    "start_time": "2022-06-05T10:58:08.882Z"
   },
   {
    "duration": 11,
    "start_time": "2022-06-05T11:00:01.610Z"
   },
   {
    "duration": 1116,
    "start_time": "2022-06-05T12:19:53.788Z"
   },
   {
    "duration": 86,
    "start_time": "2022-06-05T12:19:54.906Z"
   },
   {
    "duration": 6,
    "start_time": "2022-06-05T12:19:54.994Z"
   },
   {
    "duration": 44,
    "start_time": "2022-06-05T12:19:55.002Z"
   },
   {
    "duration": 19,
    "start_time": "2022-06-05T12:19:55.048Z"
   },
   {
    "duration": 19,
    "start_time": "2022-06-05T12:19:55.069Z"
   },
   {
    "duration": 14,
    "start_time": "2022-06-05T12:19:55.089Z"
   },
   {
    "duration": 7,
    "start_time": "2022-06-05T12:19:55.105Z"
   },
   {
    "duration": 18,
    "start_time": "2022-06-05T12:19:55.114Z"
   },
   {
    "duration": 14,
    "start_time": "2022-06-05T12:19:55.134Z"
   },
   {
    "duration": 25,
    "start_time": "2022-06-05T12:19:55.150Z"
   },
   {
    "duration": 238,
    "start_time": "2022-06-05T12:19:55.177Z"
   },
   {
    "duration": 19,
    "start_time": "2022-06-05T12:19:55.417Z"
   },
   {
    "duration": 336,
    "start_time": "2022-06-05T12:19:55.439Z"
   },
   {
    "duration": 105,
    "start_time": "2022-06-05T12:19:55.777Z"
   },
   {
    "duration": 24,
    "start_time": "2022-06-05T12:19:55.883Z"
   },
   {
    "duration": 254,
    "start_time": "2022-06-05T12:19:55.909Z"
   },
   {
    "duration": 184,
    "start_time": "2022-06-05T12:19:56.164Z"
   },
   {
    "duration": 5,
    "start_time": "2022-06-05T12:19:56.350Z"
   },
   {
    "duration": 181,
    "start_time": "2022-06-05T12:19:56.357Z"
   },
   {
    "duration": 5,
    "start_time": "2022-06-05T12:19:56.539Z"
   },
   {
    "duration": 18,
    "start_time": "2022-06-05T12:19:56.545Z"
   },
   {
    "duration": 215,
    "start_time": "2022-06-05T12:19:56.565Z"
   },
   {
    "duration": 6,
    "start_time": "2022-06-05T12:19:56.781Z"
   },
   {
    "duration": 21,
    "start_time": "2022-06-05T12:19:56.789Z"
   },
   {
    "duration": 17,
    "start_time": "2022-06-05T12:19:56.823Z"
   },
   {
    "duration": 19,
    "start_time": "2022-06-05T12:19:56.842Z"
   },
   {
    "duration": 20,
    "start_time": "2022-06-05T12:19:56.863Z"
   },
   {
    "duration": 38,
    "start_time": "2022-06-05T12:19:56.884Z"
   },
   {
    "duration": 17,
    "start_time": "2022-06-05T12:19:56.924Z"
   },
   {
    "duration": 24,
    "start_time": "2022-06-05T12:19:56.943Z"
   },
   {
    "duration": 12,
    "start_time": "2022-06-05T12:19:56.968Z"
   },
   {
    "duration": 11,
    "start_time": "2022-06-05T12:19:56.982Z"
   },
   {
    "duration": 1001,
    "start_time": "2022-06-05T19:55:07.097Z"
   },
   {
    "duration": 76,
    "start_time": "2022-06-05T19:55:08.100Z"
   },
   {
    "duration": 4,
    "start_time": "2022-06-05T19:55:08.177Z"
   },
   {
    "duration": 22,
    "start_time": "2022-06-05T19:55:08.182Z"
   },
   {
    "duration": 12,
    "start_time": "2022-06-05T19:55:08.206Z"
   },
   {
    "duration": 6,
    "start_time": "2022-06-05T19:55:08.219Z"
   },
   {
    "duration": 13,
    "start_time": "2022-06-05T19:55:08.226Z"
   },
   {
    "duration": 10,
    "start_time": "2022-06-05T19:55:08.240Z"
   },
   {
    "duration": 6,
    "start_time": "2022-06-05T19:55:08.251Z"
   },
   {
    "duration": 9,
    "start_time": "2022-06-05T19:55:08.258Z"
   },
   {
    "duration": 18,
    "start_time": "2022-06-05T19:55:08.269Z"
   },
   {
    "duration": 240,
    "start_time": "2022-06-05T19:55:08.309Z"
   },
   {
    "duration": 12,
    "start_time": "2022-06-05T19:55:08.551Z"
   },
   {
    "duration": 267,
    "start_time": "2022-06-05T19:55:08.566Z"
   },
   {
    "duration": 84,
    "start_time": "2022-06-05T19:55:08.835Z"
   },
   {
    "duration": 21,
    "start_time": "2022-06-05T19:55:08.921Z"
   },
   {
    "duration": 225,
    "start_time": "2022-06-05T19:55:08.944Z"
   },
   {
    "duration": 165,
    "start_time": "2022-06-05T19:55:09.171Z"
   },
   {
    "duration": 5,
    "start_time": "2022-06-05T19:55:09.338Z"
   },
   {
    "duration": 167,
    "start_time": "2022-06-05T19:55:09.344Z"
   },
   {
    "duration": 5,
    "start_time": "2022-06-05T19:55:09.512Z"
   },
   {
    "duration": 12,
    "start_time": "2022-06-05T19:55:09.519Z"
   },
   {
    "duration": 197,
    "start_time": "2022-06-05T19:55:09.532Z"
   },
   {
    "duration": 6,
    "start_time": "2022-06-05T19:55:09.730Z"
   },
   {
    "duration": 17,
    "start_time": "2022-06-05T19:55:09.737Z"
   },
   {
    "duration": 14,
    "start_time": "2022-06-05T19:55:09.755Z"
   },
   {
    "duration": 18,
    "start_time": "2022-06-05T19:55:09.770Z"
   },
   {
    "duration": 14,
    "start_time": "2022-06-05T19:55:09.809Z"
   },
   {
    "duration": 16,
    "start_time": "2022-06-05T19:55:09.824Z"
   },
   {
    "duration": 14,
    "start_time": "2022-06-05T19:55:09.842Z"
   },
   {
    "duration": 21,
    "start_time": "2022-06-05T19:55:09.857Z"
   },
   {
    "duration": 38,
    "start_time": "2022-06-05T19:55:09.879Z"
   },
   {
    "duration": 8,
    "start_time": "2022-06-05T19:55:09.918Z"
   },
   {
    "duration": 66,
    "start_time": "2022-06-05T19:59:50.476Z"
   },
   {
    "duration": 934,
    "start_time": "2022-06-05T20:00:12.759Z"
   },
   {
    "duration": 74,
    "start_time": "2022-06-05T20:00:13.695Z"
   },
   {
    "duration": 4,
    "start_time": "2022-06-05T20:00:13.770Z"
   },
   {
    "duration": 16,
    "start_time": "2022-06-05T20:00:13.776Z"
   },
   {
    "duration": 14,
    "start_time": "2022-06-05T20:00:13.794Z"
   },
   {
    "duration": 5,
    "start_time": "2022-06-05T20:00:13.810Z"
   },
   {
    "duration": 13,
    "start_time": "2022-06-05T20:00:13.816Z"
   },
   {
    "duration": 11,
    "start_time": "2022-06-05T20:00:13.831Z"
   },
   {
    "duration": 7,
    "start_time": "2022-06-05T20:00:13.843Z"
   },
   {
    "duration": 10,
    "start_time": "2022-06-05T20:00:13.852Z"
   },
   {
    "duration": 18,
    "start_time": "2022-06-05T20:00:13.864Z"
   },
   {
    "duration": 95,
    "start_time": "2022-06-05T20:00:13.883Z"
   },
   {
    "duration": 246,
    "start_time": "2022-06-05T20:00:13.980Z"
   },
   {
    "duration": 13,
    "start_time": "2022-06-05T20:00:14.229Z"
   },
   {
    "duration": 261,
    "start_time": "2022-06-05T20:00:14.244Z"
   },
   {
    "duration": 84,
    "start_time": "2022-06-05T20:00:14.506Z"
   },
   {
    "duration": 27,
    "start_time": "2022-06-05T20:00:14.592Z"
   },
   {
    "duration": 206,
    "start_time": "2022-06-05T20:00:14.620Z"
   },
   {
    "duration": 174,
    "start_time": "2022-06-05T20:00:14.828Z"
   },
   {
    "duration": 8,
    "start_time": "2022-06-05T20:00:15.004Z"
   },
   {
    "duration": 165,
    "start_time": "2022-06-05T20:00:15.013Z"
   },
   {
    "duration": 4,
    "start_time": "2022-06-05T20:00:15.180Z"
   },
   {
    "duration": 23,
    "start_time": "2022-06-05T20:00:15.186Z"
   },
   {
    "duration": 193,
    "start_time": "2022-06-05T20:00:15.211Z"
   },
   {
    "duration": 5,
    "start_time": "2022-06-05T20:00:15.408Z"
   },
   {
    "duration": 19,
    "start_time": "2022-06-05T20:00:15.414Z"
   },
   {
    "duration": 15,
    "start_time": "2022-06-05T20:00:15.434Z"
   },
   {
    "duration": 16,
    "start_time": "2022-06-05T20:00:15.451Z"
   },
   {
    "duration": 45,
    "start_time": "2022-06-05T20:00:15.468Z"
   },
   {
    "duration": 16,
    "start_time": "2022-06-05T20:00:15.514Z"
   },
   {
    "duration": 14,
    "start_time": "2022-06-05T20:00:15.531Z"
   },
   {
    "duration": 21,
    "start_time": "2022-06-05T20:00:15.546Z"
   },
   {
    "duration": 8,
    "start_time": "2022-06-05T20:00:15.569Z"
   },
   {
    "duration": 36,
    "start_time": "2022-06-05T20:00:15.578Z"
   },
   {
    "duration": 11,
    "start_time": "2022-06-05T20:38:33.014Z"
   },
   {
    "duration": 6,
    "start_time": "2022-06-05T20:40:56.624Z"
   },
   {
    "duration": 10,
    "start_time": "2022-06-05T20:43:04.648Z"
   },
   {
    "duration": 9,
    "start_time": "2022-06-05T20:43:19.860Z"
   },
   {
    "duration": 9,
    "start_time": "2022-06-05T20:43:29.085Z"
   },
   {
    "duration": 1297,
    "start_time": "2022-06-06T06:08:02.645Z"
   },
   {
    "duration": 130,
    "start_time": "2022-06-06T06:08:03.945Z"
   },
   {
    "duration": 6,
    "start_time": "2022-06-06T06:08:04.077Z"
   },
   {
    "duration": 33,
    "start_time": "2022-06-06T06:08:04.085Z"
   },
   {
    "duration": 15,
    "start_time": "2022-06-06T06:08:04.120Z"
   },
   {
    "duration": 7,
    "start_time": "2022-06-06T06:08:04.137Z"
   },
   {
    "duration": 13,
    "start_time": "2022-06-06T06:08:04.159Z"
   },
   {
    "duration": 11,
    "start_time": "2022-06-06T06:08:04.174Z"
   },
   {
    "duration": 8,
    "start_time": "2022-06-06T06:08:04.186Z"
   },
   {
    "duration": 15,
    "start_time": "2022-06-06T06:08:04.196Z"
   },
   {
    "duration": 18,
    "start_time": "2022-06-06T06:08:04.213Z"
   },
   {
    "duration": 90,
    "start_time": "2022-06-06T06:08:04.233Z"
   },
   {
    "duration": 238,
    "start_time": "2022-06-06T06:08:04.325Z"
   },
   {
    "duration": 14,
    "start_time": "2022-06-06T06:08:04.565Z"
   },
   {
    "duration": 284,
    "start_time": "2022-06-06T06:08:04.580Z"
   },
   {
    "duration": 95,
    "start_time": "2022-06-06T06:08:04.866Z"
   },
   {
    "duration": 23,
    "start_time": "2022-06-06T06:08:04.963Z"
   },
   {
    "duration": 239,
    "start_time": "2022-06-06T06:08:04.988Z"
   },
   {
    "duration": 183,
    "start_time": "2022-06-06T06:08:05.230Z"
   },
   {
    "duration": 6,
    "start_time": "2022-06-06T06:08:05.415Z"
   },
   {
    "duration": 177,
    "start_time": "2022-06-06T06:08:05.423Z"
   },
   {
    "duration": 4,
    "start_time": "2022-06-06T06:08:05.602Z"
   },
   {
    "duration": 23,
    "start_time": "2022-06-06T06:08:05.608Z"
   },
   {
    "duration": 209,
    "start_time": "2022-06-06T06:08:05.632Z"
   },
   {
    "duration": 16,
    "start_time": "2022-06-06T06:08:05.843Z"
   },
   {
    "duration": 17,
    "start_time": "2022-06-06T06:08:05.860Z"
   },
   {
    "duration": 17,
    "start_time": "2022-06-06T06:08:05.879Z"
   },
   {
    "duration": 15,
    "start_time": "2022-06-06T06:08:05.899Z"
   },
   {
    "duration": 44,
    "start_time": "2022-06-06T06:08:05.916Z"
   },
   {
    "duration": 16,
    "start_time": "2022-06-06T06:08:05.962Z"
   },
   {
    "duration": 20,
    "start_time": "2022-06-06T06:08:05.980Z"
   },
   {
    "duration": 24,
    "start_time": "2022-06-06T06:08:06.002Z"
   },
   {
    "duration": 35,
    "start_time": "2022-06-06T06:08:06.028Z"
   },
   {
    "duration": 10,
    "start_time": "2022-06-06T06:08:06.065Z"
   },
   {
    "duration": 13,
    "start_time": "2022-06-06T06:08:06.076Z"
   },
   {
    "duration": 12,
    "start_time": "2022-06-06T06:08:06.090Z"
   },
   {
    "duration": 43,
    "start_time": "2022-06-06T06:14:53.898Z"
   },
   {
    "duration": 88,
    "start_time": "2022-06-06T07:01:23.861Z"
   },
   {
    "duration": 24,
    "start_time": "2022-06-06T07:01:56.361Z"
   },
   {
    "duration": 1061,
    "start_time": "2022-06-06T07:02:15.489Z"
   },
   {
    "duration": 78,
    "start_time": "2022-06-06T07:02:16.552Z"
   },
   {
    "duration": 5,
    "start_time": "2022-06-06T07:02:16.632Z"
   },
   {
    "duration": 40,
    "start_time": "2022-06-06T07:02:16.638Z"
   },
   {
    "duration": 24,
    "start_time": "2022-06-06T07:02:16.680Z"
   },
   {
    "duration": 21,
    "start_time": "2022-06-06T07:02:16.706Z"
   },
   {
    "duration": 8,
    "start_time": "2022-06-06T07:02:16.728Z"
   },
   {
    "duration": 34,
    "start_time": "2022-06-06T07:02:16.738Z"
   },
   {
    "duration": 10,
    "start_time": "2022-06-06T07:02:16.774Z"
   },
   {
    "duration": 12,
    "start_time": "2022-06-06T07:02:16.786Z"
   },
   {
    "duration": 36,
    "start_time": "2022-06-06T07:02:16.799Z"
   },
   {
    "duration": 24,
    "start_time": "2022-06-06T07:02:16.837Z"
   },
   {
    "duration": 73,
    "start_time": "2022-06-06T07:02:16.862Z"
   },
   {
    "duration": 252,
    "start_time": "2022-06-06T07:02:16.958Z"
   },
   {
    "duration": 17,
    "start_time": "2022-06-06T07:02:17.212Z"
   },
   {
    "duration": 313,
    "start_time": "2022-06-06T07:02:17.231Z"
   },
   {
    "duration": 97,
    "start_time": "2022-06-06T07:02:17.546Z"
   },
   {
    "duration": 31,
    "start_time": "2022-06-06T07:02:17.645Z"
   },
   {
    "duration": 227,
    "start_time": "2022-06-06T07:02:17.678Z"
   },
   {
    "duration": 184,
    "start_time": "2022-06-06T07:02:17.908Z"
   },
   {
    "duration": 6,
    "start_time": "2022-06-06T07:02:18.094Z"
   },
   {
    "duration": 172,
    "start_time": "2022-06-06T07:02:18.101Z"
   },
   {
    "duration": 5,
    "start_time": "2022-06-06T07:02:18.275Z"
   },
   {
    "duration": 14,
    "start_time": "2022-06-06T07:02:18.281Z"
   },
   {
    "duration": 212,
    "start_time": "2022-06-06T07:02:18.296Z"
   },
   {
    "duration": 6,
    "start_time": "2022-06-06T07:02:18.510Z"
   },
   {
    "duration": 18,
    "start_time": "2022-06-06T07:02:18.518Z"
   },
   {
    "duration": 37,
    "start_time": "2022-06-06T07:02:18.537Z"
   },
   {
    "duration": 18,
    "start_time": "2022-06-06T07:02:18.575Z"
   },
   {
    "duration": 15,
    "start_time": "2022-06-06T07:02:18.595Z"
   },
   {
    "duration": 16,
    "start_time": "2022-06-06T07:02:18.612Z"
   },
   {
    "duration": 17,
    "start_time": "2022-06-06T07:02:18.658Z"
   },
   {
    "duration": 24,
    "start_time": "2022-06-06T07:02:18.677Z"
   },
   {
    "duration": 11,
    "start_time": "2022-06-06T07:02:18.703Z"
   },
   {
    "duration": 43,
    "start_time": "2022-06-06T07:02:18.716Z"
   },
   {
    "duration": 11,
    "start_time": "2022-06-06T07:02:18.761Z"
   },
   {
    "duration": 12,
    "start_time": "2022-06-06T07:02:18.773Z"
   },
   {
    "duration": 124,
    "start_time": "2022-06-06T07:10:07.324Z"
   },
   {
    "duration": 24,
    "start_time": "2022-06-06T07:14:02.621Z"
   },
   {
    "duration": 25,
    "start_time": "2022-06-06T07:14:38.464Z"
   },
   {
    "duration": 23,
    "start_time": "2022-06-06T07:14:55.399Z"
   },
   {
    "duration": 23,
    "start_time": "2022-06-06T07:15:15.971Z"
   },
   {
    "duration": 18,
    "start_time": "2022-06-06T07:26:36.348Z"
   },
   {
    "duration": 18,
    "start_time": "2022-06-06T07:27:04.936Z"
   },
   {
    "duration": 18,
    "start_time": "2022-06-06T07:27:21.113Z"
   },
   {
    "duration": 18,
    "start_time": "2022-06-06T07:27:35.736Z"
   },
   {
    "duration": 17,
    "start_time": "2022-06-06T07:27:40.623Z"
   },
   {
    "duration": 17,
    "start_time": "2022-06-06T07:27:45.385Z"
   },
   {
    "duration": 18,
    "start_time": "2022-06-06T07:27:49.933Z"
   },
   {
    "duration": 17,
    "start_time": "2022-06-06T07:28:16.025Z"
   },
   {
    "duration": 17,
    "start_time": "2022-06-06T07:28:23.248Z"
   },
   {
    "duration": 19,
    "start_time": "2022-06-06T07:29:02.671Z"
   },
   {
    "duration": 18,
    "start_time": "2022-06-06T07:29:18.530Z"
   },
   {
    "duration": 28,
    "start_time": "2022-06-06T07:29:26.010Z"
   },
   {
    "duration": 19,
    "start_time": "2022-06-06T07:29:29.455Z"
   },
   {
    "duration": 21,
    "start_time": "2022-06-06T07:29:34.296Z"
   },
   {
    "duration": 24,
    "start_time": "2022-06-06T07:29:37.229Z"
   },
   {
    "duration": 17,
    "start_time": "2022-06-06T07:40:01.388Z"
   },
   {
    "duration": 20,
    "start_time": "2022-06-06T07:40:12.110Z"
   },
   {
    "duration": 6,
    "start_time": "2022-06-06T07:41:39.909Z"
   },
   {
    "duration": 241,
    "start_time": "2022-06-06T07:42:17.388Z"
   },
   {
    "duration": 292,
    "start_time": "2022-06-06T07:44:01.565Z"
   },
   {
    "duration": 1041,
    "start_time": "2022-06-06T07:44:06.710Z"
   },
   {
    "duration": 82,
    "start_time": "2022-06-06T07:44:07.753Z"
   },
   {
    "duration": 5,
    "start_time": "2022-06-06T07:44:07.836Z"
   },
   {
    "duration": 18,
    "start_time": "2022-06-06T07:44:07.842Z"
   },
   {
    "duration": 22,
    "start_time": "2022-06-06T07:44:07.861Z"
   },
   {
    "duration": 6,
    "start_time": "2022-06-06T07:44:07.885Z"
   },
   {
    "duration": 21,
    "start_time": "2022-06-06T07:44:07.892Z"
   },
   {
    "duration": 6,
    "start_time": "2022-06-06T07:44:07.915Z"
   },
   {
    "duration": 45,
    "start_time": "2022-06-06T07:44:07.923Z"
   },
   {
    "duration": 10,
    "start_time": "2022-06-06T07:44:07.970Z"
   },
   {
    "duration": 9,
    "start_time": "2022-06-06T07:44:07.982Z"
   },
   {
    "duration": 12,
    "start_time": "2022-06-06T07:44:07.993Z"
   },
   {
    "duration": 21,
    "start_time": "2022-06-06T07:44:08.007Z"
   },
   {
    "duration": 86,
    "start_time": "2022-06-06T07:44:08.029Z"
   },
   {
    "duration": 237,
    "start_time": "2022-06-06T07:44:08.117Z"
   },
   {
    "duration": 13,
    "start_time": "2022-06-06T07:44:08.356Z"
   },
   {
    "duration": 289,
    "start_time": "2022-06-06T07:44:08.371Z"
   },
   {
    "duration": 109,
    "start_time": "2022-06-06T07:44:08.662Z"
   },
   {
    "duration": 23,
    "start_time": "2022-06-06T07:44:08.773Z"
   },
   {
    "duration": 243,
    "start_time": "2022-06-06T07:44:08.797Z"
   },
   {
    "duration": 189,
    "start_time": "2022-06-06T07:44:09.042Z"
   },
   {
    "duration": 5,
    "start_time": "2022-06-06T07:44:09.232Z"
   },
   {
    "duration": 170,
    "start_time": "2022-06-06T07:44:09.238Z"
   },
   {
    "duration": 5,
    "start_time": "2022-06-06T07:44:09.411Z"
   },
   {
    "duration": 15,
    "start_time": "2022-06-06T07:44:09.418Z"
   },
   {
    "duration": 210,
    "start_time": "2022-06-06T07:44:09.435Z"
   },
   {
    "duration": 5,
    "start_time": "2022-06-06T07:44:09.646Z"
   },
   {
    "duration": 16,
    "start_time": "2022-06-06T07:44:09.661Z"
   },
   {
    "duration": 15,
    "start_time": "2022-06-06T07:44:09.678Z"
   },
   {
    "duration": 15,
    "start_time": "2022-06-06T07:44:09.695Z"
   },
   {
    "duration": 25,
    "start_time": "2022-06-06T07:44:09.711Z"
   },
   {
    "duration": 15,
    "start_time": "2022-06-06T07:44:09.759Z"
   },
   {
    "duration": 15,
    "start_time": "2022-06-06T07:44:09.776Z"
   },
   {
    "duration": 46,
    "start_time": "2022-06-06T07:44:09.793Z"
   },
   {
    "duration": 28,
    "start_time": "2022-06-06T07:44:09.841Z"
   },
   {
    "duration": 40,
    "start_time": "2022-06-06T07:44:09.870Z"
   },
   {
    "duration": 27,
    "start_time": "2022-06-06T07:44:09.912Z"
   },
   {
    "duration": 31,
    "start_time": "2022-06-06T07:44:09.940Z"
   },
   {
    "duration": 110,
    "start_time": "2022-06-06T07:44:55.312Z"
   },
   {
    "duration": 10,
    "start_time": "2022-06-06T07:45:08.576Z"
   },
   {
    "duration": 8,
    "start_time": "2022-06-06T07:46:38.895Z"
   },
   {
    "duration": 1122,
    "start_time": "2022-06-06T07:46:46.050Z"
   },
   {
    "duration": 94,
    "start_time": "2022-06-06T07:46:47.174Z"
   },
   {
    "duration": 5,
    "start_time": "2022-06-06T07:46:47.271Z"
   },
   {
    "duration": 26,
    "start_time": "2022-06-06T07:46:47.279Z"
   },
   {
    "duration": 30,
    "start_time": "2022-06-06T07:46:47.307Z"
   },
   {
    "duration": 28,
    "start_time": "2022-06-06T07:46:47.339Z"
   },
   {
    "duration": 34,
    "start_time": "2022-06-06T07:46:47.369Z"
   },
   {
    "duration": 18,
    "start_time": "2022-06-06T07:46:47.406Z"
   },
   {
    "duration": 19,
    "start_time": "2022-06-06T07:46:47.426Z"
   },
   {
    "duration": 22,
    "start_time": "2022-06-06T07:46:47.449Z"
   },
   {
    "duration": 12,
    "start_time": "2022-06-06T07:46:47.472Z"
   },
   {
    "duration": 13,
    "start_time": "2022-06-06T07:46:47.486Z"
   },
   {
    "duration": 25,
    "start_time": "2022-06-06T07:46:47.501Z"
   },
   {
    "duration": 76,
    "start_time": "2022-06-06T07:46:47.528Z"
   },
   {
    "duration": 244,
    "start_time": "2022-06-06T07:46:47.606Z"
   },
   {
    "duration": 18,
    "start_time": "2022-06-06T07:46:47.851Z"
   },
   {
    "duration": 274,
    "start_time": "2022-06-06T07:46:47.870Z"
   },
   {
    "duration": 103,
    "start_time": "2022-06-06T07:46:48.146Z"
   },
   {
    "duration": 26,
    "start_time": "2022-06-06T07:46:48.251Z"
   },
   {
    "duration": 245,
    "start_time": "2022-06-06T07:46:48.279Z"
   },
   {
    "duration": 192,
    "start_time": "2022-06-06T07:46:48.526Z"
   },
   {
    "duration": 6,
    "start_time": "2022-06-06T07:46:48.719Z"
   },
   {
    "duration": 172,
    "start_time": "2022-06-06T07:46:48.726Z"
   },
   {
    "duration": 5,
    "start_time": "2022-06-06T07:46:48.899Z"
   },
   {
    "duration": 14,
    "start_time": "2022-06-06T07:46:48.905Z"
   },
   {
    "duration": 217,
    "start_time": "2022-06-06T07:46:48.921Z"
   },
   {
    "duration": 6,
    "start_time": "2022-06-06T07:46:49.139Z"
   },
   {
    "duration": 25,
    "start_time": "2022-06-06T07:46:49.147Z"
   },
   {
    "duration": 16,
    "start_time": "2022-06-06T07:46:49.173Z"
   },
   {
    "duration": 16,
    "start_time": "2022-06-06T07:46:49.191Z"
   },
   {
    "duration": 16,
    "start_time": "2022-06-06T07:46:49.208Z"
   },
   {
    "duration": 40,
    "start_time": "2022-06-06T07:46:49.225Z"
   },
   {
    "duration": 15,
    "start_time": "2022-06-06T07:46:49.267Z"
   },
   {
    "duration": 24,
    "start_time": "2022-06-06T07:46:49.283Z"
   },
   {
    "duration": 11,
    "start_time": "2022-06-06T07:46:49.308Z"
   },
   {
    "duration": 9,
    "start_time": "2022-06-06T07:46:49.320Z"
   },
   {
    "duration": 9,
    "start_time": "2022-06-06T07:46:49.358Z"
   },
   {
    "duration": 11,
    "start_time": "2022-06-06T07:46:49.369Z"
   },
   {
    "duration": 1079,
    "start_time": "2022-06-06T07:48:33.267Z"
   },
   {
    "duration": 80,
    "start_time": "2022-06-06T07:48:34.348Z"
   },
   {
    "duration": 5,
    "start_time": "2022-06-06T07:48:34.430Z"
   },
   {
    "duration": 26,
    "start_time": "2022-06-06T07:48:34.436Z"
   },
   {
    "duration": 20,
    "start_time": "2022-06-06T07:48:34.463Z"
   },
   {
    "duration": 10,
    "start_time": "2022-06-06T07:48:34.485Z"
   },
   {
    "duration": 12,
    "start_time": "2022-06-06T07:48:34.497Z"
   },
   {
    "duration": 9,
    "start_time": "2022-06-06T07:48:34.510Z"
   },
   {
    "duration": 39,
    "start_time": "2022-06-06T07:48:34.521Z"
   },
   {
    "duration": 8,
    "start_time": "2022-06-06T07:48:34.563Z"
   },
   {
    "duration": 8,
    "start_time": "2022-06-06T07:48:34.573Z"
   },
   {
    "duration": 11,
    "start_time": "2022-06-06T07:48:34.583Z"
   },
   {
    "duration": 16,
    "start_time": "2022-06-06T07:48:34.596Z"
   },
   {
    "duration": 93,
    "start_time": "2022-06-06T07:48:34.613Z"
   },
   {
    "duration": 239,
    "start_time": "2022-06-06T07:48:34.708Z"
   },
   {
    "duration": 17,
    "start_time": "2022-06-06T07:48:34.949Z"
   },
   {
    "duration": 289,
    "start_time": "2022-06-06T07:48:34.967Z"
   },
   {
    "duration": 101,
    "start_time": "2022-06-06T07:48:35.258Z"
   },
   {
    "duration": 22,
    "start_time": "2022-06-06T07:48:35.361Z"
   },
   {
    "duration": 242,
    "start_time": "2022-06-06T07:48:35.385Z"
   },
   {
    "duration": 179,
    "start_time": "2022-06-06T07:48:35.629Z"
   },
   {
    "duration": 5,
    "start_time": "2022-06-06T07:48:35.809Z"
   },
   {
    "duration": 178,
    "start_time": "2022-06-06T07:48:35.815Z"
   },
   {
    "duration": 6,
    "start_time": "2022-06-06T07:48:35.995Z"
   },
   {
    "duration": 15,
    "start_time": "2022-06-06T07:48:36.002Z"
   },
   {
    "duration": 232,
    "start_time": "2022-06-06T07:48:36.018Z"
   },
   {
    "duration": 11,
    "start_time": "2022-06-06T07:48:36.251Z"
   },
   {
    "duration": 16,
    "start_time": "2022-06-06T07:48:36.265Z"
   },
   {
    "duration": 16,
    "start_time": "2022-06-06T07:48:36.283Z"
   },
   {
    "duration": 14,
    "start_time": "2022-06-06T07:48:36.300Z"
   },
   {
    "duration": 43,
    "start_time": "2022-06-06T07:48:36.316Z"
   },
   {
    "duration": 19,
    "start_time": "2022-06-06T07:48:36.360Z"
   },
   {
    "duration": 24,
    "start_time": "2022-06-06T07:48:36.381Z"
   },
   {
    "duration": 24,
    "start_time": "2022-06-06T07:48:36.407Z"
   },
   {
    "duration": 31,
    "start_time": "2022-06-06T07:48:36.433Z"
   },
   {
    "duration": 10,
    "start_time": "2022-06-06T07:48:36.466Z"
   },
   {
    "duration": 12,
    "start_time": "2022-06-06T07:48:36.478Z"
   },
   {
    "duration": 13,
    "start_time": "2022-06-06T07:48:36.492Z"
   },
   {
    "duration": 11,
    "start_time": "2022-06-06T07:48:51.667Z"
   },
   {
    "duration": 13,
    "start_time": "2022-06-06T08:02:58.525Z"
   },
   {
    "duration": 9,
    "start_time": "2022-06-06T08:10:18.515Z"
   },
   {
    "duration": 6,
    "start_time": "2022-06-06T08:13:14.792Z"
   },
   {
    "duration": 17,
    "start_time": "2022-06-06T08:36:55.105Z"
   },
   {
    "duration": 18,
    "start_time": "2022-06-06T08:38:33.333Z"
   },
   {
    "duration": 7,
    "start_time": "2022-06-06T10:12:54.049Z"
   },
   {
    "duration": 19,
    "start_time": "2022-06-06T10:13:05.291Z"
   },
   {
    "duration": 9,
    "start_time": "2022-06-06T10:13:21.999Z"
   },
   {
    "duration": 1105,
    "start_time": "2022-06-06T10:13:59.763Z"
   },
   {
    "duration": 81,
    "start_time": "2022-06-06T10:14:00.870Z"
   },
   {
    "duration": 5,
    "start_time": "2022-06-06T10:14:00.953Z"
   },
   {
    "duration": 35,
    "start_time": "2022-06-06T10:14:00.960Z"
   },
   {
    "duration": 26,
    "start_time": "2022-06-06T10:14:00.997Z"
   },
   {
    "duration": 10,
    "start_time": "2022-06-06T10:14:01.025Z"
   },
   {
    "duration": 24,
    "start_time": "2022-06-06T10:14:01.037Z"
   },
   {
    "duration": 8,
    "start_time": "2022-06-06T10:14:01.063Z"
   },
   {
    "duration": 19,
    "start_time": "2022-06-06T10:14:01.073Z"
   },
   {
    "duration": 7,
    "start_time": "2022-06-06T10:14:01.095Z"
   },
   {
    "duration": 17,
    "start_time": "2022-06-06T10:14:01.104Z"
   },
   {
    "duration": 19,
    "start_time": "2022-06-06T10:14:01.123Z"
   },
   {
    "duration": 21,
    "start_time": "2022-06-06T10:14:01.143Z"
   },
   {
    "duration": 21,
    "start_time": "2022-06-06T10:14:01.166Z"
   },
   {
    "duration": 214,
    "start_time": "2022-06-06T10:14:01.189Z"
   },
   {
    "duration": 0,
    "start_time": "2022-06-06T10:14:01.405Z"
   },
   {
    "duration": 0,
    "start_time": "2022-06-06T10:14:01.407Z"
   },
   {
    "duration": 0,
    "start_time": "2022-06-06T10:14:01.408Z"
   },
   {
    "duration": 0,
    "start_time": "2022-06-06T10:14:01.410Z"
   },
   {
    "duration": 0,
    "start_time": "2022-06-06T10:14:01.411Z"
   },
   {
    "duration": 0,
    "start_time": "2022-06-06T10:14:01.412Z"
   },
   {
    "duration": 0,
    "start_time": "2022-06-06T10:14:01.413Z"
   },
   {
    "duration": 0,
    "start_time": "2022-06-06T10:14:01.414Z"
   },
   {
    "duration": 0,
    "start_time": "2022-06-06T10:14:01.415Z"
   },
   {
    "duration": 0,
    "start_time": "2022-06-06T10:14:01.416Z"
   },
   {
    "duration": 0,
    "start_time": "2022-06-06T10:14:01.418Z"
   },
   {
    "duration": 0,
    "start_time": "2022-06-06T10:14:01.419Z"
   },
   {
    "duration": 0,
    "start_time": "2022-06-06T10:14:01.420Z"
   },
   {
    "duration": 0,
    "start_time": "2022-06-06T10:14:01.422Z"
   },
   {
    "duration": 0,
    "start_time": "2022-06-06T10:14:01.424Z"
   },
   {
    "duration": 0,
    "start_time": "2022-06-06T10:14:01.425Z"
   },
   {
    "duration": 0,
    "start_time": "2022-06-06T10:14:01.426Z"
   },
   {
    "duration": 0,
    "start_time": "2022-06-06T10:14:01.460Z"
   },
   {
    "duration": 0,
    "start_time": "2022-06-06T10:14:01.461Z"
   },
   {
    "duration": 0,
    "start_time": "2022-06-06T10:14:01.463Z"
   },
   {
    "duration": 0,
    "start_time": "2022-06-06T10:14:01.465Z"
   },
   {
    "duration": 0,
    "start_time": "2022-06-06T10:14:01.466Z"
   },
   {
    "duration": 1,
    "start_time": "2022-06-06T10:14:01.467Z"
   },
   {
    "duration": 0,
    "start_time": "2022-06-06T10:14:01.469Z"
   },
   {
    "duration": 11,
    "start_time": "2022-06-06T10:17:37.989Z"
   },
   {
    "duration": 8,
    "start_time": "2022-06-06T10:17:44.218Z"
   },
   {
    "duration": 10,
    "start_time": "2022-06-06T10:18:04.348Z"
   },
   {
    "duration": 1090,
    "start_time": "2022-06-06T10:18:15.770Z"
   },
   {
    "duration": 80,
    "start_time": "2022-06-06T10:18:16.862Z"
   },
   {
    "duration": 4,
    "start_time": "2022-06-06T10:18:16.944Z"
   },
   {
    "duration": 26,
    "start_time": "2022-06-06T10:18:16.950Z"
   },
   {
    "duration": 20,
    "start_time": "2022-06-06T10:18:16.978Z"
   },
   {
    "duration": 12,
    "start_time": "2022-06-06T10:18:16.999Z"
   },
   {
    "duration": 9,
    "start_time": "2022-06-06T10:18:17.013Z"
   },
   {
    "duration": 9,
    "start_time": "2022-06-06T10:18:17.024Z"
   },
   {
    "duration": 32,
    "start_time": "2022-06-06T10:18:17.034Z"
   },
   {
    "duration": 17,
    "start_time": "2022-06-06T10:18:17.069Z"
   },
   {
    "duration": 11,
    "start_time": "2022-06-06T10:18:17.089Z"
   },
   {
    "duration": 15,
    "start_time": "2022-06-06T10:18:17.102Z"
   },
   {
    "duration": 49,
    "start_time": "2022-06-06T10:18:17.119Z"
   },
   {
    "duration": 129,
    "start_time": "2022-06-06T10:18:17.171Z"
   },
   {
    "duration": 316,
    "start_time": "2022-06-06T10:18:17.303Z"
   },
   {
    "duration": 16,
    "start_time": "2022-06-06T10:18:17.621Z"
   },
   {
    "duration": 289,
    "start_time": "2022-06-06T10:18:17.639Z"
   },
   {
    "duration": 101,
    "start_time": "2022-06-06T10:18:17.930Z"
   },
   {
    "duration": 36,
    "start_time": "2022-06-06T10:18:18.033Z"
   },
   {
    "duration": 244,
    "start_time": "2022-06-06T10:18:18.071Z"
   },
   {
    "duration": 191,
    "start_time": "2022-06-06T10:18:18.317Z"
   },
   {
    "duration": 5,
    "start_time": "2022-06-06T10:18:18.510Z"
   },
   {
    "duration": 192,
    "start_time": "2022-06-06T10:18:18.517Z"
   },
   {
    "duration": 5,
    "start_time": "2022-06-06T10:18:18.711Z"
   },
   {
    "duration": 31,
    "start_time": "2022-06-06T10:18:18.717Z"
   },
   {
    "duration": 220,
    "start_time": "2022-06-06T10:18:18.751Z"
   },
   {
    "duration": 6,
    "start_time": "2022-06-06T10:18:18.973Z"
   },
   {
    "duration": 29,
    "start_time": "2022-06-06T10:18:18.983Z"
   },
   {
    "duration": 30,
    "start_time": "2022-06-06T10:18:19.014Z"
   },
   {
    "duration": 47,
    "start_time": "2022-06-06T10:18:19.046Z"
   },
   {
    "duration": 62,
    "start_time": "2022-06-06T10:18:19.095Z"
   },
   {
    "duration": 58,
    "start_time": "2022-06-06T10:18:19.159Z"
   },
   {
    "duration": 42,
    "start_time": "2022-06-06T10:18:19.219Z"
   },
   {
    "duration": 40,
    "start_time": "2022-06-06T10:18:19.263Z"
   },
   {
    "duration": 29,
    "start_time": "2022-06-06T10:18:19.305Z"
   },
   {
    "duration": 25,
    "start_time": "2022-06-06T10:18:19.335Z"
   },
   {
    "duration": 29,
    "start_time": "2022-06-06T10:18:19.362Z"
   },
   {
    "duration": 34,
    "start_time": "2022-06-06T10:18:19.392Z"
   },
   {
    "duration": 1108,
    "start_time": "2022-06-06T10:21:38.738Z"
   },
   {
    "duration": 81,
    "start_time": "2022-06-06T10:21:39.848Z"
   },
   {
    "duration": 6,
    "start_time": "2022-06-06T10:21:39.932Z"
   },
   {
    "duration": 50,
    "start_time": "2022-06-06T10:21:39.941Z"
   },
   {
    "duration": 28,
    "start_time": "2022-06-06T10:21:39.993Z"
   },
   {
    "duration": 11,
    "start_time": "2022-06-06T10:21:40.023Z"
   },
   {
    "duration": 33,
    "start_time": "2022-06-06T10:21:40.036Z"
   },
   {
    "duration": 16,
    "start_time": "2022-06-06T10:21:40.071Z"
   },
   {
    "duration": 42,
    "start_time": "2022-06-06T10:21:40.089Z"
   },
   {
    "duration": 33,
    "start_time": "2022-06-06T10:21:40.134Z"
   },
   {
    "duration": 24,
    "start_time": "2022-06-06T10:21:40.169Z"
   },
   {
    "duration": 23,
    "start_time": "2022-06-06T10:21:40.195Z"
   },
   {
    "duration": 25,
    "start_time": "2022-06-06T10:21:40.220Z"
   },
   {
    "duration": 93,
    "start_time": "2022-06-06T10:21:40.248Z"
   },
   {
    "duration": 252,
    "start_time": "2022-06-06T10:21:40.343Z"
   },
   {
    "duration": 13,
    "start_time": "2022-06-06T10:21:40.597Z"
   },
   {
    "duration": 312,
    "start_time": "2022-06-06T10:21:40.612Z"
   },
   {
    "duration": 99,
    "start_time": "2022-06-06T10:21:40.926Z"
   },
   {
    "duration": 33,
    "start_time": "2022-06-06T10:21:41.027Z"
   },
   {
    "duration": 274,
    "start_time": "2022-06-06T10:21:41.062Z"
   },
   {
    "duration": 203,
    "start_time": "2022-06-06T10:21:41.338Z"
   },
   {
    "duration": 6,
    "start_time": "2022-06-06T10:21:41.543Z"
   },
   {
    "duration": 192,
    "start_time": "2022-06-06T10:21:41.550Z"
   },
   {
    "duration": 6,
    "start_time": "2022-06-06T10:21:41.744Z"
   },
   {
    "duration": 11,
    "start_time": "2022-06-06T10:21:41.759Z"
   },
   {
    "duration": 234,
    "start_time": "2022-06-06T10:21:41.772Z"
   },
   {
    "duration": 6,
    "start_time": "2022-06-06T10:21:42.008Z"
   },
   {
    "duration": 40,
    "start_time": "2022-06-06T10:21:42.018Z"
   },
   {
    "duration": 23,
    "start_time": "2022-06-06T10:21:42.060Z"
   },
   {
    "duration": 21,
    "start_time": "2022-06-06T10:21:42.085Z"
   },
   {
    "duration": 23,
    "start_time": "2022-06-06T10:21:42.108Z"
   },
   {
    "duration": 41,
    "start_time": "2022-06-06T10:21:42.133Z"
   },
   {
    "duration": 20,
    "start_time": "2022-06-06T10:21:42.176Z"
   },
   {
    "duration": 35,
    "start_time": "2022-06-06T10:21:42.199Z"
   },
   {
    "duration": 31,
    "start_time": "2022-06-06T10:21:42.236Z"
   },
   {
    "duration": 14,
    "start_time": "2022-06-06T10:21:42.269Z"
   },
   {
    "duration": 16,
    "start_time": "2022-06-06T10:21:42.285Z"
   },
   {
    "duration": 12,
    "start_time": "2022-06-06T10:21:42.303Z"
   },
   {
    "duration": 1085,
    "start_time": "2022-06-06T11:17:58.381Z"
   },
   {
    "duration": 80,
    "start_time": "2022-06-06T11:17:59.468Z"
   },
   {
    "duration": 5,
    "start_time": "2022-06-06T11:17:59.552Z"
   },
   {
    "duration": 26,
    "start_time": "2022-06-06T11:17:59.566Z"
   },
   {
    "duration": 19,
    "start_time": "2022-06-06T11:17:59.593Z"
   },
   {
    "duration": 10,
    "start_time": "2022-06-06T11:17:59.614Z"
   },
   {
    "duration": 10,
    "start_time": "2022-06-06T11:17:59.626Z"
   },
   {
    "duration": 44,
    "start_time": "2022-06-06T11:17:59.638Z"
   },
   {
    "duration": 9,
    "start_time": "2022-06-06T11:17:59.685Z"
   },
   {
    "duration": 6,
    "start_time": "2022-06-06T11:17:59.696Z"
   },
   {
    "duration": 11,
    "start_time": "2022-06-06T11:17:59.704Z"
   },
   {
    "duration": 22,
    "start_time": "2022-06-06T11:17:59.717Z"
   },
   {
    "duration": 83,
    "start_time": "2022-06-06T11:17:59.742Z"
   },
   {
    "duration": 254,
    "start_time": "2022-06-06T11:17:59.827Z"
   },
   {
    "duration": 14,
    "start_time": "2022-06-06T11:18:00.083Z"
   },
   {
    "duration": 287,
    "start_time": "2022-06-06T11:18:00.099Z"
   },
   {
    "duration": 102,
    "start_time": "2022-06-06T11:18:00.388Z"
   },
   {
    "duration": 22,
    "start_time": "2022-06-06T11:18:00.491Z"
   },
   {
    "duration": 270,
    "start_time": "2022-06-06T11:18:00.515Z"
   },
   {
    "duration": 198,
    "start_time": "2022-06-06T11:18:00.787Z"
   },
   {
    "duration": 6,
    "start_time": "2022-06-06T11:18:00.987Z"
   },
   {
    "duration": 193,
    "start_time": "2022-06-06T11:18:00.995Z"
   },
   {
    "duration": 5,
    "start_time": "2022-06-06T11:18:01.190Z"
   },
   {
    "duration": 22,
    "start_time": "2022-06-06T11:18:01.196Z"
   },
   {
    "duration": 229,
    "start_time": "2022-06-06T11:18:01.220Z"
   },
   {
    "duration": 20,
    "start_time": "2022-06-06T11:18:01.451Z"
   },
   {
    "duration": 21,
    "start_time": "2022-06-06T11:18:01.474Z"
   },
   {
    "duration": 36,
    "start_time": "2022-06-06T11:18:01.497Z"
   },
   {
    "duration": 34,
    "start_time": "2022-06-06T11:18:01.535Z"
   },
   {
    "duration": 23,
    "start_time": "2022-06-06T11:18:01.571Z"
   },
   {
    "duration": 37,
    "start_time": "2022-06-06T11:18:01.596Z"
   },
   {
    "duration": 18,
    "start_time": "2022-06-06T11:18:01.635Z"
   },
   {
    "duration": 46,
    "start_time": "2022-06-06T11:18:01.654Z"
   },
   {
    "duration": 11,
    "start_time": "2022-06-06T11:18:01.701Z"
   },
   {
    "duration": 20,
    "start_time": "2022-06-06T11:18:01.714Z"
   },
   {
    "duration": 20,
    "start_time": "2022-06-06T11:18:01.736Z"
   },
   {
    "duration": 32,
    "start_time": "2022-06-06T11:18:01.758Z"
   },
   {
    "duration": 307,
    "start_time": "2022-06-06T11:32:22.239Z"
   },
   {
    "duration": 274,
    "start_time": "2022-06-06T13:58:14.705Z"
   },
   {
    "duration": 147,
    "start_time": "2022-06-06T14:01:07.023Z"
   },
   {
    "duration": 124,
    "start_time": "2022-06-06T14:02:28.544Z"
   },
   {
    "duration": 227,
    "start_time": "2022-06-06T14:02:36.863Z"
   },
   {
    "duration": 80,
    "start_time": "2022-06-06T15:54:46.317Z"
   },
   {
    "duration": 1458,
    "start_time": "2022-06-06T15:54:57.109Z"
   },
   {
    "duration": 174,
    "start_time": "2022-06-06T15:54:58.569Z"
   },
   {
    "duration": 10,
    "start_time": "2022-06-06T15:54:58.745Z"
   },
   {
    "duration": 42,
    "start_time": "2022-06-06T15:54:58.756Z"
   },
   {
    "duration": 21,
    "start_time": "2022-06-06T15:54:58.800Z"
   },
   {
    "duration": 21,
    "start_time": "2022-06-06T15:54:58.834Z"
   },
   {
    "duration": 30,
    "start_time": "2022-06-06T15:54:58.859Z"
   },
   {
    "duration": 12,
    "start_time": "2022-06-06T15:54:58.891Z"
   },
   {
    "duration": 17,
    "start_time": "2022-06-06T15:54:58.905Z"
   },
   {
    "duration": 49,
    "start_time": "2022-06-06T15:54:58.930Z"
   },
   {
    "duration": 15,
    "start_time": "2022-06-06T15:54:58.981Z"
   },
   {
    "duration": 28,
    "start_time": "2022-06-06T15:54:58.998Z"
   },
   {
    "duration": 170,
    "start_time": "2022-06-06T15:54:59.027Z"
   },
   {
    "duration": 336,
    "start_time": "2022-06-06T15:54:59.200Z"
   },
   {
    "duration": 21,
    "start_time": "2022-06-06T15:54:59.541Z"
   },
   {
    "duration": 388,
    "start_time": "2022-06-06T15:54:59.563Z"
   },
   {
    "duration": 31,
    "start_time": "2022-06-06T15:54:59.953Z"
   },
   {
    "duration": 33,
    "start_time": "2022-06-06T15:54:59.987Z"
   },
   {
    "duration": 464,
    "start_time": "2022-06-06T15:55:00.022Z"
   },
   {
    "duration": 304,
    "start_time": "2022-06-06T15:55:00.489Z"
   },
   {
    "duration": 168,
    "start_time": "2022-06-06T15:55:00.795Z"
   },
   {
    "duration": 234,
    "start_time": "2022-06-06T15:55:00.964Z"
   },
   {
    "duration": 7,
    "start_time": "2022-06-06T15:55:01.200Z"
   },
   {
    "duration": 265,
    "start_time": "2022-06-06T15:55:01.209Z"
   },
   {
    "duration": 7,
    "start_time": "2022-06-06T15:55:01.476Z"
   },
   {
    "duration": 78,
    "start_time": "2022-06-06T15:55:01.484Z"
   },
   {
    "duration": 313,
    "start_time": "2022-06-06T15:55:01.564Z"
   },
   {
    "duration": 7,
    "start_time": "2022-06-06T15:55:01.879Z"
   },
   {
    "duration": 43,
    "start_time": "2022-06-06T15:55:01.888Z"
   },
   {
    "duration": 55,
    "start_time": "2022-06-06T15:55:01.942Z"
   },
   {
    "duration": 91,
    "start_time": "2022-06-06T15:55:01.999Z"
   },
   {
    "duration": 28,
    "start_time": "2022-06-06T15:55:02.092Z"
   },
   {
    "duration": 67,
    "start_time": "2022-06-06T15:55:02.123Z"
   },
   {
    "duration": 50,
    "start_time": "2022-06-06T15:55:02.192Z"
   },
   {
    "duration": 68,
    "start_time": "2022-06-06T15:55:02.244Z"
   },
   {
    "duration": 57,
    "start_time": "2022-06-06T15:55:02.314Z"
   },
   {
    "duration": 26,
    "start_time": "2022-06-06T15:55:02.373Z"
   },
   {
    "duration": 32,
    "start_time": "2022-06-06T15:55:02.401Z"
   },
   {
    "duration": 46,
    "start_time": "2022-06-06T15:55:02.435Z"
   },
   {
    "duration": 405,
    "start_time": "2022-06-06T15:55:24.875Z"
   },
   {
    "duration": 382,
    "start_time": "2022-06-06T15:55:30.851Z"
   },
   {
    "duration": 301,
    "start_time": "2022-06-06T15:55:34.557Z"
   },
   {
    "duration": 303,
    "start_time": "2022-06-06T15:55:44.361Z"
   },
   {
    "duration": 323,
    "start_time": "2022-06-06T15:56:52.051Z"
   },
   {
    "duration": 347,
    "start_time": "2022-06-06T15:57:32.766Z"
   },
   {
    "duration": 318,
    "start_time": "2022-06-06T16:27:01.115Z"
   },
   {
    "duration": 12,
    "start_time": "2022-06-06T16:27:18.440Z"
   },
   {
    "duration": 491,
    "start_time": "2022-06-06T16:27:59.192Z"
   },
   {
    "duration": 15,
    "start_time": "2022-06-06T16:28:14.551Z"
   },
   {
    "duration": 495,
    "start_time": "2022-06-06T17:30:49.463Z"
   },
   {
    "duration": 227,
    "start_time": "2022-06-06T17:32:19.317Z"
   },
   {
    "duration": 1337,
    "start_time": "2022-06-06T17:33:17.666Z"
   },
   {
    "duration": 212,
    "start_time": "2022-06-06T17:33:19.006Z"
   },
   {
    "duration": 22,
    "start_time": "2022-06-06T17:33:19.220Z"
   },
   {
    "duration": 47,
    "start_time": "2022-06-06T17:33:19.245Z"
   },
   {
    "duration": 37,
    "start_time": "2022-06-06T17:33:19.295Z"
   },
   {
    "duration": 39,
    "start_time": "2022-06-06T17:33:19.336Z"
   },
   {
    "duration": 14,
    "start_time": "2022-06-06T17:33:19.378Z"
   },
   {
    "duration": 9,
    "start_time": "2022-06-06T17:33:19.395Z"
   },
   {
    "duration": 15,
    "start_time": "2022-06-06T17:33:19.406Z"
   },
   {
    "duration": 22,
    "start_time": "2022-06-06T17:33:19.426Z"
   },
   {
    "duration": 49,
    "start_time": "2022-06-06T17:33:19.450Z"
   },
   {
    "duration": 29,
    "start_time": "2022-06-06T17:33:19.503Z"
   },
   {
    "duration": 123,
    "start_time": "2022-06-06T17:33:19.536Z"
   },
   {
    "duration": 299,
    "start_time": "2022-06-06T17:33:19.661Z"
   },
   {
    "duration": 25,
    "start_time": "2022-06-06T17:33:19.963Z"
   },
   {
    "duration": 311,
    "start_time": "2022-06-06T17:33:19.992Z"
   },
   {
    "duration": 144,
    "start_time": "2022-06-06T17:33:20.306Z"
   },
   {
    "duration": 33,
    "start_time": "2022-06-06T17:33:20.452Z"
   },
   {
    "duration": 332,
    "start_time": "2022-06-06T17:33:20.487Z"
   },
   {
    "duration": 417,
    "start_time": "2022-06-06T17:33:20.821Z"
   },
   {
    "duration": 312,
    "start_time": "2022-06-06T17:33:21.240Z"
   },
   {
    "duration": 5,
    "start_time": "2022-06-06T17:33:21.554Z"
   },
   {
    "duration": 216,
    "start_time": "2022-06-06T17:33:21.561Z"
   },
   {
    "duration": 5,
    "start_time": "2022-06-06T17:33:21.780Z"
   },
   {
    "duration": 199,
    "start_time": "2022-06-06T17:33:21.787Z"
   },
   {
    "duration": 205,
    "start_time": "2022-06-06T17:33:21.987Z"
   },
   {
    "duration": 17,
    "start_time": "2022-06-06T17:33:22.195Z"
   },
   {
    "duration": 265,
    "start_time": "2022-06-06T17:33:22.224Z"
   },
   {
    "duration": 7,
    "start_time": "2022-06-06T17:33:22.491Z"
   },
   {
    "duration": 35,
    "start_time": "2022-06-06T17:33:22.500Z"
   },
   {
    "duration": 59,
    "start_time": "2022-06-06T17:33:22.537Z"
   },
   {
    "duration": 38,
    "start_time": "2022-06-06T17:33:22.599Z"
   },
   {
    "duration": 55,
    "start_time": "2022-06-06T17:33:22.639Z"
   },
   {
    "duration": 27,
    "start_time": "2022-06-06T17:33:22.696Z"
   },
   {
    "duration": 65,
    "start_time": "2022-06-06T17:33:22.724Z"
   },
   {
    "duration": 42,
    "start_time": "2022-06-06T17:33:22.791Z"
   },
   {
    "duration": 21,
    "start_time": "2022-06-06T17:33:22.836Z"
   },
   {
    "duration": 47,
    "start_time": "2022-06-06T17:33:22.859Z"
   },
   {
    "duration": 46,
    "start_time": "2022-06-06T17:33:22.908Z"
   },
   {
    "duration": 29,
    "start_time": "2022-06-06T17:33:22.956Z"
   },
   {
    "duration": 45,
    "start_time": "2022-06-06T17:35:38.354Z"
   },
   {
    "duration": 365,
    "start_time": "2022-06-06T17:35:51.097Z"
   },
   {
    "duration": 280,
    "start_time": "2022-06-06T17:36:10.201Z"
   },
   {
    "duration": 463,
    "start_time": "2022-06-06T17:36:44.957Z"
   },
   {
    "duration": 490,
    "start_time": "2022-06-06T17:37:26.697Z"
   },
   {
    "duration": 452,
    "start_time": "2022-06-06T17:37:56.497Z"
   },
   {
    "duration": 541,
    "start_time": "2022-06-06T17:38:33.558Z"
   },
   {
    "duration": 558,
    "start_time": "2022-06-06T17:41:33.068Z"
   },
   {
    "duration": 454,
    "start_time": "2022-06-06T17:43:54.621Z"
   },
   {
    "duration": 618,
    "start_time": "2022-06-06T17:45:17.510Z"
   },
   {
    "duration": 670,
    "start_time": "2022-06-06T17:47:17.406Z"
   },
   {
    "duration": 446,
    "start_time": "2022-06-06T17:48:51.639Z"
   },
   {
    "duration": 17,
    "start_time": "2022-06-06T17:49:15.262Z"
   },
   {
    "duration": 9,
    "start_time": "2022-06-06T17:49:33.142Z"
   },
   {
    "duration": 8,
    "start_time": "2022-06-06T17:50:16.613Z"
   },
   {
    "duration": 544,
    "start_time": "2022-06-06T17:51:55.298Z"
   },
   {
    "duration": 466,
    "start_time": "2022-06-06T17:54:05.554Z"
   },
   {
    "duration": 318,
    "start_time": "2022-06-06T18:44:38.239Z"
   },
   {
    "duration": 290,
    "start_time": "2022-06-06T18:46:02.667Z"
   },
   {
    "duration": 55,
    "start_time": "2022-06-07T11:45:03.921Z"
   },
   {
    "duration": 1206,
    "start_time": "2022-06-07T11:45:09.237Z"
   },
   {
    "duration": 120,
    "start_time": "2022-06-07T11:45:10.445Z"
   },
   {
    "duration": 6,
    "start_time": "2022-06-07T11:45:10.566Z"
   },
   {
    "duration": 51,
    "start_time": "2022-06-07T11:45:10.575Z"
   },
   {
    "duration": 25,
    "start_time": "2022-06-07T11:45:10.628Z"
   },
   {
    "duration": 10,
    "start_time": "2022-06-07T11:45:10.655Z"
   },
   {
    "duration": 11,
    "start_time": "2022-06-07T11:45:10.667Z"
   },
   {
    "duration": 27,
    "start_time": "2022-06-07T11:45:10.680Z"
   },
   {
    "duration": 38,
    "start_time": "2022-06-07T11:45:10.709Z"
   },
   {
    "duration": 24,
    "start_time": "2022-06-07T11:45:10.750Z"
   },
   {
    "duration": 29,
    "start_time": "2022-06-07T11:45:10.776Z"
   },
   {
    "duration": 32,
    "start_time": "2022-06-07T11:45:10.807Z"
   },
   {
    "duration": 70,
    "start_time": "2022-06-07T11:45:10.841Z"
   },
   {
    "duration": 242,
    "start_time": "2022-06-07T11:45:10.912Z"
   },
   {
    "duration": 13,
    "start_time": "2022-06-07T11:45:11.155Z"
   },
   {
    "duration": 267,
    "start_time": "2022-06-07T11:45:11.169Z"
   },
   {
    "duration": 90,
    "start_time": "2022-06-07T11:45:11.437Z"
   },
   {
    "duration": 32,
    "start_time": "2022-06-07T11:45:11.529Z"
   },
   {
    "duration": 284,
    "start_time": "2022-06-07T11:45:11.562Z"
   },
   {
    "duration": 286,
    "start_time": "2022-06-07T11:45:11.848Z"
   },
   {
    "duration": 196,
    "start_time": "2022-06-07T11:45:12.136Z"
   },
   {
    "duration": 5,
    "start_time": "2022-06-07T11:45:12.334Z"
   },
   {
    "duration": 208,
    "start_time": "2022-06-07T11:45:12.341Z"
   },
   {
    "duration": 6,
    "start_time": "2022-06-07T11:45:12.552Z"
   },
   {
    "duration": 401,
    "start_time": "2022-06-07T11:45:12.559Z"
   },
   {
    "duration": 373,
    "start_time": "2022-06-07T11:45:12.962Z"
   },
   {
    "duration": 453,
    "start_time": "2022-06-07T11:45:13.337Z"
   },
   {
    "duration": 381,
    "start_time": "2022-06-07T11:45:13.793Z"
   },
   {
    "duration": 370,
    "start_time": "2022-06-07T11:45:14.176Z"
   },
   {
    "duration": 367,
    "start_time": "2022-06-07T11:45:14.547Z"
   },
   {
    "duration": 211,
    "start_time": "2022-06-07T11:45:14.915Z"
   },
   {
    "duration": 8,
    "start_time": "2022-06-07T11:45:15.128Z"
   },
   {
    "duration": 36,
    "start_time": "2022-06-07T11:45:15.138Z"
   },
   {
    "duration": 23,
    "start_time": "2022-06-07T11:45:15.180Z"
   },
   {
    "duration": 23,
    "start_time": "2022-06-07T11:45:15.205Z"
   },
   {
    "duration": 39,
    "start_time": "2022-06-07T11:45:15.230Z"
   },
   {
    "duration": 29,
    "start_time": "2022-06-07T11:45:15.272Z"
   },
   {
    "duration": 37,
    "start_time": "2022-06-07T11:45:15.303Z"
   },
   {
    "duration": 39,
    "start_time": "2022-06-07T11:45:15.342Z"
   },
   {
    "duration": 20,
    "start_time": "2022-06-07T11:45:15.383Z"
   },
   {
    "duration": 31,
    "start_time": "2022-06-07T11:45:15.406Z"
   },
   {
    "duration": 23,
    "start_time": "2022-06-07T11:45:15.439Z"
   },
   {
    "duration": 41,
    "start_time": "2022-06-07T11:45:15.465Z"
   },
   {
    "duration": 290,
    "start_time": "2022-06-07T11:48:23.491Z"
   },
   {
    "duration": 375,
    "start_time": "2022-06-07T11:48:55.705Z"
   },
   {
    "duration": 334,
    "start_time": "2022-06-07T11:51:54.961Z"
   },
   {
    "duration": 321,
    "start_time": "2022-06-07T11:51:57.966Z"
   },
   {
    "duration": 313,
    "start_time": "2022-06-07T11:52:27.258Z"
   },
   {
    "duration": 6,
    "start_time": "2022-06-07T12:04:14.466Z"
   },
   {
    "duration": 111,
    "start_time": "2022-06-07T12:51:42.734Z"
   },
   {
    "duration": 19,
    "start_time": "2022-06-07T12:51:56.481Z"
   },
   {
    "duration": 339,
    "start_time": "2022-06-07T12:52:35.840Z"
   },
   {
    "duration": 106,
    "start_time": "2022-06-07T12:53:15.671Z"
   },
   {
    "duration": 111,
    "start_time": "2022-06-07T12:54:28.671Z"
   },
   {
    "duration": 144,
    "start_time": "2022-06-07T12:55:43.834Z"
   },
   {
    "duration": 24,
    "start_time": "2022-06-07T12:55:59.938Z"
   },
   {
    "duration": 16,
    "start_time": "2022-06-07T12:56:21.100Z"
   },
   {
    "duration": 17,
    "start_time": "2022-06-07T12:56:33.311Z"
   },
   {
    "duration": 21,
    "start_time": "2022-06-07T12:56:42.471Z"
   },
   {
    "duration": 18,
    "start_time": "2022-06-07T12:56:49.790Z"
   },
   {
    "duration": 21,
    "start_time": "2022-06-07T12:57:00.395Z"
   },
   {
    "duration": 292,
    "start_time": "2022-06-07T13:23:51.406Z"
   },
   {
    "duration": 151,
    "start_time": "2022-06-07T13:26:33.217Z"
   },
   {
    "duration": 216,
    "start_time": "2022-06-07T13:26:45.769Z"
   },
   {
    "duration": 370,
    "start_time": "2022-06-07T13:27:05.177Z"
   },
   {
    "duration": 106,
    "start_time": "2022-06-07T13:27:16.568Z"
   },
   {
    "duration": 18,
    "start_time": "2022-06-07T13:27:27.684Z"
   },
   {
    "duration": 258,
    "start_time": "2022-06-07T13:27:37.132Z"
   },
   {
    "duration": 253,
    "start_time": "2022-06-07T13:27:43.161Z"
   },
   {
    "duration": 267,
    "start_time": "2022-06-07T13:27:49.581Z"
   },
   {
    "duration": 265,
    "start_time": "2022-06-07T13:27:54.117Z"
   },
   {
    "duration": 32,
    "start_time": "2022-06-07T13:27:58.862Z"
   },
   {
    "duration": 258,
    "start_time": "2022-06-07T13:28:10.701Z"
   },
   {
    "duration": 280,
    "start_time": "2022-06-07T13:28:34.321Z"
   },
   {
    "duration": 242,
    "start_time": "2022-06-07T13:28:49.429Z"
   },
   {
    "duration": 248,
    "start_time": "2022-06-07T13:28:54.177Z"
   },
   {
    "duration": 262,
    "start_time": "2022-06-07T13:29:04.417Z"
   },
   {
    "duration": 202,
    "start_time": "2022-06-07T13:30:09.375Z"
   },
   {
    "duration": 135,
    "start_time": "2022-06-07T13:31:49.021Z"
   },
   {
    "duration": 150,
    "start_time": "2022-06-07T13:31:55.609Z"
   },
   {
    "duration": 143,
    "start_time": "2022-06-07T13:32:22.739Z"
   },
   {
    "duration": 16,
    "start_time": "2022-06-07T13:38:30.565Z"
   },
   {
    "duration": 25,
    "start_time": "2022-06-07T13:38:45.321Z"
   },
   {
    "duration": 17,
    "start_time": "2022-06-07T13:38:57.670Z"
   },
   {
    "duration": 16,
    "start_time": "2022-06-07T13:39:03.323Z"
   },
   {
    "duration": 18,
    "start_time": "2022-06-07T13:45:26.696Z"
   },
   {
    "duration": 119,
    "start_time": "2022-06-07T13:50:13.459Z"
   },
   {
    "duration": 108,
    "start_time": "2022-06-07T13:50:44.120Z"
   },
   {
    "duration": 248,
    "start_time": "2022-06-07T13:50:59.708Z"
   },
   {
    "duration": 344,
    "start_time": "2022-06-07T13:51:49.900Z"
   },
   {
    "duration": 345,
    "start_time": "2022-06-07T13:52:38.886Z"
   },
   {
    "duration": 1327,
    "start_time": "2022-06-07T13:53:04.862Z"
   },
   {
    "duration": 92,
    "start_time": "2022-06-07T13:53:06.191Z"
   },
   {
    "duration": 6,
    "start_time": "2022-06-07T13:53:06.284Z"
   },
   {
    "duration": 41,
    "start_time": "2022-06-07T13:53:06.292Z"
   },
   {
    "duration": 23,
    "start_time": "2022-06-07T13:53:06.335Z"
   },
   {
    "duration": 26,
    "start_time": "2022-06-07T13:53:06.359Z"
   },
   {
    "duration": 15,
    "start_time": "2022-06-07T13:53:06.387Z"
   },
   {
    "duration": 6,
    "start_time": "2022-06-07T13:53:06.403Z"
   },
   {
    "duration": 11,
    "start_time": "2022-06-07T13:53:06.411Z"
   },
   {
    "duration": 11,
    "start_time": "2022-06-07T13:53:06.424Z"
   },
   {
    "duration": 16,
    "start_time": "2022-06-07T13:53:06.437Z"
   },
   {
    "duration": 39,
    "start_time": "2022-06-07T13:53:06.454Z"
   },
   {
    "duration": 95,
    "start_time": "2022-06-07T13:53:06.494Z"
   },
   {
    "duration": 286,
    "start_time": "2022-06-07T13:53:06.593Z"
   },
   {
    "duration": 14,
    "start_time": "2022-06-07T13:53:06.881Z"
   },
   {
    "duration": 366,
    "start_time": "2022-06-07T13:53:06.897Z"
   },
   {
    "duration": 105,
    "start_time": "2022-06-07T13:53:07.266Z"
   },
   {
    "duration": 28,
    "start_time": "2022-06-07T13:53:07.372Z"
   },
   {
    "duration": 309,
    "start_time": "2022-06-07T13:53:07.403Z"
   },
   {
    "duration": 319,
    "start_time": "2022-06-07T13:53:07.714Z"
   },
   {
    "duration": 230,
    "start_time": "2022-06-07T13:53:08.035Z"
   },
   {
    "duration": 6,
    "start_time": "2022-06-07T13:53:08.267Z"
   },
   {
    "duration": 231,
    "start_time": "2022-06-07T13:53:08.275Z"
   },
   {
    "duration": 6,
    "start_time": "2022-06-07T13:53:08.508Z"
   },
   {
    "duration": 475,
    "start_time": "2022-06-07T13:53:08.516Z"
   },
   {
    "duration": 446,
    "start_time": "2022-06-07T13:53:08.993Z"
   },
   {
    "duration": 507,
    "start_time": "2022-06-07T13:53:09.441Z"
   },
   {
    "duration": 472,
    "start_time": "2022-06-07T13:53:09.952Z"
   },
   {
    "duration": 428,
    "start_time": "2022-06-07T13:53:10.425Z"
   },
   {
    "duration": 403,
    "start_time": "2022-06-07T13:53:10.855Z"
   },
   {
    "duration": 269,
    "start_time": "2022-06-07T13:53:11.260Z"
   },
   {
    "duration": 380,
    "start_time": "2022-06-07T13:53:11.532Z"
   },
   {
    "duration": 464,
    "start_time": "2022-06-07T13:53:11.914Z"
   },
   {
    "duration": 20,
    "start_time": "2022-06-07T13:53:12.380Z"
   },
   {
    "duration": 23,
    "start_time": "2022-06-07T13:53:12.402Z"
   },
   {
    "duration": 34,
    "start_time": "2022-06-07T13:53:12.427Z"
   },
   {
    "duration": 368,
    "start_time": "2022-06-07T13:53:12.463Z"
   },
   {
    "duration": 27,
    "start_time": "2022-06-07T13:53:12.832Z"
   },
   {
    "duration": 34,
    "start_time": "2022-06-07T13:53:12.861Z"
   },
   {
    "duration": 33,
    "start_time": "2022-06-07T13:53:12.897Z"
   },
   {
    "duration": 31,
    "start_time": "2022-06-07T13:53:12.935Z"
   },
   {
    "duration": 11,
    "start_time": "2022-06-07T13:53:12.968Z"
   },
   {
    "duration": 18,
    "start_time": "2022-06-07T13:53:12.980Z"
   },
   {
    "duration": 23,
    "start_time": "2022-06-07T13:53:13.004Z"
   },
   {
    "duration": 16,
    "start_time": "2022-06-07T13:53:13.029Z"
   },
   {
    "duration": 297,
    "start_time": "2022-06-07T13:53:39.704Z"
   },
   {
    "duration": 170,
    "start_time": "2022-06-07T13:58:08.752Z"
   },
   {
    "duration": 431,
    "start_time": "2022-06-07T13:59:41.406Z"
   },
   {
    "duration": 219,
    "start_time": "2022-06-07T13:59:53.906Z"
   },
   {
    "duration": 311,
    "start_time": "2022-06-07T13:59:59.623Z"
   },
   {
    "duration": 49,
    "start_time": "2022-06-07T17:12:35.704Z"
   },
   {
    "duration": 1109,
    "start_time": "2022-06-07T17:12:42.158Z"
   },
   {
    "duration": 206,
    "start_time": "2022-06-07T17:12:43.269Z"
   },
   {
    "duration": 4,
    "start_time": "2022-06-07T17:12:43.476Z"
   },
   {
    "duration": 23,
    "start_time": "2022-06-07T17:12:43.481Z"
   },
   {
    "duration": 16,
    "start_time": "2022-06-07T17:12:43.506Z"
   },
   {
    "duration": 7,
    "start_time": "2022-06-07T17:12:43.523Z"
   },
   {
    "duration": 6,
    "start_time": "2022-06-07T17:12:43.531Z"
   },
   {
    "duration": 6,
    "start_time": "2022-06-07T17:12:43.538Z"
   },
   {
    "duration": 8,
    "start_time": "2022-06-07T17:12:43.546Z"
   },
   {
    "duration": 5,
    "start_time": "2022-06-07T17:12:43.555Z"
   },
   {
    "duration": 10,
    "start_time": "2022-06-07T17:12:43.561Z"
   },
   {
    "duration": 34,
    "start_time": "2022-06-07T17:12:43.572Z"
   },
   {
    "duration": 56,
    "start_time": "2022-06-07T17:12:43.607Z"
   },
   {
    "duration": 234,
    "start_time": "2022-06-07T17:12:43.666Z"
   },
   {
    "duration": 12,
    "start_time": "2022-06-07T17:12:43.901Z"
   },
   {
    "duration": 231,
    "start_time": "2022-06-07T17:12:43.914Z"
   },
   {
    "duration": 76,
    "start_time": "2022-06-07T17:12:44.146Z"
   },
   {
    "duration": 23,
    "start_time": "2022-06-07T17:12:44.224Z"
   },
   {
    "duration": 233,
    "start_time": "2022-06-07T17:12:44.249Z"
   },
   {
    "duration": 236,
    "start_time": "2022-06-07T17:12:44.483Z"
   },
   {
    "duration": 170,
    "start_time": "2022-06-07T17:12:44.721Z"
   },
   {
    "duration": 10,
    "start_time": "2022-06-07T17:12:44.895Z"
   },
   {
    "duration": 164,
    "start_time": "2022-06-07T17:12:44.906Z"
   },
   {
    "duration": 5,
    "start_time": "2022-06-07T17:12:45.071Z"
   },
   {
    "duration": 345,
    "start_time": "2022-06-07T17:12:45.077Z"
   },
   {
    "duration": 333,
    "start_time": "2022-06-07T17:12:45.424Z"
   },
   {
    "duration": 403,
    "start_time": "2022-06-07T17:12:45.758Z"
   },
   {
    "duration": 350,
    "start_time": "2022-06-07T17:12:46.163Z"
   },
   {
    "duration": 327,
    "start_time": "2022-06-07T17:12:46.514Z"
   },
   {
    "duration": 369,
    "start_time": "2022-06-07T17:12:46.842Z"
   },
   {
    "duration": 178,
    "start_time": "2022-06-07T17:12:47.213Z"
   },
   {
    "duration": 247,
    "start_time": "2022-06-07T17:12:47.392Z"
   },
   {
    "duration": 318,
    "start_time": "2022-06-07T17:12:47.641Z"
   },
   {
    "duration": 103,
    "start_time": "2022-06-07T17:12:47.961Z"
   },
   {
    "duration": 0,
    "start_time": "2022-06-07T17:12:48.066Z"
   },
   {
    "duration": 0,
    "start_time": "2022-06-07T17:12:48.067Z"
   },
   {
    "duration": 0,
    "start_time": "2022-06-07T17:12:48.068Z"
   },
   {
    "duration": 0,
    "start_time": "2022-06-07T17:12:48.069Z"
   },
   {
    "duration": 0,
    "start_time": "2022-06-07T17:12:48.070Z"
   },
   {
    "duration": 0,
    "start_time": "2022-06-07T17:12:48.071Z"
   },
   {
    "duration": 0,
    "start_time": "2022-06-07T17:12:48.072Z"
   },
   {
    "duration": 0,
    "start_time": "2022-06-07T17:12:48.073Z"
   },
   {
    "duration": 0,
    "start_time": "2022-06-07T17:12:48.074Z"
   },
   {
    "duration": 0,
    "start_time": "2022-06-07T17:12:48.075Z"
   },
   {
    "duration": 0,
    "start_time": "2022-06-07T17:12:48.091Z"
   },
   {
    "duration": 16,
    "start_time": "2022-06-07T17:14:32.412Z"
   },
   {
    "duration": 17,
    "start_time": "2022-06-07T17:14:43.005Z"
   },
   {
    "duration": 16,
    "start_time": "2022-06-07T17:15:02.979Z"
   },
   {
    "duration": 13,
    "start_time": "2022-06-07T17:15:52.941Z"
   },
   {
    "duration": 28,
    "start_time": "2022-06-07T17:22:19.952Z"
   },
   {
    "duration": 14,
    "start_time": "2022-06-07T17:22:39.249Z"
   },
   {
    "duration": 28,
    "start_time": "2022-06-07T17:36:34.096Z"
   },
   {
    "duration": 41,
    "start_time": "2022-06-07T17:37:05.644Z"
   },
   {
    "duration": 18,
    "start_time": "2022-06-07T17:37:16.978Z"
   },
   {
    "duration": 18,
    "start_time": "2022-06-07T17:37:44.253Z"
   },
   {
    "duration": 18,
    "start_time": "2022-06-07T17:38:01.419Z"
   },
   {
    "duration": 18,
    "start_time": "2022-06-07T17:38:28.444Z"
   },
   {
    "duration": 18,
    "start_time": "2022-06-07T17:38:35.283Z"
   },
   {
    "duration": 22,
    "start_time": "2022-06-07T17:41:01.877Z"
   },
   {
    "duration": 19,
    "start_time": "2022-06-07T17:45:11.328Z"
   },
   {
    "duration": 18,
    "start_time": "2022-06-07T17:49:44.602Z"
   },
   {
    "duration": 17,
    "start_time": "2022-06-07T17:50:19.777Z"
   },
   {
    "duration": 14,
    "start_time": "2022-06-07T17:51:02.069Z"
   },
   {
    "duration": 21,
    "start_time": "2022-06-07T17:59:25.303Z"
   },
   {
    "duration": 19,
    "start_time": "2022-06-07T18:00:11.574Z"
   },
   {
    "duration": 16,
    "start_time": "2022-06-07T18:00:20.617Z"
   },
   {
    "duration": 17,
    "start_time": "2022-06-07T18:00:40.705Z"
   },
   {
    "duration": 18,
    "start_time": "2022-06-07T18:01:34.343Z"
   },
   {
    "duration": 20,
    "start_time": "2022-06-07T18:01:59.700Z"
   },
   {
    "duration": 20,
    "start_time": "2022-06-07T18:06:50.625Z"
   },
   {
    "duration": 21,
    "start_time": "2022-06-07T18:07:04.062Z"
   },
   {
    "duration": 20,
    "start_time": "2022-06-07T18:08:44.349Z"
   },
   {
    "duration": 20,
    "start_time": "2022-06-07T18:08:55.148Z"
   },
   {
    "duration": 21,
    "start_time": "2022-06-07T18:10:56.604Z"
   },
   {
    "duration": 24,
    "start_time": "2022-06-07T18:11:47.576Z"
   },
   {
    "duration": 18,
    "start_time": "2022-06-07T18:12:00.302Z"
   },
   {
    "duration": 26,
    "start_time": "2022-06-07T18:16:43.961Z"
   },
   {
    "duration": 19,
    "start_time": "2022-06-07T18:16:49.307Z"
   },
   {
    "duration": 910,
    "start_time": "2022-06-07T18:17:34.755Z"
   },
   {
    "duration": 70,
    "start_time": "2022-06-07T18:17:35.666Z"
   },
   {
    "duration": 4,
    "start_time": "2022-06-07T18:17:35.737Z"
   },
   {
    "duration": 14,
    "start_time": "2022-06-07T18:17:35.743Z"
   },
   {
    "duration": 14,
    "start_time": "2022-06-07T18:17:35.759Z"
   },
   {
    "duration": 26,
    "start_time": "2022-06-07T18:17:35.774Z"
   },
   {
    "duration": 11,
    "start_time": "2022-06-07T18:17:35.802Z"
   },
   {
    "duration": 6,
    "start_time": "2022-06-07T18:17:35.814Z"
   },
   {
    "duration": 7,
    "start_time": "2022-06-07T18:17:35.821Z"
   },
   {
    "duration": 4,
    "start_time": "2022-06-07T18:17:35.830Z"
   },
   {
    "duration": 9,
    "start_time": "2022-06-07T18:17:35.835Z"
   },
   {
    "duration": 17,
    "start_time": "2022-06-07T18:17:35.845Z"
   },
   {
    "duration": 76,
    "start_time": "2022-06-07T18:17:35.863Z"
   },
   {
    "duration": 218,
    "start_time": "2022-06-07T18:17:35.941Z"
   },
   {
    "duration": 11,
    "start_time": "2022-06-07T18:17:36.160Z"
   },
   {
    "duration": 252,
    "start_time": "2022-06-07T18:17:36.173Z"
   },
   {
    "duration": 90,
    "start_time": "2022-06-07T18:17:36.426Z"
   },
   {
    "duration": 25,
    "start_time": "2022-06-07T18:17:36.518Z"
   },
   {
    "duration": 233,
    "start_time": "2022-06-07T18:17:36.544Z"
   },
   {
    "duration": 297,
    "start_time": "2022-06-07T18:17:36.778Z"
   },
   {
    "duration": 193,
    "start_time": "2022-06-07T18:17:37.077Z"
   },
   {
    "duration": 4,
    "start_time": "2022-06-07T18:17:37.271Z"
   },
   {
    "duration": 167,
    "start_time": "2022-06-07T18:17:37.277Z"
   },
   {
    "duration": 4,
    "start_time": "2022-06-07T18:17:37.446Z"
   },
   {
    "duration": 334,
    "start_time": "2022-06-07T18:17:37.451Z"
   },
   {
    "duration": 317,
    "start_time": "2022-06-07T18:17:37.790Z"
   },
   {
    "duration": 398,
    "start_time": "2022-06-07T18:17:38.109Z"
   },
   {
    "duration": 322,
    "start_time": "2022-06-07T18:17:38.510Z"
   },
   {
    "duration": 330,
    "start_time": "2022-06-07T18:17:38.834Z"
   },
   {
    "duration": 323,
    "start_time": "2022-06-07T18:17:39.165Z"
   },
   {
    "duration": 176,
    "start_time": "2022-06-07T18:17:39.492Z"
   },
   {
    "duration": 266,
    "start_time": "2022-06-07T18:17:39.669Z"
   },
   {
    "duration": 328,
    "start_time": "2022-06-07T18:17:39.937Z"
   },
   {
    "duration": 113,
    "start_time": "2022-06-07T18:17:40.267Z"
   },
   {
    "duration": 0,
    "start_time": "2022-06-07T18:17:40.382Z"
   },
   {
    "duration": 0,
    "start_time": "2022-06-07T18:17:40.382Z"
   },
   {
    "duration": 0,
    "start_time": "2022-06-07T18:17:40.383Z"
   },
   {
    "duration": 0,
    "start_time": "2022-06-07T18:17:40.391Z"
   },
   {
    "duration": 0,
    "start_time": "2022-06-07T18:17:40.392Z"
   },
   {
    "duration": 0,
    "start_time": "2022-06-07T18:17:40.393Z"
   },
   {
    "duration": 0,
    "start_time": "2022-06-07T18:17:40.394Z"
   },
   {
    "duration": 0,
    "start_time": "2022-06-07T18:17:40.395Z"
   },
   {
    "duration": 0,
    "start_time": "2022-06-07T18:17:40.396Z"
   },
   {
    "duration": 0,
    "start_time": "2022-06-07T18:17:40.397Z"
   },
   {
    "duration": 0,
    "start_time": "2022-06-07T18:17:40.398Z"
   },
   {
    "duration": 19,
    "start_time": "2022-06-07T18:19:08.089Z"
   },
   {
    "duration": 20,
    "start_time": "2022-06-07T18:19:23.443Z"
   },
   {
    "duration": 38,
    "start_time": "2022-06-07T18:22:54.210Z"
   },
   {
    "duration": 18,
    "start_time": "2022-06-07T18:23:07.521Z"
   },
   {
    "duration": 18,
    "start_time": "2022-06-07T18:23:39.143Z"
   },
   {
    "duration": 21,
    "start_time": "2022-06-07T18:23:55.297Z"
   },
   {
    "duration": 20,
    "start_time": "2022-06-07T18:24:03.283Z"
   },
   {
    "duration": 19,
    "start_time": "2022-06-07T18:25:29.040Z"
   },
   {
    "duration": 20,
    "start_time": "2022-06-07T18:26:13.738Z"
   },
   {
    "duration": 20,
    "start_time": "2022-06-07T18:26:51.647Z"
   },
   {
    "duration": 18,
    "start_time": "2022-06-07T18:27:45.271Z"
   },
   {
    "duration": 18,
    "start_time": "2022-06-07T18:30:28.035Z"
   },
   {
    "duration": 915,
    "start_time": "2022-06-07T18:31:09.345Z"
   },
   {
    "duration": 69,
    "start_time": "2022-06-07T18:31:10.262Z"
   },
   {
    "duration": 4,
    "start_time": "2022-06-07T18:31:10.332Z"
   },
   {
    "duration": 14,
    "start_time": "2022-06-07T18:31:10.338Z"
   },
   {
    "duration": 15,
    "start_time": "2022-06-07T18:31:10.353Z"
   },
   {
    "duration": 26,
    "start_time": "2022-06-07T18:31:10.369Z"
   },
   {
    "duration": 7,
    "start_time": "2022-06-07T18:31:10.396Z"
   },
   {
    "duration": 12,
    "start_time": "2022-06-07T18:31:10.404Z"
   },
   {
    "duration": 7,
    "start_time": "2022-06-07T18:31:10.417Z"
   },
   {
    "duration": 5,
    "start_time": "2022-06-07T18:31:10.426Z"
   },
   {
    "duration": 9,
    "start_time": "2022-06-07T18:31:10.432Z"
   },
   {
    "duration": 16,
    "start_time": "2022-06-07T18:31:10.442Z"
   },
   {
    "duration": 75,
    "start_time": "2022-06-07T18:31:10.459Z"
   },
   {
    "duration": 199,
    "start_time": "2022-06-07T18:31:10.536Z"
   },
   {
    "duration": 12,
    "start_time": "2022-06-07T18:31:10.736Z"
   },
   {
    "duration": 240,
    "start_time": "2022-06-07T18:31:10.749Z"
   },
   {
    "duration": 76,
    "start_time": "2022-06-07T18:31:10.991Z"
   },
   {
    "duration": 34,
    "start_time": "2022-06-07T18:31:11.069Z"
   },
   {
    "duration": 227,
    "start_time": "2022-06-07T18:31:11.104Z"
   },
   {
    "duration": 235,
    "start_time": "2022-06-07T18:31:11.332Z"
   },
   {
    "duration": 175,
    "start_time": "2022-06-07T18:31:11.569Z"
   },
   {
    "duration": 5,
    "start_time": "2022-06-07T18:31:11.745Z"
   },
   {
    "duration": 173,
    "start_time": "2022-06-07T18:31:11.752Z"
   },
   {
    "duration": 4,
    "start_time": "2022-06-07T18:31:11.927Z"
   },
   {
    "duration": 349,
    "start_time": "2022-06-07T18:31:11.932Z"
   },
   {
    "duration": 345,
    "start_time": "2022-06-07T18:31:12.282Z"
   },
   {
    "duration": 399,
    "start_time": "2022-06-07T18:31:12.629Z"
   },
   {
    "duration": 305,
    "start_time": "2022-06-07T18:31:13.030Z"
   },
   {
    "duration": 303,
    "start_time": "2022-06-07T18:31:13.337Z"
   },
   {
    "duration": 304,
    "start_time": "2022-06-07T18:31:13.641Z"
   },
   {
    "duration": 175,
    "start_time": "2022-06-07T18:31:13.947Z"
   },
   {
    "duration": 251,
    "start_time": "2022-06-07T18:31:14.123Z"
   },
   {
    "duration": 315,
    "start_time": "2022-06-07T18:31:14.376Z"
   },
   {
    "duration": 105,
    "start_time": "2022-06-07T18:31:14.693Z"
   },
   {
    "duration": 0,
    "start_time": "2022-06-07T18:31:14.800Z"
   },
   {
    "duration": 0,
    "start_time": "2022-06-07T18:31:14.801Z"
   },
   {
    "duration": 0,
    "start_time": "2022-06-07T18:31:14.802Z"
   },
   {
    "duration": 0,
    "start_time": "2022-06-07T18:31:14.804Z"
   },
   {
    "duration": 0,
    "start_time": "2022-06-07T18:31:14.805Z"
   },
   {
    "duration": 0,
    "start_time": "2022-06-07T18:31:14.806Z"
   },
   {
    "duration": 0,
    "start_time": "2022-06-07T18:31:14.807Z"
   },
   {
    "duration": 0,
    "start_time": "2022-06-07T18:31:14.808Z"
   },
   {
    "duration": 0,
    "start_time": "2022-06-07T18:31:14.809Z"
   },
   {
    "duration": 0,
    "start_time": "2022-06-07T18:31:14.811Z"
   },
   {
    "duration": 0,
    "start_time": "2022-06-07T18:31:14.812Z"
   },
   {
    "duration": 19,
    "start_time": "2022-06-07T18:32:01.168Z"
   },
   {
    "duration": 29,
    "start_time": "2022-06-07T18:33:12.847Z"
   },
   {
    "duration": 20,
    "start_time": "2022-06-07T18:33:16.336Z"
   },
   {
    "duration": 24,
    "start_time": "2022-06-07T18:33:24.039Z"
   },
   {
    "duration": 21,
    "start_time": "2022-06-07T18:33:40.368Z"
   },
   {
    "duration": 20,
    "start_time": "2022-06-07T18:33:48.008Z"
   },
   {
    "duration": 26,
    "start_time": "2022-06-07T18:33:59.987Z"
   },
   {
    "duration": 76,
    "start_time": "2022-06-07T18:36:34.839Z"
   },
   {
    "duration": 20,
    "start_time": "2022-06-07T18:37:01.274Z"
   },
   {
    "duration": 22,
    "start_time": "2022-06-07T18:37:23.018Z"
   },
   {
    "duration": 20,
    "start_time": "2022-06-07T18:39:15.087Z"
   },
   {
    "duration": 24,
    "start_time": "2022-06-07T18:39:36.972Z"
   },
   {
    "duration": 20,
    "start_time": "2022-06-07T18:40:10.371Z"
   },
   {
    "duration": 19,
    "start_time": "2022-06-07T18:40:34.614Z"
   },
   {
    "duration": 82,
    "start_time": "2022-06-07T18:41:55.086Z"
   },
   {
    "duration": 86,
    "start_time": "2022-06-07T18:42:06.315Z"
   },
   {
    "duration": 21,
    "start_time": "2022-06-07T18:42:34.680Z"
   },
   {
    "duration": 24,
    "start_time": "2022-06-07T18:42:40.234Z"
   },
   {
    "duration": 31,
    "start_time": "2022-06-07T18:43:45.406Z"
   },
   {
    "duration": 105,
    "start_time": "2022-06-07T18:43:49.339Z"
   },
   {
    "duration": 87,
    "start_time": "2022-06-07T18:44:40.874Z"
   },
   {
    "duration": 96,
    "start_time": "2022-06-07T19:00:39.576Z"
   },
   {
    "duration": 15,
    "start_time": "2022-06-07T19:01:50.078Z"
   },
   {
    "duration": 24,
    "start_time": "2022-06-07T19:02:32.304Z"
   },
   {
    "duration": 19,
    "start_time": "2022-06-07T19:04:28.646Z"
   },
   {
    "duration": 226,
    "start_time": "2022-06-07T19:06:21.398Z"
   },
   {
    "duration": 183,
    "start_time": "2022-06-07T19:07:15.083Z"
   },
   {
    "duration": 15,
    "start_time": "2022-06-07T19:07:46.503Z"
   },
   {
    "duration": 18,
    "start_time": "2022-06-07T19:08:58.557Z"
   },
   {
    "duration": 21,
    "start_time": "2022-06-07T19:09:51.342Z"
   },
   {
    "duration": 18,
    "start_time": "2022-06-07T19:10:08.788Z"
   },
   {
    "duration": 14,
    "start_time": "2022-06-07T19:10:41.741Z"
   },
   {
    "duration": 15,
    "start_time": "2022-06-07T19:10:55.263Z"
   },
   {
    "duration": 42,
    "start_time": "2022-06-07T19:11:44.776Z"
   },
   {
    "duration": 275,
    "start_time": "2022-06-07T19:11:49.375Z"
   },
   {
    "duration": 22,
    "start_time": "2022-06-07T19:12:07.280Z"
   },
   {
    "duration": 23,
    "start_time": "2022-06-07T19:26:03.491Z"
   },
   {
    "duration": 31,
    "start_time": "2022-06-07T19:26:50.294Z"
   },
   {
    "duration": 35,
    "start_time": "2022-06-07T19:28:38.979Z"
   },
   {
    "duration": 39,
    "start_time": "2022-06-07T19:29:10.568Z"
   },
   {
    "duration": 1182,
    "start_time": "2022-06-08T05:23:25.084Z"
   },
   {
    "duration": 124,
    "start_time": "2022-06-08T05:23:26.268Z"
   },
   {
    "duration": 4,
    "start_time": "2022-06-08T05:23:26.394Z"
   },
   {
    "duration": 20,
    "start_time": "2022-06-08T05:23:26.399Z"
   },
   {
    "duration": 25,
    "start_time": "2022-06-08T05:23:26.420Z"
   },
   {
    "duration": 8,
    "start_time": "2022-06-08T05:23:26.447Z"
   },
   {
    "duration": 5,
    "start_time": "2022-06-08T05:23:26.457Z"
   },
   {
    "duration": 11,
    "start_time": "2022-06-08T05:23:26.463Z"
   },
   {
    "duration": 9,
    "start_time": "2022-06-08T05:23:26.476Z"
   },
   {
    "duration": 5,
    "start_time": "2022-06-08T05:23:26.487Z"
   },
   {
    "duration": 11,
    "start_time": "2022-06-08T05:23:26.493Z"
   },
   {
    "duration": 33,
    "start_time": "2022-06-08T05:23:26.523Z"
   },
   {
    "duration": 79,
    "start_time": "2022-06-08T05:23:26.557Z"
   },
   {
    "duration": 229,
    "start_time": "2022-06-08T05:23:26.639Z"
   },
   {
    "duration": 13,
    "start_time": "2022-06-08T05:23:26.869Z"
   },
   {
    "duration": 288,
    "start_time": "2022-06-08T05:23:26.883Z"
   },
   {
    "duration": 91,
    "start_time": "2022-06-08T05:23:27.172Z"
   },
   {
    "duration": 20,
    "start_time": "2022-06-08T05:23:27.265Z"
   },
   {
    "duration": 260,
    "start_time": "2022-06-08T05:23:27.287Z"
   },
   {
    "duration": 261,
    "start_time": "2022-06-08T05:23:27.549Z"
   },
   {
    "duration": 190,
    "start_time": "2022-06-08T05:23:27.812Z"
   },
   {
    "duration": 6,
    "start_time": "2022-06-08T05:23:28.003Z"
   },
   {
    "duration": 195,
    "start_time": "2022-06-08T05:23:28.010Z"
   },
   {
    "duration": 5,
    "start_time": "2022-06-08T05:23:28.207Z"
   },
   {
    "duration": 387,
    "start_time": "2022-06-08T05:23:28.223Z"
   },
   {
    "duration": 440,
    "start_time": "2022-06-08T05:23:28.612Z"
   },
   {
    "duration": 485,
    "start_time": "2022-06-08T05:23:29.054Z"
   },
   {
    "duration": 375,
    "start_time": "2022-06-08T05:23:29.542Z"
   },
   {
    "duration": 381,
    "start_time": "2022-06-08T05:23:29.918Z"
   },
   {
    "duration": 370,
    "start_time": "2022-06-08T05:23:30.301Z"
   },
   {
    "duration": 213,
    "start_time": "2022-06-08T05:23:30.673Z"
   },
   {
    "duration": 294,
    "start_time": "2022-06-08T05:23:30.888Z"
   },
   {
    "duration": 389,
    "start_time": "2022-06-08T05:23:31.183Z"
   },
   {
    "duration": 23,
    "start_time": "2022-06-08T05:23:31.574Z"
   },
   {
    "duration": 42,
    "start_time": "2022-06-08T05:23:31.599Z"
   },
   {
    "duration": 16,
    "start_time": "2022-06-08T05:23:31.643Z"
   },
   {
    "duration": 345,
    "start_time": "2022-06-08T05:23:31.660Z"
   },
   {
    "duration": 38,
    "start_time": "2022-06-08T05:23:32.008Z"
   },
   {
    "duration": 22,
    "start_time": "2022-06-08T05:23:32.048Z"
   },
   {
    "duration": 18,
    "start_time": "2022-06-08T05:23:32.071Z"
   },
   {
    "duration": 44,
    "start_time": "2022-06-08T05:23:32.091Z"
   },
   {
    "duration": 15,
    "start_time": "2022-06-08T05:23:32.139Z"
   },
   {
    "duration": 10,
    "start_time": "2022-06-08T05:23:32.156Z"
   },
   {
    "duration": 16,
    "start_time": "2022-06-08T05:23:32.168Z"
   },
   {
    "duration": 13,
    "start_time": "2022-06-08T05:23:32.186Z"
   },
   {
    "duration": 26,
    "start_time": "2022-06-08T05:24:27.311Z"
   },
   {
    "duration": 24,
    "start_time": "2022-06-08T05:24:34.422Z"
   },
   {
    "duration": 131,
    "start_time": "2022-06-08T05:24:46.019Z"
   },
   {
    "duration": 34,
    "start_time": "2022-06-08T05:24:53.622Z"
   },
   {
    "duration": 28,
    "start_time": "2022-06-08T05:26:06.893Z"
   },
   {
    "duration": 26,
    "start_time": "2022-06-08T05:28:33.022Z"
   },
   {
    "duration": 32,
    "start_time": "2022-06-08T05:28:50.900Z"
   },
   {
    "duration": 21,
    "start_time": "2022-06-08T05:29:28.196Z"
   },
   {
    "duration": 27,
    "start_time": "2022-06-08T05:29:37.836Z"
   },
   {
    "duration": 21,
    "start_time": "2022-06-08T05:31:33.878Z"
   },
   {
    "duration": 30,
    "start_time": "2022-06-08T05:31:44.552Z"
   },
   {
    "duration": 22,
    "start_time": "2022-06-08T05:33:05.078Z"
   },
   {
    "duration": 25,
    "start_time": "2022-06-08T05:34:45.623Z"
   },
   {
    "duration": 25,
    "start_time": "2022-06-08T05:35:20.492Z"
   },
   {
    "duration": 302,
    "start_time": "2022-06-08T05:39:50.137Z"
   },
   {
    "duration": 5,
    "start_time": "2022-06-08T05:43:22.516Z"
   },
   {
    "duration": 22,
    "start_time": "2022-06-08T05:43:32.259Z"
   },
   {
    "duration": 38,
    "start_time": "2022-06-08T05:47:46.624Z"
   },
   {
    "duration": 34,
    "start_time": "2022-06-08T05:48:02.095Z"
   },
   {
    "duration": 33,
    "start_time": "2022-06-08T05:48:12.713Z"
   },
   {
    "duration": 6,
    "start_time": "2022-06-08T05:50:35.610Z"
   },
   {
    "duration": 29,
    "start_time": "2022-06-08T05:50:43.290Z"
   },
   {
    "duration": 1057,
    "start_time": "2022-06-08T05:50:54.141Z"
   },
   {
    "duration": 77,
    "start_time": "2022-06-08T05:50:55.199Z"
   },
   {
    "duration": 5,
    "start_time": "2022-06-08T05:50:55.278Z"
   },
   {
    "duration": 18,
    "start_time": "2022-06-08T05:50:55.285Z"
   },
   {
    "duration": 31,
    "start_time": "2022-06-08T05:50:55.304Z"
   },
   {
    "duration": 11,
    "start_time": "2022-06-08T05:50:55.337Z"
   },
   {
    "duration": 6,
    "start_time": "2022-06-08T05:50:55.349Z"
   },
   {
    "duration": 7,
    "start_time": "2022-06-08T05:50:55.356Z"
   },
   {
    "duration": 10,
    "start_time": "2022-06-08T05:50:55.364Z"
   },
   {
    "duration": 5,
    "start_time": "2022-06-08T05:50:55.377Z"
   },
   {
    "duration": 45,
    "start_time": "2022-06-08T05:50:55.384Z"
   },
   {
    "duration": 16,
    "start_time": "2022-06-08T05:50:55.431Z"
   },
   {
    "duration": 95,
    "start_time": "2022-06-08T05:50:55.449Z"
   },
   {
    "duration": 241,
    "start_time": "2022-06-08T05:50:55.546Z"
   },
   {
    "duration": 14,
    "start_time": "2022-06-08T05:50:55.788Z"
   },
   {
    "duration": 364,
    "start_time": "2022-06-08T05:50:55.803Z"
   },
   {
    "duration": 205,
    "start_time": "2022-06-08T05:50:56.169Z"
   },
   {
    "duration": 59,
    "start_time": "2022-06-08T05:50:56.375Z"
   },
   {
    "duration": 379,
    "start_time": "2022-06-08T05:50:56.435Z"
   },
   {
    "duration": 273,
    "start_time": "2022-06-08T05:50:56.815Z"
   },
   {
    "duration": 189,
    "start_time": "2022-06-08T05:50:57.090Z"
   },
   {
    "duration": 6,
    "start_time": "2022-06-08T05:50:57.281Z"
   },
   {
    "duration": 217,
    "start_time": "2022-06-08T05:50:57.289Z"
   },
   {
    "duration": 5,
    "start_time": "2022-06-08T05:50:57.507Z"
   },
   {
    "duration": 371,
    "start_time": "2022-06-08T05:50:57.513Z"
   },
   {
    "duration": 387,
    "start_time": "2022-06-08T05:50:57.886Z"
   },
   {
    "duration": 470,
    "start_time": "2022-06-08T05:50:58.275Z"
   },
   {
    "duration": 387,
    "start_time": "2022-06-08T05:50:58.750Z"
   },
   {
    "duration": 385,
    "start_time": "2022-06-08T05:50:59.139Z"
   },
   {
    "duration": 367,
    "start_time": "2022-06-08T05:50:59.526Z"
   },
   {
    "duration": 218,
    "start_time": "2022-06-08T05:50:59.895Z"
   },
   {
    "duration": 309,
    "start_time": "2022-06-08T05:51:00.116Z"
   },
   {
    "duration": 464,
    "start_time": "2022-06-08T05:51:00.427Z"
   },
   {
    "duration": 36,
    "start_time": "2022-06-08T05:51:00.893Z"
   },
   {
    "duration": 48,
    "start_time": "2022-06-08T05:51:00.931Z"
   },
   {
    "duration": 26,
    "start_time": "2022-06-08T05:51:00.981Z"
   },
   {
    "duration": 436,
    "start_time": "2022-06-08T05:51:01.009Z"
   },
   {
    "duration": 35,
    "start_time": "2022-06-08T05:51:01.447Z"
   },
   {
    "duration": 55,
    "start_time": "2022-06-08T05:51:01.484Z"
   },
   {
    "duration": 60,
    "start_time": "2022-06-08T05:51:01.541Z"
   },
   {
    "duration": 445,
    "start_time": "2022-06-08T05:51:01.603Z"
   },
   {
    "duration": 35,
    "start_time": "2022-06-08T05:51:02.051Z"
   },
   {
    "duration": 47,
    "start_time": "2022-06-08T05:51:02.089Z"
   },
   {
    "duration": 66,
    "start_time": "2022-06-08T05:51:02.139Z"
   },
   {
    "duration": 34,
    "start_time": "2022-06-08T05:51:02.207Z"
   },
   {
    "duration": 20,
    "start_time": "2022-06-08T05:51:02.243Z"
   },
   {
    "duration": 13,
    "start_time": "2022-06-08T06:13:48.883Z"
   },
   {
    "duration": 10,
    "start_time": "2022-06-08T06:19:12.260Z"
   },
   {
    "duration": 9,
    "start_time": "2022-06-08T06:19:49.378Z"
   },
   {
    "duration": 10,
    "start_time": "2022-06-08T06:20:26.620Z"
   },
   {
    "duration": 13,
    "start_time": "2022-06-08T06:21:37.708Z"
   },
   {
    "duration": 13,
    "start_time": "2022-06-08T06:23:12.647Z"
   },
   {
    "duration": 10,
    "start_time": "2022-06-08T06:25:12.337Z"
   },
   {
    "duration": 10,
    "start_time": "2022-06-08T06:26:11.720Z"
   },
   {
    "duration": 11,
    "start_time": "2022-06-08T06:26:16.612Z"
   },
   {
    "duration": 14,
    "start_time": "2022-06-08T06:26:26.567Z"
   },
   {
    "duration": 10,
    "start_time": "2022-06-08T06:26:37.429Z"
   },
   {
    "duration": 10,
    "start_time": "2022-06-08T06:28:39.696Z"
   },
   {
    "duration": 10,
    "start_time": "2022-06-08T06:29:40.999Z"
   },
   {
    "duration": 9,
    "start_time": "2022-06-08T06:29:45.333Z"
   },
   {
    "duration": 10,
    "start_time": "2022-06-08T06:29:57.644Z"
   },
   {
    "duration": 9,
    "start_time": "2022-06-08T06:30:06.285Z"
   },
   {
    "duration": 16,
    "start_time": "2022-06-08T06:30:09.210Z"
   },
   {
    "duration": 15,
    "start_time": "2022-06-08T06:35:02.535Z"
   },
   {
    "duration": 11,
    "start_time": "2022-06-08T06:35:08.125Z"
   },
   {
    "duration": 10,
    "start_time": "2022-06-08T06:35:10.923Z"
   },
   {
    "duration": 11,
    "start_time": "2022-06-08T06:35:28.988Z"
   },
   {
    "duration": 11,
    "start_time": "2022-06-08T06:36:32.223Z"
   },
   {
    "duration": 10,
    "start_time": "2022-06-08T06:36:54.585Z"
   },
   {
    "duration": 1102,
    "start_time": "2022-06-08T07:03:36.409Z"
   },
   {
    "duration": 87,
    "start_time": "2022-06-08T07:03:37.513Z"
   },
   {
    "duration": 4,
    "start_time": "2022-06-08T07:03:37.601Z"
   },
   {
    "duration": 28,
    "start_time": "2022-06-08T07:03:37.607Z"
   },
   {
    "duration": 17,
    "start_time": "2022-06-08T07:03:37.638Z"
   },
   {
    "duration": 8,
    "start_time": "2022-06-08T07:03:37.657Z"
   },
   {
    "duration": 5,
    "start_time": "2022-06-08T07:03:37.666Z"
   },
   {
    "duration": 6,
    "start_time": "2022-06-08T07:03:37.672Z"
   },
   {
    "duration": 9,
    "start_time": "2022-06-08T07:03:37.679Z"
   },
   {
    "duration": 6,
    "start_time": "2022-06-08T07:03:37.691Z"
   },
   {
    "duration": 38,
    "start_time": "2022-06-08T07:03:37.698Z"
   },
   {
    "duration": 18,
    "start_time": "2022-06-08T07:03:37.737Z"
   },
   {
    "duration": 12,
    "start_time": "2022-06-08T07:03:37.757Z"
   },
   {
    "duration": 95,
    "start_time": "2022-06-08T07:03:37.771Z"
   },
   {
    "duration": 241,
    "start_time": "2022-06-08T07:03:37.868Z"
   },
   {
    "duration": 25,
    "start_time": "2022-06-08T07:03:38.111Z"
   },
   {
    "duration": 266,
    "start_time": "2022-06-08T07:03:38.137Z"
   },
   {
    "duration": 94,
    "start_time": "2022-06-08T07:03:38.405Z"
   },
   {
    "duration": 36,
    "start_time": "2022-06-08T07:03:38.500Z"
   },
   {
    "duration": 254,
    "start_time": "2022-06-08T07:03:38.537Z"
   },
   {
    "duration": 299,
    "start_time": "2022-06-08T07:03:38.793Z"
   },
   {
    "duration": 193,
    "start_time": "2022-06-08T07:03:39.094Z"
   },
   {
    "duration": 5,
    "start_time": "2022-06-08T07:03:39.290Z"
   },
   {
    "duration": 203,
    "start_time": "2022-06-08T07:03:39.296Z"
   },
   {
    "duration": 4,
    "start_time": "2022-06-08T07:03:39.501Z"
   },
   {
    "duration": 375,
    "start_time": "2022-06-08T07:03:39.507Z"
   },
   {
    "duration": 379,
    "start_time": "2022-06-08T07:03:39.884Z"
   },
   {
    "duration": 459,
    "start_time": "2022-06-08T07:03:40.267Z"
   },
   {
    "duration": 357,
    "start_time": "2022-06-08T07:03:40.730Z"
   },
   {
    "duration": 361,
    "start_time": "2022-06-08T07:03:41.088Z"
   },
   {
    "duration": 369,
    "start_time": "2022-06-08T07:03:41.450Z"
   },
   {
    "duration": 219,
    "start_time": "2022-06-08T07:03:41.820Z"
   },
   {
    "duration": 298,
    "start_time": "2022-06-08T07:03:42.041Z"
   },
   {
    "duration": 438,
    "start_time": "2022-06-08T07:03:42.341Z"
   },
   {
    "duration": 30,
    "start_time": "2022-06-08T07:03:42.782Z"
   },
   {
    "duration": 46,
    "start_time": "2022-06-08T07:03:42.814Z"
   },
   {
    "duration": 27,
    "start_time": "2022-06-08T07:03:42.862Z"
   },
   {
    "duration": 307,
    "start_time": "2022-06-08T07:03:42.891Z"
   },
   {
    "duration": 41,
    "start_time": "2022-06-08T07:03:43.199Z"
   },
   {
    "duration": 33,
    "start_time": "2022-06-08T07:03:43.241Z"
   },
   {
    "duration": 23,
    "start_time": "2022-06-08T07:03:43.276Z"
   },
   {
    "duration": 331,
    "start_time": "2022-06-08T07:03:43.301Z"
   },
   {
    "duration": 34,
    "start_time": "2022-06-08T07:03:43.634Z"
   },
   {
    "duration": 10,
    "start_time": "2022-06-08T07:03:43.670Z"
   },
   {
    "duration": 10,
    "start_time": "2022-06-08T07:03:43.682Z"
   },
   {
    "duration": 43,
    "start_time": "2022-06-08T07:03:43.693Z"
   },
   {
    "duration": 49,
    "start_time": "2022-06-08T07:03:43.738Z"
   },
   {
    "duration": 24,
    "start_time": "2022-06-08T07:03:43.789Z"
   },
   {
    "duration": 49,
    "start_time": "2022-06-08T07:03:43.814Z"
   },
   {
    "duration": 291,
    "start_time": "2022-06-08T07:14:06.149Z"
   },
   {
    "duration": 333,
    "start_time": "2022-06-08T07:14:18.988Z"
   },
   {
    "duration": 1020,
    "start_time": "2022-06-08T23:49:51.137Z"
   },
   {
    "duration": 119,
    "start_time": "2022-06-08T23:49:52.160Z"
   },
   {
    "duration": 4,
    "start_time": "2022-06-08T23:49:52.281Z"
   },
   {
    "duration": 31,
    "start_time": "2022-06-08T23:49:52.287Z"
   },
   {
    "duration": 26,
    "start_time": "2022-06-08T23:49:52.319Z"
   },
   {
    "duration": 29,
    "start_time": "2022-06-08T23:49:52.346Z"
   },
   {
    "duration": 18,
    "start_time": "2022-06-08T23:49:52.376Z"
   },
   {
    "duration": 9,
    "start_time": "2022-06-08T23:49:52.395Z"
   },
   {
    "duration": 24,
    "start_time": "2022-06-08T23:49:52.405Z"
   },
   {
    "duration": 10,
    "start_time": "2022-06-08T23:49:52.431Z"
   },
   {
    "duration": 16,
    "start_time": "2022-06-08T23:49:52.442Z"
   },
   {
    "duration": 19,
    "start_time": "2022-06-08T23:49:52.460Z"
   },
   {
    "duration": 14,
    "start_time": "2022-06-08T23:49:52.481Z"
   },
   {
    "duration": 98,
    "start_time": "2022-06-08T23:49:52.497Z"
   },
   {
    "duration": 245,
    "start_time": "2022-06-08T23:49:52.597Z"
   },
   {
    "duration": 17,
    "start_time": "2022-06-08T23:49:52.844Z"
   },
   {
    "duration": 269,
    "start_time": "2022-06-08T23:49:52.863Z"
   },
   {
    "duration": 24,
    "start_time": "2022-06-08T23:49:53.133Z"
   },
   {
    "duration": 21,
    "start_time": "2022-06-08T23:49:53.158Z"
   },
   {
    "duration": 265,
    "start_time": "2022-06-08T23:49:53.181Z"
   },
   {
    "duration": 273,
    "start_time": "2022-06-08T23:49:53.448Z"
   },
   {
    "duration": 193,
    "start_time": "2022-06-08T23:49:53.722Z"
   },
   {
    "duration": 5,
    "start_time": "2022-06-08T23:49:53.916Z"
   },
   {
    "duration": 223,
    "start_time": "2022-06-08T23:49:53.923Z"
   },
   {
    "duration": 6,
    "start_time": "2022-06-08T23:49:54.148Z"
   },
   {
    "duration": 463,
    "start_time": "2022-06-08T23:49:54.156Z"
   },
   {
    "duration": 361,
    "start_time": "2022-06-08T23:49:54.621Z"
   },
   {
    "duration": 444,
    "start_time": "2022-06-08T23:49:54.985Z"
   },
   {
    "duration": 377,
    "start_time": "2022-06-08T23:49:55.430Z"
   },
   {
    "duration": 343,
    "start_time": "2022-06-08T23:49:55.809Z"
   },
   {
    "duration": 331,
    "start_time": "2022-06-08T23:49:56.154Z"
   },
   {
    "duration": 256,
    "start_time": "2022-06-08T23:49:56.487Z"
   },
   {
    "duration": 287,
    "start_time": "2022-06-08T23:49:56.744Z"
   },
   {
    "duration": 288,
    "start_time": "2022-06-08T23:49:57.033Z"
   },
   {
    "duration": 30,
    "start_time": "2022-06-08T23:49:57.323Z"
   },
   {
    "duration": 21,
    "start_time": "2022-06-08T23:49:57.354Z"
   },
   {
    "duration": 14,
    "start_time": "2022-06-08T23:49:57.376Z"
   },
   {
    "duration": 306,
    "start_time": "2022-06-08T23:49:57.392Z"
   },
   {
    "duration": 27,
    "start_time": "2022-06-08T23:49:57.699Z"
   },
   {
    "duration": 36,
    "start_time": "2022-06-08T23:49:57.727Z"
   },
   {
    "duration": 23,
    "start_time": "2022-06-08T23:49:57.765Z"
   },
   {
    "duration": 304,
    "start_time": "2022-06-08T23:49:57.789Z"
   },
   {
    "duration": 106,
    "start_time": "2022-06-08T23:49:58.095Z"
   },
   {
    "duration": 10,
    "start_time": "2022-06-08T23:49:58.202Z"
   },
   {
    "duration": 27,
    "start_time": "2022-06-08T23:49:58.216Z"
   },
   {
    "duration": 18,
    "start_time": "2022-06-08T23:49:58.245Z"
   },
   {
    "duration": 24,
    "start_time": "2022-06-08T23:49:58.264Z"
   },
   {
    "duration": 13,
    "start_time": "2022-06-08T23:49:58.289Z"
   },
   {
    "duration": 12,
    "start_time": "2022-06-08T23:49:58.303Z"
   },
   {
    "duration": 9,
    "start_time": "2022-06-09T00:06:33.440Z"
   },
   {
    "duration": 1042,
    "start_time": "2022-06-09T00:06:45.080Z"
   },
   {
    "duration": 83,
    "start_time": "2022-06-09T00:06:46.123Z"
   },
   {
    "duration": 5,
    "start_time": "2022-06-09T00:06:46.207Z"
   },
   {
    "duration": 14,
    "start_time": "2022-06-09T00:06:46.214Z"
   },
   {
    "duration": 33,
    "start_time": "2022-06-09T00:06:46.230Z"
   },
   {
    "duration": 8,
    "start_time": "2022-06-09T00:06:46.266Z"
   },
   {
    "duration": 8,
    "start_time": "2022-06-09T00:06:46.275Z"
   },
   {
    "duration": 8,
    "start_time": "2022-06-09T00:06:46.285Z"
   },
   {
    "duration": 24,
    "start_time": "2022-06-09T00:06:46.294Z"
   },
   {
    "duration": 22,
    "start_time": "2022-06-09T00:06:46.321Z"
   },
   {
    "duration": 24,
    "start_time": "2022-06-09T00:06:46.344Z"
   },
   {
    "duration": 19,
    "start_time": "2022-06-09T00:06:46.369Z"
   },
   {
    "duration": 17,
    "start_time": "2022-06-09T00:06:46.389Z"
   },
   {
    "duration": 79,
    "start_time": "2022-06-09T00:06:46.407Z"
   },
   {
    "duration": 233,
    "start_time": "2022-06-09T00:06:46.487Z"
   },
   {
    "duration": 13,
    "start_time": "2022-06-09T00:06:46.722Z"
   },
   {
    "duration": 267,
    "start_time": "2022-06-09T00:06:46.737Z"
   },
   {
    "duration": 24,
    "start_time": "2022-06-09T00:06:47.006Z"
   },
   {
    "duration": 30,
    "start_time": "2022-06-09T00:06:47.032Z"
   },
   {
    "duration": 248,
    "start_time": "2022-06-09T00:06:47.064Z"
   },
   {
    "duration": 260,
    "start_time": "2022-06-09T00:06:47.313Z"
   },
   {
    "duration": 8,
    "start_time": "2022-06-09T00:06:47.575Z"
   },
   {
    "duration": 193,
    "start_time": "2022-06-09T00:06:47.585Z"
   },
   {
    "duration": 5,
    "start_time": "2022-06-09T00:06:47.779Z"
   },
   {
    "duration": 195,
    "start_time": "2022-06-09T00:06:47.785Z"
   },
   {
    "duration": 4,
    "start_time": "2022-06-09T00:06:47.981Z"
   },
   {
    "duration": 443,
    "start_time": "2022-06-09T00:06:47.987Z"
   },
   {
    "duration": 356,
    "start_time": "2022-06-09T00:06:48.433Z"
   },
   {
    "duration": 374,
    "start_time": "2022-06-09T00:06:48.791Z"
   },
   {
    "duration": 353,
    "start_time": "2022-06-09T00:06:49.167Z"
   },
   {
    "duration": 360,
    "start_time": "2022-06-09T00:06:49.521Z"
   },
   {
    "duration": 389,
    "start_time": "2022-06-09T00:06:49.883Z"
   },
   {
    "duration": 260,
    "start_time": "2022-06-09T00:06:50.274Z"
   },
   {
    "duration": 312,
    "start_time": "2022-06-09T00:06:50.536Z"
   },
   {
    "duration": 298,
    "start_time": "2022-06-09T00:06:50.850Z"
   },
   {
    "duration": 32,
    "start_time": "2022-06-09T00:06:51.151Z"
   },
   {
    "duration": 30,
    "start_time": "2022-06-09T00:06:51.185Z"
   },
   {
    "duration": 14,
    "start_time": "2022-06-09T00:06:51.216Z"
   },
   {
    "duration": 310,
    "start_time": "2022-06-09T00:06:51.231Z"
   },
   {
    "duration": 39,
    "start_time": "2022-06-09T00:06:51.542Z"
   },
   {
    "duration": 20,
    "start_time": "2022-06-09T00:06:51.582Z"
   },
   {
    "duration": 42,
    "start_time": "2022-06-09T00:06:51.603Z"
   },
   {
    "duration": 326,
    "start_time": "2022-06-09T00:06:51.647Z"
   },
   {
    "duration": 114,
    "start_time": "2022-06-09T00:06:51.974Z"
   },
   {
    "duration": 9,
    "start_time": "2022-06-09T00:06:52.090Z"
   },
   {
    "duration": 23,
    "start_time": "2022-06-09T00:06:52.101Z"
   },
   {
    "duration": 20,
    "start_time": "2022-06-09T00:06:52.126Z"
   },
   {
    "duration": 43,
    "start_time": "2022-06-09T00:06:52.147Z"
   },
   {
    "duration": 21,
    "start_time": "2022-06-09T00:06:52.192Z"
   },
   {
    "duration": 19,
    "start_time": "2022-06-09T00:06:52.215Z"
   },
   {
    "duration": 10,
    "start_time": "2022-06-09T00:09:35.988Z"
   },
   {
    "duration": 7,
    "start_time": "2022-06-09T00:10:12.032Z"
   },
   {
    "duration": 1569,
    "start_time": "2022-06-09T06:23:21.802Z"
   },
   {
    "duration": 233,
    "start_time": "2022-06-09T06:23:23.374Z"
   },
   {
    "duration": 6,
    "start_time": "2022-06-09T06:23:23.609Z"
   },
   {
    "duration": 22,
    "start_time": "2022-06-09T06:23:23.618Z"
   },
   {
    "duration": 28,
    "start_time": "2022-06-09T06:23:23.642Z"
   },
   {
    "duration": 16,
    "start_time": "2022-06-09T06:23:23.673Z"
   },
   {
    "duration": 39,
    "start_time": "2022-06-09T06:23:23.692Z"
   },
   {
    "duration": 9,
    "start_time": "2022-06-09T06:23:23.733Z"
   },
   {
    "duration": 15,
    "start_time": "2022-06-09T06:23:23.745Z"
   },
   {
    "duration": 11,
    "start_time": "2022-06-09T06:23:23.763Z"
   },
   {
    "duration": 27,
    "start_time": "2022-06-09T06:23:23.776Z"
   },
   {
    "duration": 31,
    "start_time": "2022-06-09T06:23:23.828Z"
   },
   {
    "duration": 26,
    "start_time": "2022-06-09T06:23:23.861Z"
   },
   {
    "duration": 123,
    "start_time": "2022-06-09T06:23:23.889Z"
   },
   {
    "duration": 337,
    "start_time": "2022-06-09T06:23:24.027Z"
   },
   {
    "duration": 22,
    "start_time": "2022-06-09T06:23:24.368Z"
   },
   {
    "duration": 363,
    "start_time": "2022-06-09T06:23:24.393Z"
   },
   {
    "duration": 48,
    "start_time": "2022-06-09T06:23:24.759Z"
   },
   {
    "duration": 45,
    "start_time": "2022-06-09T06:23:24.809Z"
   },
   {
    "duration": 333,
    "start_time": "2022-06-09T06:23:24.856Z"
   },
   {
    "duration": 326,
    "start_time": "2022-06-09T06:23:25.191Z"
   },
   {
    "duration": 245,
    "start_time": "2022-06-09T06:23:25.527Z"
   },
   {
    "duration": 14,
    "start_time": "2022-06-09T06:23:25.775Z"
   },
   {
    "duration": 34,
    "start_time": "2022-06-09T06:23:25.792Z"
   },
   {
    "duration": 12,
    "start_time": "2022-06-09T06:23:25.828Z"
   },
   {
    "duration": 248,
    "start_time": "2022-06-09T06:23:25.844Z"
   },
   {
    "duration": 10,
    "start_time": "2022-06-09T06:23:26.095Z"
   },
   {
    "duration": 713,
    "start_time": "2022-06-09T06:23:26.128Z"
   },
   {
    "duration": 492,
    "start_time": "2022-06-09T06:23:26.843Z"
   },
   {
    "duration": 444,
    "start_time": "2022-06-09T06:23:27.338Z"
   },
   {
    "duration": 475,
    "start_time": "2022-06-09T06:23:27.784Z"
   },
   {
    "duration": 447,
    "start_time": "2022-06-09T06:23:28.261Z"
   },
   {
    "duration": 465,
    "start_time": "2022-06-09T06:23:28.709Z"
   },
   {
    "duration": 405,
    "start_time": "2022-06-09T06:23:29.177Z"
   },
   {
    "duration": 411,
    "start_time": "2022-06-09T06:23:29.585Z"
   },
   {
    "duration": 415,
    "start_time": "2022-06-09T06:23:29.999Z"
   },
   {
    "duration": 36,
    "start_time": "2022-06-09T06:23:30.417Z"
   },
   {
    "duration": 65,
    "start_time": "2022-06-09T06:23:30.456Z"
   },
   {
    "duration": 32,
    "start_time": "2022-06-09T06:23:30.527Z"
   },
   {
    "duration": 453,
    "start_time": "2022-06-09T06:23:30.561Z"
   },
   {
    "duration": 31,
    "start_time": "2022-06-09T06:23:31.025Z"
   },
   {
    "duration": 66,
    "start_time": "2022-06-09T06:23:31.059Z"
   },
   {
    "duration": 48,
    "start_time": "2022-06-09T06:23:31.127Z"
   },
   {
    "duration": 437,
    "start_time": "2022-06-09T06:23:31.177Z"
   },
   {
    "duration": 241,
    "start_time": "2022-06-09T06:23:31.616Z"
   },
   {
    "duration": 15,
    "start_time": "2022-06-09T06:23:31.860Z"
   },
   {
    "duration": 54,
    "start_time": "2022-06-09T06:23:31.878Z"
   },
   {
    "duration": 51,
    "start_time": "2022-06-09T06:23:31.934Z"
   },
   {
    "duration": 45,
    "start_time": "2022-06-09T06:23:31.987Z"
   },
   {
    "duration": 45,
    "start_time": "2022-06-09T06:23:32.035Z"
   },
   {
    "duration": 60,
    "start_time": "2022-06-09T06:23:32.083Z"
   },
   {
    "duration": 230,
    "start_time": "2022-06-09T06:44:14.225Z"
   },
   {
    "duration": 7,
    "start_time": "2022-06-09T06:44:46.034Z"
   },
   {
    "duration": 1269,
    "start_time": "2022-06-09T06:45:55.273Z"
   },
   {
    "duration": 105,
    "start_time": "2022-06-09T06:45:56.546Z"
   },
   {
    "duration": 10,
    "start_time": "2022-06-09T06:45:56.653Z"
   },
   {
    "duration": 35,
    "start_time": "2022-06-09T06:45:56.666Z"
   },
   {
    "duration": 51,
    "start_time": "2022-06-09T06:45:56.705Z"
   },
   {
    "duration": 16,
    "start_time": "2022-06-09T06:45:56.760Z"
   },
   {
    "duration": 21,
    "start_time": "2022-06-09T06:45:56.779Z"
   },
   {
    "duration": 29,
    "start_time": "2022-06-09T06:45:56.802Z"
   },
   {
    "duration": 34,
    "start_time": "2022-06-09T06:45:56.834Z"
   },
   {
    "duration": 17,
    "start_time": "2022-06-09T06:45:56.870Z"
   },
   {
    "duration": 28,
    "start_time": "2022-06-09T06:45:56.891Z"
   },
   {
    "duration": 29,
    "start_time": "2022-06-09T06:45:56.921Z"
   },
   {
    "duration": 26,
    "start_time": "2022-06-09T06:45:56.953Z"
   },
   {
    "duration": 144,
    "start_time": "2022-06-09T06:45:56.986Z"
   },
   {
    "duration": 283,
    "start_time": "2022-06-09T06:45:57.133Z"
   },
   {
    "duration": 22,
    "start_time": "2022-06-09T06:45:57.418Z"
   },
   {
    "duration": 325,
    "start_time": "2022-06-09T06:45:57.442Z"
   },
   {
    "duration": 35,
    "start_time": "2022-06-09T06:45:57.770Z"
   },
   {
    "duration": 39,
    "start_time": "2022-06-09T06:45:57.807Z"
   },
   {
    "duration": 318,
    "start_time": "2022-06-09T06:45:57.848Z"
   },
   {
    "duration": 336,
    "start_time": "2022-06-09T06:45:58.169Z"
   },
   {
    "duration": 261,
    "start_time": "2022-06-09T06:45:58.508Z"
   },
   {
    "duration": 12,
    "start_time": "2022-06-09T06:45:58.772Z"
   },
   {
    "duration": 23,
    "start_time": "2022-06-09T06:45:58.787Z"
   },
   {
    "duration": 12,
    "start_time": "2022-06-09T06:45:58.827Z"
   },
   {
    "duration": 135,
    "start_time": "2022-06-09T06:45:58.841Z"
   },
   {
    "duration": 0,
    "start_time": "2022-06-09T06:45:58.979Z"
   },
   {
    "duration": 0,
    "start_time": "2022-06-09T06:45:58.981Z"
   },
   {
    "duration": 0,
    "start_time": "2022-06-09T06:45:58.984Z"
   },
   {
    "duration": 0,
    "start_time": "2022-06-09T06:45:58.986Z"
   },
   {
    "duration": 0,
    "start_time": "2022-06-09T06:45:58.988Z"
   },
   {
    "duration": 0,
    "start_time": "2022-06-09T06:45:58.990Z"
   },
   {
    "duration": 0,
    "start_time": "2022-06-09T06:45:58.992Z"
   },
   {
    "duration": 0,
    "start_time": "2022-06-09T06:45:58.994Z"
   },
   {
    "duration": 0,
    "start_time": "2022-06-09T06:45:58.995Z"
   },
   {
    "duration": 0,
    "start_time": "2022-06-09T06:45:58.997Z"
   },
   {
    "duration": 0,
    "start_time": "2022-06-09T06:45:59.028Z"
   },
   {
    "duration": 0,
    "start_time": "2022-06-09T06:45:59.030Z"
   },
   {
    "duration": 0,
    "start_time": "2022-06-09T06:45:59.032Z"
   },
   {
    "duration": 0,
    "start_time": "2022-06-09T06:45:59.033Z"
   },
   {
    "duration": 0,
    "start_time": "2022-06-09T06:45:59.035Z"
   },
   {
    "duration": 0,
    "start_time": "2022-06-09T06:45:59.037Z"
   },
   {
    "duration": 0,
    "start_time": "2022-06-09T06:45:59.039Z"
   },
   {
    "duration": 0,
    "start_time": "2022-06-09T06:45:59.040Z"
   },
   {
    "duration": 0,
    "start_time": "2022-06-09T06:45:59.042Z"
   },
   {
    "duration": 0,
    "start_time": "2022-06-09T06:45:59.044Z"
   },
   {
    "duration": 0,
    "start_time": "2022-06-09T06:45:59.046Z"
   },
   {
    "duration": 0,
    "start_time": "2022-06-09T06:45:59.047Z"
   },
   {
    "duration": 0,
    "start_time": "2022-06-09T06:45:59.049Z"
   },
   {
    "duration": 0,
    "start_time": "2022-06-09T06:45:59.051Z"
   },
   {
    "duration": 0,
    "start_time": "2022-06-09T06:45:59.054Z"
   },
   {
    "duration": 407,
    "start_time": "2022-06-09T06:48:33.552Z"
   },
   {
    "duration": 10,
    "start_time": "2022-06-09T06:49:07.651Z"
   },
   {
    "duration": 12,
    "start_time": "2022-06-09T06:50:53.826Z"
   },
   {
    "duration": 644,
    "start_time": "2022-06-09T06:52:20.260Z"
   },
   {
    "duration": 551,
    "start_time": "2022-06-09T06:54:08.925Z"
   },
   {
    "duration": 452,
    "start_time": "2022-06-09T06:55:47.936Z"
   },
   {
    "duration": 430,
    "start_time": "2022-06-09T06:59:27.903Z"
   },
   {
    "duration": 433,
    "start_time": "2022-06-09T07:00:39.845Z"
   },
   {
    "duration": 446,
    "start_time": "2022-06-09T07:02:23.742Z"
   },
   {
    "duration": 605,
    "start_time": "2022-06-09T07:03:55.421Z"
   },
   {
    "duration": 1303,
    "start_time": "2022-06-09T07:07:23.042Z"
   },
   {
    "duration": 100,
    "start_time": "2022-06-09T07:07:24.348Z"
   },
   {
    "duration": 6,
    "start_time": "2022-06-09T07:07:24.450Z"
   },
   {
    "duration": 27,
    "start_time": "2022-06-09T07:07:24.458Z"
   },
   {
    "duration": 58,
    "start_time": "2022-06-09T07:07:24.488Z"
   },
   {
    "duration": 17,
    "start_time": "2022-06-09T07:07:24.549Z"
   },
   {
    "duration": 8,
    "start_time": "2022-06-09T07:07:24.569Z"
   },
   {
    "duration": 10,
    "start_time": "2022-06-09T07:07:24.579Z"
   },
   {
    "duration": 38,
    "start_time": "2022-06-09T07:07:24.591Z"
   },
   {
    "duration": 21,
    "start_time": "2022-06-09T07:07:24.631Z"
   },
   {
    "duration": 19,
    "start_time": "2022-06-09T07:07:24.654Z"
   },
   {
    "duration": 33,
    "start_time": "2022-06-09T07:07:24.675Z"
   },
   {
    "duration": 32,
    "start_time": "2022-06-09T07:07:24.711Z"
   },
   {
    "duration": 136,
    "start_time": "2022-06-09T07:07:24.752Z"
   },
   {
    "duration": 288,
    "start_time": "2022-06-09T07:07:24.891Z"
   },
   {
    "duration": 19,
    "start_time": "2022-06-09T07:07:25.181Z"
   },
   {
    "duration": 340,
    "start_time": "2022-06-09T07:07:25.202Z"
   },
   {
    "duration": 31,
    "start_time": "2022-06-09T07:07:25.547Z"
   },
   {
    "duration": 36,
    "start_time": "2022-06-09T07:07:25.580Z"
   },
   {
    "duration": 319,
    "start_time": "2022-06-09T07:07:25.629Z"
   },
   {
    "duration": 327,
    "start_time": "2022-06-09T07:07:25.950Z"
   },
   {
    "duration": 265,
    "start_time": "2022-06-09T07:07:26.280Z"
   },
   {
    "duration": 15,
    "start_time": "2022-06-09T07:07:26.547Z"
   },
   {
    "duration": 26,
    "start_time": "2022-06-09T07:07:26.564Z"
   },
   {
    "duration": 18,
    "start_time": "2022-06-09T07:07:26.593Z"
   },
   {
    "duration": 276,
    "start_time": "2022-06-09T07:07:26.614Z"
   },
   {
    "duration": 9,
    "start_time": "2022-06-09T07:07:26.895Z"
   },
   {
    "duration": 634,
    "start_time": "2022-06-09T07:07:26.907Z"
   },
   {
    "duration": 451,
    "start_time": "2022-06-09T07:07:27.546Z"
   },
   {
    "duration": 457,
    "start_time": "2022-06-09T07:07:27.999Z"
   },
   {
    "duration": 492,
    "start_time": "2022-06-09T07:07:28.459Z"
   },
   {
    "duration": 460,
    "start_time": "2022-06-09T07:07:28.954Z"
   },
   {
    "duration": 449,
    "start_time": "2022-06-09T07:07:29.426Z"
   },
   {
    "duration": 400,
    "start_time": "2022-06-09T07:07:29.878Z"
   },
   {
    "duration": 413,
    "start_time": "2022-06-09T07:07:30.280Z"
   },
   {
    "duration": 446,
    "start_time": "2022-06-09T07:07:30.696Z"
   },
   {
    "duration": 30,
    "start_time": "2022-06-09T07:07:31.146Z"
   },
   {
    "duration": 58,
    "start_time": "2022-06-09T07:07:31.179Z"
   },
   {
    "duration": 23,
    "start_time": "2022-06-09T07:07:31.245Z"
   },
   {
    "duration": 401,
    "start_time": "2022-06-09T07:07:31.270Z"
   },
   {
    "duration": 31,
    "start_time": "2022-06-09T07:07:31.676Z"
   },
   {
    "duration": 43,
    "start_time": "2022-06-09T07:07:31.725Z"
   },
   {
    "duration": 31,
    "start_time": "2022-06-09T07:07:31.770Z"
   },
   {
    "duration": 477,
    "start_time": "2022-06-09T07:07:31.803Z"
   },
   {
    "duration": 186,
    "start_time": "2022-06-09T07:07:32.283Z"
   },
   {
    "duration": 13,
    "start_time": "2022-06-09T07:07:32.471Z"
   },
   {
    "duration": 18,
    "start_time": "2022-06-09T07:07:32.487Z"
   },
   {
    "duration": 21,
    "start_time": "2022-06-09T07:07:32.527Z"
   },
   {
    "duration": 19,
    "start_time": "2022-06-09T07:07:32.550Z"
   },
   {
    "duration": 16,
    "start_time": "2022-06-09T07:07:32.572Z"
   },
   {
    "duration": 38,
    "start_time": "2022-06-09T07:07:32.591Z"
   },
   {
    "duration": 285,
    "start_time": "2022-06-09T07:25:26.207Z"
   },
   {
    "duration": 18,
    "start_time": "2022-06-09T07:27:39.150Z"
   },
   {
    "duration": 328,
    "start_time": "2022-06-09T07:28:01.549Z"
   },
   {
    "duration": 123,
    "start_time": "2022-06-09T07:28:41.071Z"
   },
   {
    "duration": 338,
    "start_time": "2022-06-09T07:28:57.015Z"
   },
   {
    "duration": 395,
    "start_time": "2022-06-09T07:29:23.091Z"
   },
   {
    "duration": 394,
    "start_time": "2022-06-09T07:40:46.784Z"
   },
   {
    "duration": 1026,
    "start_time": "2022-06-09T08:08:03.926Z"
   },
   {
    "duration": 81,
    "start_time": "2022-06-09T08:08:04.954Z"
   },
   {
    "duration": 5,
    "start_time": "2022-06-09T08:08:05.036Z"
   },
   {
    "duration": 27,
    "start_time": "2022-06-09T08:08:05.043Z"
   },
   {
    "duration": 17,
    "start_time": "2022-06-09T08:08:05.073Z"
   },
   {
    "duration": 10,
    "start_time": "2022-06-09T08:08:05.092Z"
   },
   {
    "duration": 27,
    "start_time": "2022-06-09T08:08:05.103Z"
   },
   {
    "duration": 10,
    "start_time": "2022-06-09T08:08:05.131Z"
   },
   {
    "duration": 11,
    "start_time": "2022-06-09T08:08:05.143Z"
   },
   {
    "duration": 7,
    "start_time": "2022-06-09T08:08:05.155Z"
   },
   {
    "duration": 11,
    "start_time": "2022-06-09T08:08:05.164Z"
   },
   {
    "duration": 21,
    "start_time": "2022-06-09T08:08:05.177Z"
   },
   {
    "duration": 32,
    "start_time": "2022-06-09T08:08:05.200Z"
   },
   {
    "duration": 65,
    "start_time": "2022-06-09T08:08:05.243Z"
   },
   {
    "duration": 241,
    "start_time": "2022-06-09T08:08:05.310Z"
   },
   {
    "duration": 13,
    "start_time": "2022-06-09T08:08:05.552Z"
   },
   {
    "duration": 276,
    "start_time": "2022-06-09T08:08:05.567Z"
   },
   {
    "duration": 24,
    "start_time": "2022-06-09T08:08:05.845Z"
   },
   {
    "duration": 20,
    "start_time": "2022-06-09T08:08:05.871Z"
   },
   {
    "duration": 255,
    "start_time": "2022-06-09T08:08:05.892Z"
   },
   {
    "duration": 256,
    "start_time": "2022-06-09T08:08:06.148Z"
   },
   {
    "duration": 232,
    "start_time": "2022-06-09T08:08:06.406Z"
   },
   {
    "duration": 11,
    "start_time": "2022-06-09T08:08:06.648Z"
   },
   {
    "duration": 30,
    "start_time": "2022-06-09T08:08:06.661Z"
   },
   {
    "duration": 16,
    "start_time": "2022-06-09T08:08:06.693Z"
   },
   {
    "duration": 224,
    "start_time": "2022-06-09T08:08:06.711Z"
   },
   {
    "duration": 4,
    "start_time": "2022-06-09T08:08:06.942Z"
   },
   {
    "duration": 469,
    "start_time": "2022-06-09T08:08:06.948Z"
   },
   {
    "duration": 350,
    "start_time": "2022-06-09T08:08:07.426Z"
   },
   {
    "duration": 364,
    "start_time": "2022-06-09T08:08:07.778Z"
   },
   {
    "duration": 407,
    "start_time": "2022-06-09T08:08:08.144Z"
   },
   {
    "duration": 416,
    "start_time": "2022-06-09T08:08:08.553Z"
   },
   {
    "duration": 394,
    "start_time": "2022-06-09T08:08:08.971Z"
   },
   {
    "duration": 299,
    "start_time": "2022-06-09T08:08:09.367Z"
   },
   {
    "duration": 321,
    "start_time": "2022-06-09T08:08:09.668Z"
   },
   {
    "duration": 313,
    "start_time": "2022-06-09T08:08:09.991Z"
   },
   {
    "duration": 295,
    "start_time": "2022-06-09T08:08:10.306Z"
   },
   {
    "duration": 355,
    "start_time": "2022-06-09T08:08:10.603Z"
   },
   {
    "duration": 46,
    "start_time": "2022-06-09T08:08:10.960Z"
   },
   {
    "duration": 28,
    "start_time": "2022-06-09T08:08:11.009Z"
   },
   {
    "duration": 16,
    "start_time": "2022-06-09T08:08:11.042Z"
   },
   {
    "duration": 16,
    "start_time": "2022-06-09T08:08:11.062Z"
   },
   {
    "duration": 22,
    "start_time": "2022-06-09T08:08:11.080Z"
   },
   {
    "duration": 24,
    "start_time": "2022-06-09T08:08:11.105Z"
   },
   {
    "duration": 32,
    "start_time": "2022-06-09T08:08:11.131Z"
   },
   {
    "duration": 1140,
    "start_time": "2022-06-09T19:34:02.921Z"
   },
   {
    "duration": 86,
    "start_time": "2022-06-09T19:34:04.064Z"
   },
   {
    "duration": 5,
    "start_time": "2022-06-09T19:34:04.152Z"
   },
   {
    "duration": 20,
    "start_time": "2022-06-09T19:34:04.159Z"
   },
   {
    "duration": 24,
    "start_time": "2022-06-09T19:34:04.195Z"
   },
   {
    "duration": 9,
    "start_time": "2022-06-09T19:34:04.221Z"
   },
   {
    "duration": 5,
    "start_time": "2022-06-09T19:34:04.232Z"
   },
   {
    "duration": 7,
    "start_time": "2022-06-09T19:34:04.239Z"
   },
   {
    "duration": 10,
    "start_time": "2022-06-09T19:34:04.247Z"
   },
   {
    "duration": 7,
    "start_time": "2022-06-09T19:34:04.259Z"
   },
   {
    "duration": 41,
    "start_time": "2022-06-09T19:34:04.267Z"
   },
   {
    "duration": 19,
    "start_time": "2022-06-09T19:34:04.310Z"
   },
   {
    "duration": 12,
    "start_time": "2022-06-09T19:34:04.331Z"
   },
   {
    "duration": 105,
    "start_time": "2022-06-09T19:34:04.348Z"
   },
   {
    "duration": 250,
    "start_time": "2022-06-09T19:34:04.454Z"
   },
   {
    "duration": 16,
    "start_time": "2022-06-09T19:34:04.705Z"
   },
   {
    "duration": 241,
    "start_time": "2022-06-09T19:34:04.723Z"
   },
   {
    "duration": 39,
    "start_time": "2022-06-09T19:34:04.966Z"
   },
   {
    "duration": 22,
    "start_time": "2022-06-09T19:34:05.007Z"
   },
   {
    "duration": 277,
    "start_time": "2022-06-09T19:34:05.030Z"
   },
   {
    "duration": 263,
    "start_time": "2022-06-09T19:34:05.309Z"
   },
   {
    "duration": 194,
    "start_time": "2022-06-09T19:34:05.574Z"
   },
   {
    "duration": 8,
    "start_time": "2022-06-09T19:34:05.770Z"
   },
   {
    "duration": 18,
    "start_time": "2022-06-09T19:34:05.779Z"
   },
   {
    "duration": 15,
    "start_time": "2022-06-09T19:34:05.801Z"
   },
   {
    "duration": 193,
    "start_time": "2022-06-09T19:34:05.818Z"
   },
   {
    "duration": 5,
    "start_time": "2022-06-09T19:34:06.013Z"
   },
   {
    "duration": 493,
    "start_time": "2022-06-09T19:34:06.019Z"
   },
   {
    "duration": 380,
    "start_time": "2022-06-09T19:34:06.514Z"
   },
   {
    "duration": 375,
    "start_time": "2022-06-09T19:34:06.898Z"
   },
   {
    "duration": 376,
    "start_time": "2022-06-09T19:34:07.274Z"
   },
   {
    "duration": 397,
    "start_time": "2022-06-09T19:34:07.652Z"
   },
   {
    "duration": 384,
    "start_time": "2022-06-09T19:34:08.052Z"
   },
   {
    "duration": 320,
    "start_time": "2022-06-09T19:34:08.437Z"
   },
   {
    "duration": 371,
    "start_time": "2022-06-09T19:34:08.758Z"
   },
   {
    "duration": 341,
    "start_time": "2022-06-09T19:34:09.132Z"
   },
   {
    "duration": 299,
    "start_time": "2022-06-09T19:34:09.475Z"
   },
   {
    "duration": 312,
    "start_time": "2022-06-09T19:34:09.776Z"
   },
   {
    "duration": 37,
    "start_time": "2022-06-09T19:34:10.090Z"
   },
   {
    "duration": 10,
    "start_time": "2022-06-09T19:34:10.129Z"
   },
   {
    "duration": 11,
    "start_time": "2022-06-09T19:34:10.142Z"
   },
   {
    "duration": 12,
    "start_time": "2022-06-09T19:34:10.154Z"
   },
   {
    "duration": 13,
    "start_time": "2022-06-09T19:34:10.194Z"
   },
   {
    "duration": 14,
    "start_time": "2022-06-09T19:34:10.209Z"
   },
   {
    "duration": 12,
    "start_time": "2022-06-09T19:34:10.224Z"
   },
   {
    "duration": 2689,
    "start_time": "2022-06-09T19:41:54.521Z"
   },
   {
    "duration": 4350,
    "start_time": "2022-06-09T19:46:55.301Z"
   },
   {
    "duration": 2887,
    "start_time": "2022-06-09T19:47:33.639Z"
   },
   {
    "duration": 104,
    "start_time": "2022-06-09T19:51:14.400Z"
   },
   {
    "duration": 2508,
    "start_time": "2022-06-09T19:51:34.089Z"
   },
   {
    "duration": 2482,
    "start_time": "2022-06-09T19:53:26.692Z"
   },
   {
    "duration": 2435,
    "start_time": "2022-06-09T19:53:54.519Z"
   },
   {
    "duration": 20,
    "start_time": "2022-06-09T19:56:08.822Z"
   },
   {
    "duration": 15,
    "start_time": "2022-06-09T19:56:42.632Z"
   },
   {
    "duration": 16,
    "start_time": "2022-06-09T19:56:58.944Z"
   },
   {
    "duration": 21,
    "start_time": "2022-06-09T19:58:54.281Z"
   },
   {
    "duration": 16,
    "start_time": "2022-06-09T20:00:05.721Z"
   },
   {
    "duration": 19,
    "start_time": "2022-06-09T20:01:41.885Z"
   },
   {
    "duration": 17,
    "start_time": "2022-06-09T20:02:01.940Z"
   },
   {
    "duration": 16,
    "start_time": "2022-06-09T20:03:17.939Z"
   },
   {
    "duration": 16,
    "start_time": "2022-06-09T20:05:04.608Z"
   },
   {
    "duration": 21,
    "start_time": "2022-06-09T20:05:44.277Z"
   },
   {
    "duration": 19,
    "start_time": "2022-06-09T20:06:13.209Z"
   },
   {
    "duration": 16,
    "start_time": "2022-06-09T20:10:07.236Z"
   },
   {
    "duration": 19,
    "start_time": "2022-06-09T20:10:29.309Z"
   },
   {
    "duration": 20,
    "start_time": "2022-06-09T20:10:43.209Z"
   },
   {
    "duration": 17,
    "start_time": "2022-06-09T20:10:45.835Z"
   },
   {
    "duration": 18,
    "start_time": "2022-06-09T20:11:26.883Z"
   },
   {
    "duration": 32,
    "start_time": "2022-06-09T20:11:38.294Z"
   },
   {
    "duration": 18,
    "start_time": "2022-06-09T20:11:45.282Z"
   },
   {
    "duration": 17,
    "start_time": "2022-06-09T20:11:51.630Z"
   },
   {
    "duration": 3024,
    "start_time": "2022-06-09T20:13:05.889Z"
   },
   {
    "duration": 13,
    "start_time": "2022-06-09T20:15:09.541Z"
   },
   {
    "duration": 27,
    "start_time": "2022-06-09T20:15:45.882Z"
   },
   {
    "duration": 2773,
    "start_time": "2022-06-09T20:18:41.688Z"
   },
   {
    "duration": 60,
    "start_time": "2022-06-09T20:40:30.115Z"
   },
   {
    "duration": 1233,
    "start_time": "2022-06-09T20:40:36.569Z"
   },
   {
    "duration": 118,
    "start_time": "2022-06-09T20:40:37.805Z"
   },
   {
    "duration": 8,
    "start_time": "2022-06-09T20:40:37.928Z"
   },
   {
    "duration": 30,
    "start_time": "2022-06-09T20:40:37.938Z"
   },
   {
    "duration": 25,
    "start_time": "2022-06-09T20:40:37.971Z"
   },
   {
    "duration": 11,
    "start_time": "2022-06-09T20:40:37.997Z"
   },
   {
    "duration": 15,
    "start_time": "2022-06-09T20:40:38.009Z"
   },
   {
    "duration": 28,
    "start_time": "2022-06-09T20:40:38.026Z"
   },
   {
    "duration": 10,
    "start_time": "2022-06-09T20:40:38.057Z"
   },
   {
    "duration": 10,
    "start_time": "2022-06-09T20:40:38.069Z"
   },
   {
    "duration": 12,
    "start_time": "2022-06-09T20:40:38.081Z"
   },
   {
    "duration": 21,
    "start_time": "2022-06-09T20:40:38.095Z"
   },
   {
    "duration": 55,
    "start_time": "2022-06-09T20:40:38.118Z"
   },
   {
    "duration": 106,
    "start_time": "2022-06-09T20:40:38.175Z"
   },
   {
    "duration": 269,
    "start_time": "2022-06-09T20:40:38.283Z"
   },
   {
    "duration": 15,
    "start_time": "2022-06-09T20:40:38.554Z"
   },
   {
    "duration": 325,
    "start_time": "2022-06-09T20:40:38.571Z"
   },
   {
    "duration": 30,
    "start_time": "2022-06-09T20:40:38.898Z"
   },
   {
    "duration": 35,
    "start_time": "2022-06-09T20:40:38.931Z"
   },
   {
    "duration": 343,
    "start_time": "2022-06-09T20:40:38.968Z"
   },
   {
    "duration": 300,
    "start_time": "2022-06-09T20:40:39.313Z"
   },
   {
    "duration": 193,
    "start_time": "2022-06-09T20:40:39.615Z"
   },
   {
    "duration": 10,
    "start_time": "2022-06-09T20:40:39.810Z"
   },
   {
    "duration": 12,
    "start_time": "2022-06-09T20:40:39.822Z"
   },
   {
    "duration": 8,
    "start_time": "2022-06-09T20:40:39.853Z"
   },
   {
    "duration": 196,
    "start_time": "2022-06-09T20:40:39.863Z"
   },
   {
    "duration": 5,
    "start_time": "2022-06-09T20:40:40.064Z"
   },
   {
    "duration": 505,
    "start_time": "2022-06-09T20:40:40.071Z"
   },
   {
    "duration": 430,
    "start_time": "2022-06-09T20:40:40.578Z"
   },
   {
    "duration": 413,
    "start_time": "2022-06-09T20:40:41.010Z"
   },
   {
    "duration": 395,
    "start_time": "2022-06-09T20:40:41.425Z"
   },
   {
    "duration": 380,
    "start_time": "2022-06-09T20:40:41.822Z"
   },
   {
    "duration": 402,
    "start_time": "2022-06-09T20:40:42.204Z"
   },
   {
    "duration": 3044,
    "start_time": "2022-06-09T20:40:42.609Z"
   },
   {
    "duration": 241,
    "start_time": "2022-06-09T20:40:45.655Z"
   },
   {
    "duration": 404,
    "start_time": "2022-06-09T20:40:45.898Z"
   },
   {
    "duration": 316,
    "start_time": "2022-06-09T20:40:46.304Z"
   },
   {
    "duration": 342,
    "start_time": "2022-06-09T20:40:46.622Z"
   },
   {
    "duration": 302,
    "start_time": "2022-06-09T20:40:46.967Z"
   },
   {
    "duration": 39,
    "start_time": "2022-06-09T20:40:47.272Z"
   },
   {
    "duration": 11,
    "start_time": "2022-06-09T20:40:47.313Z"
   },
   {
    "duration": 13,
    "start_time": "2022-06-09T20:40:47.351Z"
   },
   {
    "duration": 14,
    "start_time": "2022-06-09T20:40:47.366Z"
   },
   {
    "duration": 14,
    "start_time": "2022-06-09T20:40:47.382Z"
   },
   {
    "duration": 20,
    "start_time": "2022-06-09T20:40:47.399Z"
   },
   {
    "duration": 34,
    "start_time": "2022-06-09T20:40:47.421Z"
   }
  ],
  "kernelspec": {
   "display_name": "Python 3 (ipykernel)",
   "language": "python",
   "name": "python3"
  },
  "language_info": {
   "codemirror_mode": {
    "name": "ipython",
    "version": 3
   },
   "file_extension": ".py",
   "mimetype": "text/x-python",
   "name": "python",
   "nbconvert_exporter": "python",
   "pygments_lexer": "ipython3",
   "version": "3.9.7"
  },
  "toc": {
   "base_numbering": 1,
   "nav_menu": {},
   "number_sections": true,
   "sideBar": true,
   "skip_h1_title": true,
   "title_cell": "Table of Contents",
   "title_sidebar": "Contents",
   "toc_cell": false,
   "toc_position": {
    "height": "calc(100% - 180px)",
    "left": "10px",
    "top": "150px",
    "width": "165px"
   },
   "toc_section_display": true,
   "toc_window_display": true
  }
 },
 "nbformat": 4,
 "nbformat_minor": 2
}
