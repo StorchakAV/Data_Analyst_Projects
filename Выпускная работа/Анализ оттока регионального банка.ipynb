{
 "cells": [
  {
   "cell_type": "markdown",
   "metadata": {},
   "source": [
    "# Анализ оттока клиентов регионального банка"
   ]
  },
  {
   "cell_type": "markdown",
   "metadata": {},
   "source": [
    "## Описание проекта"
   ]
  },
  {
   "cell_type": "markdown",
   "metadata": {},
   "source": [
    "### Материалы\n",
    "\n",
    "[Презентация](https://disk.yandex.ru/i/DEDNweHM9p_Tww)\n",
    "\n",
    "[Дашборд на выбор](https://public.tableau.com/views/_16647376413540/sheet2?:language=en-US&publish=yes&:display_count=n&:origin=viz_share_link)"
   ]
  },
  {
   "cell_type": "markdown",
   "metadata": {},
   "source": [
    "### Задача"
   ]
  },
  {
   "cell_type": "markdown",
   "metadata": {},
   "source": [
    "Проанализировать отток клиентов и сформировать рекомендации для их удержания."
   ]
  },
  {
   "cell_type": "markdown",
   "metadata": {},
   "source": [
    "### План исследования"
   ]
  },
  {
   "cell_type": "markdown",
   "metadata": {},
   "source": [
    "1. Подготовить данные\n",
    "2. Провести исследовательский анализ\n",
    "3. Проверить статистические гипотезы \n",
    "4. Сделать общий вывод и предложить рекомендации   "
   ]
  },
  {
   "cell_type": "markdown",
   "metadata": {},
   "source": [
    "### Структура данных"
   ]
  },
  {
   "cell_type": "markdown",
   "metadata": {},
   "source": [
    "Датасет содержит данные о клиентах банка «Метанпром». Банк располагается в Ярославле и областных городах: Ростов Великий и Рыбинск.\n",
    "\n",
    "Колонки:\n",
    "\n",
    "- `userid` — идентификатор пользователя;\n",
    "- `score` — баллы кредитного скоринга;\n",
    "- `City` — город;\n",
    "- `Gender` — пол;\n",
    "- `Age` — возраст;\n",
    "- `Objects` — количество объектов в собственности;\n",
    "- `Balance` — баланс на счёте;\n",
    "- `Products` — количество используемых продуктов: дебетовая карта, кредитная карта, вклад, кредит;\n",
    "- `CreditCard` — есть ли кредитная карта;\n",
    "- `Loyalty` — активный или нет: совершает ли клиент целевое действие в заданный промежуток времени;\n",
    "- `estimated_salary` — предполагаемая заработная плата;\n",
    "- `Churn` — ушёл или нет."
   ]
  },
  {
   "cell_type": "markdown",
   "metadata": {},
   "source": [
    "## Знакомство с данными "
   ]
  },
  {
   "cell_type": "code",
   "execution_count": 1,
   "metadata": {},
   "outputs": [
    {
     "data": {
      "text/html": [
       "<style>.container { width:100% !important; }</style>"
      ],
      "text/plain": [
       "<IPython.core.display.HTML object>"
      ]
     },
     "metadata": {},
     "output_type": "display_data"
    }
   ],
   "source": [
    "# импорт библиотек\n",
    "import pandas as pd\n",
    "import numpy as np\n",
    "import seaborn as sns\n",
    "import math as mth\n",
    "import matplotlib.pyplot as plt\n",
    "from scipy import stats as st\n",
    "from scipy.stats import ks_2samp\n",
    "\n",
    "import warnings\n",
    "warnings.filterwarnings('ignore')\n",
    "from IPython.display import display, HTML\n",
    "display(HTML(\"<style>.container { width:100% !important; }</style>\"))"
   ]
  },
  {
   "cell_type": "code",
   "execution_count": 2,
   "metadata": {},
   "outputs": [
    {
     "name": "stdout",
     "output_type": "stream",
     "text": [
      "<class 'pandas.core.frame.DataFrame'>\n",
      "RangeIndex: 10000 entries, 0 to 9999\n",
      "Data columns (total 12 columns):\n",
      " #   Column            Non-Null Count  Dtype  \n",
      "---  ------            --------------  -----  \n",
      " 0   userid            10000 non-null  int64  \n",
      " 1   score             10000 non-null  int64  \n",
      " 2   City              10000 non-null  object \n",
      " 3   Gender            10000 non-null  object \n",
      " 4   Age               10000 non-null  int64  \n",
      " 5   Objects           10000 non-null  int64  \n",
      " 6   Balance           6383 non-null   float64\n",
      " 7   Products          10000 non-null  int64  \n",
      " 8   CreditCard        10000 non-null  int64  \n",
      " 9   Loyalty           10000 non-null  int64  \n",
      " 10  estimated_salary  10000 non-null  float64\n",
      " 11  Churn             10000 non-null  int64  \n",
      "dtypes: float64(2), int64(8), object(2)\n",
      "memory usage: 937.6+ KB\n"
     ]
    },
    {
     "data": {
      "text/html": [
       "<div>\n",
       "<style scoped>\n",
       "    .dataframe tbody tr th:only-of-type {\n",
       "        vertical-align: middle;\n",
       "    }\n",
       "\n",
       "    .dataframe tbody tr th {\n",
       "        vertical-align: top;\n",
       "    }\n",
       "\n",
       "    .dataframe thead th {\n",
       "        text-align: right;\n",
       "    }\n",
       "</style>\n",
       "<table border=\"1\" class=\"dataframe\">\n",
       "  <thead>\n",
       "    <tr style=\"text-align: right;\">\n",
       "      <th></th>\n",
       "      <th>userid</th>\n",
       "      <th>score</th>\n",
       "      <th>City</th>\n",
       "      <th>Gender</th>\n",
       "      <th>Age</th>\n",
       "      <th>Objects</th>\n",
       "      <th>Balance</th>\n",
       "      <th>Products</th>\n",
       "      <th>CreditCard</th>\n",
       "      <th>Loyalty</th>\n",
       "      <th>estimated_salary</th>\n",
       "      <th>Churn</th>\n",
       "    </tr>\n",
       "  </thead>\n",
       "  <tbody>\n",
       "    <tr>\n",
       "      <th>0</th>\n",
       "      <td>15677338</td>\n",
       "      <td>619</td>\n",
       "      <td>Ярославль</td>\n",
       "      <td>Ж</td>\n",
       "      <td>42</td>\n",
       "      <td>2</td>\n",
       "      <td>NaN</td>\n",
       "      <td>1</td>\n",
       "      <td>1</td>\n",
       "      <td>1</td>\n",
       "      <td>101348.88</td>\n",
       "      <td>1</td>\n",
       "    </tr>\n",
       "    <tr>\n",
       "      <th>1</th>\n",
       "      <td>15690047</td>\n",
       "      <td>608</td>\n",
       "      <td>Рыбинск</td>\n",
       "      <td>Ж</td>\n",
       "      <td>41</td>\n",
       "      <td>1</td>\n",
       "      <td>83807.86</td>\n",
       "      <td>1</td>\n",
       "      <td>0</td>\n",
       "      <td>1</td>\n",
       "      <td>112542.58</td>\n",
       "      <td>0</td>\n",
       "    </tr>\n",
       "    <tr>\n",
       "      <th>2</th>\n",
       "      <td>15662040</td>\n",
       "      <td>502</td>\n",
       "      <td>Ярославль</td>\n",
       "      <td>Ж</td>\n",
       "      <td>42</td>\n",
       "      <td>8</td>\n",
       "      <td>159660.80</td>\n",
       "      <td>3</td>\n",
       "      <td>1</td>\n",
       "      <td>0</td>\n",
       "      <td>113931.57</td>\n",
       "      <td>1</td>\n",
       "    </tr>\n",
       "    <tr>\n",
       "      <th>3</th>\n",
       "      <td>15744090</td>\n",
       "      <td>699</td>\n",
       "      <td>Ярославль</td>\n",
       "      <td>Ж</td>\n",
       "      <td>39</td>\n",
       "      <td>1</td>\n",
       "      <td>NaN</td>\n",
       "      <td>2</td>\n",
       "      <td>0</td>\n",
       "      <td>0</td>\n",
       "      <td>93826.63</td>\n",
       "      <td>0</td>\n",
       "    </tr>\n",
       "    <tr>\n",
       "      <th>4</th>\n",
       "      <td>15780624</td>\n",
       "      <td>850</td>\n",
       "      <td>Рыбинск</td>\n",
       "      <td>Ж</td>\n",
       "      <td>43</td>\n",
       "      <td>2</td>\n",
       "      <td>125510.82</td>\n",
       "      <td>1</td>\n",
       "      <td>1</td>\n",
       "      <td>1</td>\n",
       "      <td>79084.10</td>\n",
       "      <td>0</td>\n",
       "    </tr>\n",
       "  </tbody>\n",
       "</table>\n",
       "</div>"
      ],
      "text/plain": [
       "     userid  score       City Gender  Age  Objects    Balance  Products  \\\n",
       "0  15677338    619  Ярославль      Ж   42        2        NaN         1   \n",
       "1  15690047    608    Рыбинск      Ж   41        1   83807.86         1   \n",
       "2  15662040    502  Ярославль      Ж   42        8  159660.80         3   \n",
       "3  15744090    699  Ярославль      Ж   39        1        NaN         2   \n",
       "4  15780624    850    Рыбинск      Ж   43        2  125510.82         1   \n",
       "\n",
       "   CreditCard  Loyalty  estimated_salary  Churn  \n",
       "0           1        1         101348.88      1  \n",
       "1           0        1         112542.58      0  \n",
       "2           1        0         113931.57      1  \n",
       "3           0        0          93826.63      0  \n",
       "4           1        1          79084.10      0  "
      ]
     },
     "execution_count": 2,
     "metadata": {},
     "output_type": "execute_result"
    }
   ],
   "source": [
    "# загрузка данных\n",
    "df = pd.read_csv('bank_dataset.csv')\n",
    "\n",
    "# вывод информации по датасету\n",
    "df.info()\n",
    "df.head()"
   ]
  },
  {
   "cell_type": "code",
   "execution_count": 3,
   "metadata": {},
   "outputs": [
    {
     "name": "stdout",
     "output_type": "stream",
     "text": [
      "Количество дубликатов в датасете - 0\n"
     ]
    }
   ],
   "source": [
    "# проверка явных дубликатов\n",
    "print('Количество дубликатов в датасете -', df.duplicated().sum())"
   ]
  },
  {
   "cell_type": "markdown",
   "metadata": {},
   "source": [
    "### Промежуточный вывод"
   ]
  },
  {
   "cell_type": "markdown",
   "metadata": {},
   "source": [
    "- Датасет состоит из 12 столбцов и 10 тысяч строк,\n",
    "- Названия колонок не соответствует стилистике,\n",
    "- В столбце 'Balance' имеются пропуски в данных,\n",
    "- Типы данных указаны верно,\n",
    "- Явных дубликатов не обнаружено."
   ]
  },
  {
   "cell_type": "markdown",
   "metadata": {},
   "source": [
    "## Предобработка данных"
   ]
  },
  {
   "cell_type": "markdown",
   "metadata": {},
   "source": [
    "### Переименование столбцов"
   ]
  },
  {
   "cell_type": "code",
   "execution_count": 4,
   "metadata": {},
   "outputs": [
    {
     "data": {
      "text/plain": [
       "Index(['user_id', 'score', 'city', 'gender', 'age', 'objects', 'balance',\n",
       "       'products', 'credit_card', 'loyalty', 'estimated_salary', 'churn'],\n",
       "      dtype='object')"
      ]
     },
     "execution_count": 4,
     "metadata": {},
     "output_type": "execute_result"
    }
   ],
   "source": [
    "# приведение к нижнему регистру\n",
    "df.columns = [x.lower() for x in df.columns]\n",
    "\n",
    "# разделение нижним подчеркиванием двух и более слов в названии столбцов\n",
    "df = df.rename(columns={'userid':'user_id', 'creditcard':'credit_card'})\n",
    "\n",
    "# проверка названий столбцов\n",
    "df.columns"
   ]
  },
  {
   "cell_type": "markdown",
   "metadata": {},
   "source": [
    "### Обработка пропусков в столбце 'Balance'"
   ]
  },
  {
   "cell_type": "code",
   "execution_count": 5,
   "metadata": {
    "scrolled": true
   },
   "outputs": [
    {
     "name": "stdout",
     "output_type": "stream",
     "text": [
      "Balance: \n",
      "Кол-во пропусков - 3617 \n",
      "Процент пропусков - 36.17 %\n"
     ]
    }
   ],
   "source": [
    "print('Balance:', \\\n",
    "      '\\nКол-во пропусков -', df['balance'].isna().sum(), \\\n",
    "      '\\nПроцент пропусков -', round(df['balance'].isna().sum() / len(df) * 100, 2), '%')"
   ]
  },
  {
   "cell_type": "markdown",
   "metadata": {},
   "source": [
    "Пропущена треть данных в столбце с балансом на счетах клиентов. Предполагаю, что пропуски сформированы специально для учебных целей, однако важно понимать, что в реальных данных это серьезная проблема, о которой нужно срочно сообщать дата инженерам.  Для сохранности параметров распределения заполняемой переменной - математического ожидания и дисперсии - заполним пропуски медианой, а не средним значением, так как столбец с балансом представлен в денежном выражении и подвержен выбросам."
   ]
  },
  {
   "cell_type": "code",
   "execution_count": 6,
   "metadata": {},
   "outputs": [
    {
     "data": {
      "text/plain": [
       "count     10000.000000\n",
       "mean     100090.239881\n",
       "std       57510.492818\n",
       "min          11.580000\n",
       "25%       51002.110000\n",
       "50%      100193.915000\n",
       "75%      149388.247500\n",
       "max      199992.480000\n",
       "Name: estimated_salary, dtype: float64"
      ]
     },
     "execution_count": 6,
     "metadata": {},
     "output_type": "execute_result"
    }
   ],
   "source": [
    "# выбор квартилей для разбивки по классам\n",
    "df['estimated_salary'].describe()"
   ]
  },
  {
   "cell_type": "code",
   "execution_count": 7,
   "metadata": {},
   "outputs": [
    {
     "data": {
      "text/plain": [
       "C    2555\n",
       "A    2500\n",
       "B    2490\n",
       "D    2455\n",
       "Name: salary_class, dtype: int64"
      ]
     },
     "execution_count": 7,
     "metadata": {},
     "output_type": "execute_result"
    }
   ],
   "source": [
    "def salary(income):\n",
    "    \n",
    "    '''\n",
    "    Функция для присвоения каждому клиенту класса, в зависимости от предполагаемого дохода.\n",
    "    Классы формируем на основе квартилей\n",
    "    '''\n",
    "    \n",
    "    if income <= 51000:\n",
    "        return 'A'\n",
    "    elif income <= 100000:\n",
    "        return 'B'\n",
    "    elif income <= 150000:\n",
    "        return 'C'\n",
    "    else:\n",
    "        return 'D'\n",
    "    \n",
    "df['salary_class'] = df['estimated_salary'].apply(salary)\n",
    "\n",
    "# смотрим распределение классов\n",
    "df['salary_class'].value_counts(sort=True)"
   ]
  },
  {
   "cell_type": "code",
   "execution_count": 8,
   "metadata": {},
   "outputs": [
    {
     "name": "stdout",
     "output_type": "stream",
     "text": [
      "A\n",
      "B\n",
      "C\n",
      "D\n"
     ]
    }
   ],
   "source": [
    "# проверка функции\n",
    "print(salary(10), salary(53000), salary(121000), salary(187000), sep='\\n')"
   ]
  },
  {
   "cell_type": "code",
   "execution_count": 9,
   "metadata": {},
   "outputs": [],
   "source": [
    "# заполнение пропусков медианой по сгруппированным классам\n",
    "df['balance'] = df['balance'].fillna(df.groupby('salary_class')['balance'].transform('median'))"
   ]
  },
  {
   "cell_type": "code",
   "execution_count": 10,
   "metadata": {},
   "outputs": [
    {
     "name": "stdout",
     "output_type": "stream",
     "text": [
      "<class 'pandas.core.frame.DataFrame'>\n",
      "RangeIndex: 10000 entries, 0 to 9999\n",
      "Data columns (total 13 columns):\n",
      " #   Column            Non-Null Count  Dtype  \n",
      "---  ------            --------------  -----  \n",
      " 0   user_id           10000 non-null  int64  \n",
      " 1   score             10000 non-null  int64  \n",
      " 2   city              10000 non-null  object \n",
      " 3   gender            10000 non-null  object \n",
      " 4   age               10000 non-null  int64  \n",
      " 5   objects           10000 non-null  int64  \n",
      " 6   balance           10000 non-null  float64\n",
      " 7   products          10000 non-null  int64  \n",
      " 8   credit_card       10000 non-null  int64  \n",
      " 9   loyalty           10000 non-null  int64  \n",
      " 10  estimated_salary  10000 non-null  float64\n",
      " 11  churn             10000 non-null  int64  \n",
      " 12  salary_class      10000 non-null  object \n",
      "dtypes: float64(2), int64(8), object(3)\n",
      "memory usage: 1015.8+ KB\n"
     ]
    }
   ],
   "source": [
    "# финальная проверка данных\n",
    "df.info()"
   ]
  },
  {
   "cell_type": "markdown",
   "metadata": {},
   "source": [
    "### Промежуточный вывод"
   ]
  },
  {
   "cell_type": "markdown",
   "metadata": {},
   "source": [
    "- Названия колонок привели в соответствие стилистике Python,\n",
    "- Разделили клиентов банка на 4 класса по предполагаемой зарплате,\n",
    "- Пропущенные значения в столбце 'balance' заполнили медианой по принадлежности к классу."
   ]
  },
  {
   "cell_type": "markdown",
   "metadata": {},
   "source": [
    "## Исследовательский анализ данных"
   ]
  },
  {
   "cell_type": "markdown",
   "metadata": {},
   "source": [
    "### Общий анализ данных"
   ]
  },
  {
   "cell_type": "code",
   "execution_count": 11,
   "metadata": {},
   "outputs": [
    {
     "data": {
      "text/html": [
       "<div>\n",
       "<style scoped>\n",
       "    .dataframe tbody tr th:only-of-type {\n",
       "        vertical-align: middle;\n",
       "    }\n",
       "\n",
       "    .dataframe tbody tr th {\n",
       "        vertical-align: top;\n",
       "    }\n",
       "\n",
       "    .dataframe thead th {\n",
       "        text-align: right;\n",
       "    }\n",
       "</style>\n",
       "<table border=\"1\" class=\"dataframe\">\n",
       "  <thead>\n",
       "    <tr style=\"text-align: right;\">\n",
       "      <th></th>\n",
       "      <th>score</th>\n",
       "      <th>age</th>\n",
       "      <th>objects</th>\n",
       "      <th>balance</th>\n",
       "      <th>products</th>\n",
       "      <th>credit_card</th>\n",
       "      <th>loyalty</th>\n",
       "      <th>estimated_salary</th>\n",
       "      <th>churn</th>\n",
       "    </tr>\n",
       "  </thead>\n",
       "  <tbody>\n",
       "    <tr>\n",
       "      <th>count</th>\n",
       "      <td>10000.00</td>\n",
       "      <td>10000.00</td>\n",
       "      <td>10000.00</td>\n",
       "      <td>10000.00</td>\n",
       "      <td>10000.00</td>\n",
       "      <td>10000.00</td>\n",
       "      <td>10000.00</td>\n",
       "      <td>10000.00</td>\n",
       "      <td>10000.0</td>\n",
       "    </tr>\n",
       "    <tr>\n",
       "      <th>mean</th>\n",
       "      <td>650.53</td>\n",
       "      <td>38.92</td>\n",
       "      <td>5.01</td>\n",
       "      <td>119873.73</td>\n",
       "      <td>1.53</td>\n",
       "      <td>0.71</td>\n",
       "      <td>0.52</td>\n",
       "      <td>100090.24</td>\n",
       "      <td>0.2</td>\n",
       "    </tr>\n",
       "    <tr>\n",
       "      <th>std</th>\n",
       "      <td>96.65</td>\n",
       "      <td>10.49</td>\n",
       "      <td>2.89</td>\n",
       "      <td>24044.94</td>\n",
       "      <td>0.58</td>\n",
       "      <td>0.46</td>\n",
       "      <td>0.50</td>\n",
       "      <td>57510.49</td>\n",
       "      <td>0.4</td>\n",
       "    </tr>\n",
       "    <tr>\n",
       "      <th>min</th>\n",
       "      <td>350.00</td>\n",
       "      <td>18.00</td>\n",
       "      <td>0.00</td>\n",
       "      <td>3768.69</td>\n",
       "      <td>1.00</td>\n",
       "      <td>0.00</td>\n",
       "      <td>0.00</td>\n",
       "      <td>11.58</td>\n",
       "      <td>0.0</td>\n",
       "    </tr>\n",
       "    <tr>\n",
       "      <th>25%</th>\n",
       "      <td>584.00</td>\n",
       "      <td>32.00</td>\n",
       "      <td>3.00</td>\n",
       "      <td>111581.13</td>\n",
       "      <td>1.00</td>\n",
       "      <td>0.00</td>\n",
       "      <td>0.00</td>\n",
       "      <td>51002.11</td>\n",
       "      <td>0.0</td>\n",
       "    </tr>\n",
       "    <tr>\n",
       "      <th>50%</th>\n",
       "      <td>652.00</td>\n",
       "      <td>37.00</td>\n",
       "      <td>5.00</td>\n",
       "      <td>119656.45</td>\n",
       "      <td>1.00</td>\n",
       "      <td>1.00</td>\n",
       "      <td>1.00</td>\n",
       "      <td>100193.92</td>\n",
       "      <td>0.0</td>\n",
       "    </tr>\n",
       "    <tr>\n",
       "      <th>75%</th>\n",
       "      <td>718.00</td>\n",
       "      <td>44.00</td>\n",
       "      <td>7.00</td>\n",
       "      <td>127644.24</td>\n",
       "      <td>2.00</td>\n",
       "      <td>1.00</td>\n",
       "      <td>1.00</td>\n",
       "      <td>149388.25</td>\n",
       "      <td>0.0</td>\n",
       "    </tr>\n",
       "    <tr>\n",
       "      <th>max</th>\n",
       "      <td>850.00</td>\n",
       "      <td>92.00</td>\n",
       "      <td>10.00</td>\n",
       "      <td>250898.09</td>\n",
       "      <td>4.00</td>\n",
       "      <td>1.00</td>\n",
       "      <td>1.00</td>\n",
       "      <td>199992.48</td>\n",
       "      <td>1.0</td>\n",
       "    </tr>\n",
       "  </tbody>\n",
       "</table>\n",
       "</div>"
      ],
      "text/plain": [
       "          score       age   objects    balance  products  credit_card  \\\n",
       "count  10000.00  10000.00  10000.00   10000.00  10000.00     10000.00   \n",
       "mean     650.53     38.92      5.01  119873.73      1.53         0.71   \n",
       "std       96.65     10.49      2.89   24044.94      0.58         0.46   \n",
       "min      350.00     18.00      0.00    3768.69      1.00         0.00   \n",
       "25%      584.00     32.00      3.00  111581.13      1.00         0.00   \n",
       "50%      652.00     37.00      5.00  119656.45      1.00         1.00   \n",
       "75%      718.00     44.00      7.00  127644.24      2.00         1.00   \n",
       "max      850.00     92.00     10.00  250898.09      4.00         1.00   \n",
       "\n",
       "        loyalty  estimated_salary    churn  \n",
       "count  10000.00          10000.00  10000.0  \n",
       "mean       0.52         100090.24      0.2  \n",
       "std        0.50          57510.49      0.4  \n",
       "min        0.00             11.58      0.0  \n",
       "25%        0.00          51002.11      0.0  \n",
       "50%        1.00         100193.92      0.0  \n",
       "75%        1.00         149388.25      0.0  \n",
       "max        1.00         199992.48      1.0  "
      ]
     },
     "execution_count": 11,
     "metadata": {},
     "output_type": "execute_result"
    }
   ],
   "source": [
    "# анализ данных методом описательной статистики\n",
    "df.drop(columns={'user_id'}).describe().round(2)"
   ]
  },
  {
   "cell_type": "code",
   "execution_count": 12,
   "metadata": {},
   "outputs": [
    {
     "data": {
      "text/plain": [
       "Ярославль         5014\n",
       "Ростов Великий    2509\n",
       "Рыбинск           2477\n",
       "Name: city, dtype: int64"
      ]
     },
     "execution_count": 12,
     "metadata": {},
     "output_type": "execute_result"
    }
   ],
   "source": [
    "# подсчет количества клиентов в каждом городе\n",
    "df['city'].value_counts()"
   ]
  },
  {
   "cell_type": "code",
   "execution_count": 13,
   "metadata": {},
   "outputs": [
    {
     "data": {
      "text/plain": [
       "М    5457\n",
       "Ж    4543\n",
       "Name: gender, dtype: int64"
      ]
     },
     "execution_count": 13,
     "metadata": {},
     "output_type": "execute_result"
    }
   ],
   "source": [
    "# подсчет количества мужчин и женщин\n",
    "df['gender'].value_counts()"
   ]
  },
  {
   "cell_type": "markdown",
   "metadata": {},
   "source": [
    "**Вывод:**\n",
    "\n",
    "- Аномалий не выявлено, \n",
    "- Возрастная категория от 18 до 92 лет, средний возраст - 39 лет,\n",
    "- 50% клиентов из города Ярославль и по 25% из городов Рыбинск и Ростов Великий,\n",
    "- 45% клиентов - женщины, 55% - мужчины,\n",
    "- Средний доход - 100 тыс. руб.,\n",
    "- Количество объектов в собственности от 0 до 10, в среднем - 5,\n",
    "- Кредитной картой в среднем пользуется 70% клиентов,\n",
    "- Средний отток за исследуемый период - 20% клиентов."
   ]
  },
  {
   "cell_type": "markdown",
   "metadata": {},
   "source": [
    "### Анализ средних значений признаков для тех, кто ушел и тех, кто остался"
   ]
  },
  {
   "cell_type": "code",
   "execution_count": 14,
   "metadata": {},
   "outputs": [
    {
     "data": {
      "text/html": [
       "<div>\n",
       "<style scoped>\n",
       "    .dataframe tbody tr th:only-of-type {\n",
       "        vertical-align: middle;\n",
       "    }\n",
       "\n",
       "    .dataframe tbody tr th {\n",
       "        vertical-align: top;\n",
       "    }\n",
       "\n",
       "    .dataframe thead th {\n",
       "        text-align: right;\n",
       "    }\n",
       "</style>\n",
       "<table border=\"1\" class=\"dataframe\">\n",
       "  <thead>\n",
       "    <tr style=\"text-align: right;\">\n",
       "      <th>churn</th>\n",
       "      <th>0</th>\n",
       "      <th>1</th>\n",
       "    </tr>\n",
       "  </thead>\n",
       "  <tbody>\n",
       "    <tr>\n",
       "      <th>score</th>\n",
       "      <td>651.85</td>\n",
       "      <td>645.35</td>\n",
       "    </tr>\n",
       "    <tr>\n",
       "      <th>age</th>\n",
       "      <td>37.41</td>\n",
       "      <td>44.84</td>\n",
       "    </tr>\n",
       "    <tr>\n",
       "      <th>objects</th>\n",
       "      <td>5.03</td>\n",
       "      <td>4.93</td>\n",
       "    </tr>\n",
       "    <tr>\n",
       "      <th>balance</th>\n",
       "      <td>119700.29</td>\n",
       "      <td>120551.75</td>\n",
       "    </tr>\n",
       "    <tr>\n",
       "      <th>products</th>\n",
       "      <td>1.54</td>\n",
       "      <td>1.48</td>\n",
       "    </tr>\n",
       "    <tr>\n",
       "      <th>credit_card</th>\n",
       "      <td>0.71</td>\n",
       "      <td>0.70</td>\n",
       "    </tr>\n",
       "    <tr>\n",
       "      <th>loyalty</th>\n",
       "      <td>0.55</td>\n",
       "      <td>0.36</td>\n",
       "    </tr>\n",
       "    <tr>\n",
       "      <th>estimated_salary</th>\n",
       "      <td>99738.39</td>\n",
       "      <td>101465.68</td>\n",
       "    </tr>\n",
       "  </tbody>\n",
       "</table>\n",
       "</div>"
      ],
      "text/plain": [
       "churn                     0          1\n",
       "score                651.85     645.35\n",
       "age                   37.41      44.84\n",
       "objects                5.03       4.93\n",
       "balance           119700.29  120551.75\n",
       "products               1.54       1.48\n",
       "credit_card            0.71       0.70\n",
       "loyalty                0.55       0.36\n",
       "estimated_salary   99738.39  101465.68"
      ]
     },
     "execution_count": 14,
     "metadata": {},
     "output_type": "execute_result"
    }
   ],
   "source": [
    "# средние значения признаков для тех, кто ушел (1) и тех, кто остался (0)\n",
    "df.drop(columns={'user_id'}).groupby('churn').mean().T.round(2)"
   ]
  },
  {
   "cell_type": "markdown",
   "metadata": {},
   "source": [
    "Отличительные черты ушедших клиентов:\n",
    "- в среднем меньшее количество баллов кредитного скорринга: 645 вместо 652;\n",
    "- средний возраст выше: 45 лет вместо 37;\n",
    "- лояльность клиентов 36% вместо 55%: реже заходят в мобильное приложение, совершают меньше транзакций, не звонят на горячую линию и т.д.;\n",
    "- предполагаемая зарплата в среднем выше на 1700 руб. или 1,7%."
   ]
  },
  {
   "cell_type": "code",
   "execution_count": 15,
   "metadata": {},
   "outputs": [
    {
     "data": {
      "image/png": "[encoded data removed]",
      "text/plain": [
       "<Figure size 1800x432 with 4 Axes>"
      ]
     },
     "metadata": {
      "needs_background": "light"
     },
     "output_type": "display_data"
    }
   ],
   "source": [
    "# построение гистограмм признаков для тех, кто ушел (1) и тех, кто остался (0)\n",
    "df_hist = [\n",
    "    'score',\n",
    "    'age',\n",
    "    'balance',\n",
    "    'estimated_salary',\n",
    "]\n",
    "\n",
    "fig, axes = plt.subplots(nrows=1, ncols=4, figsize=(25,6))\n",
    "fig.suptitle('Распределение признаков для тех, кто ушел (1) и тех, кто остался (0)', fontsize=16)\n",
    "for i in range(len(df_hist)):\n",
    "    sns.histplot(df,\n",
    "                 x = df_hist[i],\n",
    "                 kde = True,\n",
    "                 hue = 'churn',\n",
    "                 bins = 10,\n",
    "                 ax = axes.flatten()[i],\n",
    "                 palette = 'inferno_r')"
   ]
  },
  {
   "cell_type": "markdown",
   "metadata": {},
   "source": [
    "- График баллов кредитного скорринга распределен нормально со сдвигом вправо и для ушедших и для оставшихся клиентов;\n",
    "- Необходимо проверить гипотезу о влиянии среднего балла кредитного скорринга на отток клиентов. Есть вероятность обнаружить неявную зависимость;\n",
    "- Гистограмма возраста клиентов соответствует нормальному распределению с положительной асимметрией;\n",
    "- Средний возраст ушедших клиентов выше;\n",
    "- График баланса распределен нормально для каждой группы с пиковым значением 100 тыс.руб.;\n",
    "- Гистограмма зарплат клиентов напоминает равномерное распределение для каждой группы, что довольно необычно."
   ]
  },
  {
   "cell_type": "code",
   "execution_count": 16,
   "metadata": {},
   "outputs": [
    {
     "data": {
      "image/png": "[encoded data removed]",
      "text/plain": [
       "<Figure size 1800x864 with 6 Axes>"
      ]
     },
     "metadata": {
      "needs_background": "light"
     },
     "output_type": "display_data"
    }
   ],
   "source": [
    "# построение гистограмм признаков для тех, кто ушел (1) и тех, кто остался (0)\n",
    "df_bar = [\n",
    "    'city',\n",
    "    'gender',\n",
    "    'objects',\n",
    "    'products',\n",
    "    'credit_card',\n",
    "    'loyalty'\n",
    "]\n",
    "\n",
    "fig, axes = plt.subplots(nrows=2, ncols=3, figsize=(25, 12))\n",
    "fig.suptitle('Распределение признаков для тех, кто ушел (1) и тех, кто остался (0)', fontsize=16)\n",
    "for i in range(len(df_bar)):\n",
    "    sns.countplot(data = df,\n",
    "                  x = df_bar[i],\n",
    "                  hue = 'churn',\n",
    "                  ax = axes.flatten()[i],\n",
    "                  palette = 'inferno_r')"
   ]
  },
  {
   "cell_type": "code",
   "execution_count": 17,
   "metadata": {},
   "outputs": [
    {
     "data": {
      "text/plain": [
       "city\n",
       "Ростов Великий    0.32\n",
       "Рыбинск           0.17\n",
       "Ярославль         0.16\n",
       "Name: churn, dtype: float64"
      ]
     },
     "execution_count": 17,
     "metadata": {},
     "output_type": "execute_result"
    }
   ],
   "source": [
    "# расчет доли оттока клиентов для каждого города\n",
    "df.groupby('city')['churn'].mean().round(2)"
   ]
  },
  {
   "cell_type": "code",
   "execution_count": 18,
   "metadata": {},
   "outputs": [
    {
     "data": {
      "text/plain": [
       "city            gender\n",
       "Ростов Великий  Ж         0.38\n",
       "                М         0.28\n",
       "Рыбинск         Ж         0.21\n",
       "                М         0.13\n",
       "Ярославль       Ж         0.20\n",
       "                М         0.13\n",
       "Name: churn, dtype: float64"
      ]
     },
     "execution_count": 18,
     "metadata": {},
     "output_type": "execute_result"
    }
   ],
   "source": [
    "# расчет доли оттока клиентов для каждого города в разбивке по гендеру\n",
    "df.groupby(['city', 'gender'])['churn'].mean().round(2)"
   ]
  },
  {
   "cell_type": "code",
   "execution_count": 19,
   "metadata": {},
   "outputs": [
    {
     "data": {
      "text/html": [
       "<div>\n",
       "<style scoped>\n",
       "    .dataframe tbody tr th:only-of-type {\n",
       "        vertical-align: middle;\n",
       "    }\n",
       "\n",
       "    .dataframe tbody tr th {\n",
       "        vertical-align: top;\n",
       "    }\n",
       "\n",
       "    .dataframe thead th {\n",
       "        text-align: right;\n",
       "    }\n",
       "</style>\n",
       "<table border=\"1\" class=\"dataframe\">\n",
       "  <thead>\n",
       "    <tr style=\"text-align: right;\">\n",
       "      <th></th>\n",
       "      <th>count</th>\n",
       "      <th>sum</th>\n",
       "      <th>mean</th>\n",
       "    </tr>\n",
       "    <tr>\n",
       "      <th>products</th>\n",
       "      <th></th>\n",
       "      <th></th>\n",
       "      <th></th>\n",
       "    </tr>\n",
       "  </thead>\n",
       "  <tbody>\n",
       "    <tr>\n",
       "      <th>1</th>\n",
       "      <td>5084</td>\n",
       "      <td>1409</td>\n",
       "      <td>0.28</td>\n",
       "    </tr>\n",
       "    <tr>\n",
       "      <th>2</th>\n",
       "      <td>4590</td>\n",
       "      <td>348</td>\n",
       "      <td>0.08</td>\n",
       "    </tr>\n",
       "    <tr>\n",
       "      <th>3</th>\n",
       "      <td>266</td>\n",
       "      <td>220</td>\n",
       "      <td>0.83</td>\n",
       "    </tr>\n",
       "    <tr>\n",
       "      <th>4</th>\n",
       "      <td>60</td>\n",
       "      <td>60</td>\n",
       "      <td>1.00</td>\n",
       "    </tr>\n",
       "  </tbody>\n",
       "</table>\n",
       "</div>"
      ],
      "text/plain": [
       "          count   sum  mean\n",
       "products                   \n",
       "1          5084  1409  0.28\n",
       "2          4590   348  0.08\n",
       "3           266   220  0.83\n",
       "4            60    60  1.00"
      ]
     },
     "execution_count": 19,
     "metadata": {},
     "output_type": "execute_result"
    }
   ],
   "source": [
    "# расчет доли оттока клиентов, использующих разное количество продуктов банка\n",
    "df.groupby('products')['churn'].agg(['count', 'sum', 'mean']).round(2)"
   ]
  },
  {
   "cell_type": "code",
   "execution_count": 20,
   "metadata": {},
   "outputs": [
    {
     "data": {
      "text/html": [
       "<div>\n",
       "<style scoped>\n",
       "    .dataframe tbody tr th:only-of-type {\n",
       "        vertical-align: middle;\n",
       "    }\n",
       "\n",
       "    .dataframe tbody tr th {\n",
       "        vertical-align: top;\n",
       "    }\n",
       "\n",
       "    .dataframe thead th {\n",
       "        text-align: right;\n",
       "    }\n",
       "</style>\n",
       "<table border=\"1\" class=\"dataframe\">\n",
       "  <thead>\n",
       "    <tr style=\"text-align: right;\">\n",
       "      <th>churn</th>\n",
       "      <th>0</th>\n",
       "      <th>1</th>\n",
       "    </tr>\n",
       "  </thead>\n",
       "  <tbody>\n",
       "    <tr>\n",
       "      <th>score</th>\n",
       "      <td>670.04</td>\n",
       "      <td>645.67</td>\n",
       "    </tr>\n",
       "    <tr>\n",
       "      <th>age</th>\n",
       "      <td>37.30</td>\n",
       "      <td>44.70</td>\n",
       "    </tr>\n",
       "    <tr>\n",
       "      <th>objects</th>\n",
       "      <td>4.85</td>\n",
       "      <td>5.09</td>\n",
       "    </tr>\n",
       "    <tr>\n",
       "      <th>balance</th>\n",
       "      <td>119789.30</td>\n",
       "      <td>120137.47</td>\n",
       "    </tr>\n",
       "    <tr>\n",
       "      <th>products</th>\n",
       "      <td>3.00</td>\n",
       "      <td>3.21</td>\n",
       "    </tr>\n",
       "    <tr>\n",
       "      <th>credit_card</th>\n",
       "      <td>0.74</td>\n",
       "      <td>0.70</td>\n",
       "    </tr>\n",
       "    <tr>\n",
       "      <th>loyalty</th>\n",
       "      <td>0.61</td>\n",
       "      <td>0.41</td>\n",
       "    </tr>\n",
       "    <tr>\n",
       "      <th>estimated_salary</th>\n",
       "      <td>92560.21</td>\n",
       "      <td>106345.27</td>\n",
       "    </tr>\n",
       "  </tbody>\n",
       "</table>\n",
       "</div>"
      ],
      "text/plain": [
       "churn                     0          1\n",
       "score                670.04     645.67\n",
       "age                   37.30      44.70\n",
       "objects                4.85       5.09\n",
       "balance           119789.30  120137.47\n",
       "products               3.00       3.21\n",
       "credit_card            0.74       0.70\n",
       "loyalty                0.61       0.41\n",
       "estimated_salary   92560.21  106345.27"
      ]
     },
     "metadata": {},
     "output_type": "display_data"
    },
    {
     "name": "stdout",
     "output_type": "stream",
     "text": [
      "Количество клиентов с 3-мя или 4-мя продуктами: 326\n"
     ]
    }
   ],
   "source": [
    "# анализ клиентов банка, использующих 3 или 4 продукта\n",
    "d = df[(df['products'] == 3) | (df['products'] == 4)]\n",
    "display(d.drop(columns={'user_id'}).groupby('churn').mean().T.round(2))\n",
    "print('Количество клиентов с 3-мя или 4-мя продуктами:', d.user_id.count())"
   ]
  },
  {
   "cell_type": "code",
   "execution_count": 21,
   "metadata": {},
   "outputs": [
    {
     "data": {
      "text/plain": [
       "objects\n",
       "0     0.23\n",
       "1     0.22\n",
       "2     0.19\n",
       "3     0.21\n",
       "4     0.21\n",
       "5     0.21\n",
       "6     0.20\n",
       "7     0.17\n",
       "8     0.19\n",
       "9     0.22\n",
       "10    0.21\n",
       "Name: churn, dtype: float64"
      ]
     },
     "execution_count": 21,
     "metadata": {},
     "output_type": "execute_result"
    }
   ],
   "source": [
    "# анализ влияния количества объектов в собственности на факт оттока\n",
    "df.groupby('objects')['churn'].mean().round(2)"
   ]
  },
  {
   "cell_type": "code",
   "execution_count": 22,
   "metadata": {},
   "outputs": [
    {
     "data": {
      "text/plain": [
       "credit_card\n",
       "0    0.21\n",
       "1    0.20\n",
       "Name: churn, dtype: float64"
      ]
     },
     "execution_count": 22,
     "metadata": {},
     "output_type": "execute_result"
    }
   ],
   "source": [
    "# расчет доли оттока клиентов в зависимости от наличия кредитной карты\n",
    "df.groupby('credit_card')['churn'].mean().round(2)"
   ]
  },
  {
   "cell_type": "code",
   "execution_count": 23,
   "metadata": {},
   "outputs": [
    {
     "data": {
      "text/plain": [
       "loyalty\n",
       "0    0.27\n",
       "1    0.14\n",
       "Name: churn, dtype: float64"
      ]
     },
     "execution_count": 23,
     "metadata": {},
     "output_type": "execute_result"
    }
   ],
   "source": [
    "# расчет доли оттока клиентов в зависимости от лояльности клиентов\n",
    "df.groupby('loyalty')['churn'].mean().round(2)"
   ]
  },
  {
   "cell_type": "markdown",
   "metadata": {},
   "source": [
    "**Вывод:**\n",
    "\n",
    "- В городе Ростов Великий отток клиентов выше в 2 раза, чем в остальных городах; \n",
    "- Средний возраст ушедших клиентов выше: 45 лет вместо 37;\n",
    "- В среднем для каждого города большему оттоку подвержены женщины, а в городе Ростов Великий этот показатель достигает 38%;\n",
    "- Клиенты в 51% случаев пользуются одним продуктом и в 46% - двумя продуктами банка;\n",
    "- Доля оттока клиентов, использующих один продукт банка составляет 28%, а использующих два продукта банка - 8%;\n",
    "- Количество объектов в собственности не оказывает явного влияния на отток;\n",
    "- Наличие кредитной карты не оказывает явного влияния на отток;\n",
    "- У нелояльных клиентов отток выше в 2 раза.\n",
    "\n",
    "Отдельное внимание вызывает уровень оттока тех клиентов, которые пользуются 3-мя или 4-мя продуктами банка: дебетовой картой, кредитной картой, вкладом, кредитом. \n",
    "<br>В первом случае отток составил 83%, во втором - 100%. Количество таких клиентов - 326 человек или 3%. \n",
    "<br>Анализ средних значений рассматриваемой группы не выявил аномалий относительно всего датасета, поэтому есть основание предположить, что отток сформировался случайным образом."
   ]
  },
  {
   "cell_type": "markdown",
   "metadata": {},
   "source": [
    "### Построение тепловой карты"
   ]
  },
  {
   "cell_type": "code",
   "execution_count": 24,
   "metadata": {},
   "outputs": [
    {
     "data": {
      "image/png": "[encoded data removed]",
      "text/plain": [
       "<Figure size 864x864 with 1 Axes>"
      ]
     },
     "metadata": {
      "needs_background": "light"
     },
     "output_type": "display_data"
    }
   ],
   "source": [
    "# построим тепловую карту\n",
    "cm = df.drop(columns={'user_id'}).corr().round(2)\n",
    "\n",
    "plt.figure(figsize=(12,12))\n",
    "plt.title('Тепловая карта', fontsize=16)\n",
    "sns.heatmap(cm, \n",
    "            annot = True, \n",
    "            square = True,  \n",
    "            fmt = '0.2f', \n",
    "            cbar = False, \n",
    "            linewidths = .1);"
   ]
  },
  {
   "cell_type": "markdown",
   "metadata": {},
   "source": [
    "Наблюдается положительная корреляция между возрастом и оттоком, однако ее влияние незначимо. \n",
    "<br>Кроме того, существует отрицательная корреляция между оттоком и лояльностью клиентов, но и она не обладает достаточной силой."
   ]
  },
  {
   "cell_type": "markdown",
   "metadata": {},
   "source": [
    "### Промежуточный вывод"
   ]
  },
  {
   "cell_type": "markdown",
   "metadata": {},
   "source": [
    "Общая характеристика клиентов банка:\n",
    "- Уровень оттока - 20%;\n",
    "- Возрастная категория от 18 до 92 лет, средний возраст 39 лет;\n",
    "- Средний доход - 100 тыс. руб.;\n",
    "- 50% клиентов из города Ярославль и по 25% из городов Рыбинск и Ростов Великий;\n",
    "- 45% клиентов - женщины, 55% - мужчины;\n",
    "- Клиенты в 51% случаев пользуются одним продуктом и в 46% - двумя продуктами банка;\n",
    "- Кредитной картой в среднем пользуется 70% клиентов;\n",
    "- Значимой корреляции в данных не обнаружено.\n",
    "\n",
    "Отличительные черты клиентов, склонных к оттоку:\n",
    "- Клиенты из города Ростов Великий уходят в 32% случаев, в то время как в городах Ярославль и Рыбинск показатель составил 16% и 17% соответственно;\n",
    "- Средний возраст ушедших клиентов выше: 45 лет вместо 37;\n",
    "- Женщины в среднем уходят чаще мужчин, особенно в городе Ростов Великий, в котором показатель оттока у женщин составил 38%;\n",
    "- Нелояльные клиенты в среднем подвержены оттоку в 27% случаев, при этом лояльные - в 14% случаев;\n",
    "- Доля оттока клиентов, использующих один продукт банка составила 28%, а использующих два продукта банка - 8%."
   ]
  },
  {
   "cell_type": "markdown",
   "metadata": {},
   "source": [
    "## Проверка гипотез"
   ]
  },
  {
   "cell_type": "markdown",
   "metadata": {},
   "source": [
    "### Сравнение средних доходов между действующими и ушедшими клиентами"
   ]
  },
  {
   "cell_type": "markdown",
   "metadata": {},
   "source": [
    "**Проверка на равномерность распределения**\n",
    "\n",
    "Из исследовательского анализа мы выяснили, что предполагаемая зарплата клиентов распределена равномерно. \n",
    "<br>Проверим это с помощью критерия Колмогорова-Смирнова. Критический уровень статистической значимости **alpha** примем на уровне **1%**."
   ]
  },
  {
   "cell_type": "code",
   "execution_count": 25,
   "metadata": {},
   "outputs": [
    {
     "name": "stdout",
     "output_type": "stream",
     "text": [
      "Churned - KstestResult(statistic=0.02282906234658812, pvalue=0.3351973627947531)\n",
      "Stayed - KstestResult(statistic=0.015052869521537109, pvalue=0.26415308058178594)\n"
     ]
    }
   ],
   "source": [
    "alpha = 0.01\n",
    "\n",
    "# эталонная выборка равномерного распределения \n",
    "# в интервале от 0 до 200 тыс. в количестве 10 тыс. повторений\n",
    "data_1 = pd.Series(np.random.uniform(0, 200000, 10000))\n",
    "\n",
    "# формирование двух независимых выборок\n",
    "churned_salary = df.loc[df['churn'] == 1]['estimated_salary']\n",
    "stayed_salary = df.loc[df['churn'] == 0]['estimated_salary']\n",
    "\n",
    "# применение теста Колгоморова-Смирнова\n",
    "print('Churned -', ks_2samp(data_1, churned_salary))\n",
    "print('Stayed -', ks_2samp(data_1, stayed_salary))"
   ]
  },
  {
   "cell_type": "markdown",
   "metadata": {},
   "source": [
    "**Формирование и расчет гипотезы**\n",
    "\n",
    "По итогу теста распределение зарплат действительно носит равномерный характер, поэтому для проведения А/Б-теста используем непараметрический критерий Манна-Уитни.\n",
    "\n",
    "Сформулируем нулевую и альтернативную гипотезу:\n",
    "\n",
    "$\\begin{equation*}\n",
    " \\begin{cases}\n",
    "   H_0 :\\text{Средний доход действующих клиентов равен среднему доходу ушедших клиентов}\\\\\n",
    "   H_1 :\\text{Средний доход действующих клиентов отличается от среднего дохода ушедших клиентов}\n",
    " \\end{cases}\n",
    "\\end{equation*}$\n",
    "\n",
    "Критический уровень статистической значимости **alpha** оставим без изменений на уровне **1%**."
   ]
  },
  {
   "cell_type": "code",
   "execution_count": 26,
   "metadata": {},
   "outputs": [
    {
     "name": "stdout",
     "output_type": "stream",
     "text": [
      "p-value: 0.227\n",
      "Не получилось отвергнуть нулевую гипотезу\n"
     ]
    }
   ],
   "source": [
    "# формирование двух независимых выборок\n",
    "churned_salary = df.loc[df['churn'] == 1]['estimated_salary']\n",
    "stayed_salary = df.loc[df['churn'] == 0]['estimated_salary']\n",
    "\n",
    "# проверка гипотезы о равенстве средних двух независимых совокупностей\n",
    "first_hypo = st.mannwhitneyu(churned_salary, stayed_salary, alternative = 'two-sided')\n",
    "print('p-value:', round(first_hypo.pvalue, 3))\n",
    "\n",
    "# сравнение фактическое p-значение с заданным уровнем статистической значимости\n",
    "if first_hypo.pvalue < alpha:\n",
    "    print('Отвергаем нулевую гипотезу')\n",
    "else:\n",
    "    print('Не получилось отвергнуть нулевую гипотезу')"
   ]
  },
  {
   "cell_type": "code",
   "execution_count": 27,
   "metadata": {},
   "outputs": [
    {
     "name": "stdout",
     "output_type": "stream",
     "text": [
      "Средний доход ушедших клиентов = 101465.68 \n",
      "Средний доход действующих клиентов = 99738.39 \n",
      "Абсолютная разница = 1727.29 \n",
      "Относительная разница = 1.73 %\n"
     ]
    }
   ],
   "source": [
    "# проверка расчетов\n",
    "print('Средний доход ушедших клиентов =', round(churned_salary.mean(), 2),\\\n",
    "     '\\nСредний доход действующих клиентов =', round(stayed_salary.mean(), 2),\\\n",
    "     '\\nАбсолютная разница =', round((churned_salary.mean() - stayed_salary.mean()), 2),\\\n",
    "     '\\nОтносительная разница =', round((((churned_salary.mean() - stayed_salary.mean()) / stayed_salary.mean()) * 100), 2), '%')"
   ]
  },
  {
   "cell_type": "markdown",
   "metadata": {},
   "source": [
    "**Вывод**\n",
    "\n",
    "В результате расчета А/Б-теста принимается нулевая гипотеза, а значит различие в среднем доходе между ушедшими и действующими клиентами статистически незначимо. "
   ]
  },
  {
   "cell_type": "markdown",
   "metadata": {},
   "source": [
    "### Сравнение среднего балла кредитного скорринга между действующими и ушедшими клиентами"
   ]
  },
  {
   "cell_type": "markdown",
   "metadata": {},
   "source": [
    "**Проверка на нормальность распределения**\n",
    "\n",
    "Проверим распределение баллов на нормальность между теми, кто ушел и теми, кто остался. \n",
    "<br>Для этого применим критерий Шапиро-Уилка и построим QQ-график."
   ]
  },
  {
   "cell_type": "code",
   "execution_count": 28,
   "metadata": {},
   "outputs": [
    {
     "name": "stdout",
     "output_type": "stream",
     "text": [
      "Churned - ShapiroResult(statistic=0.993703305721283, pvalue=1.2323278042458696e-07)\n",
      "Stayed - ShapiroResult(statistic=0.9928671717643738, pvalue=1.469723138650797e-19)\n"
     ]
    }
   ],
   "source": [
    "# формирование двух независимых выборок\n",
    "churned_score = df.loc[df['churn'] == 1]['score']\n",
    "stayed_score = df.loc[df['churn'] == 0]['score']\n",
    "\n",
    "# применение теста Шапиро-Уилка для выявление нормальности распределения\n",
    "print('Churned -', st.shapiro(churned_score))\n",
    "print('Stayed -', st.shapiro(stayed_score))"
   ]
  },
  {
   "cell_type": "code",
   "execution_count": 29,
   "metadata": {},
   "outputs": [
    {
     "data": {
      "image/png": "[encoded data removed]",
      "text/plain": [
       "<Figure size 1800x576 with 2 Axes>"
      ]
     },
     "metadata": {
      "needs_background": "light"
     },
     "output_type": "display_data"
    }
   ],
   "source": [
    "# QQ-график\n",
    "plt.figure(figsize=(25,8))\n",
    "plt.subplot(1,2,1)\n",
    "st.probplot(churned_score, dist = \"norm\", plot = plt)\n",
    "plt.subplot(1,2,2)\n",
    "st.probplot(stayed_score, dist = \"norm\", plot = plt);"
   ]
  },
  {
   "cell_type": "markdown",
   "metadata": {},
   "source": [
    "**Формирование и расчет гипотезы**\n",
    "\n",
    "По итогу теста распределение баллов не является нормальным, поэтому для проведения А/Б-теста снова используем непараметрический критерий Манна-Уитни.\n",
    "\n",
    "Сформулируем нулевую и альтернативную гипотезу:\n",
    "\n",
    "$\\begin{equation*}\n",
    " \\begin{cases}\n",
    "   H_0 :\\text{Средний балл кредитного скорринга между действующими и ушедшими клиентами одинаковый}\\\\\n",
    "   H_1 :\\text{Средний балл кредитного скорринга ушедших клиентов ниже среднего балла действующих клиентов}\n",
    " \\end{cases}\n",
    "\\end{equation*}$\n",
    "\n",
    "Критический уровень статистической значимости **alpha** оставим без изменений на уровне **1%**."
   ]
  },
  {
   "cell_type": "code",
   "execution_count": 30,
   "metadata": {},
   "outputs": [
    {
     "name": "stdout",
     "output_type": "stream",
     "text": [
      "p-value: 0.00993\n",
      "Отвергаем нулевую гипотезу\n"
     ]
    }
   ],
   "source": [
    "# проверка гипотезы о равенстве средних двух независимых совокупностей\n",
    "second_hypo = st.mannwhitneyu(churned_score, stayed_score, alternative = 'less')\n",
    "print('p-value:', round(second_hypo.pvalue, 5))\n",
    "\n",
    "# сравнение фактическое p-значение с заданным уровнем статистической значимости\n",
    "if second_hypo.pvalue < alpha:\n",
    "    print('Отвергаем нулевую гипотезу')\n",
    "else:\n",
    "    print('Не получилось отвергнуть нулевую гипотезу')"
   ]
  },
  {
   "cell_type": "code",
   "execution_count": 31,
   "metadata": {},
   "outputs": [
    {
     "name": "stdout",
     "output_type": "stream",
     "text": [
      "Средний балл ушедших клиентов = 645.35 \n",
      "Средний балл действующих клиентов = 651.85 \n",
      "Абсолютная разница = -6.5 \n",
      "Относительная разница = -1.0 %\n"
     ]
    }
   ],
   "source": [
    "# проверка расчетов\n",
    "print('Средний балл ушедших клиентов =', round(churned_score.mean(), 2), \\\n",
    "     '\\nСредний балл действующих клиентов =', round(stayed_score.mean(), 2), \\\n",
    "     '\\nАбсолютная разница =', round((churned_score.mean() - stayed_score.mean()), 2), \\\n",
    "     '\\nОтносительная разница =', round((((churned_score.mean() - stayed_score.mean()) / stayed_score.mean()) * 100), 2), '%')"
   ]
  },
  {
   "cell_type": "markdown",
   "metadata": {},
   "source": [
    "**Вывод**\n",
    "\n",
    "В результате проведения второго А/Б-теста отвергается нулевая гипотеза и принимается альтернативная. Таким образом, для ушедших клиентов вероятность получить средний балл кредитного скорринга в размере 652 составляет 1% и менее. Довольно редко событие."
   ]
  },
  {
   "cell_type": "markdown",
   "metadata": {},
   "source": [
    "### Сравнение доли действующих клиентов, имеющих и не имеющих кредитную карту"
   ]
  },
  {
   "cell_type": "markdown",
   "metadata": {},
   "source": [
    "В качестве проверки используем **Z-критерий Фишера**, так как существуют две группы, для каждой из которых есть число попыток (количество клиентов в группе) и число успехов (количество действующих клиентов).\n",
    "\n",
    "Сформулируем нулевую и альтернативную гипотезу:\n",
    "\n",
    "$\\begin{equation*}\n",
    " \\begin{cases}\n",
    "   H_0 :\\text{Доли действующих клиентов, имеющих и не имеющих кредитную карту равны}\\\\\n",
    "   H_1 :\\text{Доли действующих клиентов, имеющих и не имеющих кредитную карту отличаются}\n",
    " \\end{cases}\n",
    "\\end{equation*}$\n",
    "\n",
    "Критический уровень статистической значимости **alpha** оставим без изменений на уровне **1%**."
   ]
  },
  {
   "cell_type": "code",
   "execution_count": 32,
   "metadata": {},
   "outputs": [
    {
     "name": "stdout",
     "output_type": "stream",
     "text": [
      "Количество действующих клиентов с кредитной картой - 5631 \n",
      "Общее количество клиентов с кредитной картой - 7055 \n",
      "Доля - 0.8\n"
     ]
    }
   ],
   "source": [
    "# количество успехов и количество попыток для клиентов с кредитной картой\n",
    "success_card = df[(df['churn'] == 0) & (df['credit_card'] == 1)]['credit_card'].count()\n",
    "trials_card = df[df['credit_card'] == 1]['credit_card'].count()\n",
    "\n",
    "print('Количество действующих клиентов с кредитной картой -', success_card, \\\n",
    "         '\\nОбщее количество клиентов с кредитной картой -', trials_card, \\\n",
    "         '\\nДоля -', round((success_card / trials_card), 2))"
   ]
  },
  {
   "cell_type": "code",
   "execution_count": 33,
   "metadata": {},
   "outputs": [
    {
     "name": "stdout",
     "output_type": "stream",
     "text": [
      "Количество действующих клиентов без кредитной картой - 2332 \n",
      "Общее количество клиентов без кредитной картой - 2945 \n",
      "Доля - 0.79\n"
     ]
    }
   ],
   "source": [
    "# количество успехов и количество попыток для клиентов без кредитной карты\n",
    "success_no_card = df[(df['churn'] == 0) & (df['credit_card'] == 0)]['credit_card'].count()\n",
    "trials_no_card = df[df['credit_card'] == 0]['credit_card'].count()\n",
    "\n",
    "print('Количество действующих клиентов без кредитной картой -', success_no_card, \\\n",
    "         '\\nОбщее количество клиентов без кредитной картой -', trials_no_card, \\\n",
    "         '\\nДоля -', round((success_no_card / trials_no_card), 2))"
   ]
  },
  {
   "cell_type": "code",
   "execution_count": 34,
   "metadata": {},
   "outputs": [
    {
     "name": "stdout",
     "output_type": "stream",
     "text": [
      "p-value:  0.48\n",
      "Не получилось отвергнуть нулевую гипотезу, нет оснований считать доли разными\n"
     ]
    }
   ],
   "source": [
    "# проверка гипотезы о равенстве долей двух независимых совокупностей\n",
    "successes = np.array([success_card, success_no_card])\n",
    "trials = np.array([trials_card, trials_no_card])\n",
    "\n",
    "# пропорция успехов в первой группе:\n",
    "p1 = successes[0]/trials[0]\n",
    "\n",
    "# пропорция успехов во второй группе:\n",
    "p2 = successes[1]/trials[1]\n",
    "\n",
    "# пропорция успехов в комбинированном датасете:\n",
    "p_combined = (successes[0] + successes[1]) / (trials[0] + trials[1])\n",
    "\n",
    "# разница пропорций в датасетах\n",
    "difference = p1 - p2 \n",
    "\n",
    "# считаем статистику в ст.отклонениях стандартного нормального распределения\n",
    "z_value = difference / mth.sqrt(p_combined * (1 - p_combined) * (1/trials[0] + 1/trials[1]))\n",
    "\n",
    "# задаем стандартное нормальное распределение (среднее 0, ст.отклонение 1)\n",
    "distr = st.norm(0, 1)  \n",
    "\n",
    "p_value = (1 - distr.cdf(abs(z_value))) * 2\n",
    "\n",
    "print('p-value: ', p_value.round(2))\n",
    "\n",
    "if p_value < alpha:\n",
    "    print('Отвергаем нулевую гипотезу: между долями есть значимая разница')\n",
    "else:\n",
    "    print(\n",
    "        'Не получилось отвергнуть нулевую гипотезу, нет оснований считать доли разными'\n",
    "    ) "
   ]
  },
  {
   "cell_type": "markdown",
   "metadata": {},
   "source": [
    "**Вывод**\n",
    "\n",
    "В результате расчета третьего А/Б-теста принимается нулевая гипотеза с **p_value** равной **0.48** при установленной **alpha - 0.01**, а значит, наличие кредитной карты не влияет на отток клиентов банка."
   ]
  },
  {
   "cell_type": "markdown",
   "metadata": {},
   "source": [
    "### Промежуточный вывод"
   ]
  },
  {
   "cell_type": "markdown",
   "metadata": {},
   "source": [
    "В ходе проверки трёх статистических гипотез выявлено:\n",
    "1. Средняя предполагаемая зарплата между действующими и ушедшими клиентами одинаковая;\n",
    "2. Средний балл кредитного скорринга ушедших клиентов ниже среднего балла оставшихся клиентов;\n",
    "3. Наличие кредитной карты не влияет на удержание или отток клиентов."
   ]
  },
  {
   "cell_type": "markdown",
   "metadata": {},
   "source": [
    "## Заключение"
   ]
  },
  {
   "cell_type": "markdown",
   "metadata": {},
   "source": [
    "### Вывод"
   ]
  },
  {
   "cell_type": "markdown",
   "metadata": {},
   "source": [
    "Исходные данные состоят из 12 столбцов и 10 тысяч строк, типы данных указаны верно, явных дубликатов не обнаружено. В результате предобработки названия колонок приведены в соответствие стилистике Python. Для заполнения пропусков в столбце 'balance' потребовалось создать дополнительный столбец, который присвоил каждому клиенту один из четырех классов в зависимости от предполагаемой зарплаты. В итоге пропуски заполнены медианой исходя из принадлежности клиента к классу, потому как столбец с зарплатой представлен в денежном выражении и мог иметь аномальные значения. \n",
    "\n",
    "Дополнительно отмечу высокую долю пропусков в столбце с балансом - 36% - без явных на то причин. Необходимо сообщить о находке дата инженерам для внесения корректировок.\n",
    "\n",
    "\n",
    "В ходе исследовательского анализа получена общая характеристика клиентов банка:\n",
    "- Уровень оттока - 20%;\n",
    "- Возрастная категория от 18 до 92 лет, средний возраст 39 лет;\n",
    "- Средний доход - 100 тыс. руб.;\n",
    "- 50% клиентов из города Ярославль и по 25% из городов Рыбинск и Ростов Великий;\n",
    "- 45% клиентов - женщины, 55% - мужчины;\n",
    "- Клиенты в 51% случаев пользуются одним продуктом и в 46% - двумя продуктами банка;\n",
    "- Кредитной картой пользуется 70% клиентов;\n",
    "- Значимой корреляции в данных не обнаружено.\n",
    "\n",
    "\n",
    "Отличительные черты клиентов, склонных к оттоку, и рекомендации на их основе:\n",
    "- Клиенты из города Ростов Великий уходят в 32% случаев, в то время как в городах Ярославль и Рыбинск показатель составил 16% и 17% соответственно. Причиной большого оттока в Ростове может являться низкое качество обслуживания клиентов. Рекомендуется проверить оценку работы персонала и провести обучение;\n",
    "- Средний возраст ушедших клиентов выше: 45 лет вместо 37. Это может быть связано с отсутствием обучающей вводной части сайта и приложения, подсказок в интерфейсе, оперативного реагирования на вопросы клиентов. Рекомендуется проверить удобство использования продуктов, сделать интуитивно понятный дизайн, добавить обучающую часть и всегда быть готовым придти на помощь в кратчайший срок по любому удобному клиентом каналу связи;\n",
    "- Женщины в среднем уходят чаще мужчин, особенно в городе Ростов Великий, в котором показатель оттока у женщин составил 38%. Вероятно, это также связано с низким качеством обслуживания в кассах. Рекомендуется воспользоваться услугами тайного покупателя, преимущественно женского пола;\n",
    "- Нелояльные клиенты в среднем подвержены оттоку в 27% случаев, при этом лояльные - в 14% случаев. Причиной высокого уровня оттока нелояльных клиентов может являться потеря интереса к продукту. Рекомендуется выстроить регулярную коммуникацию для повышения лояльности, например: делать еженедельную рассылку по одному или нескольким каналам связи на тему финансов, последних новостей и их влиянии. Некоторые банки в стране пошли еще дальше и создали журналы, форумы, сообщества на самые разные темы, где люди делятся своим опытом и задают вопросы экспертам. Это - яркий пример борьбы за внимание и активной работы над удержанием клиента;\n",
    "- Доля оттока клиентов, использующих один продукт, составила 28%, а использующих два продукта - 8%. Скорее всего клиенты не нашли для себя выгодное предложение. Для решения этой проблемы рекомендуется периодически проводить акции, челленджи и розыгрыши.\n",
    "\n",
    "\n",
    "В ходе проверки трёх статистических гипотез дополнительно выявлено:\n",
    "- Средняя предполагаемая зарплата между действующими и ушедшими клиентами одинаковая;\n",
    "- Средний балл кредитного скорринга ушедших клиентов ниже среднего балла оставшихся клиентов;\n",
    "- Наличие кредитной карты не влияет на удержание или отток клиентов."
   ]
  },
  {
   "cell_type": "markdown",
   "metadata": {},
   "source": [
    "### Рекомендации"
   ]
  },
  {
   "cell_type": "markdown",
   "metadata": {},
   "source": [
    "В качестве дополнительных рекомендаций можно предложить:\n",
    "- Исследовать отзывы клиентов из города Ростов Великий, в том числе собрать информацию с популярных сервисов для отзывов, а также отзывы с Яндекс.Карт, Гугл.Карт и 2GIS;\n",
    "- Запустить краткий опрос клиентов, включающий оценку удобства оказания услуги по 5-бальной шкале и возможность оставить комментарий или пожелание на 500 символов;\n",
    "- Определить источники привлечения клиентов и добавить этот признак в таблицу для анализа. Такой способ поможет определить эффективные каналы привлечения и сделать акцент;\n",
    "- Столбец с количеством продуктов может быть еще полезнее, если на каждый вид продукта выделить отдельный столбец. Тогда появится возможность не только анализировать отток по каждому виду, но и предлагать клиентам другие продукты банка;\n",
    "- Проанализировать структуру сайта и приложения. Возможно, получится сделать процесс оказания услуг еще проще, быстрее и удобнее для клиента;\n",
    "- Внести мониторинг сигналов оттока. Например: предлагать индивидуальные предложения клиентам, склонным к оттоку;\n",
    "- Поощрять самых ценных клиентов, они должны чаще получать персонализированную коммуникацию, подарки и скидки. Также VIP-аудитории нравится, когда их обслуживает персональный менеджер и оказывает всестороннюю поддержку.\n",
    "\n",
    "Это только часть рекомендаций по удержанию, где основная цель - внимание каждому клиенту."
   ]
  }
 ],
 "metadata": {
  "ExecuteTimeLog": [
   {
    "duration": 1623,
    "start_time": "2022-09-27T12:02:57.335Z"
   },
   {
    "duration": 98,
    "start_time": "2022-09-27T12:03:08.905Z"
   },
   {
    "duration": 1412,
    "start_time": "2022-09-27T12:08:55.388Z"
   },
   {
    "duration": 69,
    "start_time": "2022-09-27T12:08:56.802Z"
   },
   {
    "duration": 155,
    "start_time": "2022-09-27T12:28:23.430Z"
   },
   {
    "duration": 16,
    "start_time": "2022-09-27T12:28:29.206Z"
   },
   {
    "duration": 88,
    "start_time": "2022-09-27T12:31:16.352Z"
   },
   {
    "duration": 5,
    "start_time": "2022-09-27T12:31:38.323Z"
   },
   {
    "duration": 6,
    "start_time": "2022-09-27T12:32:09.835Z"
   },
   {
    "duration": 5,
    "start_time": "2022-09-27T12:32:40.340Z"
   },
   {
    "duration": 5,
    "start_time": "2022-09-27T13:32:43.623Z"
   },
   {
    "duration": 6,
    "start_time": "2022-09-27T13:37:14.885Z"
   },
   {
    "duration": 77,
    "start_time": "2022-09-27T13:37:25.853Z"
   },
   {
    "duration": 6,
    "start_time": "2022-09-27T13:37:39.555Z"
   },
   {
    "duration": 14,
    "start_time": "2022-09-27T13:37:52.425Z"
   },
   {
    "duration": 6,
    "start_time": "2022-09-27T13:38:05.166Z"
   },
   {
    "duration": 10,
    "start_time": "2022-09-27T13:44:12.155Z"
   },
   {
    "duration": 9,
    "start_time": "2022-09-27T13:44:33.727Z"
   },
   {
    "duration": 9,
    "start_time": "2022-09-27T13:44:52.894Z"
   },
   {
    "duration": 8,
    "start_time": "2022-09-27T13:47:15.191Z"
   },
   {
    "duration": 1182,
    "start_time": "2022-09-27T13:50:46.303Z"
   },
   {
    "duration": 5,
    "start_time": "2022-09-27T13:51:07.282Z"
   },
   {
    "duration": 5,
    "start_time": "2022-09-27T13:51:20.739Z"
   },
   {
    "duration": 5,
    "start_time": "2022-09-27T13:51:30.997Z"
   },
   {
    "duration": 5,
    "start_time": "2022-09-27T13:52:12.008Z"
   },
   {
    "duration": 6,
    "start_time": "2022-09-27T13:52:59.722Z"
   },
   {
    "duration": 7,
    "start_time": "2022-09-27T13:53:12.746Z"
   },
   {
    "duration": 13,
    "start_time": "2022-09-27T13:53:22.991Z"
   },
   {
    "duration": 6,
    "start_time": "2022-09-27T13:53:28.489Z"
   },
   {
    "duration": 141,
    "start_time": "2022-09-27T13:53:34.508Z"
   },
   {
    "duration": 1579,
    "start_time": "2022-09-27T16:35:41.874Z"
   },
   {
    "duration": 99,
    "start_time": "2022-09-27T16:35:43.456Z"
   },
   {
    "duration": 9,
    "start_time": "2022-09-27T16:35:43.557Z"
   },
   {
    "duration": 5,
    "start_time": "2022-09-27T16:35:43.568Z"
   },
   {
    "duration": 8,
    "start_time": "2022-09-27T16:35:43.575Z"
   },
   {
    "duration": 163,
    "start_time": "2022-09-27T16:35:43.584Z"
   },
   {
    "duration": 1389,
    "start_time": "2022-09-27T16:42:03.833Z"
   },
   {
    "duration": 58,
    "start_time": "2022-09-27T16:42:05.224Z"
   },
   {
    "duration": 8,
    "start_time": "2022-09-27T16:42:05.283Z"
   },
   {
    "duration": 23,
    "start_time": "2022-09-27T16:42:05.293Z"
   },
   {
    "duration": 8,
    "start_time": "2022-09-27T16:42:05.317Z"
   },
   {
    "duration": 159,
    "start_time": "2022-09-27T16:42:05.326Z"
   },
   {
    "duration": 129,
    "start_time": "2022-09-27T16:54:41.887Z"
   },
   {
    "duration": 207,
    "start_time": "2022-09-27T16:54:46.604Z"
   },
   {
    "duration": 8,
    "start_time": "2022-09-27T16:55:10.180Z"
   },
   {
    "duration": 39,
    "start_time": "2022-09-27T17:29:11.654Z"
   },
   {
    "duration": 9,
    "start_time": "2022-09-27T17:33:21.382Z"
   },
   {
    "duration": 9,
    "start_time": "2022-09-27T17:33:38.393Z"
   },
   {
    "duration": 13,
    "start_time": "2022-09-27T17:34:38.303Z"
   },
   {
    "duration": 9,
    "start_time": "2022-09-27T17:35:28.248Z"
   },
   {
    "duration": 9,
    "start_time": "2022-09-27T17:35:39.941Z"
   },
   {
    "duration": 14,
    "start_time": "2022-09-27T17:37:41.340Z"
   },
   {
    "duration": 7,
    "start_time": "2022-09-27T17:40:14.537Z"
   },
   {
    "duration": 57,
    "start_time": "2022-09-27T17:46:27.810Z"
   },
   {
    "duration": 16,
    "start_time": "2022-09-27T17:46:32.978Z"
   },
   {
    "duration": 10,
    "start_time": "2022-09-27T17:46:58.963Z"
   },
   {
    "duration": 10,
    "start_time": "2022-09-27T17:47:25.280Z"
   },
   {
    "duration": 8,
    "start_time": "2022-09-27T17:48:36.661Z"
   },
   {
    "duration": 114,
    "start_time": "2022-09-27T17:50:36.816Z"
   },
   {
    "duration": 15,
    "start_time": "2022-09-27T17:51:24.231Z"
   },
   {
    "duration": 7,
    "start_time": "2022-09-27T17:51:52.272Z"
   },
   {
    "duration": 14,
    "start_time": "2022-09-27T17:52:46.724Z"
   },
   {
    "duration": 1418,
    "start_time": "2022-09-27T17:54:29.039Z"
   },
   {
    "duration": 58,
    "start_time": "2022-09-27T17:54:30.459Z"
   },
   {
    "duration": 8,
    "start_time": "2022-09-27T17:54:30.519Z"
   },
   {
    "duration": 12,
    "start_time": "2022-09-27T17:54:30.528Z"
   },
   {
    "duration": 20,
    "start_time": "2022-09-27T17:54:30.542Z"
   },
   {
    "duration": 16,
    "start_time": "2022-09-27T17:54:30.564Z"
   },
   {
    "duration": 12,
    "start_time": "2022-09-27T17:54:30.582Z"
   },
   {
    "duration": 24,
    "start_time": "2022-09-27T17:54:30.596Z"
   },
   {
    "duration": 32,
    "start_time": "2022-09-27T17:54:30.622Z"
   },
   {
    "duration": 7,
    "start_time": "2022-09-27T17:56:33.357Z"
   },
   {
    "duration": 13,
    "start_time": "2022-09-27T17:56:57.822Z"
   },
   {
    "duration": 3,
    "start_time": "2022-09-27T17:57:36.516Z"
   },
   {
    "duration": 13,
    "start_time": "2022-09-27T17:57:38.855Z"
   },
   {
    "duration": 8,
    "start_time": "2022-09-27T17:59:56.675Z"
   },
   {
    "duration": 1409,
    "start_time": "2022-09-27T18:00:41.472Z"
   },
   {
    "duration": 58,
    "start_time": "2022-09-27T18:00:42.883Z"
   },
   {
    "duration": 14,
    "start_time": "2022-09-27T18:00:42.943Z"
   },
   {
    "duration": 10,
    "start_time": "2022-09-27T18:00:42.959Z"
   },
   {
    "duration": 6,
    "start_time": "2022-09-27T18:00:42.971Z"
   },
   {
    "duration": 10,
    "start_time": "2022-09-27T18:00:42.978Z"
   },
   {
    "duration": 8,
    "start_time": "2022-09-27T18:00:42.989Z"
   },
   {
    "duration": 37,
    "start_time": "2022-09-27T18:00:42.999Z"
   },
   {
    "duration": 11,
    "start_time": "2022-09-27T18:00:43.038Z"
   },
   {
    "duration": 8,
    "start_time": "2022-09-27T18:02:51.620Z"
   },
   {
    "duration": 1403,
    "start_time": "2022-09-27T18:18:26.538Z"
   },
   {
    "duration": 55,
    "start_time": "2022-09-27T18:18:27.943Z"
   },
   {
    "duration": 9,
    "start_time": "2022-09-27T18:18:28.000Z"
   },
   {
    "duration": 5,
    "start_time": "2022-09-27T18:18:28.012Z"
   },
   {
    "duration": 9,
    "start_time": "2022-09-27T18:18:28.019Z"
   },
   {
    "duration": 10,
    "start_time": "2022-09-27T18:18:28.030Z"
   },
   {
    "duration": 46,
    "start_time": "2022-09-27T18:18:28.041Z"
   },
   {
    "duration": 0,
    "start_time": "2022-09-27T18:18:28.089Z"
   },
   {
    "duration": 10,
    "start_time": "2022-09-27T18:19:01.373Z"
   },
   {
    "duration": 5,
    "start_time": "2022-09-27T18:19:15.258Z"
   },
   {
    "duration": 12,
    "start_time": "2022-09-27T18:20:26.584Z"
   },
   {
    "duration": 1549,
    "start_time": "2022-09-28T07:13:10.810Z"
   },
   {
    "duration": 96,
    "start_time": "2022-09-28T07:13:12.361Z"
   },
   {
    "duration": 8,
    "start_time": "2022-09-28T07:13:12.458Z"
   },
   {
    "duration": 5,
    "start_time": "2022-09-28T07:13:12.468Z"
   },
   {
    "duration": 4,
    "start_time": "2022-09-28T07:13:12.476Z"
   },
   {
    "duration": 8,
    "start_time": "2022-09-28T07:13:12.482Z"
   },
   {
    "duration": 12,
    "start_time": "2022-09-28T07:13:12.491Z"
   },
   {
    "duration": 8,
    "start_time": "2022-09-28T07:13:12.505Z"
   },
   {
    "duration": 10,
    "start_time": "2022-09-28T07:13:12.514Z"
   },
   {
    "duration": 4,
    "start_time": "2022-09-28T07:17:47.092Z"
   },
   {
    "duration": 3,
    "start_time": "2022-09-28T07:18:55.522Z"
   },
   {
    "duration": 4,
    "start_time": "2022-09-28T07:38:22.024Z"
   },
   {
    "duration": 33,
    "start_time": "2022-09-28T07:54:16.681Z"
   },
   {
    "duration": 1478,
    "start_time": "2022-09-28T07:54:40.499Z"
   },
   {
    "duration": 53,
    "start_time": "2022-09-28T07:54:41.979Z"
   },
   {
    "duration": 7,
    "start_time": "2022-09-28T07:54:42.034Z"
   },
   {
    "duration": 7,
    "start_time": "2022-09-28T07:54:42.043Z"
   },
   {
    "duration": 14,
    "start_time": "2022-09-28T07:54:42.051Z"
   },
   {
    "duration": 13,
    "start_time": "2022-09-28T07:54:42.067Z"
   },
   {
    "duration": 35,
    "start_time": "2022-09-28T07:54:42.082Z"
   },
   {
    "duration": 11,
    "start_time": "2022-09-28T07:54:42.119Z"
   },
   {
    "duration": 10,
    "start_time": "2022-09-28T07:54:42.131Z"
   },
   {
    "duration": 14,
    "start_time": "2022-09-28T07:54:42.143Z"
   },
   {
    "duration": 34,
    "start_time": "2022-09-28T07:54:42.158Z"
   },
   {
    "duration": 10005,
    "start_time": "2022-09-28T07:55:27.345Z"
   },
   {
    "duration": 37,
    "start_time": "2022-09-28T07:56:44.784Z"
   },
   {
    "duration": 33,
    "start_time": "2022-09-28T07:57:27.622Z"
   },
   {
    "duration": 33,
    "start_time": "2022-09-28T07:58:46.414Z"
   },
   {
    "duration": 33,
    "start_time": "2022-09-28T07:59:16.351Z"
   },
   {
    "duration": 14,
    "start_time": "2022-09-28T08:14:49.210Z"
   },
   {
    "duration": 12,
    "start_time": "2022-09-28T08:15:55.479Z"
   },
   {
    "duration": 14,
    "start_time": "2022-09-28T08:25:26.951Z"
   },
   {
    "duration": 14,
    "start_time": "2022-09-28T08:25:33.434Z"
   },
   {
    "duration": 11,
    "start_time": "2022-09-28T08:39:03.089Z"
   },
   {
    "duration": 1503,
    "start_time": "2022-09-28T08:42:34.000Z"
   },
   {
    "duration": 2534,
    "start_time": "2022-09-28T08:48:13.618Z"
   },
   {
    "duration": 1964,
    "start_time": "2022-09-28T08:48:44.569Z"
   },
   {
    "duration": 1752,
    "start_time": "2022-09-28T08:48:55.148Z"
   },
   {
    "duration": 1664,
    "start_time": "2022-09-28T08:49:07.307Z"
   },
   {
    "duration": 1598,
    "start_time": "2022-09-28T08:49:20.106Z"
   },
   {
    "duration": 1090,
    "start_time": "2022-09-28T08:49:42.705Z"
   },
   {
    "duration": 827,
    "start_time": "2022-09-28T08:53:58.414Z"
   },
   {
    "duration": 1882,
    "start_time": "2022-09-29T05:05:20.766Z"
   },
   {
    "duration": 109,
    "start_time": "2022-09-29T05:05:22.650Z"
   },
   {
    "duration": 10,
    "start_time": "2022-09-29T05:05:22.761Z"
   },
   {
    "duration": 19,
    "start_time": "2022-09-29T05:05:22.772Z"
   },
   {
    "duration": 9,
    "start_time": "2022-09-29T05:05:22.793Z"
   },
   {
    "duration": 26,
    "start_time": "2022-09-29T05:05:22.804Z"
   },
   {
    "duration": 21,
    "start_time": "2022-09-29T05:05:22.831Z"
   },
   {
    "duration": 29,
    "start_time": "2022-09-29T05:05:22.853Z"
   },
   {
    "duration": 32,
    "start_time": "2022-09-29T05:05:22.884Z"
   },
   {
    "duration": 18,
    "start_time": "2022-09-29T05:05:22.919Z"
   },
   {
    "duration": 41,
    "start_time": "2022-09-29T05:05:22.939Z"
   },
   {
    "duration": 12,
    "start_time": "2022-09-29T05:05:22.982Z"
   },
   {
    "duration": 957,
    "start_time": "2022-09-29T05:05:22.996Z"
   },
   {
    "duration": 896,
    "start_time": "2022-09-29T05:05:23.955Z"
   },
   {
    "duration": 9,
    "start_time": "2022-09-29T05:05:24.853Z"
   },
   {
    "duration": 11,
    "start_time": "2022-09-29T05:05:24.864Z"
   },
   {
    "duration": 14,
    "start_time": "2022-09-29T05:05:24.876Z"
   },
   {
    "duration": 12,
    "start_time": "2022-09-29T05:05:24.891Z"
   },
   {
    "duration": 8,
    "start_time": "2022-09-29T05:05:24.905Z"
   },
   {
    "duration": 36,
    "start_time": "2022-09-29T05:05:24.915Z"
   },
   {
    "duration": 537,
    "start_time": "2022-09-29T05:05:24.952Z"
   },
   {
    "duration": 12,
    "start_time": "2022-09-29T05:21:56.246Z"
   },
   {
    "duration": 10,
    "start_time": "2022-09-29T07:18:03.652Z"
   },
   {
    "duration": 10,
    "start_time": "2022-09-29T07:30:01.153Z"
   },
   {
    "duration": 19,
    "start_time": "2022-09-29T07:30:10.055Z"
   },
   {
    "duration": 755,
    "start_time": "2022-09-29T07:31:23.613Z"
   },
   {
    "duration": 905,
    "start_time": "2022-09-29T07:32:06.296Z"
   },
   {
    "duration": 16,
    "start_time": "2022-09-29T07:35:22.149Z"
   },
   {
    "duration": 15,
    "start_time": "2022-09-29T07:56:23.699Z"
   },
   {
    "duration": 15,
    "start_time": "2022-09-29T07:59:11.330Z"
   },
   {
    "duration": 13,
    "start_time": "2022-09-29T08:10:13.257Z"
   },
   {
    "duration": 10,
    "start_time": "2022-09-29T08:11:47.498Z"
   },
   {
    "duration": 15,
    "start_time": "2022-09-29T08:11:56.845Z"
   },
   {
    "duration": 15,
    "start_time": "2022-09-29T08:12:04.359Z"
   },
   {
    "duration": 10,
    "start_time": "2022-09-29T08:38:26.208Z"
   },
   {
    "duration": 6,
    "start_time": "2022-09-29T10:00:37.688Z"
   },
   {
    "duration": 6,
    "start_time": "2022-09-29T10:06:31.785Z"
   },
   {
    "duration": 7,
    "start_time": "2022-09-29T10:06:52.300Z"
   },
   {
    "duration": 10,
    "start_time": "2022-09-29T10:19:11.731Z"
   },
   {
    "duration": 9,
    "start_time": "2022-09-29T10:19:52.632Z"
   },
   {
    "duration": 7,
    "start_time": "2022-09-29T10:38:04.261Z"
   },
   {
    "duration": 1482,
    "start_time": "2022-09-29T10:50:05.598Z"
   },
   {
    "duration": 60,
    "start_time": "2022-09-29T10:50:07.081Z"
   },
   {
    "duration": 8,
    "start_time": "2022-09-29T10:50:07.143Z"
   },
   {
    "duration": 7,
    "start_time": "2022-09-29T10:50:07.153Z"
   },
   {
    "duration": 10,
    "start_time": "2022-09-29T10:50:07.162Z"
   },
   {
    "duration": 8,
    "start_time": "2022-09-29T10:50:07.174Z"
   },
   {
    "duration": 13,
    "start_time": "2022-09-29T10:50:07.184Z"
   },
   {
    "duration": 8,
    "start_time": "2022-09-29T10:50:07.199Z"
   },
   {
    "duration": 25,
    "start_time": "2022-09-29T10:50:07.209Z"
   },
   {
    "duration": 12,
    "start_time": "2022-09-29T10:50:07.237Z"
   },
   {
    "duration": 41,
    "start_time": "2022-09-29T10:50:07.251Z"
   },
   {
    "duration": 6,
    "start_time": "2022-09-29T10:50:07.294Z"
   },
   {
    "duration": 17,
    "start_time": "2022-09-29T10:50:07.301Z"
   },
   {
    "duration": 21,
    "start_time": "2022-09-29T10:50:07.320Z"
   },
   {
    "duration": 1046,
    "start_time": "2022-09-29T10:50:07.343Z"
   },
   {
    "duration": 897,
    "start_time": "2022-09-29T10:50:08.391Z"
   },
   {
    "duration": 7,
    "start_time": "2022-09-29T10:50:09.289Z"
   },
   {
    "duration": 11,
    "start_time": "2022-09-29T10:50:09.298Z"
   },
   {
    "duration": 24,
    "start_time": "2022-09-29T10:50:09.311Z"
   },
   {
    "duration": 15,
    "start_time": "2022-09-29T10:50:09.336Z"
   },
   {
    "duration": 11,
    "start_time": "2022-09-29T10:50:09.353Z"
   },
   {
    "duration": 19,
    "start_time": "2022-09-29T10:50:09.365Z"
   },
   {
    "duration": 24,
    "start_time": "2022-09-29T10:50:09.386Z"
   },
   {
    "duration": 551,
    "start_time": "2022-09-29T10:50:09.411Z"
   },
   {
    "duration": 108,
    "start_time": "2022-09-29T11:43:37.425Z"
   },
   {
    "duration": 9,
    "start_time": "2022-09-29T11:43:45.278Z"
   },
   {
    "duration": 12,
    "start_time": "2022-09-29T11:44:26.021Z"
   },
   {
    "duration": 119,
    "start_time": "2022-09-29T11:44:56.602Z"
   },
   {
    "duration": 125,
    "start_time": "2022-09-29T11:45:00.761Z"
   },
   {
    "duration": 119,
    "start_time": "2022-09-29T11:45:04.757Z"
   },
   {
    "duration": 119,
    "start_time": "2022-09-29T11:45:14.158Z"
   },
   {
    "duration": 117,
    "start_time": "2022-09-29T11:45:21.089Z"
   },
   {
    "duration": 232,
    "start_time": "2022-09-29T11:45:29.130Z"
   },
   {
    "duration": 322,
    "start_time": "2022-09-29T11:45:35.013Z"
   },
   {
    "duration": 111,
    "start_time": "2022-09-29T11:45:41.118Z"
   },
   {
    "duration": 126,
    "start_time": "2022-09-29T11:45:48.186Z"
   },
   {
    "duration": 117,
    "start_time": "2022-09-29T11:45:52.873Z"
   },
   {
    "duration": 113,
    "start_time": "2022-09-29T11:46:04.873Z"
   },
   {
    "duration": 123,
    "start_time": "2022-09-29T11:46:09.765Z"
   },
   {
    "duration": 120,
    "start_time": "2022-09-29T11:46:17.956Z"
   },
   {
    "duration": 118,
    "start_time": "2022-09-29T11:46:20.544Z"
   },
   {
    "duration": 114,
    "start_time": "2022-09-29T11:46:24.201Z"
   },
   {
    "duration": 6,
    "start_time": "2022-09-29T11:56:47.089Z"
   },
   {
    "duration": 10,
    "start_time": "2022-09-29T11:57:28.335Z"
   },
   {
    "duration": 12,
    "start_time": "2022-09-29T11:57:45.306Z"
   },
   {
    "duration": 7,
    "start_time": "2022-09-29T11:58:10.786Z"
   },
   {
    "duration": 12,
    "start_time": "2022-09-29T11:58:19.925Z"
   },
   {
    "duration": 9,
    "start_time": "2022-09-29T11:59:08.864Z"
   },
   {
    "duration": 679,
    "start_time": "2022-09-29T13:25:21.127Z"
   },
   {
    "duration": 8,
    "start_time": "2022-09-29T13:25:48.226Z"
   },
   {
    "duration": 6,
    "start_time": "2022-09-29T13:26:44.319Z"
   },
   {
    "duration": 15,
    "start_time": "2022-09-29T13:29:46.152Z"
   },
   {
    "duration": 124,
    "start_time": "2022-09-29T13:30:11.243Z"
   },
   {
    "duration": 7,
    "start_time": "2022-09-29T13:30:53.046Z"
   },
   {
    "duration": 6,
    "start_time": "2022-09-29T13:31:13.987Z"
   },
   {
    "duration": 8,
    "start_time": "2022-09-29T13:32:01.567Z"
   },
   {
    "duration": 6,
    "start_time": "2022-09-29T13:32:08.878Z"
   },
   {
    "duration": 1695,
    "start_time": "2022-09-29T16:46:55.116Z"
   },
   {
    "duration": 99,
    "start_time": "2022-09-29T16:46:56.813Z"
   },
   {
    "duration": 10,
    "start_time": "2022-09-29T16:46:56.914Z"
   },
   {
    "duration": 7,
    "start_time": "2022-09-29T16:46:56.925Z"
   },
   {
    "duration": 6,
    "start_time": "2022-09-29T16:46:56.935Z"
   },
   {
    "duration": 8,
    "start_time": "2022-09-29T16:46:56.943Z"
   },
   {
    "duration": 10,
    "start_time": "2022-09-29T16:46:56.953Z"
   },
   {
    "duration": 43,
    "start_time": "2022-09-29T16:46:56.965Z"
   },
   {
    "duration": 8,
    "start_time": "2022-09-29T16:46:57.010Z"
   },
   {
    "duration": 11,
    "start_time": "2022-09-29T16:46:57.020Z"
   },
   {
    "duration": 33,
    "start_time": "2022-09-29T16:46:57.032Z"
   },
   {
    "duration": 5,
    "start_time": "2022-09-29T16:46:57.067Z"
   },
   {
    "duration": 29,
    "start_time": "2022-09-29T16:46:57.073Z"
   },
   {
    "duration": 12,
    "start_time": "2022-09-29T16:46:57.104Z"
   },
   {
    "duration": 1009,
    "start_time": "2022-09-29T16:46:57.118Z"
   },
   {
    "duration": 865,
    "start_time": "2022-09-29T16:46:58.129Z"
   },
   {
    "duration": 8,
    "start_time": "2022-09-29T16:46:58.996Z"
   },
   {
    "duration": 10,
    "start_time": "2022-09-29T16:46:59.005Z"
   },
   {
    "duration": 7,
    "start_time": "2022-09-29T16:46:59.016Z"
   },
   {
    "duration": 13,
    "start_time": "2022-09-29T16:46:59.024Z"
   },
   {
    "duration": 6,
    "start_time": "2022-09-29T16:46:59.038Z"
   },
   {
    "duration": 5,
    "start_time": "2022-09-29T16:46:59.045Z"
   },
   {
    "duration": 54,
    "start_time": "2022-09-29T16:46:59.052Z"
   },
   {
    "duration": 529,
    "start_time": "2022-09-29T16:46:59.107Z"
   },
   {
    "duration": 9,
    "start_time": "2022-09-29T16:46:59.638Z"
   },
   {
    "duration": 6,
    "start_time": "2022-09-29T16:46:59.648Z"
   },
   {
    "duration": 119,
    "start_time": "2022-09-29T16:46:59.655Z"
   },
   {
    "duration": 436,
    "start_time": "2022-09-29T16:48:35.948Z"
   },
   {
    "duration": 634,
    "start_time": "2022-09-29T16:49:07.219Z"
   },
   {
    "duration": 479,
    "start_time": "2022-09-29T16:49:33.710Z"
   },
   {
    "duration": 688,
    "start_time": "2022-09-29T16:49:40.141Z"
   },
   {
    "duration": 865,
    "start_time": "2022-09-29T16:49:56.957Z"
   },
   {
    "duration": 657,
    "start_time": "2022-09-29T16:50:09.284Z"
   },
   {
    "duration": 637,
    "start_time": "2022-09-29T16:50:27.749Z"
   },
   {
    "duration": 13,
    "start_time": "2022-09-29T17:00:02.118Z"
   },
   {
    "duration": 17,
    "start_time": "2022-09-29T17:00:28.088Z"
   },
   {
    "duration": 4,
    "start_time": "2022-09-29T17:05:00.613Z"
   },
   {
    "duration": 5,
    "start_time": "2022-09-29T17:05:15.338Z"
   },
   {
    "duration": 5,
    "start_time": "2022-09-29T17:08:28.520Z"
   },
   {
    "duration": 6,
    "start_time": "2022-09-29T17:09:02.221Z"
   },
   {
    "duration": 6,
    "start_time": "2022-09-29T17:10:21.522Z"
   },
   {
    "duration": 32,
    "start_time": "2022-09-29T17:27:42.265Z"
   },
   {
    "duration": 30,
    "start_time": "2022-09-29T17:27:58.949Z"
   },
   {
    "duration": 32,
    "start_time": "2022-09-29T17:28:14.108Z"
   },
   {
    "duration": 30,
    "start_time": "2022-09-29T17:28:16.748Z"
   },
   {
    "duration": 39,
    "start_time": "2022-09-29T17:29:08.686Z"
   },
   {
    "duration": 25,
    "start_time": "2022-09-29T17:29:20.275Z"
   },
   {
    "duration": 14,
    "start_time": "2022-09-29T17:30:37.543Z"
   },
   {
    "duration": 9,
    "start_time": "2022-09-29T17:32:33.496Z"
   },
   {
    "duration": 281,
    "start_time": "2022-09-29T17:34:48.280Z"
   },
   {
    "duration": 303,
    "start_time": "2022-09-29T17:34:53.440Z"
   },
   {
    "duration": 297,
    "start_time": "2022-09-29T17:35:00.546Z"
   },
   {
    "duration": 11,
    "start_time": "2022-09-29T17:39:53.368Z"
   },
   {
    "duration": 5,
    "start_time": "2022-09-29T17:43:39.557Z"
   },
   {
    "duration": 1866,
    "start_time": "2022-09-30T05:58:00.166Z"
   },
   {
    "duration": 138,
    "start_time": "2022-09-30T05:58:02.035Z"
   },
   {
    "duration": 10,
    "start_time": "2022-09-30T05:58:02.175Z"
   },
   {
    "duration": 13,
    "start_time": "2022-09-30T05:58:02.186Z"
   },
   {
    "duration": 9,
    "start_time": "2022-09-30T05:58:02.202Z"
   },
   {
    "duration": 11,
    "start_time": "2022-09-30T05:58:02.213Z"
   },
   {
    "duration": 39,
    "start_time": "2022-09-30T05:58:02.225Z"
   },
   {
    "duration": 10,
    "start_time": "2022-09-30T05:58:02.269Z"
   },
   {
    "duration": 13,
    "start_time": "2022-09-30T05:58:02.280Z"
   },
   {
    "duration": 22,
    "start_time": "2022-09-30T05:58:02.295Z"
   },
   {
    "duration": 59,
    "start_time": "2022-09-30T05:58:02.319Z"
   },
   {
    "duration": 7,
    "start_time": "2022-09-30T05:58:02.380Z"
   },
   {
    "duration": 13,
    "start_time": "2022-09-30T05:58:02.389Z"
   },
   {
    "duration": 16,
    "start_time": "2022-09-30T05:58:02.405Z"
   },
   {
    "duration": 1267,
    "start_time": "2022-09-30T05:58:02.422Z"
   },
   {
    "duration": 929,
    "start_time": "2022-09-30T05:58:03.690Z"
   },
   {
    "duration": 8,
    "start_time": "2022-09-30T05:58:04.620Z"
   },
   {
    "duration": 30,
    "start_time": "2022-09-30T05:58:04.630Z"
   },
   {
    "duration": 14,
    "start_time": "2022-09-30T05:58:04.663Z"
   },
   {
    "duration": 23,
    "start_time": "2022-09-30T05:58:04.679Z"
   },
   {
    "duration": 8,
    "start_time": "2022-09-30T05:58:04.704Z"
   },
   {
    "duration": 9,
    "start_time": "2022-09-30T05:58:04.714Z"
   },
   {
    "duration": 800,
    "start_time": "2022-09-30T05:58:04.725Z"
   },
   {
    "duration": 43,
    "start_time": "2022-09-30T05:58:05.528Z"
   },
   {
    "duration": 20,
    "start_time": "2022-09-30T05:58:05.575Z"
   },
   {
    "duration": 45,
    "start_time": "2022-09-30T05:58:05.598Z"
   },
   {
    "duration": 67,
    "start_time": "2022-09-30T05:58:05.645Z"
   },
   {
    "duration": 401,
    "start_time": "2022-09-30T05:58:05.713Z"
   },
   {
    "duration": 13,
    "start_time": "2022-09-30T05:58:06.116Z"
   },
   {
    "duration": 10,
    "start_time": "2022-09-30T05:58:06.130Z"
   },
   {
    "duration": 8,
    "start_time": "2022-09-30T08:19:09.049Z"
   },
   {
    "duration": 14,
    "start_time": "2022-09-30T08:19:59.820Z"
   },
   {
    "duration": 125,
    "start_time": "2022-09-30T08:24:04.320Z"
   },
   {
    "duration": 10,
    "start_time": "2022-09-30T08:24:18.816Z"
   },
   {
    "duration": 12,
    "start_time": "2022-09-30T08:24:56.877Z"
   },
   {
    "duration": 11,
    "start_time": "2022-09-30T08:25:04.604Z"
   },
   {
    "duration": 10,
    "start_time": "2022-09-30T08:25:10.209Z"
   },
   {
    "duration": 10,
    "start_time": "2022-09-30T08:25:22.933Z"
   },
   {
    "duration": 106,
    "start_time": "2022-09-30T08:25:43.124Z"
   },
   {
    "duration": 10,
    "start_time": "2022-09-30T08:25:52.320Z"
   },
   {
    "duration": 10,
    "start_time": "2022-09-30T08:25:59.223Z"
   },
   {
    "duration": 13,
    "start_time": "2022-09-30T08:26:13.152Z"
   },
   {
    "duration": 18,
    "start_time": "2022-09-30T08:26:20.312Z"
   },
   {
    "duration": 23,
    "start_time": "2022-09-30T08:26:36.203Z"
   },
   {
    "duration": 12,
    "start_time": "2022-09-30T08:27:38.773Z"
   },
   {
    "duration": 14,
    "start_time": "2022-09-30T08:27:52.631Z"
   },
   {
    "duration": 32,
    "start_time": "2022-09-30T08:30:55.712Z"
   },
   {
    "duration": 38,
    "start_time": "2022-09-30T08:31:04.200Z"
   },
   {
    "duration": 33,
    "start_time": "2022-09-30T08:31:12.449Z"
   },
   {
    "duration": 34,
    "start_time": "2022-09-30T08:31:30.122Z"
   },
   {
    "duration": 32,
    "start_time": "2022-09-30T08:31:39.722Z"
   },
   {
    "duration": 42,
    "start_time": "2022-09-30T08:32:17.651Z"
   },
   {
    "duration": 41,
    "start_time": "2022-09-30T08:32:54.920Z"
   },
   {
    "duration": 45,
    "start_time": "2022-09-30T08:33:08.200Z"
   },
   {
    "duration": 13,
    "start_time": "2022-09-30T08:35:25.235Z"
   },
   {
    "duration": 41,
    "start_time": "2022-09-30T08:36:21.411Z"
   },
   {
    "duration": 10,
    "start_time": "2022-09-30T08:42:10.516Z"
   },
   {
    "duration": 10,
    "start_time": "2022-09-30T08:42:18.721Z"
   },
   {
    "duration": 10,
    "start_time": "2022-09-30T08:42:26.022Z"
   },
   {
    "duration": 11,
    "start_time": "2022-09-30T08:42:34.223Z"
   },
   {
    "duration": 51,
    "start_time": "2022-09-30T08:45:27.040Z"
   },
   {
    "duration": 1411,
    "start_time": "2022-09-30T08:47:10.297Z"
   },
   {
    "duration": 65,
    "start_time": "2022-09-30T08:50:18.728Z"
   },
   {
    "duration": 45,
    "start_time": "2022-09-30T08:51:27.541Z"
   },
   {
    "duration": 15,
    "start_time": "2022-09-30T08:58:58.956Z"
   },
   {
    "duration": 18,
    "start_time": "2022-09-30T10:30:32.804Z"
   },
   {
    "duration": 758,
    "start_time": "2022-09-30T11:49:35.649Z"
   },
   {
    "duration": 7,
    "start_time": "2022-09-30T11:49:49.134Z"
   },
   {
    "duration": 8,
    "start_time": "2022-09-30T11:52:06.709Z"
   },
   {
    "duration": 6,
    "start_time": "2022-09-30T11:54:28.265Z"
   },
   {
    "duration": 8,
    "start_time": "2022-09-30T11:54:40.415Z"
   },
   {
    "duration": 10,
    "start_time": "2022-09-30T11:58:39.774Z"
   },
   {
    "duration": 7,
    "start_time": "2022-09-30T12:00:26.805Z"
   },
   {
    "duration": 10,
    "start_time": "2022-09-30T12:01:05.270Z"
   },
   {
    "duration": 9,
    "start_time": "2022-09-30T12:01:38.995Z"
   },
   {
    "duration": 12,
    "start_time": "2022-09-30T12:01:42.812Z"
   },
   {
    "duration": 10,
    "start_time": "2022-09-30T12:05:48.548Z"
   },
   {
    "duration": 10,
    "start_time": "2022-09-30T12:05:51.974Z"
   },
   {
    "duration": 9,
    "start_time": "2022-09-30T12:05:58.657Z"
   },
   {
    "duration": 10,
    "start_time": "2022-09-30T12:09:14.756Z"
   },
   {
    "duration": 17,
    "start_time": "2022-09-30T12:10:42.536Z"
   },
   {
    "duration": 1655,
    "start_time": "2022-09-30T12:11:32.834Z"
   },
   {
    "duration": 67,
    "start_time": "2022-09-30T12:11:34.491Z"
   },
   {
    "duration": 12,
    "start_time": "2022-09-30T12:11:34.560Z"
   },
   {
    "duration": 11,
    "start_time": "2022-09-30T12:11:34.574Z"
   },
   {
    "duration": 9,
    "start_time": "2022-09-30T12:11:34.588Z"
   },
   {
    "duration": 12,
    "start_time": "2022-09-30T12:11:34.599Z"
   },
   {
    "duration": 41,
    "start_time": "2022-09-30T12:11:34.613Z"
   },
   {
    "duration": 4,
    "start_time": "2022-09-30T12:11:34.656Z"
   },
   {
    "duration": 11,
    "start_time": "2022-09-30T12:11:34.662Z"
   },
   {
    "duration": 32,
    "start_time": "2022-09-30T12:11:34.675Z"
   },
   {
    "duration": 45,
    "start_time": "2022-09-30T12:11:34.709Z"
   },
   {
    "duration": 7,
    "start_time": "2022-09-30T12:11:34.756Z"
   },
   {
    "duration": 10,
    "start_time": "2022-09-30T12:11:34.764Z"
   },
   {
    "duration": 14,
    "start_time": "2022-09-30T12:11:34.777Z"
   },
   {
    "duration": 1205,
    "start_time": "2022-09-30T12:11:34.792Z"
   },
   {
    "duration": 1047,
    "start_time": "2022-09-30T12:11:35.999Z"
   },
   {
    "duration": 8,
    "start_time": "2022-09-30T12:11:37.053Z"
   },
   {
    "duration": 30,
    "start_time": "2022-09-30T12:11:37.062Z"
   },
   {
    "duration": 12,
    "start_time": "2022-09-30T12:11:37.094Z"
   },
   {
    "duration": 18,
    "start_time": "2022-09-30T12:11:37.108Z"
   },
   {
    "duration": 6,
    "start_time": "2022-09-30T12:11:37.128Z"
   },
   {
    "duration": 19,
    "start_time": "2022-09-30T12:11:37.136Z"
   },
   {
    "duration": 747,
    "start_time": "2022-09-30T12:11:37.157Z"
   },
   {
    "duration": 28,
    "start_time": "2022-09-30T12:11:37.906Z"
   },
   {
    "duration": 29,
    "start_time": "2022-09-30T12:11:37.936Z"
   },
   {
    "duration": 7,
    "start_time": "2022-09-30T12:11:37.966Z"
   },
   {
    "duration": 12,
    "start_time": "2022-09-30T12:11:37.975Z"
   },
   {
    "duration": 359,
    "start_time": "2022-09-30T12:11:37.989Z"
   },
   {
    "duration": 14,
    "start_time": "2022-09-30T12:11:38.350Z"
   },
   {
    "duration": 26,
    "start_time": "2022-09-30T12:11:38.365Z"
   },
   {
    "duration": 14,
    "start_time": "2022-09-30T12:11:38.392Z"
   },
   {
    "duration": 36,
    "start_time": "2022-09-30T12:11:38.408Z"
   },
   {
    "duration": 16,
    "start_time": "2022-09-30T12:11:38.446Z"
   },
   {
    "duration": 27,
    "start_time": "2022-09-30T12:11:38.464Z"
   },
   {
    "duration": 9,
    "start_time": "2022-09-30T12:13:06.721Z"
   },
   {
    "duration": 11,
    "start_time": "2022-09-30T12:14:30.612Z"
   },
   {
    "duration": 11,
    "start_time": "2022-09-30T12:14:41.421Z"
   },
   {
    "duration": 9,
    "start_time": "2022-09-30T12:15:22.812Z"
   },
   {
    "duration": 1701,
    "start_time": "2022-09-30T16:20:29.097Z"
   },
   {
    "duration": 171,
    "start_time": "2022-09-30T16:20:30.800Z"
   },
   {
    "duration": 7,
    "start_time": "2022-09-30T16:20:30.972Z"
   },
   {
    "duration": 29,
    "start_time": "2022-09-30T16:20:30.981Z"
   },
   {
    "duration": 31,
    "start_time": "2022-09-30T16:20:31.012Z"
   },
   {
    "duration": 31,
    "start_time": "2022-09-30T16:20:31.044Z"
   },
   {
    "duration": 23,
    "start_time": "2022-09-30T16:20:31.076Z"
   },
   {
    "duration": 18,
    "start_time": "2022-09-30T16:20:31.101Z"
   },
   {
    "duration": 17,
    "start_time": "2022-09-30T16:20:31.121Z"
   },
   {
    "duration": 20,
    "start_time": "2022-09-30T16:20:31.141Z"
   },
   {
    "duration": 35,
    "start_time": "2022-09-30T16:20:31.162Z"
   },
   {
    "duration": 6,
    "start_time": "2022-09-30T16:20:31.199Z"
   },
   {
    "duration": 11,
    "start_time": "2022-09-30T16:20:31.206Z"
   },
   {
    "duration": 21,
    "start_time": "2022-09-30T16:20:31.218Z"
   },
   {
    "duration": 952,
    "start_time": "2022-09-30T16:20:31.240Z"
   },
   {
    "duration": 815,
    "start_time": "2022-09-30T16:20:32.193Z"
   },
   {
    "duration": 12,
    "start_time": "2022-09-30T16:20:33.010Z"
   },
   {
    "duration": 20,
    "start_time": "2022-09-30T16:20:33.024Z"
   },
   {
    "duration": 12,
    "start_time": "2022-09-30T16:20:33.046Z"
   },
   {
    "duration": 17,
    "start_time": "2022-09-30T16:20:33.060Z"
   },
   {
    "duration": 14,
    "start_time": "2022-09-30T16:20:33.079Z"
   },
   {
    "duration": 15,
    "start_time": "2022-09-30T16:20:33.094Z"
   },
   {
    "duration": 704,
    "start_time": "2022-09-30T16:20:33.111Z"
   },
   {
    "duration": 37,
    "start_time": "2022-09-30T16:20:33.817Z"
   },
   {
    "duration": 13,
    "start_time": "2022-09-30T16:20:33.855Z"
   },
   {
    "duration": 5,
    "start_time": "2022-09-30T16:20:33.869Z"
   },
   {
    "duration": 7,
    "start_time": "2022-09-30T16:20:33.876Z"
   },
   {
    "duration": 307,
    "start_time": "2022-09-30T16:20:33.886Z"
   },
   {
    "duration": 11,
    "start_time": "2022-09-30T16:20:34.194Z"
   },
   {
    "duration": 16,
    "start_time": "2022-09-30T16:20:34.206Z"
   },
   {
    "duration": 7,
    "start_time": "2022-09-30T16:20:34.224Z"
   },
   {
    "duration": 6,
    "start_time": "2022-09-30T16:20:34.232Z"
   },
   {
    "duration": 10,
    "start_time": "2022-09-30T16:20:34.239Z"
   },
   {
    "duration": 12,
    "start_time": "2022-09-30T16:44:14.265Z"
   },
   {
    "duration": 105,
    "start_time": "2022-09-30T16:48:40.958Z"
   },
   {
    "duration": 5,
    "start_time": "2022-09-30T16:48:47.110Z"
   },
   {
    "duration": 73,
    "start_time": "2022-09-30T16:56:59.541Z"
   },
   {
    "duration": 14,
    "start_time": "2022-09-30T16:57:05.606Z"
   },
   {
    "duration": 68,
    "start_time": "2022-09-30T16:58:27.004Z"
   },
   {
    "duration": 128,
    "start_time": "2022-09-30T17:00:20.488Z"
   },
   {
    "duration": 6,
    "start_time": "2022-09-30T17:11:36.411Z"
   },
   {
    "duration": 12,
    "start_time": "2022-09-30T17:11:44.777Z"
   },
   {
    "duration": 6,
    "start_time": "2022-09-30T17:12:24.142Z"
   },
   {
    "duration": 5,
    "start_time": "2022-09-30T17:12:48.444Z"
   },
   {
    "duration": 4,
    "start_time": "2022-09-30T17:12:55.252Z"
   },
   {
    "duration": 11,
    "start_time": "2022-09-30T17:14:30.017Z"
   },
   {
    "duration": 15,
    "start_time": "2022-09-30T17:15:45.040Z"
   },
   {
    "duration": 7,
    "start_time": "2022-09-30T17:16:06.318Z"
   },
   {
    "duration": 4,
    "start_time": "2022-09-30T17:16:14.033Z"
   },
   {
    "duration": 5,
    "start_time": "2022-09-30T17:16:47.264Z"
   },
   {
    "duration": 4,
    "start_time": "2022-09-30T17:16:48.913Z"
   },
   {
    "duration": 18,
    "start_time": "2022-09-30T17:21:24.643Z"
   },
   {
    "duration": 13,
    "start_time": "2022-09-30T17:21:32.134Z"
   },
   {
    "duration": 4,
    "start_time": "2022-09-30T17:21:51.126Z"
   },
   {
    "duration": 251622,
    "start_time": "2022-09-30T17:32:13.958Z"
   },
   {
    "duration": 10,
    "start_time": "2022-09-30T17:37:32.367Z"
   },
   {
    "duration": 10,
    "start_time": "2022-09-30T17:37:53.516Z"
   },
   {
    "duration": 10,
    "start_time": "2022-09-30T17:38:14.193Z"
   },
   {
    "duration": 1053,
    "start_time": "2022-09-30T17:42:01.669Z"
   },
   {
    "duration": 62,
    "start_time": "2022-09-30T17:43:17.788Z"
   },
   {
    "duration": 1618,
    "start_time": "2022-09-30T17:44:58.628Z"
   },
   {
    "duration": 28,
    "start_time": "2022-09-30T17:47:44.763Z"
   },
   {
    "duration": 29,
    "start_time": "2022-09-30T17:47:52.029Z"
   },
   {
    "duration": 1355,
    "start_time": "2022-09-30T17:53:17.591Z"
   },
   {
    "duration": 27,
    "start_time": "2022-09-30T17:53:26.385Z"
   },
   {
    "duration": 1379,
    "start_time": "2022-09-30T17:55:36.744Z"
   },
   {
    "duration": 25,
    "start_time": "2022-09-30T17:55:40.597Z"
   },
   {
    "duration": 1718,
    "start_time": "2022-09-30T17:56:19.705Z"
   },
   {
    "duration": 26,
    "start_time": "2022-09-30T17:56:26.396Z"
   },
   {
    "duration": 2206,
    "start_time": "2022-09-30T17:56:52.320Z"
   },
   {
    "duration": 28,
    "start_time": "2022-09-30T17:56:59.022Z"
   },
   {
    "duration": 821,
    "start_time": "2022-09-30T17:57:25.604Z"
   },
   {
    "duration": 1399,
    "start_time": "2022-09-30T17:57:30.639Z"
   },
   {
    "duration": 23,
    "start_time": "2022-09-30T17:57:34.764Z"
   },
   {
    "duration": 1548,
    "start_time": "2022-09-30T18:05:38.585Z"
   },
   {
    "duration": 31,
    "start_time": "2022-09-30T18:05:40.326Z"
   },
   {
    "duration": 1010,
    "start_time": "2022-09-30T18:15:06.113Z"
   },
   {
    "duration": 31,
    "start_time": "2022-09-30T18:15:13.405Z"
   },
   {
    "duration": 1088,
    "start_time": "2022-09-30T18:21:54.252Z"
   },
   {
    "duration": 1253,
    "start_time": "2022-09-30T18:25:53.259Z"
   },
   {
    "duration": 1132,
    "start_time": "2022-09-30T18:26:13.292Z"
   },
   {
    "duration": 1380,
    "start_time": "2022-09-30T18:29:17.664Z"
   },
   {
    "duration": 1300,
    "start_time": "2022-09-30T18:30:04.863Z"
   },
   {
    "duration": 1450,
    "start_time": "2022-09-30T18:30:40.394Z"
   },
   {
    "duration": 2435,
    "start_time": "2022-09-30T18:31:06.657Z"
   },
   {
    "duration": 3200,
    "start_time": "2022-09-30T18:32:34.540Z"
   },
   {
    "duration": 1755,
    "start_time": "2022-10-01T07:33:58.669Z"
   },
   {
    "duration": 104,
    "start_time": "2022-10-01T07:34:00.426Z"
   },
   {
    "duration": 9,
    "start_time": "2022-10-01T07:34:00.532Z"
   },
   {
    "duration": 43,
    "start_time": "2022-10-01T07:34:00.543Z"
   },
   {
    "duration": 61,
    "start_time": "2022-10-01T07:34:00.588Z"
   },
   {
    "duration": 24,
    "start_time": "2022-10-01T07:34:00.651Z"
   },
   {
    "duration": 25,
    "start_time": "2022-10-01T07:34:00.678Z"
   },
   {
    "duration": 38,
    "start_time": "2022-10-01T07:34:00.705Z"
   },
   {
    "duration": 20,
    "start_time": "2022-10-01T07:34:00.745Z"
   },
   {
    "duration": 39,
    "start_time": "2022-10-01T07:34:00.768Z"
   },
   {
    "duration": 53,
    "start_time": "2022-10-01T07:34:00.809Z"
   },
   {
    "duration": 8,
    "start_time": "2022-10-01T07:34:00.864Z"
   },
   {
    "duration": 35,
    "start_time": "2022-10-01T07:34:00.874Z"
   },
   {
    "duration": 34,
    "start_time": "2022-10-01T07:34:00.911Z"
   },
   {
    "duration": 1165,
    "start_time": "2022-10-01T07:34:00.947Z"
   },
   {
    "duration": 1030,
    "start_time": "2022-10-01T07:34:02.114Z"
   },
   {
    "duration": 7,
    "start_time": "2022-10-01T07:34:03.146Z"
   },
   {
    "duration": 28,
    "start_time": "2022-10-01T07:34:03.155Z"
   },
   {
    "duration": 13,
    "start_time": "2022-10-01T07:34:03.185Z"
   },
   {
    "duration": 16,
    "start_time": "2022-10-01T07:34:03.200Z"
   },
   {
    "duration": 11,
    "start_time": "2022-10-01T07:34:03.218Z"
   },
   {
    "duration": 6,
    "start_time": "2022-10-01T07:34:03.231Z"
   },
   {
    "duration": 830,
    "start_time": "2022-10-01T07:34:03.239Z"
   },
   {
    "duration": 35,
    "start_time": "2022-10-01T07:34:04.071Z"
   },
   {
    "duration": 14,
    "start_time": "2022-10-01T07:34:04.108Z"
   },
   {
    "duration": 9,
    "start_time": "2022-10-01T07:34:04.124Z"
   },
   {
    "duration": 10,
    "start_time": "2022-10-01T07:34:04.134Z"
   },
   {
    "duration": 334,
    "start_time": "2022-10-01T07:34:04.177Z"
   },
   {
    "duration": 12,
    "start_time": "2022-10-01T07:34:04.513Z"
   },
   {
    "duration": 5,
    "start_time": "2022-10-01T07:34:04.527Z"
   },
   {
    "duration": 8,
    "start_time": "2022-10-01T07:34:04.534Z"
   },
   {
    "duration": 44,
    "start_time": "2022-10-01T07:34:04.544Z"
   },
   {
    "duration": 11,
    "start_time": "2022-10-01T07:34:04.590Z"
   },
   {
    "duration": 22,
    "start_time": "2022-10-01T07:34:04.602Z"
   },
   {
    "duration": 314892,
    "start_time": "2022-10-01T07:34:04.625Z"
   },
   {
    "duration": 1367,
    "start_time": "2022-10-01T07:39:19.519Z"
   },
   {
    "duration": 147,
    "start_time": "2022-10-01T07:39:20.888Z"
   },
   {
    "duration": 1247,
    "start_time": "2022-10-01T07:39:21.037Z"
   },
   {
    "duration": 1762,
    "start_time": "2022-10-01T07:39:22.287Z"
   },
   {
    "duration": 3081,
    "start_time": "2022-10-01T07:39:24.052Z"
   },
   {
    "duration": 3710,
    "start_time": "2022-10-01T07:39:27.135Z"
   },
   {
    "duration": 1245,
    "start_time": "2022-10-01T08:00:03.925Z"
   },
   {
    "duration": 79,
    "start_time": "2022-10-01T08:00:05.173Z"
   },
   {
    "duration": 14,
    "start_time": "2022-10-01T08:00:05.254Z"
   },
   {
    "duration": 22,
    "start_time": "2022-10-01T08:00:05.271Z"
   },
   {
    "duration": 15,
    "start_time": "2022-10-01T08:00:05.294Z"
   },
   {
    "duration": 14,
    "start_time": "2022-10-01T08:00:05.311Z"
   },
   {
    "duration": 13,
    "start_time": "2022-10-01T08:00:05.328Z"
   },
   {
    "duration": 18,
    "start_time": "2022-10-01T08:00:05.344Z"
   },
   {
    "duration": 21,
    "start_time": "2022-10-01T08:00:05.365Z"
   },
   {
    "duration": 23,
    "start_time": "2022-10-01T08:00:05.396Z"
   },
   {
    "duration": 45,
    "start_time": "2022-10-01T08:00:05.421Z"
   },
   {
    "duration": 8,
    "start_time": "2022-10-01T08:00:05.469Z"
   },
   {
    "duration": 24,
    "start_time": "2022-10-01T08:00:05.478Z"
   },
   {
    "duration": 20,
    "start_time": "2022-10-01T08:00:05.505Z"
   },
   {
    "duration": 1166,
    "start_time": "2022-10-01T08:00:05.526Z"
   },
   {
    "duration": 966,
    "start_time": "2022-10-01T08:00:06.694Z"
   },
   {
    "duration": 9,
    "start_time": "2022-10-01T08:00:07.661Z"
   },
   {
    "duration": 18,
    "start_time": "2022-10-01T08:00:07.682Z"
   },
   {
    "duration": 19,
    "start_time": "2022-10-01T08:00:07.702Z"
   },
   {
    "duration": 18,
    "start_time": "2022-10-01T08:00:07.724Z"
   },
   {
    "duration": 7,
    "start_time": "2022-10-01T08:00:07.744Z"
   },
   {
    "duration": 26,
    "start_time": "2022-10-01T08:00:07.753Z"
   },
   {
    "duration": 762,
    "start_time": "2022-10-01T08:00:07.782Z"
   },
   {
    "duration": 44,
    "start_time": "2022-10-01T08:00:08.546Z"
   },
   {
    "duration": 22,
    "start_time": "2022-10-01T08:00:08.593Z"
   },
   {
    "duration": 7,
    "start_time": "2022-10-01T08:00:08.618Z"
   },
   {
    "duration": 9,
    "start_time": "2022-10-01T08:00:08.627Z"
   },
   {
    "duration": 390,
    "start_time": "2022-10-01T08:00:08.641Z"
   },
   {
    "duration": 11,
    "start_time": "2022-10-01T08:00:09.033Z"
   },
   {
    "duration": 6,
    "start_time": "2022-10-01T08:00:09.046Z"
   },
   {
    "duration": 24,
    "start_time": "2022-10-01T08:00:09.054Z"
   },
   {
    "duration": 14,
    "start_time": "2022-10-01T08:00:09.079Z"
   },
   {
    "duration": 108,
    "start_time": "2022-10-01T08:00:09.095Z"
   },
   {
    "duration": 37,
    "start_time": "2022-10-01T08:17:29.273Z"
   },
   {
    "duration": 6,
    "start_time": "2022-10-01T08:38:39.410Z"
   },
   {
    "duration": 6,
    "start_time": "2022-10-01T08:39:33.356Z"
   },
   {
    "duration": 13,
    "start_time": "2022-10-01T08:43:31.623Z"
   },
   {
    "duration": 113,
    "start_time": "2022-10-01T08:54:49.259Z"
   },
   {
    "duration": 23,
    "start_time": "2022-10-01T08:54:55.964Z"
   },
   {
    "duration": 40,
    "start_time": "2022-10-01T08:56:32.086Z"
   },
   {
    "duration": 48,
    "start_time": "2022-10-01T08:56:51.664Z"
   },
   {
    "duration": 41,
    "start_time": "2022-10-01T08:57:10.823Z"
   },
   {
    "duration": 46,
    "start_time": "2022-10-01T08:57:25.952Z"
   },
   {
    "duration": 42,
    "start_time": "2022-10-01T08:57:40.065Z"
   },
   {
    "duration": 51,
    "start_time": "2022-10-01T08:57:50.555Z"
   },
   {
    "duration": 12,
    "start_time": "2022-10-01T09:56:49.754Z"
   },
   {
    "duration": 11,
    "start_time": "2022-10-01T09:57:00.946Z"
   },
   {
    "duration": 12,
    "start_time": "2022-10-01T09:57:22.153Z"
   },
   {
    "duration": 11,
    "start_time": "2022-10-01T10:09:32.421Z"
   },
   {
    "duration": 13,
    "start_time": "2022-10-01T10:09:37.063Z"
   },
   {
    "duration": 9,
    "start_time": "2022-10-01T10:26:19.320Z"
   },
   {
    "duration": 1187,
    "start_time": "2022-10-01T15:02:47.709Z"
   },
   {
    "duration": 58,
    "start_time": "2022-10-01T15:02:48.903Z"
   },
   {
    "duration": 8,
    "start_time": "2022-10-01T15:02:48.963Z"
   },
   {
    "duration": 21,
    "start_time": "2022-10-01T15:02:48.973Z"
   },
   {
    "duration": 19,
    "start_time": "2022-10-01T15:02:48.996Z"
   },
   {
    "duration": 12,
    "start_time": "2022-10-01T15:02:49.016Z"
   },
   {
    "duration": 9,
    "start_time": "2022-10-01T15:02:49.030Z"
   },
   {
    "duration": 5,
    "start_time": "2022-10-01T15:02:49.041Z"
   },
   {
    "duration": 8,
    "start_time": "2022-10-01T15:02:49.047Z"
   },
   {
    "duration": 12,
    "start_time": "2022-10-01T15:02:49.056Z"
   },
   {
    "duration": 48,
    "start_time": "2022-10-01T15:02:49.070Z"
   },
   {
    "duration": 6,
    "start_time": "2022-10-01T15:02:49.120Z"
   },
   {
    "duration": 9,
    "start_time": "2022-10-01T15:02:49.128Z"
   },
   {
    "duration": 45,
    "start_time": "2022-10-01T15:02:49.140Z"
   },
   {
    "duration": 805,
    "start_time": "2022-10-01T15:02:49.186Z"
   },
   {
    "duration": 0,
    "start_time": "2022-10-01T15:02:49.993Z"
   },
   {
    "duration": 0,
    "start_time": "2022-10-01T15:02:49.994Z"
   },
   {
    "duration": 0,
    "start_time": "2022-10-01T15:02:49.995Z"
   },
   {
    "duration": 0,
    "start_time": "2022-10-01T15:02:49.996Z"
   },
   {
    "duration": 0,
    "start_time": "2022-10-01T15:02:49.997Z"
   },
   {
    "duration": 0,
    "start_time": "2022-10-01T15:02:49.998Z"
   },
   {
    "duration": 0,
    "start_time": "2022-10-01T15:02:50.002Z"
   },
   {
    "duration": 0,
    "start_time": "2022-10-01T15:02:50.003Z"
   },
   {
    "duration": 0,
    "start_time": "2022-10-01T15:02:50.005Z"
   },
   {
    "duration": 0,
    "start_time": "2022-10-01T15:02:50.006Z"
   },
   {
    "duration": 0,
    "start_time": "2022-10-01T15:02:50.007Z"
   },
   {
    "duration": 0,
    "start_time": "2022-10-01T15:02:50.008Z"
   },
   {
    "duration": 0,
    "start_time": "2022-10-01T15:02:50.009Z"
   },
   {
    "duration": 0,
    "start_time": "2022-10-01T15:02:50.011Z"
   },
   {
    "duration": 0,
    "start_time": "2022-10-01T15:02:50.012Z"
   },
   {
    "duration": 0,
    "start_time": "2022-10-01T15:02:50.013Z"
   },
   {
    "duration": 0,
    "start_time": "2022-10-01T15:02:50.014Z"
   },
   {
    "duration": 0,
    "start_time": "2022-10-01T15:02:50.015Z"
   },
   {
    "duration": 0,
    "start_time": "2022-10-01T15:02:50.016Z"
   },
   {
    "duration": 748,
    "start_time": "2022-10-01T15:03:34.650Z"
   },
   {
    "duration": 2450,
    "start_time": "2022-10-01T15:03:46.522Z"
   },
   {
    "duration": 1148,
    "start_time": "2022-10-01T15:10:57.099Z"
   },
   {
    "duration": 67,
    "start_time": "2022-10-01T15:10:58.250Z"
   },
   {
    "duration": 9,
    "start_time": "2022-10-01T15:10:58.319Z"
   },
   {
    "duration": 6,
    "start_time": "2022-10-01T15:10:58.329Z"
   },
   {
    "duration": 6,
    "start_time": "2022-10-01T15:10:58.337Z"
   },
   {
    "duration": 9,
    "start_time": "2022-10-01T15:10:58.345Z"
   },
   {
    "duration": 17,
    "start_time": "2022-10-01T15:10:58.376Z"
   },
   {
    "duration": 2,
    "start_time": "2022-10-01T15:10:58.395Z"
   },
   {
    "duration": 12,
    "start_time": "2022-10-01T15:10:58.399Z"
   },
   {
    "duration": 11,
    "start_time": "2022-10-01T15:10:58.413Z"
   },
   {
    "duration": 56,
    "start_time": "2022-10-01T15:10:58.426Z"
   },
   {
    "duration": 7,
    "start_time": "2022-10-01T15:10:58.484Z"
   },
   {
    "duration": 22,
    "start_time": "2022-10-01T15:10:58.492Z"
   },
   {
    "duration": 16,
    "start_time": "2022-10-01T15:10:58.517Z"
   },
   {
    "duration": 1134,
    "start_time": "2022-10-01T15:10:58.534Z"
   },
   {
    "duration": 955,
    "start_time": "2022-10-01T15:10:59.670Z"
   },
   {
    "duration": 8,
    "start_time": "2022-10-01T15:11:00.627Z"
   },
   {
    "duration": 74,
    "start_time": "2022-10-01T15:11:00.636Z"
   },
   {
    "duration": 25,
    "start_time": "2022-10-01T15:11:00.712Z"
   },
   {
    "duration": 27,
    "start_time": "2022-10-01T15:11:00.739Z"
   },
   {
    "duration": 44,
    "start_time": "2022-10-01T15:11:00.768Z"
   },
   {
    "duration": 27,
    "start_time": "2022-10-01T15:11:00.814Z"
   },
   {
    "duration": 21,
    "start_time": "2022-10-01T15:11:00.843Z"
   },
   {
    "duration": 759,
    "start_time": "2022-10-01T15:11:00.866Z"
   },
   {
    "duration": 29,
    "start_time": "2022-10-01T15:11:01.627Z"
   },
   {
    "duration": 33,
    "start_time": "2022-10-01T15:11:01.658Z"
   },
   {
    "duration": 26,
    "start_time": "2022-10-01T15:11:01.692Z"
   },
   {
    "duration": 22,
    "start_time": "2022-10-01T15:11:01.719Z"
   },
   {
    "duration": 343,
    "start_time": "2022-10-01T15:11:01.743Z"
   },
   {
    "duration": 16,
    "start_time": "2022-10-01T15:11:02.088Z"
   },
   {
    "duration": 51,
    "start_time": "2022-10-01T15:11:02.106Z"
   },
   {
    "duration": 46,
    "start_time": "2022-10-01T15:11:02.159Z"
   },
   {
    "duration": 24,
    "start_time": "2022-10-01T15:11:02.208Z"
   },
   {
    "duration": 88,
    "start_time": "2022-10-01T15:11:02.234Z"
   },
   {
    "duration": 1168,
    "start_time": "2022-10-01T16:50:48.218Z"
   },
   {
    "duration": 63,
    "start_time": "2022-10-01T16:50:49.389Z"
   },
   {
    "duration": 11,
    "start_time": "2022-10-01T16:50:49.453Z"
   },
   {
    "duration": 12,
    "start_time": "2022-10-01T16:50:49.466Z"
   },
   {
    "duration": 10,
    "start_time": "2022-10-01T16:50:49.480Z"
   },
   {
    "duration": 13,
    "start_time": "2022-10-01T16:50:49.491Z"
   },
   {
    "duration": 12,
    "start_time": "2022-10-01T16:50:49.506Z"
   },
   {
    "duration": 7,
    "start_time": "2022-10-01T16:50:49.520Z"
   },
   {
    "duration": 8,
    "start_time": "2022-10-01T16:50:49.530Z"
   },
   {
    "duration": 14,
    "start_time": "2022-10-01T16:50:49.539Z"
   },
   {
    "duration": 42,
    "start_time": "2022-10-01T16:50:49.577Z"
   },
   {
    "duration": 6,
    "start_time": "2022-10-01T16:50:49.621Z"
   },
   {
    "duration": 12,
    "start_time": "2022-10-01T16:50:49.629Z"
   },
   {
    "duration": 39,
    "start_time": "2022-10-01T16:50:49.644Z"
   },
   {
    "duration": 1177,
    "start_time": "2022-10-01T16:50:49.684Z"
   },
   {
    "duration": 983,
    "start_time": "2022-10-01T16:50:50.863Z"
   },
   {
    "duration": 8,
    "start_time": "2022-10-01T16:50:51.847Z"
   },
   {
    "duration": 33,
    "start_time": "2022-10-01T16:50:51.856Z"
   },
   {
    "duration": 13,
    "start_time": "2022-10-01T16:50:51.891Z"
   },
   {
    "duration": 16,
    "start_time": "2022-10-01T16:50:51.905Z"
   },
   {
    "duration": 6,
    "start_time": "2022-10-01T16:50:51.923Z"
   },
   {
    "duration": 8,
    "start_time": "2022-10-01T16:50:51.931Z"
   },
   {
    "duration": 10,
    "start_time": "2022-10-01T16:50:51.941Z"
   },
   {
    "duration": 853,
    "start_time": "2022-10-01T16:50:51.953Z"
   },
   {
    "duration": 36,
    "start_time": "2022-10-01T16:50:52.808Z"
   },
   {
    "duration": 15,
    "start_time": "2022-10-01T16:50:52.846Z"
   },
   {
    "duration": 9,
    "start_time": "2022-10-01T16:50:52.876Z"
   },
   {
    "duration": 20,
    "start_time": "2022-10-01T16:50:52.890Z"
   },
   {
    "duration": 355,
    "start_time": "2022-10-01T16:50:52.912Z"
   },
   {
    "duration": 23,
    "start_time": "2022-10-01T16:50:53.268Z"
   },
   {
    "duration": 6,
    "start_time": "2022-10-01T16:50:53.295Z"
   },
   {
    "duration": 11,
    "start_time": "2022-10-01T16:50:53.302Z"
   },
   {
    "duration": 10,
    "start_time": "2022-10-01T16:50:53.315Z"
   },
   {
    "duration": 119,
    "start_time": "2022-10-01T16:50:53.327Z"
   },
   {
    "duration": 1165,
    "start_time": "2022-10-02T14:32:09.518Z"
   },
   {
    "duration": 55,
    "start_time": "2022-10-02T14:32:10.685Z"
   },
   {
    "duration": 8,
    "start_time": "2022-10-02T14:32:10.742Z"
   },
   {
    "duration": 5,
    "start_time": "2022-10-02T14:32:10.752Z"
   },
   {
    "duration": 5,
    "start_time": "2022-10-02T14:32:10.758Z"
   },
   {
    "duration": 7,
    "start_time": "2022-10-02T14:32:10.764Z"
   },
   {
    "duration": 9,
    "start_time": "2022-10-02T14:32:10.773Z"
   },
   {
    "duration": 3,
    "start_time": "2022-10-02T14:32:10.808Z"
   },
   {
    "duration": 9,
    "start_time": "2022-10-02T14:32:10.813Z"
   },
   {
    "duration": 11,
    "start_time": "2022-10-02T14:32:10.825Z"
   },
   {
    "duration": 37,
    "start_time": "2022-10-02T14:32:10.838Z"
   },
   {
    "duration": 32,
    "start_time": "2022-10-02T14:32:10.877Z"
   },
   {
    "duration": 5,
    "start_time": "2022-10-02T14:32:10.911Z"
   },
   {
    "duration": 16,
    "start_time": "2022-10-02T14:32:10.917Z"
   },
   {
    "duration": 995,
    "start_time": "2022-10-02T14:32:10.934Z"
   },
   {
    "duration": 845,
    "start_time": "2022-10-02T14:32:11.930Z"
   },
   {
    "duration": 6,
    "start_time": "2022-10-02T14:32:12.777Z"
   },
   {
    "duration": 39,
    "start_time": "2022-10-02T14:32:12.785Z"
   },
   {
    "duration": 13,
    "start_time": "2022-10-02T14:32:12.825Z"
   },
   {
    "duration": 14,
    "start_time": "2022-10-02T14:32:12.839Z"
   },
   {
    "duration": 15,
    "start_time": "2022-10-02T14:32:12.854Z"
   },
   {
    "duration": 11,
    "start_time": "2022-10-02T14:32:12.871Z"
   },
   {
    "duration": 14,
    "start_time": "2022-10-02T14:32:12.883Z"
   },
   {
    "duration": 658,
    "start_time": "2022-10-02T14:32:12.899Z"
   },
   {
    "duration": 50,
    "start_time": "2022-10-02T14:32:13.559Z"
   },
   {
    "duration": 14,
    "start_time": "2022-10-02T14:32:13.611Z"
   },
   {
    "duration": 10,
    "start_time": "2022-10-02T14:32:13.627Z"
   },
   {
    "duration": 18,
    "start_time": "2022-10-02T14:32:13.640Z"
   },
   {
    "duration": 334,
    "start_time": "2022-10-02T14:32:13.659Z"
   },
   {
    "duration": 15,
    "start_time": "2022-10-02T14:32:13.994Z"
   },
   {
    "duration": 6,
    "start_time": "2022-10-02T14:32:14.010Z"
   },
   {
    "duration": 46,
    "start_time": "2022-10-02T14:32:14.017Z"
   },
   {
    "duration": 17,
    "start_time": "2022-10-02T14:32:14.064Z"
   },
   {
    "duration": 74,
    "start_time": "2022-10-02T14:32:14.083Z"
   },
   {
    "duration": 1426,
    "start_time": "2022-10-03T05:55:06.056Z"
   },
   {
    "duration": 179,
    "start_time": "2022-10-03T05:55:07.484Z"
   },
   {
    "duration": 11,
    "start_time": "2022-10-03T05:55:07.665Z"
   },
   {
    "duration": 14,
    "start_time": "2022-10-03T05:55:07.678Z"
   },
   {
    "duration": 27,
    "start_time": "2022-10-03T05:55:07.694Z"
   },
   {
    "duration": 14,
    "start_time": "2022-10-03T05:55:07.723Z"
   },
   {
    "duration": 13,
    "start_time": "2022-10-03T05:55:07.739Z"
   },
   {
    "duration": 10,
    "start_time": "2022-10-03T05:55:07.753Z"
   },
   {
    "duration": 12,
    "start_time": "2022-10-03T05:55:07.765Z"
   },
   {
    "duration": 15,
    "start_time": "2022-10-03T05:55:07.781Z"
   },
   {
    "duration": 46,
    "start_time": "2022-10-03T05:55:07.798Z"
   },
   {
    "duration": 6,
    "start_time": "2022-10-03T05:55:07.845Z"
   },
   {
    "duration": 9,
    "start_time": "2022-10-03T05:55:07.853Z"
   },
   {
    "duration": 34,
    "start_time": "2022-10-03T05:55:07.863Z"
   },
   {
    "duration": 1106,
    "start_time": "2022-10-03T05:55:07.899Z"
   },
   {
    "duration": 894,
    "start_time": "2022-10-03T05:55:09.006Z"
   },
   {
    "duration": 9,
    "start_time": "2022-10-03T05:55:09.902Z"
   },
   {
    "duration": 14,
    "start_time": "2022-10-03T05:55:09.912Z"
   },
   {
    "duration": 12,
    "start_time": "2022-10-03T05:55:09.928Z"
   },
   {
    "duration": 18,
    "start_time": "2022-10-03T05:55:09.942Z"
   },
   {
    "duration": 41,
    "start_time": "2022-10-03T05:55:09.961Z"
   },
   {
    "duration": 7,
    "start_time": "2022-10-03T05:55:10.004Z"
   },
   {
    "duration": 7,
    "start_time": "2022-10-03T05:55:10.012Z"
   },
   {
    "duration": 780,
    "start_time": "2022-10-03T05:55:10.021Z"
   },
   {
    "duration": 28,
    "start_time": "2022-10-03T05:55:10.802Z"
   },
   {
    "duration": 16,
    "start_time": "2022-10-03T05:55:10.832Z"
   },
   {
    "duration": 8,
    "start_time": "2022-10-03T05:55:10.851Z"
   },
   {
    "duration": 39,
    "start_time": "2022-10-03T05:55:10.862Z"
   },
   {
    "duration": 310,
    "start_time": "2022-10-03T05:55:10.903Z"
   },
   {
    "duration": 10,
    "start_time": "2022-10-03T05:55:11.215Z"
   },
   {
    "duration": 7,
    "start_time": "2022-10-03T05:55:11.226Z"
   },
   {
    "duration": 12,
    "start_time": "2022-10-03T05:55:11.235Z"
   },
   {
    "duration": 7,
    "start_time": "2022-10-03T05:55:11.249Z"
   },
   {
    "duration": 111,
    "start_time": "2022-10-03T05:55:11.258Z"
   },
   {
    "duration": 1189,
    "start_time": "2022-10-03T08:47:14.710Z"
   },
   {
    "duration": 60,
    "start_time": "2022-10-03T08:47:15.901Z"
   },
   {
    "duration": 9,
    "start_time": "2022-10-03T08:47:15.963Z"
   },
   {
    "duration": 6,
    "start_time": "2022-10-03T08:47:15.974Z"
   },
   {
    "duration": 6,
    "start_time": "2022-10-03T08:47:15.982Z"
   },
   {
    "duration": 13,
    "start_time": "2022-10-03T08:47:15.989Z"
   },
   {
    "duration": 12,
    "start_time": "2022-10-03T08:47:16.003Z"
   },
   {
    "duration": 5,
    "start_time": "2022-10-03T08:47:16.017Z"
   },
   {
    "duration": 8,
    "start_time": "2022-10-03T08:47:16.023Z"
   },
   {
    "duration": 13,
    "start_time": "2022-10-03T08:47:16.032Z"
   },
   {
    "duration": 73,
    "start_time": "2022-10-03T08:47:16.047Z"
   },
   {
    "duration": 6,
    "start_time": "2022-10-03T08:47:16.122Z"
   },
   {
    "duration": 12,
    "start_time": "2022-10-03T08:47:16.129Z"
   },
   {
    "duration": 16,
    "start_time": "2022-10-03T08:47:16.145Z"
   },
   {
    "duration": 1258,
    "start_time": "2022-10-03T08:47:16.162Z"
   },
   {
    "duration": 967,
    "start_time": "2022-10-03T08:47:17.422Z"
   },
   {
    "duration": 9,
    "start_time": "2022-10-03T08:47:18.390Z"
   },
   {
    "duration": 11,
    "start_time": "2022-10-03T08:47:18.400Z"
   },
   {
    "duration": 13,
    "start_time": "2022-10-03T08:47:18.413Z"
   },
   {
    "duration": 16,
    "start_time": "2022-10-03T08:47:18.427Z"
   },
   {
    "duration": 9,
    "start_time": "2022-10-03T08:47:18.445Z"
   },
   {
    "duration": 45,
    "start_time": "2022-10-03T08:47:18.455Z"
   },
   {
    "duration": 7,
    "start_time": "2022-10-03T08:47:18.502Z"
   },
   {
    "duration": 761,
    "start_time": "2022-10-03T08:47:18.511Z"
   },
   {
    "duration": 43,
    "start_time": "2022-10-03T08:47:19.274Z"
   },
   {
    "duration": 17,
    "start_time": "2022-10-03T08:47:19.319Z"
   },
   {
    "duration": 9,
    "start_time": "2022-10-03T08:47:19.338Z"
   },
   {
    "duration": 12,
    "start_time": "2022-10-03T08:47:19.348Z"
   },
   {
    "duration": 367,
    "start_time": "2022-10-03T08:47:19.362Z"
   },
   {
    "duration": 11,
    "start_time": "2022-10-03T08:47:19.731Z"
   },
   {
    "duration": 6,
    "start_time": "2022-10-03T08:47:19.744Z"
   },
   {
    "duration": 9,
    "start_time": "2022-10-03T08:47:19.751Z"
   },
   {
    "duration": 40,
    "start_time": "2022-10-03T08:47:19.762Z"
   },
   {
    "duration": 110,
    "start_time": "2022-10-03T08:47:19.804Z"
   },
   {
    "duration": 1308,
    "start_time": "2022-10-04T16:30:53.782Z"
   },
   {
    "duration": 104,
    "start_time": "2022-10-04T16:30:55.092Z"
   },
   {
    "duration": 11,
    "start_time": "2022-10-04T16:30:55.198Z"
   },
   {
    "duration": 14,
    "start_time": "2022-10-04T16:30:55.211Z"
   },
   {
    "duration": 9,
    "start_time": "2022-10-04T16:30:55.227Z"
   },
   {
    "duration": 12,
    "start_time": "2022-10-04T16:30:55.238Z"
   },
   {
    "duration": 33,
    "start_time": "2022-10-04T16:30:55.252Z"
   },
   {
    "duration": 12,
    "start_time": "2022-10-04T16:30:55.287Z"
   },
   {
    "duration": 16,
    "start_time": "2022-10-04T16:30:55.302Z"
   },
   {
    "duration": 17,
    "start_time": "2022-10-04T16:30:55.321Z"
   },
   {
    "duration": 62,
    "start_time": "2022-10-04T16:30:55.340Z"
   },
   {
    "duration": 5,
    "start_time": "2022-10-04T16:30:55.405Z"
   },
   {
    "duration": 8,
    "start_time": "2022-10-04T16:30:55.412Z"
   },
   {
    "duration": 16,
    "start_time": "2022-10-04T16:30:55.421Z"
   },
   {
    "duration": 1101,
    "start_time": "2022-10-04T16:30:55.439Z"
   },
   {
    "duration": 886,
    "start_time": "2022-10-04T16:30:56.542Z"
   },
   {
    "duration": 8,
    "start_time": "2022-10-04T16:30:57.429Z"
   },
   {
    "duration": 9,
    "start_time": "2022-10-04T16:30:57.438Z"
   },
   {
    "duration": 30,
    "start_time": "2022-10-04T16:30:57.448Z"
   },
   {
    "duration": 17,
    "start_time": "2022-10-04T16:30:57.480Z"
   },
   {
    "duration": 16,
    "start_time": "2022-10-04T16:30:57.499Z"
   },
   {
    "duration": 9,
    "start_time": "2022-10-04T16:30:57.522Z"
   },
   {
    "duration": 10,
    "start_time": "2022-10-04T16:30:57.532Z"
   },
   {
    "duration": 784,
    "start_time": "2022-10-04T16:30:57.543Z"
   },
   {
    "duration": 29,
    "start_time": "2022-10-04T16:30:58.328Z"
   },
   {
    "duration": 24,
    "start_time": "2022-10-04T16:30:58.358Z"
   },
   {
    "duration": 7,
    "start_time": "2022-10-04T16:30:58.383Z"
   },
   {
    "duration": 10,
    "start_time": "2022-10-04T16:30:58.393Z"
   },
   {
    "duration": 343,
    "start_time": "2022-10-04T16:30:58.404Z"
   },
   {
    "duration": 10,
    "start_time": "2022-10-04T16:30:58.749Z"
   },
   {
    "duration": 17,
    "start_time": "2022-10-04T16:30:58.761Z"
   },
   {
    "duration": 7,
    "start_time": "2022-10-04T16:30:58.780Z"
   },
   {
    "duration": 7,
    "start_time": "2022-10-04T16:30:58.788Z"
   },
   {
    "duration": 99,
    "start_time": "2022-10-04T16:30:58.797Z"
   },
   {
    "duration": 1147,
    "start_time": "2022-10-04T18:03:03.732Z"
   },
   {
    "duration": 64,
    "start_time": "2022-10-04T18:03:04.881Z"
   },
   {
    "duration": 10,
    "start_time": "2022-10-04T18:03:04.947Z"
   },
   {
    "duration": 21,
    "start_time": "2022-10-04T18:03:04.960Z"
   },
   {
    "duration": 24,
    "start_time": "2022-10-04T18:03:04.983Z"
   },
   {
    "duration": 24,
    "start_time": "2022-10-04T18:03:05.009Z"
   },
   {
    "duration": 27,
    "start_time": "2022-10-04T18:03:05.035Z"
   },
   {
    "duration": 20,
    "start_time": "2022-10-04T18:03:05.064Z"
   },
   {
    "duration": 25,
    "start_time": "2022-10-04T18:03:05.085Z"
   },
   {
    "duration": 30,
    "start_time": "2022-10-04T18:03:05.112Z"
   },
   {
    "duration": 55,
    "start_time": "2022-10-04T18:03:05.144Z"
   },
   {
    "duration": 6,
    "start_time": "2022-10-04T18:03:05.200Z"
   },
   {
    "duration": 26,
    "start_time": "2022-10-04T18:03:05.208Z"
   },
   {
    "duration": 35,
    "start_time": "2022-10-04T18:03:05.236Z"
   },
   {
    "duration": 1183,
    "start_time": "2022-10-04T18:03:05.273Z"
   },
   {
    "duration": 904,
    "start_time": "2022-10-04T18:03:06.459Z"
   },
   {
    "duration": 13,
    "start_time": "2022-10-04T18:03:07.364Z"
   },
   {
    "duration": 17,
    "start_time": "2022-10-04T18:03:07.378Z"
   },
   {
    "duration": 20,
    "start_time": "2022-10-04T18:03:07.396Z"
   },
   {
    "duration": 14,
    "start_time": "2022-10-04T18:03:07.417Z"
   },
   {
    "duration": 6,
    "start_time": "2022-10-04T18:03:07.433Z"
   },
   {
    "duration": 13,
    "start_time": "2022-10-04T18:03:07.440Z"
   },
   {
    "duration": 24,
    "start_time": "2022-10-04T18:03:07.455Z"
   },
   {
    "duration": 706,
    "start_time": "2022-10-04T18:03:07.481Z"
   },
   {
    "duration": 37,
    "start_time": "2022-10-04T18:03:08.189Z"
   },
   {
    "duration": 14,
    "start_time": "2022-10-04T18:03:08.227Z"
   },
   {
    "duration": 6,
    "start_time": "2022-10-04T18:03:08.242Z"
   },
   {
    "duration": 31,
    "start_time": "2022-10-04T18:03:08.252Z"
   },
   {
    "duration": 320,
    "start_time": "2022-10-04T18:03:08.285Z"
   },
   {
    "duration": 11,
    "start_time": "2022-10-04T18:03:08.607Z"
   },
   {
    "duration": 6,
    "start_time": "2022-10-04T18:03:08.620Z"
   },
   {
    "duration": 8,
    "start_time": "2022-10-04T18:03:08.628Z"
   },
   {
    "duration": 21,
    "start_time": "2022-10-04T18:03:08.638Z"
   },
   {
    "duration": 96,
    "start_time": "2022-10-04T18:03:08.661Z"
   },
   {
    "duration": 1365,
    "start_time": "2022-10-07T16:18:34.713Z"
   },
   {
    "duration": 113,
    "start_time": "2022-10-07T16:18:36.080Z"
   },
   {
    "duration": 10,
    "start_time": "2022-10-07T16:18:36.195Z"
   },
   {
    "duration": 14,
    "start_time": "2022-10-07T16:18:36.207Z"
   },
   {
    "duration": 7,
    "start_time": "2022-10-07T16:18:36.224Z"
   },
   {
    "duration": 12,
    "start_time": "2022-10-07T16:18:36.233Z"
   },
   {
    "duration": 12,
    "start_time": "2022-10-07T16:18:36.248Z"
   },
   {
    "duration": 11,
    "start_time": "2022-10-07T16:18:36.262Z"
   },
   {
    "duration": 17,
    "start_time": "2022-10-07T16:18:36.274Z"
   },
   {
    "duration": 25,
    "start_time": "2022-10-07T16:18:36.293Z"
   },
   {
    "duration": 55,
    "start_time": "2022-10-07T16:18:36.320Z"
   },
   {
    "duration": 7,
    "start_time": "2022-10-07T16:18:36.378Z"
   },
   {
    "duration": 14,
    "start_time": "2022-10-07T16:18:36.387Z"
   },
   {
    "duration": 34,
    "start_time": "2022-10-07T16:18:36.404Z"
   },
   {
    "duration": 1041,
    "start_time": "2022-10-07T16:18:36.440Z"
   },
   {
    "duration": 822,
    "start_time": "2022-10-07T16:18:37.482Z"
   },
   {
    "duration": 7,
    "start_time": "2022-10-07T16:18:38.306Z"
   },
   {
    "duration": 21,
    "start_time": "2022-10-07T16:18:38.314Z"
   },
   {
    "duration": 12,
    "start_time": "2022-10-07T16:18:38.337Z"
   },
   {
    "duration": 16,
    "start_time": "2022-10-07T16:18:38.351Z"
   },
   {
    "duration": 9,
    "start_time": "2022-10-07T16:18:38.369Z"
   },
   {
    "duration": 7,
    "start_time": "2022-10-07T16:18:38.379Z"
   },
   {
    "duration": 7,
    "start_time": "2022-10-07T16:18:38.387Z"
   },
   {
    "duration": 778,
    "start_time": "2022-10-07T16:18:38.396Z"
   },
   {
    "duration": 32,
    "start_time": "2022-10-07T16:18:39.175Z"
   },
   {
    "duration": 27,
    "start_time": "2022-10-07T16:18:39.209Z"
   },
   {
    "duration": 5,
    "start_time": "2022-10-07T16:18:39.238Z"
   },
   {
    "duration": 30,
    "start_time": "2022-10-07T16:18:39.245Z"
   },
   {
    "duration": 302,
    "start_time": "2022-10-07T16:18:39.277Z"
   },
   {
    "duration": 11,
    "start_time": "2022-10-07T16:18:39.581Z"
   },
   {
    "duration": 5,
    "start_time": "2022-10-07T16:18:39.594Z"
   },
   {
    "duration": 11,
    "start_time": "2022-10-07T16:18:39.601Z"
   },
   {
    "duration": 26,
    "start_time": "2022-10-07T16:18:39.614Z"
   },
   {
    "duration": 104,
    "start_time": "2022-10-07T16:18:39.642Z"
   }
  ],
  "kernelspec": {
   "display_name": "Python 3 (ipykernel)",
   "language": "python",
   "name": "python3"
  },
  "language_info": {
   "codemirror_mode": {
    "name": "ipython",
    "version": 3
   },
   "file_extension": ".py",
   "mimetype": "text/x-python",
   "name": "python",
   "nbconvert_exporter": "python",
   "pygments_lexer": "ipython3",
   "version": "3.9.7"
  },
  "toc": {
   "base_numbering": 1,
   "nav_menu": {},
   "number_sections": true,
   "sideBar": true,
   "skip_h1_title": true,
   "title_cell": "Table of Contents",
   "title_sidebar": "Contents",
   "toc_cell": false,
   "toc_position": {},
   "toc_section_display": true,
   "toc_window_display": false
  }
 },
 "nbformat": 4,
 "nbformat_minor": 2
}
