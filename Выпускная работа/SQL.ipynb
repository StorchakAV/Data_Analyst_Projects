{
 "cells": [
  {
   "cell_type": "markdown",
   "id": "89fd0662",
   "metadata": {},
   "source": [
    "# SQL"
   ]
  },
  {
   "cell_type": "markdown",
   "id": "bcad09e5",
   "metadata": {},
   "source": [
    "## Описание проекта"
   ]
  },
  {
   "cell_type": "markdown",
   "id": "5f3fe6fd",
   "metadata": {},
   "source": [
    "### Цель исследования"
   ]
  },
  {
   "cell_type": "markdown",
   "id": "89881c89",
   "metadata": {},
   "source": [
    "Проанализировать базу данных и сформировать ценностное предложение для нового продукта."
   ]
  },
  {
   "cell_type": "markdown",
   "id": "90071394",
   "metadata": {},
   "source": [
    "### Описание данных"
   ]
  },
  {
   "cell_type": "markdown",
   "id": "227c50cd",
   "metadata": {},
   "source": [
    "**Таблица `books`**\n",
    "\n",
    "Содержит данные о книгах:\n",
    "\n",
    "- `book_id` — идентификатор книги;\n",
    "- `author_id` — идентификатор автора;\n",
    "- `title` — название книги;\n",
    "- `num_pages` — количество страниц;\n",
    "- `publication_date` — дата публикации книги;\n",
    "- `publisher_id` — идентификатор издателя.\n",
    "\n",
    "**Таблица `authors`**\n",
    "\n",
    "Содержит данные об авторах:\n",
    "\n",
    "- `author_id` — идентификатор автора;\n",
    "- `author` — имя автора.\n",
    "\n",
    "**Таблица `publishers`**\n",
    "\n",
    "Содержит данные об издательствах:\n",
    "\n",
    "- `publisher_id` — идентификатор издательства;\n",
    "- `publisher` — название издательства;\n",
    "\n",
    "**Таблица `ratings`**\n",
    "\n",
    "Содержит данные о пользовательских оценках книг:\n",
    "\n",
    "- `rating_id` — идентификатор оценки;\n",
    "- `book_id` — идентификатор книги;\n",
    "- `username` — имя пользователя, оставившего оценку;\n",
    "- `rating` — оценка книги.\n",
    "\n",
    "**Таблица `reviews`**\n",
    "\n",
    "Содержит данные о пользовательских обзорах на книги:\n",
    "\n",
    "- `review_id` — идентификатор обзора;\n",
    "- `book_id` — идентификатор книги;\n",
    "- `username` — имя пользователя, написавшего обзор;\n",
    "- `text` — текст обзора."
   ]
  },
  {
   "cell_type": "markdown",
   "id": "b8d811d6",
   "metadata": {},
   "source": [
    "## Подключение к БД и вывод первых строк таблиц"
   ]
  },
  {
   "cell_type": "code",
   "execution_count": 1,
   "id": "4b458099",
   "metadata": {},
   "outputs": [
    {
     "data": {
      "text/html": [
       "<style>.container { width:100% !important; }</style>"
      ],
      "text/plain": [
       "<IPython.core.display.HTML object>"
      ]
     },
     "metadata": {},
     "output_type": "display_data"
    }
   ],
   "source": [
    "# загрузка библиотек\n",
    "import pandas as pd\n",
    "from sqlalchemy import create_engine\n",
    "\n",
    "from IPython.display import display, HTML\n",
    "display(HTML(\"<style>.container { width:100% !important; }</style>\"))\n",
    "\n",
    "# установка параметров\n",
    "db_config = {'user': 'praktikum_student', # имя пользователя\n",
    "             'pwd': 'Sdf4$2;d-d30pp', # пароль\n",
    "             'host': 'rc1b-wcoijxj3yxfsf3fs.mdb.yandexcloud.net',\n",
    "             'port': 6432, # порт подключения\n",
    "             'db': 'data-analyst-final-project-db'} # название базы данных\n",
    "\n",
    "connection_string = 'postgresql://{}:{}@{}:{}/{}'.format(db_config['user'],\n",
    "                                                         db_config['pwd'],\n",
    "                                                         db_config['host'],\n",
    "                                                         db_config['port'],\n",
    "                                                         db_config['db'])\n",
    "# сохранение коннектора\n",
    "engine = create_engine(connection_string, connect_args={'sslmode':'require'})"
   ]
  },
  {
   "cell_type": "code",
   "execution_count": 2,
   "id": "6a14c912",
   "metadata": {},
   "outputs": [
    {
     "data": {
      "text/html": [
       "<div>\n",
       "<style scoped>\n",
       "    .dataframe tbody tr th:only-of-type {\n",
       "        vertical-align: middle;\n",
       "    }\n",
       "\n",
       "    .dataframe tbody tr th {\n",
       "        vertical-align: top;\n",
       "    }\n",
       "\n",
       "    .dataframe thead th {\n",
       "        text-align: right;\n",
       "    }\n",
       "</style>\n",
       "<table border=\"1\" class=\"dataframe\">\n",
       "  <thead>\n",
       "    <tr style=\"text-align: right;\">\n",
       "      <th></th>\n",
       "      <th>book_id</th>\n",
       "      <th>author_id</th>\n",
       "      <th>title</th>\n",
       "      <th>num_pages</th>\n",
       "      <th>publication_date</th>\n",
       "      <th>publisher_id</th>\n",
       "    </tr>\n",
       "  </thead>\n",
       "  <tbody>\n",
       "    <tr>\n",
       "      <th>0</th>\n",
       "      <td>1</td>\n",
       "      <td>546</td>\n",
       "      <td>'Salem's Lot</td>\n",
       "      <td>594</td>\n",
       "      <td>2005-11-01</td>\n",
       "      <td>93</td>\n",
       "    </tr>\n",
       "    <tr>\n",
       "      <th>1</th>\n",
       "      <td>2</td>\n",
       "      <td>465</td>\n",
       "      <td>1 000 Places to See Before You Die</td>\n",
       "      <td>992</td>\n",
       "      <td>2003-05-22</td>\n",
       "      <td>336</td>\n",
       "    </tr>\n",
       "    <tr>\n",
       "      <th>2</th>\n",
       "      <td>3</td>\n",
       "      <td>407</td>\n",
       "      <td>13 Little Blue Envelopes (Little Blue Envelope...</td>\n",
       "      <td>322</td>\n",
       "      <td>2010-12-21</td>\n",
       "      <td>135</td>\n",
       "    </tr>\n",
       "    <tr>\n",
       "      <th>3</th>\n",
       "      <td>4</td>\n",
       "      <td>82</td>\n",
       "      <td>1491: New Revelations of the Americas Before C...</td>\n",
       "      <td>541</td>\n",
       "      <td>2006-10-10</td>\n",
       "      <td>309</td>\n",
       "    </tr>\n",
       "    <tr>\n",
       "      <th>4</th>\n",
       "      <td>5</td>\n",
       "      <td>125</td>\n",
       "      <td>1776</td>\n",
       "      <td>386</td>\n",
       "      <td>2006-07-04</td>\n",
       "      <td>268</td>\n",
       "    </tr>\n",
       "  </tbody>\n",
       "</table>\n",
       "</div>"
      ],
      "text/plain": [
       "   book_id  author_id                                              title  \\\n",
       "0        1        546                                       'Salem's Lot   \n",
       "1        2        465                 1 000 Places to See Before You Die   \n",
       "2        3        407  13 Little Blue Envelopes (Little Blue Envelope...   \n",
       "3        4         82  1491: New Revelations of the Americas Before C...   \n",
       "4        5        125                                               1776   \n",
       "\n",
       "   num_pages publication_date  publisher_id  \n",
       "0        594       2005-11-01            93  \n",
       "1        992       2003-05-22           336  \n",
       "2        322       2010-12-21           135  \n",
       "3        541       2006-10-10           309  \n",
       "4        386       2006-07-04           268  "
      ]
     },
     "execution_count": 2,
     "metadata": {},
     "output_type": "execute_result"
    }
   ],
   "source": [
    "# первые 5 строк таблицы с книгами\n",
    "query = '''\n",
    "        SELECT * \n",
    "          FROM books\n",
    "         LIMIT 5; \n",
    "        '''\n",
    "pd.io.sql.read_sql(query, con=engine)"
   ]
  },
  {
   "cell_type": "code",
   "execution_count": 3,
   "id": "8ddd68ec",
   "metadata": {},
   "outputs": [
    {
     "data": {
      "text/html": [
       "<div>\n",
       "<style scoped>\n",
       "    .dataframe tbody tr th:only-of-type {\n",
       "        vertical-align: middle;\n",
       "    }\n",
       "\n",
       "    .dataframe tbody tr th {\n",
       "        vertical-align: top;\n",
       "    }\n",
       "\n",
       "    .dataframe thead th {\n",
       "        text-align: right;\n",
       "    }\n",
       "</style>\n",
       "<table border=\"1\" class=\"dataframe\">\n",
       "  <thead>\n",
       "    <tr style=\"text-align: right;\">\n",
       "      <th></th>\n",
       "      <th>author_id</th>\n",
       "      <th>author</th>\n",
       "    </tr>\n",
       "  </thead>\n",
       "  <tbody>\n",
       "    <tr>\n",
       "      <th>0</th>\n",
       "      <td>1</td>\n",
       "      <td>A.S. Byatt</td>\n",
       "    </tr>\n",
       "    <tr>\n",
       "      <th>1</th>\n",
       "      <td>2</td>\n",
       "      <td>Aesop/Laura Harris/Laura Gibbs</td>\n",
       "    </tr>\n",
       "    <tr>\n",
       "      <th>2</th>\n",
       "      <td>3</td>\n",
       "      <td>Agatha Christie</td>\n",
       "    </tr>\n",
       "    <tr>\n",
       "      <th>3</th>\n",
       "      <td>4</td>\n",
       "      <td>Alan Brennert</td>\n",
       "    </tr>\n",
       "    <tr>\n",
       "      <th>4</th>\n",
       "      <td>5</td>\n",
       "      <td>Alan Moore/David   Lloyd</td>\n",
       "    </tr>\n",
       "  </tbody>\n",
       "</table>\n",
       "</div>"
      ],
      "text/plain": [
       "   author_id                          author\n",
       "0          1                      A.S. Byatt\n",
       "1          2  Aesop/Laura Harris/Laura Gibbs\n",
       "2          3                 Agatha Christie\n",
       "3          4                   Alan Brennert\n",
       "4          5        Alan Moore/David   Lloyd"
      ]
     },
     "execution_count": 3,
     "metadata": {},
     "output_type": "execute_result"
    }
   ],
   "source": [
    "# первые 5 строк таблицы с авторами\n",
    "query = '''\n",
    "        SELECT * \n",
    "          FROM authors\n",
    "         LIMIT 5; \n",
    "        '''\n",
    "pd.io.sql.read_sql(query, con=engine)"
   ]
  },
  {
   "cell_type": "code",
   "execution_count": 4,
   "id": "8038f55c",
   "metadata": {},
   "outputs": [
    {
     "data": {
      "text/html": [
       "<div>\n",
       "<style scoped>\n",
       "    .dataframe tbody tr th:only-of-type {\n",
       "        vertical-align: middle;\n",
       "    }\n",
       "\n",
       "    .dataframe tbody tr th {\n",
       "        vertical-align: top;\n",
       "    }\n",
       "\n",
       "    .dataframe thead th {\n",
       "        text-align: right;\n",
       "    }\n",
       "</style>\n",
       "<table border=\"1\" class=\"dataframe\">\n",
       "  <thead>\n",
       "    <tr style=\"text-align: right;\">\n",
       "      <th></th>\n",
       "      <th>publisher_id</th>\n",
       "      <th>publisher</th>\n",
       "    </tr>\n",
       "  </thead>\n",
       "  <tbody>\n",
       "    <tr>\n",
       "      <th>0</th>\n",
       "      <td>1</td>\n",
       "      <td>Ace</td>\n",
       "    </tr>\n",
       "    <tr>\n",
       "      <th>1</th>\n",
       "      <td>2</td>\n",
       "      <td>Ace Book</td>\n",
       "    </tr>\n",
       "    <tr>\n",
       "      <th>2</th>\n",
       "      <td>3</td>\n",
       "      <td>Ace Books</td>\n",
       "    </tr>\n",
       "    <tr>\n",
       "      <th>3</th>\n",
       "      <td>4</td>\n",
       "      <td>Ace Hardcover</td>\n",
       "    </tr>\n",
       "    <tr>\n",
       "      <th>4</th>\n",
       "      <td>5</td>\n",
       "      <td>Addison Wesley Publishing Company</td>\n",
       "    </tr>\n",
       "  </tbody>\n",
       "</table>\n",
       "</div>"
      ],
      "text/plain": [
       "   publisher_id                          publisher\n",
       "0             1                                Ace\n",
       "1             2                           Ace Book\n",
       "2             3                          Ace Books\n",
       "3             4                      Ace Hardcover\n",
       "4             5  Addison Wesley Publishing Company"
      ]
     },
     "execution_count": 4,
     "metadata": {},
     "output_type": "execute_result"
    }
   ],
   "source": [
    "# первые 5 строк таблицы с издателями\n",
    "query = '''\n",
    "        SELECT * \n",
    "          FROM publishers\n",
    "         LIMIT 5; \n",
    "        '''\n",
    "pd.io.sql.read_sql(query, con=engine)"
   ]
  },
  {
   "cell_type": "code",
   "execution_count": 5,
   "id": "ccd83d71",
   "metadata": {},
   "outputs": [
    {
     "data": {
      "text/html": [
       "<div>\n",
       "<style scoped>\n",
       "    .dataframe tbody tr th:only-of-type {\n",
       "        vertical-align: middle;\n",
       "    }\n",
       "\n",
       "    .dataframe tbody tr th {\n",
       "        vertical-align: top;\n",
       "    }\n",
       "\n",
       "    .dataframe thead th {\n",
       "        text-align: right;\n",
       "    }\n",
       "</style>\n",
       "<table border=\"1\" class=\"dataframe\">\n",
       "  <thead>\n",
       "    <tr style=\"text-align: right;\">\n",
       "      <th></th>\n",
       "      <th>rating_id</th>\n",
       "      <th>book_id</th>\n",
       "      <th>username</th>\n",
       "      <th>rating</th>\n",
       "    </tr>\n",
       "  </thead>\n",
       "  <tbody>\n",
       "    <tr>\n",
       "      <th>0</th>\n",
       "      <td>1</td>\n",
       "      <td>1</td>\n",
       "      <td>ryanfranco</td>\n",
       "      <td>4</td>\n",
       "    </tr>\n",
       "    <tr>\n",
       "      <th>1</th>\n",
       "      <td>2</td>\n",
       "      <td>1</td>\n",
       "      <td>grantpatricia</td>\n",
       "      <td>2</td>\n",
       "    </tr>\n",
       "    <tr>\n",
       "      <th>2</th>\n",
       "      <td>3</td>\n",
       "      <td>1</td>\n",
       "      <td>brandtandrea</td>\n",
       "      <td>5</td>\n",
       "    </tr>\n",
       "    <tr>\n",
       "      <th>3</th>\n",
       "      <td>4</td>\n",
       "      <td>2</td>\n",
       "      <td>lorichen</td>\n",
       "      <td>3</td>\n",
       "    </tr>\n",
       "    <tr>\n",
       "      <th>4</th>\n",
       "      <td>5</td>\n",
       "      <td>2</td>\n",
       "      <td>mariokeller</td>\n",
       "      <td>2</td>\n",
       "    </tr>\n",
       "  </tbody>\n",
       "</table>\n",
       "</div>"
      ],
      "text/plain": [
       "   rating_id  book_id       username  rating\n",
       "0          1        1     ryanfranco       4\n",
       "1          2        1  grantpatricia       2\n",
       "2          3        1   brandtandrea       5\n",
       "3          4        2       lorichen       3\n",
       "4          5        2    mariokeller       2"
      ]
     },
     "execution_count": 5,
     "metadata": {},
     "output_type": "execute_result"
    }
   ],
   "source": [
    "# первые 5 строк таблицы с рейтингами\n",
    "query = '''\n",
    "        SELECT * \n",
    "          FROM ratings\n",
    "         LIMIT 5; \n",
    "        '''\n",
    "pd.io.sql.read_sql(query, con=engine)"
   ]
  },
  {
   "cell_type": "code",
   "execution_count": 6,
   "id": "37c1f3bd",
   "metadata": {},
   "outputs": [
    {
     "data": {
      "text/html": [
       "<div>\n",
       "<style scoped>\n",
       "    .dataframe tbody tr th:only-of-type {\n",
       "        vertical-align: middle;\n",
       "    }\n",
       "\n",
       "    .dataframe tbody tr th {\n",
       "        vertical-align: top;\n",
       "    }\n",
       "\n",
       "    .dataframe thead th {\n",
       "        text-align: right;\n",
       "    }\n",
       "</style>\n",
       "<table border=\"1\" class=\"dataframe\">\n",
       "  <thead>\n",
       "    <tr style=\"text-align: right;\">\n",
       "      <th></th>\n",
       "      <th>review_id</th>\n",
       "      <th>book_id</th>\n",
       "      <th>username</th>\n",
       "      <th>text</th>\n",
       "    </tr>\n",
       "  </thead>\n",
       "  <tbody>\n",
       "    <tr>\n",
       "      <th>0</th>\n",
       "      <td>1</td>\n",
       "      <td>1</td>\n",
       "      <td>brandtandrea</td>\n",
       "      <td>Mention society tell send professor analysis. ...</td>\n",
       "    </tr>\n",
       "    <tr>\n",
       "      <th>1</th>\n",
       "      <td>2</td>\n",
       "      <td>1</td>\n",
       "      <td>ryanfranco</td>\n",
       "      <td>Foot glass pretty audience hit themselves. Amo...</td>\n",
       "    </tr>\n",
       "    <tr>\n",
       "      <th>2</th>\n",
       "      <td>3</td>\n",
       "      <td>2</td>\n",
       "      <td>lorichen</td>\n",
       "      <td>Listen treat keep worry. Miss husband tax but ...</td>\n",
       "    </tr>\n",
       "    <tr>\n",
       "      <th>3</th>\n",
       "      <td>4</td>\n",
       "      <td>3</td>\n",
       "      <td>johnsonamanda</td>\n",
       "      <td>Finally month interesting blue could nature cu...</td>\n",
       "    </tr>\n",
       "    <tr>\n",
       "      <th>4</th>\n",
       "      <td>5</td>\n",
       "      <td>3</td>\n",
       "      <td>scotttamara</td>\n",
       "      <td>Nation purpose heavy give wait song will. List...</td>\n",
       "    </tr>\n",
       "  </tbody>\n",
       "</table>\n",
       "</div>"
      ],
      "text/plain": [
       "   review_id  book_id       username  \\\n",
       "0          1        1   brandtandrea   \n",
       "1          2        1     ryanfranco   \n",
       "2          3        2       lorichen   \n",
       "3          4        3  johnsonamanda   \n",
       "4          5        3    scotttamara   \n",
       "\n",
       "                                                text  \n",
       "0  Mention society tell send professor analysis. ...  \n",
       "1  Foot glass pretty audience hit themselves. Amo...  \n",
       "2  Listen treat keep worry. Miss husband tax but ...  \n",
       "3  Finally month interesting blue could nature cu...  \n",
       "4  Nation purpose heavy give wait song will. List...  "
      ]
     },
     "execution_count": 6,
     "metadata": {},
     "output_type": "execute_result"
    }
   ],
   "source": [
    "# первые 5 строк таблицы с обзорами\n",
    "query = '''\n",
    "        SELECT * \n",
    "          FROM reviews\n",
    "         LIMIT 5; \n",
    "        '''\n",
    "pd.io.sql.read_sql(query, con=engine)"
   ]
  },
  {
   "cell_type": "markdown",
   "id": "5e9dfd68",
   "metadata": {},
   "source": [
    "### Выполнение запросов"
   ]
  },
  {
   "cell_type": "markdown",
   "id": "abe63849",
   "metadata": {},
   "source": [
    "#### Задание №1\n",
    "\n",
    "Посчитайте, сколько книг вышло после 1 января 2000 года\n",
    "\n",
    "#### Решение"
   ]
  },
  {
   "cell_type": "code",
   "execution_count": 7,
   "id": "459a2db9",
   "metadata": {},
   "outputs": [
    {
     "data": {
      "text/html": [
       "<div>\n",
       "<style scoped>\n",
       "    .dataframe tbody tr th:only-of-type {\n",
       "        vertical-align: middle;\n",
       "    }\n",
       "\n",
       "    .dataframe tbody tr th {\n",
       "        vertical-align: top;\n",
       "    }\n",
       "\n",
       "    .dataframe thead th {\n",
       "        text-align: right;\n",
       "    }\n",
       "</style>\n",
       "<table border=\"1\" class=\"dataframe\">\n",
       "  <thead>\n",
       "    <tr style=\"text-align: right;\">\n",
       "      <th></th>\n",
       "      <th>count</th>\n",
       "    </tr>\n",
       "  </thead>\n",
       "  <tbody>\n",
       "    <tr>\n",
       "      <th>0</th>\n",
       "      <td>819</td>\n",
       "    </tr>\n",
       "  </tbody>\n",
       "</table>\n",
       "</div>"
      ],
      "text/plain": [
       "   count\n",
       "0    819"
      ]
     },
     "execution_count": 7,
     "metadata": {},
     "output_type": "execute_result"
    }
   ],
   "source": [
    "query = '''\n",
    "        SELECT COUNT(book_id) \n",
    "          FROM books\n",
    "         WHERE publication_date > '2000-01-01'; \n",
    "        '''\n",
    "pd.io.sql.read_sql(query, con=engine)"
   ]
  },
  {
   "cell_type": "markdown",
   "id": "5718d3f3",
   "metadata": {},
   "source": [
    "#### Вывод\n",
    "\n",
    "Всего после 1 января 2000 года вышло 819 книг, что составляет в среднем 37 книг в год или 3 книги в месяц."
   ]
  },
  {
   "cell_type": "markdown",
   "id": "0d69a043",
   "metadata": {},
   "source": [
    "#### Задание №2\n",
    "\n",
    "Для каждой книги посчитайте количество обзоров и среднюю оценку\n",
    "\n",
    "#### Решение"
   ]
  },
  {
   "cell_type": "code",
   "execution_count": 14,
   "id": "ac316306",
   "metadata": {},
   "outputs": [
    {
     "data": {
      "text/html": [
       "<div>\n",
       "<style scoped>\n",
       "    .dataframe tbody tr th:only-of-type {\n",
       "        vertical-align: middle;\n",
       "    }\n",
       "\n",
       "    .dataframe tbody tr th {\n",
       "        vertical-align: top;\n",
       "    }\n",
       "\n",
       "    .dataframe thead th {\n",
       "        text-align: right;\n",
       "    }\n",
       "</style>\n",
       "<table border=\"1\" class=\"dataframe\">\n",
       "  <thead>\n",
       "    <tr style=\"text-align: right;\">\n",
       "      <th></th>\n",
       "      <th>title</th>\n",
       "      <th>cnt_reviews</th>\n",
       "      <th>avg_rating</th>\n",
       "    </tr>\n",
       "  </thead>\n",
       "  <tbody>\n",
       "    <tr>\n",
       "      <th>0</th>\n",
       "      <td>Memoirs of a Geisha</td>\n",
       "      <td>8</td>\n",
       "      <td>4.11</td>\n",
       "    </tr>\n",
       "    <tr>\n",
       "      <th>1</th>\n",
       "      <td>Twilight (Twilight  #1)</td>\n",
       "      <td>7</td>\n",
       "      <td>3.66</td>\n",
       "    </tr>\n",
       "    <tr>\n",
       "      <th>2</th>\n",
       "      <td>Harry Potter and the Prisoner of Azkaban (Harr...</td>\n",
       "      <td>6</td>\n",
       "      <td>4.41</td>\n",
       "    </tr>\n",
       "    <tr>\n",
       "      <th>3</th>\n",
       "      <td>Harry Potter and the Chamber of Secrets (Harry...</td>\n",
       "      <td>6</td>\n",
       "      <td>4.29</td>\n",
       "    </tr>\n",
       "    <tr>\n",
       "      <th>4</th>\n",
       "      <td>The Book Thief</td>\n",
       "      <td>6</td>\n",
       "      <td>4.26</td>\n",
       "    </tr>\n",
       "    <tr>\n",
       "      <th>...</th>\n",
       "      <td>...</td>\n",
       "      <td>...</td>\n",
       "      <td>...</td>\n",
       "    </tr>\n",
       "    <tr>\n",
       "      <th>994</th>\n",
       "      <td>Disney's Beauty and the Beast (A Little Golden...</td>\n",
       "      <td>0</td>\n",
       "      <td>4.00</td>\n",
       "    </tr>\n",
       "    <tr>\n",
       "      <th>995</th>\n",
       "      <td>Essential Tales and Poems</td>\n",
       "      <td>0</td>\n",
       "      <td>4.00</td>\n",
       "    </tr>\n",
       "    <tr>\n",
       "      <th>996</th>\n",
       "      <td>Leonardo's Notebooks</td>\n",
       "      <td>0</td>\n",
       "      <td>4.00</td>\n",
       "    </tr>\n",
       "    <tr>\n",
       "      <th>997</th>\n",
       "      <td>Anne Rice's The Vampire Lestat: A Graphic Novel</td>\n",
       "      <td>0</td>\n",
       "      <td>3.67</td>\n",
       "    </tr>\n",
       "    <tr>\n",
       "      <th>998</th>\n",
       "      <td>The Natural Way to Draw</td>\n",
       "      <td>0</td>\n",
       "      <td>3.00</td>\n",
       "    </tr>\n",
       "  </tbody>\n",
       "</table>\n",
       "<p>999 rows × 3 columns</p>\n",
       "</div>"
      ],
      "text/plain": [
       "                                                 title  cnt_reviews  \\\n",
       "0                                  Memoirs of a Geisha            8   \n",
       "1                              Twilight (Twilight  #1)            7   \n",
       "2    Harry Potter and the Prisoner of Azkaban (Harr...            6   \n",
       "3    Harry Potter and the Chamber of Secrets (Harry...            6   \n",
       "4                                       The Book Thief            6   \n",
       "..                                                 ...          ...   \n",
       "994  Disney's Beauty and the Beast (A Little Golden...            0   \n",
       "995                          Essential Tales and Poems            0   \n",
       "996                               Leonardo's Notebooks            0   \n",
       "997    Anne Rice's The Vampire Lestat: A Graphic Novel            0   \n",
       "998                            The Natural Way to Draw            0   \n",
       "\n",
       "     avg_rating  \n",
       "0          4.11  \n",
       "1          3.66  \n",
       "2          4.41  \n",
       "3          4.29  \n",
       "4          4.26  \n",
       "..          ...  \n",
       "994        4.00  \n",
       "995        4.00  \n",
       "996        4.00  \n",
       "997        3.67  \n",
       "998        3.00  \n",
       "\n",
       "[999 rows x 3 columns]"
      ]
     },
     "execution_count": 14,
     "metadata": {},
     "output_type": "execute_result"
    }
   ],
   "source": [
    "query = '''\n",
    "        WITH a AS(\n",
    "        \n",
    "                  SELECT b.title,\n",
    "                         COUNT(rev.review_id) AS cnt_reviews\n",
    "                    FROM books AS b\n",
    "                    LEFT JOIN reviews AS rev ON b.book_id=rev.book_id\n",
    "                   GROUP BY b.title\n",
    "                   ORDER BY COUNT(rev.review_id) DESC\n",
    "                  ),\n",
    "        \n",
    "        b AS(\n",
    "        \n",
    "                  SELECT b.title,\n",
    "                         AVG(rat.rating) AS avg_rating\n",
    "                    FROM books AS b\n",
    "                    LEFT JOIN ratings AS rat ON b.book_id=rat.book_id\n",
    "                   GROUP BY b.title\n",
    "                   ORDER BY AVG(rat.rating) DESC\n",
    "                  )\n",
    "        \n",
    "        SELECT a.title,\n",
    "               a.cnt_reviews,\n",
    "               ROUND(b.avg_rating, 2) AS avg_rating\n",
    "          FROM a\n",
    "          JOIN b ON a.title=b.title\n",
    "         ORDER BY cnt_reviews DESC,\n",
    "                  avg_rating DESC;\n",
    "        '''\n",
    "pd.io.sql.read_sql(query, con=engine)"
   ]
  },
  {
   "cell_type": "markdown",
   "id": "c90b9697",
   "metadata": {},
   "source": [
    "#### Вывод\n",
    "\n",
    "Всего представлено 999 книг, из них наибольшее количество обзоров - 8 штук - сделано на книгу \"Мемуары Гейши\" и средним рейтингом 4.1 по 5-бальной шкале. Второй по количеству обзоров является книга \"Сумерки\" у которой 7 обзоров, а средний рейтинг составляет 3.66. Также в первую пятерку попадают книги о Гарри Поттере: 2 и 3 серия книги по 6 обзоров на каждую, и книга \"Книжный вор\" у которой тоже 6 обзоров."
   ]
  },
  {
   "cell_type": "markdown",
   "id": "08809566",
   "metadata": {},
   "source": [
    "#### Задание №3\n",
    "\n",
    "Определите издательство, которое выпустило наибольшее число книг толще 50 страниц — так вы исключите из анализа брошюры.\n",
    "\n",
    "#### Решение"
   ]
  },
  {
   "cell_type": "code",
   "execution_count": 9,
   "id": "ee5a3ac1",
   "metadata": {},
   "outputs": [
    {
     "data": {
      "text/html": [
       "<div>\n",
       "<style scoped>\n",
       "    .dataframe tbody tr th:only-of-type {\n",
       "        vertical-align: middle;\n",
       "    }\n",
       "\n",
       "    .dataframe tbody tr th {\n",
       "        vertical-align: top;\n",
       "    }\n",
       "\n",
       "    .dataframe thead th {\n",
       "        text-align: right;\n",
       "    }\n",
       "</style>\n",
       "<table border=\"1\" class=\"dataframe\">\n",
       "  <thead>\n",
       "    <tr style=\"text-align: right;\">\n",
       "      <th></th>\n",
       "      <th>publisher</th>\n",
       "    </tr>\n",
       "  </thead>\n",
       "  <tbody>\n",
       "    <tr>\n",
       "      <th>0</th>\n",
       "      <td>Penguin Books</td>\n",
       "    </tr>\n",
       "  </tbody>\n",
       "</table>\n",
       "</div>"
      ],
      "text/plain": [
       "       publisher\n",
       "0  Penguin Books"
      ]
     },
     "execution_count": 9,
     "metadata": {},
     "output_type": "execute_result"
    }
   ],
   "source": [
    "query = '''\n",
    "        SELECT publisher\n",
    "          FROM (\n",
    "          \n",
    "               SELECT pub.publisher,\n",
    "                      COUNT(b.book_id) AS cnt_books\n",
    "                 FROM books AS b\n",
    "                 JOIN publishers AS pub ON b.publisher_id=pub.publisher_id\n",
    "                WHERE num_pages > 50\n",
    "                GROUP BY pub.publisher\n",
    "                ORDER BY COUNT(b.book_id) DESC\n",
    "                LIMIT 1) AS pb;\n",
    "           \n",
    "        '''\n",
    "pd.io.sql.read_sql(query, con=engine)"
   ]
  },
  {
   "cell_type": "markdown",
   "id": "e48adc02",
   "metadata": {},
   "source": [
    "#### Вывод\n",
    "\n",
    "Наибольшее число книг толще 50 страниц выпустило издательство \"Penguin Books\"."
   ]
  },
  {
   "cell_type": "markdown",
   "id": "f3924afb",
   "metadata": {},
   "source": [
    "#### Задание №4\n",
    "\n",
    "Определите автора с самой высокой средней оценкой книг — учитывайте только книги с 50 и более оценками\n",
    "\n",
    "#### Решение"
   ]
  },
  {
   "cell_type": "code",
   "execution_count": 15,
   "id": "aaeb365e",
   "metadata": {},
   "outputs": [
    {
     "data": {
      "text/html": [
       "<div>\n",
       "<style scoped>\n",
       "    .dataframe tbody tr th:only-of-type {\n",
       "        vertical-align: middle;\n",
       "    }\n",
       "\n",
       "    .dataframe tbody tr th {\n",
       "        vertical-align: top;\n",
       "    }\n",
       "\n",
       "    .dataframe thead th {\n",
       "        text-align: right;\n",
       "    }\n",
       "</style>\n",
       "<table border=\"1\" class=\"dataframe\">\n",
       "  <thead>\n",
       "    <tr style=\"text-align: right;\">\n",
       "      <th></th>\n",
       "      <th>author</th>\n",
       "      <th>avg_rating</th>\n",
       "    </tr>\n",
       "  </thead>\n",
       "  <tbody>\n",
       "    <tr>\n",
       "      <th>0</th>\n",
       "      <td>J.K. Rowling/Mary GrandPré</td>\n",
       "      <td>4.29</td>\n",
       "    </tr>\n",
       "  </tbody>\n",
       "</table>\n",
       "</div>"
      ],
      "text/plain": [
       "                       author  avg_rating\n",
       "0  J.K. Rowling/Mary GrandPré        4.29"
      ]
     },
     "execution_count": 15,
     "metadata": {},
     "output_type": "execute_result"
    }
   ],
   "source": [
    "query = '''\n",
    "        WITH tab AS(\n",
    "\n",
    "        SELECT author,\n",
    "               AVG(rating) AS avg_rating\n",
    "          FROM (\n",
    "                SELECT b.book_id,\n",
    "                       author,\n",
    "                       COUNT(rating_id) AS cnt_rating\n",
    "                  FROM ratings AS r\n",
    "                  JOIN books AS b ON b.book_id=r.book_id\n",
    "                  JOIN authors AS a ON b.author_id=a.author_id\n",
    "                 GROUP BY b.book_id, author\n",
    "                HAVING COUNT(rating_id) >= 50 \n",
    "                 ORDER BY cnt_rating DESC) AS a\n",
    "                        \n",
    "          LEFT JOIN (\n",
    "                SELECT book_id,\n",
    "                       rating\n",
    "                  FROM ratings) AS b ON a.book_id=b.book_id \n",
    "                  \n",
    "         GROUP BY author\n",
    "         ORDER BY avg_rating DESC)\n",
    "         \n",
    "        SELECT author, \n",
    "               ROUND(avg_rating, 2) AS avg_rating\n",
    "          FROM tab\n",
    "         LIMIT 1; \n",
    "        '''\n",
    "pd.io.sql.read_sql(query, con=engine)"
   ]
  },
  {
   "cell_type": "markdown",
   "id": "b8f42116",
   "metadata": {},
   "source": [
    "#### Вывод\n",
    "\n",
    "Самая высокая средняя оценка книг у автора J.K.Rowling. В расчете приняли участие только книги, в которых 50 и более оценок."
   ]
  },
  {
   "cell_type": "markdown",
   "id": "4a8bb555",
   "metadata": {},
   "source": [
    "#### Задание №5\n",
    "\n",
    "Посчитайте среднее количество обзоров от пользователей, которые поставили больше 50 оценок\n",
    "\n",
    "#### Решение"
   ]
  },
  {
   "cell_type": "code",
   "execution_count": 16,
   "id": "32ce8ff3",
   "metadata": {},
   "outputs": [
    {
     "data": {
      "text/html": [
       "<div>\n",
       "<style scoped>\n",
       "    .dataframe tbody tr th:only-of-type {\n",
       "        vertical-align: middle;\n",
       "    }\n",
       "\n",
       "    .dataframe tbody tr th {\n",
       "        vertical-align: top;\n",
       "    }\n",
       "\n",
       "    .dataframe thead th {\n",
       "        text-align: right;\n",
       "    }\n",
       "</style>\n",
       "<table border=\"1\" class=\"dataframe\">\n",
       "  <thead>\n",
       "    <tr style=\"text-align: right;\">\n",
       "      <th></th>\n",
       "      <th>avg_reviews</th>\n",
       "    </tr>\n",
       "  </thead>\n",
       "  <tbody>\n",
       "    <tr>\n",
       "      <th>0</th>\n",
       "      <td>24.33</td>\n",
       "    </tr>\n",
       "  </tbody>\n",
       "</table>\n",
       "</div>"
      ],
      "text/plain": [
       "   avg_reviews\n",
       "0        24.33"
      ]
     },
     "execution_count": 16,
     "metadata": {},
     "output_type": "execute_result"
    }
   ],
   "source": [
    "query = '''\n",
    "        SELECT ROUND(AVG(b.cnt_reviews), 2) AS avg_reviews\n",
    "          FROM (\n",
    "                SELECT username,\n",
    "                       COUNT(rating)\n",
    "                  FROM ratings\n",
    "                 GROUP BY username\n",
    "                HAVING COUNT(rating) > 50 \n",
    "                 ORDER BY COUNT(rating) DESC\n",
    "                ) AS a\n",
    "        \n",
    "          LEFT JOIN (\n",
    "          \n",
    "                SELECT username,\n",
    "                       COUNT(review_id) AS cnt_reviews\n",
    "                  FROM reviews \n",
    "                 GROUP BY username\n",
    "                ) AS b ON a.username=b.username \n",
    "        '''\n",
    "pd.io.sql.read_sql(query, con=engine)"
   ]
  },
  {
   "cell_type": "markdown",
   "id": "abd3ab58",
   "metadata": {},
   "source": [
    "#### Вывод\n",
    "\n",
    "Среднее количество обзоров от пользователей, которые поставили больше 50 оценок, составляет 24 штуки."
   ]
  },
  {
   "cell_type": "markdown",
   "id": "6a467f98",
   "metadata": {},
   "source": [
    "## Общий вывод"
   ]
  },
  {
   "cell_type": "markdown",
   "id": "48af95fd",
   "metadata": {},
   "source": [
    "- Всего после 1 января 2000 года вышло 819 книг, что составляет в среднем 37 книг в год или 3 книги в месяц;\n",
    "- Всего представлено 999 книг, из них наибольшее количество обзоров - 8 штук - сделано на книгу \"Мемуары Гейши\" и средним рейтингом 4.1 по 5-бальной шкале. Второй по количеству обзоров является книга \"Сумерки\" у которой 7 обзоров, а средний рейтинг составляет 3.66. Также в первую пятерку попадают книги о Гарри Поттере: 2 и 3 серия книги по 6 обзоров на каждую, и книга \"Книжный вор\" у которой тоже 6 обзоров;\n",
    "- Наибольшее число книг толще 50 страниц выпустило издательство \"Penguin Books\";\n",
    "- Самая высокая средняя оценка книг у автора J.K.Rowling. В расчете приняли участие только книги, в которых 50 и более оценок;\n",
    "- Среднее количество обзоров от пользователей, которые поставили больше 50 оценок, составляет 24 штуки."
   ]
  }
 ],
 "metadata": {
  "ExecuteTimeLog": [
   {
    "duration": 5935,
    "start_time": "2022-10-12T10:40:16.924Z"
   },
   {
    "duration": 282,
    "start_time": "2022-10-12T10:40:22.861Z"
   },
   {
    "duration": 85,
    "start_time": "2022-10-12T10:40:23.145Z"
   },
   {
    "duration": 79,
    "start_time": "2022-10-12T10:40:23.233Z"
   },
   {
    "duration": 105,
    "start_time": "2022-10-12T10:40:23.315Z"
   },
   {
    "duration": 79,
    "start_time": "2022-10-12T10:40:23.423Z"
   },
   {
    "duration": 76,
    "start_time": "2022-10-12T10:40:23.504Z"
   },
   {
    "duration": 119,
    "start_time": "2022-10-12T10:40:23.582Z"
   },
   {
    "duration": 82,
    "start_time": "2022-10-12T10:40:23.703Z"
   },
   {
    "duration": 83,
    "start_time": "2022-10-12T10:40:23.788Z"
   },
   {
    "duration": 86,
    "start_time": "2022-10-12T10:40:23.873Z"
   },
   {
    "duration": 125,
    "start_time": "2022-10-12T10:42:41.785Z"
   },
   {
    "duration": 73,
    "start_time": "2022-10-12T10:42:47.833Z"
   },
   {
    "duration": 118,
    "start_time": "2022-10-12T10:43:29.988Z"
   },
   {
    "duration": 119,
    "start_time": "2022-10-12T10:43:58.038Z"
   },
   {
    "duration": 140,
    "start_time": "2022-10-12T10:44:30.736Z"
   },
   {
    "duration": 114,
    "start_time": "2022-10-12T10:45:35.907Z"
   },
   {
    "duration": 73,
    "start_time": "2022-10-12T10:46:39.237Z"
   },
   {
    "duration": 44,
    "start_time": "2022-10-12T10:49:38.813Z"
   },
   {
    "duration": 7961,
    "start_time": "2022-10-12T10:59:09.670Z"
   },
   {
    "duration": 253,
    "start_time": "2022-10-12T10:59:17.634Z"
   },
   {
    "duration": 76,
    "start_time": "2022-10-12T10:59:17.888Z"
   },
   {
    "duration": 77,
    "start_time": "2022-10-12T10:59:17.967Z"
   },
   {
    "duration": 79,
    "start_time": "2022-10-12T10:59:18.045Z"
   },
   {
    "duration": 78,
    "start_time": "2022-10-12T10:59:18.126Z"
   },
   {
    "duration": 77,
    "start_time": "2022-10-12T10:59:18.205Z"
   },
   {
    "duration": 113,
    "start_time": "2022-10-12T10:59:18.284Z"
   },
   {
    "duration": 79,
    "start_time": "2022-10-12T10:59:18.399Z"
   },
   {
    "duration": 80,
    "start_time": "2022-10-12T10:59:18.481Z"
   },
   {
    "duration": 82,
    "start_time": "2022-10-12T10:59:18.563Z"
   },
   {
    "duration": 6432,
    "start_time": "2022-10-12T12:25:21.564Z"
   },
   {
    "duration": 274,
    "start_time": "2022-10-12T12:25:27.998Z"
   },
   {
    "duration": 78,
    "start_time": "2022-10-12T12:25:28.274Z"
   },
   {
    "duration": 79,
    "start_time": "2022-10-12T12:25:28.353Z"
   },
   {
    "duration": 81,
    "start_time": "2022-10-12T12:25:28.434Z"
   },
   {
    "duration": 78,
    "start_time": "2022-10-12T12:25:28.516Z"
   },
   {
    "duration": 78,
    "start_time": "2022-10-12T12:25:28.595Z"
   },
   {
    "duration": 111,
    "start_time": "2022-10-12T12:25:28.674Z"
   },
   {
    "duration": 75,
    "start_time": "2022-10-12T12:25:28.787Z"
   },
   {
    "duration": 77,
    "start_time": "2022-10-12T12:25:28.864Z"
   },
   {
    "duration": 83,
    "start_time": "2022-10-12T12:25:28.942Z"
   },
   {
    "duration": 888,
    "start_time": "2022-10-12T12:35:10.772Z"
   },
   {
    "duration": 84,
    "start_time": "2022-10-12T12:35:26.565Z"
   },
   {
    "duration": 90,
    "start_time": "2022-10-12T12:35:35.805Z"
   },
   {
    "duration": 95,
    "start_time": "2022-10-12T12:35:39.867Z"
   },
   {
    "duration": 81,
    "start_time": "2022-10-12T12:35:49.964Z"
   },
   {
    "duration": 82,
    "start_time": "2022-10-12T13:14:29.165Z"
   },
   {
    "duration": 81,
    "start_time": "2022-10-12T13:14:39.709Z"
   },
   {
    "duration": 228,
    "start_time": "2022-10-12T13:15:10.449Z"
   },
   {
    "duration": 76,
    "start_time": "2022-10-12T13:15:22.920Z"
   },
   {
    "duration": 73,
    "start_time": "2022-10-12T13:16:11.408Z"
   },
   {
    "duration": 79,
    "start_time": "2022-10-12T13:18:58.800Z"
   },
   {
    "duration": 162,
    "start_time": "2022-10-12T13:19:10.848Z"
   },
   {
    "duration": 208,
    "start_time": "2022-10-12T13:19:15.086Z"
   },
   {
    "duration": 150,
    "start_time": "2022-10-12T13:19:37.592Z"
   },
   {
    "duration": 95,
    "start_time": "2022-10-12T13:20:09.235Z"
   },
   {
    "duration": 82,
    "start_time": "2022-10-12T13:20:22.601Z"
   },
   {
    "duration": 90,
    "start_time": "2022-10-12T13:20:31.821Z"
   },
   {
    "duration": 11578,
    "start_time": "2022-10-12T16:32:27.673Z"
   },
   {
    "duration": 69,
    "start_time": "2022-10-12T16:32:39.253Z"
   },
   {
    "duration": 11,
    "start_time": "2022-10-12T16:32:39.324Z"
   },
   {
    "duration": 28,
    "start_time": "2022-10-12T16:32:39.337Z"
   },
   {
    "duration": 14,
    "start_time": "2022-10-12T16:32:39.367Z"
   },
   {
    "duration": 13,
    "start_time": "2022-10-12T16:32:39.383Z"
   },
   {
    "duration": 13,
    "start_time": "2022-10-12T16:32:39.398Z"
   },
   {
    "duration": 40,
    "start_time": "2022-10-12T16:32:39.412Z"
   },
   {
    "duration": 14,
    "start_time": "2022-10-12T16:32:39.454Z"
   },
   {
    "duration": 20,
    "start_time": "2022-10-12T16:32:39.470Z"
   },
   {
    "duration": 20,
    "start_time": "2022-10-12T16:32:39.491Z"
   },
   {
    "duration": 24,
    "start_time": "2022-10-12T16:37:21.780Z"
   },
   {
    "duration": 12,
    "start_time": "2022-10-12T16:37:49.161Z"
   },
   {
    "duration": 29,
    "start_time": "2022-10-12T16:39:22.287Z"
   },
   {
    "duration": 28,
    "start_time": "2022-10-12T16:39:51.145Z"
   },
   {
    "duration": 173,
    "start_time": "2022-10-12T16:44:42.384Z"
   },
   {
    "duration": 30,
    "start_time": "2022-10-12T16:44:53.366Z"
   },
   {
    "duration": 175,
    "start_time": "2022-10-12T16:45:36.074Z"
   },
   {
    "duration": 18,
    "start_time": "2022-10-12T16:45:41.228Z"
   },
   {
    "duration": 30,
    "start_time": "2022-10-12T16:50:06.520Z"
   },
   {
    "duration": 28,
    "start_time": "2022-10-12T16:50:23.485Z"
   },
   {
    "duration": 28,
    "start_time": "2022-10-12T16:50:35.530Z"
   },
   {
    "duration": 16,
    "start_time": "2022-10-12T16:52:57.432Z"
   },
   {
    "duration": 18,
    "start_time": "2022-10-12T16:53:08.036Z"
   },
   {
    "duration": 109,
    "start_time": "2022-10-12T16:58:18.978Z"
   },
   {
    "duration": 89,
    "start_time": "2022-10-12T16:58:49.712Z"
   },
   {
    "duration": 26,
    "start_time": "2022-10-12T16:59:10.273Z"
   },
   {
    "duration": 105,
    "start_time": "2022-10-12T17:00:20.265Z"
   },
   {
    "duration": 16,
    "start_time": "2022-10-12T17:00:42.074Z"
   },
   {
    "duration": 27,
    "start_time": "2022-10-12T17:02:03.263Z"
   },
   {
    "duration": 109,
    "start_time": "2022-10-12T17:04:50.174Z"
   },
   {
    "duration": 19,
    "start_time": "2022-10-12T17:05:00.180Z"
   },
   {
    "duration": 27,
    "start_time": "2022-10-12T17:06:27.223Z"
   },
   {
    "duration": 24,
    "start_time": "2022-10-12T17:08:03.903Z"
   },
   {
    "duration": 28,
    "start_time": "2022-10-12T17:10:04.870Z"
   },
   {
    "duration": 98,
    "start_time": "2022-10-12T17:39:42.607Z"
   },
   {
    "duration": 149,
    "start_time": "2022-10-12T17:39:53.490Z"
   },
   {
    "duration": 16,
    "start_time": "2022-10-12T17:40:34.877Z"
   },
   {
    "duration": 17,
    "start_time": "2022-10-12T17:40:38.482Z"
   },
   {
    "duration": 108,
    "start_time": "2022-10-12T17:41:29.190Z"
   },
   {
    "duration": 13,
    "start_time": "2022-10-12T17:41:42.350Z"
   },
   {
    "duration": 21,
    "start_time": "2022-10-12T18:02:04.564Z"
   },
   {
    "duration": 17,
    "start_time": "2022-10-12T18:03:01.785Z"
   },
   {
    "duration": 24,
    "start_time": "2022-10-12T18:04:20.789Z"
   },
   {
    "duration": 20,
    "start_time": "2022-10-12T18:04:27.646Z"
   },
   {
    "duration": 19,
    "start_time": "2022-10-12T18:05:11.239Z"
   },
   {
    "duration": 18,
    "start_time": "2022-10-12T18:05:21.256Z"
   },
   {
    "duration": 23,
    "start_time": "2022-10-12T18:06:08.751Z"
   },
   {
    "duration": 17,
    "start_time": "2022-10-12T18:08:07.985Z"
   },
   {
    "duration": 25,
    "start_time": "2022-10-12T18:17:19.154Z"
   },
   {
    "duration": 15,
    "start_time": "2022-10-12T18:20:35.046Z"
   },
   {
    "duration": 25,
    "start_time": "2022-10-12T18:22:33.493Z"
   },
   {
    "duration": 15,
    "start_time": "2022-10-12T18:22:56.860Z"
   },
   {
    "duration": 13,
    "start_time": "2022-10-12T18:23:02.221Z"
   },
   {
    "duration": 15,
    "start_time": "2022-10-12T18:31:22.409Z"
   },
   {
    "duration": 14,
    "start_time": "2022-10-12T18:31:41.976Z"
   },
   {
    "duration": 14,
    "start_time": "2022-10-12T18:32:03.545Z"
   },
   {
    "duration": 27,
    "start_time": "2022-10-12T18:35:57.507Z"
   },
   {
    "duration": 12370,
    "start_time": "2022-10-12T18:36:59.963Z"
   },
   {
    "duration": 122,
    "start_time": "2022-10-12T18:37:12.335Z"
   },
   {
    "duration": 26,
    "start_time": "2022-10-12T18:37:12.459Z"
   },
   {
    "duration": 16,
    "start_time": "2022-10-12T18:37:12.487Z"
   },
   {
    "duration": 35,
    "start_time": "2022-10-12T18:37:12.505Z"
   },
   {
    "duration": 16,
    "start_time": "2022-10-12T18:37:12.542Z"
   },
   {
    "duration": 17,
    "start_time": "2022-10-12T18:37:12.560Z"
   },
   {
    "duration": 46,
    "start_time": "2022-10-12T18:37:12.579Z"
   },
   {
    "duration": 23,
    "start_time": "2022-10-12T18:37:12.627Z"
   },
   {
    "duration": 41,
    "start_time": "2022-10-12T18:37:12.652Z"
   },
   {
    "duration": 23,
    "start_time": "2022-10-12T18:37:12.695Z"
   },
   {
    "duration": 32,
    "start_time": "2022-10-12T18:38:41.891Z"
   },
   {
    "duration": 8655,
    "start_time": "2022-10-13T13:49:47.840Z"
   },
   {
    "duration": 87,
    "start_time": "2022-10-13T13:49:56.497Z"
   },
   {
    "duration": 14,
    "start_time": "2022-10-13T13:49:56.586Z"
   },
   {
    "duration": 12,
    "start_time": "2022-10-13T13:49:56.603Z"
   },
   {
    "duration": 11,
    "start_time": "2022-10-13T13:49:56.616Z"
   },
   {
    "duration": 9,
    "start_time": "2022-10-13T13:49:56.628Z"
   },
   {
    "duration": 9,
    "start_time": "2022-10-13T13:49:56.639Z"
   },
   {
    "duration": 29,
    "start_time": "2022-10-13T13:49:56.649Z"
   },
   {
    "duration": 12,
    "start_time": "2022-10-13T13:49:56.679Z"
   },
   {
    "duration": 18,
    "start_time": "2022-10-13T13:49:56.692Z"
   },
   {
    "duration": 22,
    "start_time": "2022-10-13T13:49:56.712Z"
   },
   {
    "duration": 15,
    "start_time": "2022-10-13T13:51:22.036Z"
   },
   {
    "duration": 653,
    "start_time": "2022-10-13T14:05:46.374Z"
   },
   {
    "duration": 140,
    "start_time": "2022-10-13T14:09:26.867Z"
   },
   {
    "duration": 14,
    "start_time": "2022-10-13T14:09:36.462Z"
   },
   {
    "duration": 18,
    "start_time": "2022-10-13T14:09:58.989Z"
   },
   {
    "duration": 69,
    "start_time": "2022-10-13T14:12:32.033Z"
   },
   {
    "duration": 78,
    "start_time": "2022-10-13T14:13:56.401Z"
   },
   {
    "duration": 9719,
    "start_time": "2022-10-13T16:24:34.977Z"
   },
   {
    "duration": 67,
    "start_time": "2022-10-13T16:24:44.699Z"
   },
   {
    "duration": 13,
    "start_time": "2022-10-13T16:24:44.770Z"
   },
   {
    "duration": 17,
    "start_time": "2022-10-13T16:24:44.786Z"
   },
   {
    "duration": 21,
    "start_time": "2022-10-13T16:24:44.806Z"
   },
   {
    "duration": 17,
    "start_time": "2022-10-13T16:24:44.829Z"
   },
   {
    "duration": 19,
    "start_time": "2022-10-13T16:24:44.849Z"
   },
   {
    "duration": 52,
    "start_time": "2022-10-13T16:24:44.870Z"
   },
   {
    "duration": 14,
    "start_time": "2022-10-13T16:24:44.924Z"
   },
   {
    "duration": 36,
    "start_time": "2022-10-13T16:24:44.940Z"
   },
   {
    "duration": 42,
    "start_time": "2022-10-13T16:24:44.978Z"
   },
   {
    "duration": 215,
    "start_time": "2022-10-13T16:38:34.924Z"
   },
   {
    "duration": 393,
    "start_time": "2022-10-13T16:40:39.858Z"
   },
   {
    "duration": 131,
    "start_time": "2022-10-13T16:41:40.835Z"
   },
   {
    "duration": 96,
    "start_time": "2022-10-13T16:42:26.457Z"
   },
   {
    "duration": 108,
    "start_time": "2022-10-13T16:43:39.104Z"
   },
   {
    "duration": 17,
    "start_time": "2022-10-13T16:44:07.925Z"
   },
   {
    "duration": 17,
    "start_time": "2022-10-13T16:45:56.310Z"
   },
   {
    "duration": 19,
    "start_time": "2022-10-13T16:50:11.009Z"
   },
   {
    "duration": 20,
    "start_time": "2022-10-13T16:51:23.257Z"
   },
   {
    "duration": 97,
    "start_time": "2022-10-13T16:51:52.748Z"
   },
   {
    "duration": 103,
    "start_time": "2022-10-13T16:52:34.216Z"
   },
   {
    "duration": 17,
    "start_time": "2022-10-13T16:52:45.570Z"
   },
   {
    "duration": 226,
    "start_time": "2022-10-13T16:56:28.098Z"
   },
   {
    "duration": 20,
    "start_time": "2022-10-13T17:13:43.341Z"
   },
   {
    "duration": 114,
    "start_time": "2022-10-13T17:17:18.425Z"
   },
   {
    "duration": 137,
    "start_time": "2022-10-13T17:17:31.271Z"
   },
   {
    "duration": 145,
    "start_time": "2022-10-13T17:19:15.775Z"
   },
   {
    "duration": 145,
    "start_time": "2022-10-13T17:26:53.322Z"
   },
   {
    "duration": 97,
    "start_time": "2022-10-13T17:27:07.202Z"
   },
   {
    "duration": 45,
    "start_time": "2022-10-13T17:27:15.685Z"
   },
   {
    "duration": 18,
    "start_time": "2022-10-13T17:31:38.952Z"
   },
   {
    "duration": 101,
    "start_time": "2022-10-13T17:33:02.086Z"
   },
   {
    "duration": 25,
    "start_time": "2022-10-13T17:33:13.065Z"
   },
   {
    "duration": 16,
    "start_time": "2022-10-13T17:34:08.612Z"
   },
   {
    "duration": 25,
    "start_time": "2022-10-13T17:36:25.792Z"
   },
   {
    "duration": 18,
    "start_time": "2022-10-13T17:39:57.122Z"
   },
   {
    "duration": 19,
    "start_time": "2022-10-13T17:40:24.275Z"
   },
   {
    "duration": 94,
    "start_time": "2022-10-13T17:44:47.693Z"
   },
   {
    "duration": 16,
    "start_time": "2022-10-13T17:45:20.076Z"
   },
   {
    "duration": 120,
    "start_time": "2022-10-13T17:46:15.422Z"
   },
   {
    "duration": 18,
    "start_time": "2022-10-13T17:46:23.368Z"
   },
   {
    "duration": 18,
    "start_time": "2022-10-13T17:48:17.955Z"
   },
   {
    "duration": 90,
    "start_time": "2022-10-13T17:49:22.631Z"
   },
   {
    "duration": 112,
    "start_time": "2022-10-13T17:49:30.262Z"
   },
   {
    "duration": 19,
    "start_time": "2022-10-13T17:49:36.189Z"
   },
   {
    "duration": 17,
    "start_time": "2022-10-13T17:55:06.622Z"
   },
   {
    "duration": 105,
    "start_time": "2022-10-13T18:00:08.079Z"
   },
   {
    "duration": 18,
    "start_time": "2022-10-13T18:00:34.555Z"
   },
   {
    "duration": 20,
    "start_time": "2022-10-13T18:12:45.663Z"
   },
   {
    "duration": 20,
    "start_time": "2022-10-13T18:14:24.956Z"
   },
   {
    "duration": 23,
    "start_time": "2022-10-13T18:17:25.012Z"
   },
   {
    "duration": 45,
    "start_time": "2022-10-13T18:18:11.750Z"
   },
   {
    "duration": 103,
    "start_time": "2022-10-13T18:21:57.409Z"
   },
   {
    "duration": 90,
    "start_time": "2022-10-13T18:23:16.735Z"
   },
   {
    "duration": 94,
    "start_time": "2022-10-13T18:23:27.178Z"
   },
   {
    "duration": 21,
    "start_time": "2022-10-13T18:23:30.170Z"
   },
   {
    "duration": 97,
    "start_time": "2022-10-13T18:29:15.906Z"
   },
   {
    "duration": 25,
    "start_time": "2022-10-13T18:29:40.882Z"
   },
   {
    "duration": 19,
    "start_time": "2022-10-13T18:32:03.023Z"
   },
   {
    "duration": 345,
    "start_time": "2022-10-13T18:39:13.468Z"
   },
   {
    "duration": 7888,
    "start_time": "2022-10-13T19:05:48.287Z"
   },
   {
    "duration": 80,
    "start_time": "2022-10-13T19:05:56.177Z"
   },
   {
    "duration": 9,
    "start_time": "2022-10-13T19:05:56.259Z"
   },
   {
    "duration": 9,
    "start_time": "2022-10-13T19:05:56.269Z"
   },
   {
    "duration": 10,
    "start_time": "2022-10-13T19:05:56.279Z"
   },
   {
    "duration": 10,
    "start_time": "2022-10-13T19:05:56.290Z"
   },
   {
    "duration": 11,
    "start_time": "2022-10-13T19:05:56.301Z"
   },
   {
    "duration": 23,
    "start_time": "2022-10-13T19:05:56.313Z"
   },
   {
    "duration": 9,
    "start_time": "2022-10-13T19:05:56.338Z"
   },
   {
    "duration": 15,
    "start_time": "2022-10-13T19:05:56.349Z"
   },
   {
    "duration": 11,
    "start_time": "2022-10-13T19:05:56.366Z"
   },
   {
    "duration": 8665,
    "start_time": "2022-10-17T17:01:14.406Z"
   },
   {
    "duration": 60,
    "start_time": "2022-10-17T17:01:23.073Z"
   },
   {
    "duration": 10,
    "start_time": "2022-10-17T17:01:23.134Z"
   },
   {
    "duration": 10,
    "start_time": "2022-10-17T17:01:23.146Z"
   },
   {
    "duration": 20,
    "start_time": "2022-10-17T17:01:23.159Z"
   },
   {
    "duration": 19,
    "start_time": "2022-10-17T17:01:23.180Z"
   },
   {
    "duration": 14,
    "start_time": "2022-10-17T17:01:23.200Z"
   },
   {
    "duration": 24,
    "start_time": "2022-10-17T17:01:23.216Z"
   },
   {
    "duration": 9,
    "start_time": "2022-10-17T17:01:23.242Z"
   },
   {
    "duration": 25,
    "start_time": "2022-10-17T17:01:23.252Z"
   },
   {
    "duration": 12,
    "start_time": "2022-10-17T17:01:23.279Z"
   }
  ],
  "kernelspec": {
   "display_name": "Python 3 (ipykernel)",
   "language": "python",
   "name": "python3"
  },
  "language_info": {
   "codemirror_mode": {
    "name": "ipython",
    "version": 3
   },
   "file_extension": ".py",
   "mimetype": "text/x-python",
   "name": "python",
   "nbconvert_exporter": "python",
   "pygments_lexer": "ipython3",
   "version": "3.9.7"
  },
  "toc": {
   "base_numbering": 1,
   "nav_menu": {},
   "number_sections": true,
   "sideBar": true,
   "skip_h1_title": true,
   "title_cell": "Table of Contents",
   "title_sidebar": "Contents",
   "toc_cell": false,
   "toc_position": {},
   "toc_section_display": true,
   "toc_window_display": false
  }
 },
 "nbformat": 4,
 "nbformat_minor": 5
}
