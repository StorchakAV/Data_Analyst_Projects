{
 "cells": [
  {
   "cell_type": "markdown",
   "metadata": {},
   "source": [
    "# Проверка гипотез по увеличению выручки в интернет-магазине"
   ]
  },
  {
   "cell_type": "markdown",
   "metadata": {},
   "source": [
    "## План исследования\n",
    "1. Приоритезация гипотез\n",
    "2. А/Б-тестирование\n",
    "3. Анализ полученных результов\n",
    "\n",
    "## Описание данных\n",
    "\n",
    "Файл - `Hypothesis`\n",
    "<br>**Hypothesis** — краткое описание гипотезы; </br>\n",
    "**Reach** — охват пользователей по 10-балльной шкале; </br>\n",
    "**Impact** — влияние на пользователей по 10-балльной шкале;</br>\n",
    "**Confidence** — уверенность в гипотезе по 10-балльной шкале;</br>\n",
    "**Efforts** — затраты ресурсов на проверку гипотезы по 10-балльной шкале. Чем больше значение Efforts, тем дороже проверка гипотезы.</br>\n",
    "\n",
    "Файл - `Orders`\n",
    "<br>**transactionId** — идентификатор заказа;</br>\n",
    "**visitorId** — идентификатор пользователя, совершившего заказ;</br>\n",
    "**date** — дата, когда был совершён заказ;</br>\n",
    "**revenue** — выручка заказа;</br>\n",
    "**group** — группа A/B-теста, в которую попал заказ.</br>\n",
    "\n",
    "Файл - `Visitors`\n",
    "<br>**date** — дата;</br>\n",
    "**group** — группа A/B-теста;</br>\n",
    "**visitors** — количество пользователей в указанную дату в указанной группе A/B-теста</br>"
   ]
  },
  {
   "cell_type": "markdown",
   "metadata": {},
   "source": [
    "# Изучение входных данных"
   ]
  },
  {
   "cell_type": "code",
   "execution_count": 1,
   "metadata": {},
   "outputs": [
    {
     "data": {
      "text/html": [
       "<style>.container { width:95% !important; }</style>"
      ],
      "text/plain": [
       "<IPython.core.display.HTML object>"
      ]
     },
     "metadata": {},
     "output_type": "display_data"
    }
   ],
   "source": [
    "# импорт библиотек\n",
    "import pandas as pd\n",
    "import numpy as np\n",
    "import datetime as dt\n",
    "import math as mth\n",
    "from scipy import stats as st\n",
    "import matplotlib.pyplot as plt\n",
    "import warnings\n",
    "import seaborn as sns\n",
    "\n",
    "from IPython.display import display, HTML\n",
    "display(HTML(\"<style>.container { width:95% !important; }</style>\"))\n",
    "\n",
    "pd.set_option('display.max_columns', 15)\n",
    "pd.set_option('display.max_rows', 15)\n",
    "pd.set_option('display.max_colwidth', 500)"
   ]
  },
  {
   "cell_type": "code",
   "execution_count": 2,
   "metadata": {},
   "outputs": [
    {
     "name": "stdout",
     "output_type": "stream",
     "text": [
      "DATA\n",
      "<class 'pandas.core.frame.DataFrame'>\n",
      "RangeIndex: 9 entries, 0 to 8\n",
      "Data columns (total 5 columns):\n",
      " #   Column      Non-Null Count  Dtype \n",
      "---  ------      --------------  ----- \n",
      " 0   Hypothesis  9 non-null      object\n",
      " 1   Reach       9 non-null      int64 \n",
      " 2   Impact      9 non-null      int64 \n",
      " 3   Confidence  9 non-null      int64 \n",
      " 4   Efforts     9 non-null      int64 \n",
      "dtypes: int64(4), object(1)\n",
      "memory usage: 488.0+ bytes\n",
      "\n",
      "ORDERS\n",
      "<class 'pandas.core.frame.DataFrame'>\n",
      "RangeIndex: 1197 entries, 0 to 1196\n",
      "Data columns (total 5 columns):\n",
      " #   Column         Non-Null Count  Dtype \n",
      "---  ------         --------------  ----- \n",
      " 0   transactionId  1197 non-null   int64 \n",
      " 1   visitorId      1197 non-null   int64 \n",
      " 2   date           1197 non-null   object\n",
      " 3   revenue        1197 non-null   int64 \n",
      " 4   group          1197 non-null   object\n",
      "dtypes: int64(3), object(2)\n",
      "memory usage: 46.9+ KB\n",
      "\n",
      "VISITORS\n",
      "<class 'pandas.core.frame.DataFrame'>\n",
      "RangeIndex: 62 entries, 0 to 61\n",
      "Data columns (total 3 columns):\n",
      " #   Column    Non-Null Count  Dtype \n",
      "---  ------    --------------  ----- \n",
      " 0   date      62 non-null     object\n",
      " 1   group     62 non-null     object\n",
      " 2   visitors  62 non-null     int64 \n",
      "dtypes: int64(1), object(2)\n",
      "memory usage: 1.6+ KB\n"
     ]
    }
   ],
   "source": [
    "# загрузка данных о гипотезах, заказах и пользователях\n",
    "data = pd.read_csv('hypothesis.csv')\n",
    "orders = pd.read_csv('orders.csv')\n",
    "visitors = pd.read_csv('visitors.csv')\n",
    "\n",
    "print('DATA')\n",
    "data.info()\n",
    "\n",
    "print('\\nORDERS')\n",
    "orders.info()\n",
    "\n",
    "print('\\nVISITORS')\n",
    "visitors.info()"
   ]
  },
  {
   "cell_type": "markdown",
   "metadata": {},
   "source": [
    "В данных присутствуют некорректно оформленные названия столбцов и строковый тип данных в столбцах `date`, который необходимо заменить на тип datetime. Пропусков в таблицах не обнаружено. Приведём полученные данные к стандарту оформления."
   ]
  },
  {
   "cell_type": "code",
   "execution_count": 3,
   "metadata": {},
   "outputs": [],
   "source": [
    "# приведение названия столбцов к нижнему регистру\n",
    "data.columns = data.columns.str.lower()\n",
    "\n",
    "# приведение названия столбцов к нормативу\n",
    "orders = orders.rename(columns={'transactionId':'transaction_id', 'visitorId':'visitor_id'})\n",
    "\n",
    "# приведение столбца \"date\" в таблице с заказами к типу даты\n",
    "orders['date'] = orders['date'].map(\n",
    "    lambda x: dt.datetime.strptime(x, '%Y-%m-%d'))\n",
    "\n",
    "# приведение столбца \"date\" в таблице с пользователями к типу даты\n",
    "visitors['date'] = pd.to_datetime(visitors['date'])"
   ]
  },
  {
   "cell_type": "code",
   "execution_count": 4,
   "metadata": {
    "scrolled": true
   },
   "outputs": [
    {
     "name": "stdout",
     "output_type": "stream",
     "text": [
      "Диапазон дат в столбце \"Orders\": 2019-08-01 00:00:00 - 2019-08-31 00:00:00\n",
      "Диапазон дат в столбце \"Visitors\": 2019-08-01 00:00:00 - 2019-08-31 00:00:00\n"
     ]
    }
   ],
   "source": [
    "# проверка даты в датафреймах\n",
    "print('Диапазон дат в столбце \"Orders\": {} - {}'.format(orders['date'].min(), orders['date'].max()))\n",
    "print('Диапазон дат в столбце \"Visitors\": {} - {}'.format(visitors['date'].min(), visitors['date'].max()))"
   ]
  },
  {
   "cell_type": "markdown",
   "metadata": {},
   "source": [
    "Данные в обоих файлах представлены за август 2019 года. "
   ]
  },
  {
   "cell_type": "code",
   "execution_count": 5,
   "metadata": {},
   "outputs": [
    {
     "name": "stdout",
     "output_type": "stream",
     "text": [
      "DATA\n",
      "<class 'pandas.core.frame.DataFrame'>\n",
      "RangeIndex: 9 entries, 0 to 8\n",
      "Data columns (total 5 columns):\n",
      " #   Column      Non-Null Count  Dtype \n",
      "---  ------      --------------  ----- \n",
      " 0   hypothesis  9 non-null      object\n",
      " 1   reach       9 non-null      int64 \n",
      " 2   impact      9 non-null      int64 \n",
      " 3   confidence  9 non-null      int64 \n",
      " 4   efforts     9 non-null      int64 \n",
      "dtypes: int64(4), object(1)\n",
      "memory usage: 488.0+ bytes\n",
      "\n",
      "ORDERS\n",
      "<class 'pandas.core.frame.DataFrame'>\n",
      "RangeIndex: 1197 entries, 0 to 1196\n",
      "Data columns (total 5 columns):\n",
      " #   Column          Non-Null Count  Dtype         \n",
      "---  ------          --------------  -----         \n",
      " 0   transaction_id  1197 non-null   int64         \n",
      " 1   visitor_id      1197 non-null   int64         \n",
      " 2   date            1197 non-null   datetime64[ns]\n",
      " 3   revenue         1197 non-null   int64         \n",
      " 4   group           1197 non-null   object        \n",
      "dtypes: datetime64[ns](1), int64(3), object(1)\n",
      "memory usage: 46.9+ KB\n",
      "\n",
      "VISITORS\n",
      "<class 'pandas.core.frame.DataFrame'>\n",
      "RangeIndex: 62 entries, 0 to 61\n",
      "Data columns (total 3 columns):\n",
      " #   Column    Non-Null Count  Dtype         \n",
      "---  ------    --------------  -----         \n",
      " 0   date      62 non-null     datetime64[ns]\n",
      " 1   group     62 non-null     object        \n",
      " 2   visitors  62 non-null     int64         \n",
      "dtypes: datetime64[ns](1), int64(1), object(1)\n",
      "memory usage: 1.6+ KB\n"
     ]
    }
   ],
   "source": [
    "# проверка результатов изменений\n",
    "print('DATA')\n",
    "data.info()\n",
    "\n",
    "print('\\nORDERS')\n",
    "orders.info()\n",
    "\n",
    "print('\\nVISITORS')\n",
    "visitors.info()"
   ]
  },
  {
   "cell_type": "code",
   "execution_count": 6,
   "metadata": {},
   "outputs": [
    {
     "name": "stdout",
     "output_type": "stream",
     "text": [
      "Кол-во дубликатов в visitors: 0\n",
      "Кол-во дубликатов в orders: 0\n"
     ]
    }
   ],
   "source": [
    "# проверка на полные дубликаты\n",
    "print('Кол-во дубликатов в visitors:', visitors.duplicated().sum())\n",
    "print('Кол-во дубликатов в orders:', orders.duplicated().sum())"
   ]
  },
  {
   "cell_type": "markdown",
   "metadata": {},
   "source": [
    "**Вывод**\n",
    "<br>Исходные данные приведены в порядок, пропусков и дубликатов в таблицах не обнаружено, даты из разных таблиц совпадают. Можно приступать к анализу.</br>"
   ]
  },
  {
   "cell_type": "markdown",
   "metadata": {},
   "source": [
    "# Приоритизация гипотез"
   ]
  },
  {
   "cell_type": "code",
   "execution_count": 7,
   "metadata": {},
   "outputs": [
    {
     "data": {
      "text/html": [
       "<div>\n",
       "<style scoped>\n",
       "    .dataframe tbody tr th:only-of-type {\n",
       "        vertical-align: middle;\n",
       "    }\n",
       "\n",
       "    .dataframe tbody tr th {\n",
       "        vertical-align: top;\n",
       "    }\n",
       "\n",
       "    .dataframe thead th {\n",
       "        text-align: right;\n",
       "    }\n",
       "</style>\n",
       "<table border=\"1\" class=\"dataframe\">\n",
       "  <thead>\n",
       "    <tr style=\"text-align: right;\">\n",
       "      <th></th>\n",
       "      <th>hypothesis</th>\n",
       "      <th>reach</th>\n",
       "      <th>impact</th>\n",
       "      <th>confidence</th>\n",
       "      <th>efforts</th>\n",
       "    </tr>\n",
       "  </thead>\n",
       "  <tbody>\n",
       "    <tr>\n",
       "      <th>0</th>\n",
       "      <td>Добавить два новых канала привлечения трафика, что позволит привлекать на 30% больше пользователей</td>\n",
       "      <td>3</td>\n",
       "      <td>10</td>\n",
       "      <td>8</td>\n",
       "      <td>6</td>\n",
       "    </tr>\n",
       "    <tr>\n",
       "      <th>1</th>\n",
       "      <td>Запустить собственную службу доставки, что сократит срок доставки заказов</td>\n",
       "      <td>2</td>\n",
       "      <td>5</td>\n",
       "      <td>4</td>\n",
       "      <td>10</td>\n",
       "    </tr>\n",
       "    <tr>\n",
       "      <th>2</th>\n",
       "      <td>Добавить блоки рекомендаций товаров на сайт интернет магазина, чтобы повысить конверсию и средний чек заказа</td>\n",
       "      <td>8</td>\n",
       "      <td>3</td>\n",
       "      <td>7</td>\n",
       "      <td>3</td>\n",
       "    </tr>\n",
       "    <tr>\n",
       "      <th>3</th>\n",
       "      <td>Изменить структура категорий, что увеличит конверсию, т.к. пользователи быстрее найдут нужный товар</td>\n",
       "      <td>8</td>\n",
       "      <td>3</td>\n",
       "      <td>3</td>\n",
       "      <td>8</td>\n",
       "    </tr>\n",
       "    <tr>\n",
       "      <th>4</th>\n",
       "      <td>Изменить цвет фона главной страницы, чтобы увеличить вовлеченность пользователей</td>\n",
       "      <td>3</td>\n",
       "      <td>1</td>\n",
       "      <td>1</td>\n",
       "      <td>1</td>\n",
       "    </tr>\n",
       "    <tr>\n",
       "      <th>5</th>\n",
       "      <td>Добавить страницу отзывов клиентов о магазине, что позволит увеличить количество заказов</td>\n",
       "      <td>3</td>\n",
       "      <td>2</td>\n",
       "      <td>2</td>\n",
       "      <td>3</td>\n",
       "    </tr>\n",
       "    <tr>\n",
       "      <th>6</th>\n",
       "      <td>Показать на главной странице баннеры с актуальными акциями и распродажами, чтобы увеличить конверсию</td>\n",
       "      <td>5</td>\n",
       "      <td>3</td>\n",
       "      <td>8</td>\n",
       "      <td>3</td>\n",
       "    </tr>\n",
       "    <tr>\n",
       "      <th>7</th>\n",
       "      <td>Добавить форму подписки на все основные страницы, чтобы собрать базу клиентов для email-рассылок</td>\n",
       "      <td>10</td>\n",
       "      <td>7</td>\n",
       "      <td>8</td>\n",
       "      <td>5</td>\n",
       "    </tr>\n",
       "    <tr>\n",
       "      <th>8</th>\n",
       "      <td>Запустить акцию, дающую скидку на товар в день рождения</td>\n",
       "      <td>1</td>\n",
       "      <td>9</td>\n",
       "      <td>9</td>\n",
       "      <td>5</td>\n",
       "    </tr>\n",
       "  </tbody>\n",
       "</table>\n",
       "</div>"
      ],
      "text/plain": [
       "                                                                                                     hypothesis  \\\n",
       "0            Добавить два новых канала привлечения трафика, что позволит привлекать на 30% больше пользователей   \n",
       "1                                     Запустить собственную службу доставки, что сократит срок доставки заказов   \n",
       "2  Добавить блоки рекомендаций товаров на сайт интернет магазина, чтобы повысить конверсию и средний чек заказа   \n",
       "3           Изменить структура категорий, что увеличит конверсию, т.к. пользователи быстрее найдут нужный товар   \n",
       "4                              Изменить цвет фона главной страницы, чтобы увеличить вовлеченность пользователей   \n",
       "5                      Добавить страницу отзывов клиентов о магазине, что позволит увеличить количество заказов   \n",
       "6          Показать на главной странице баннеры с актуальными акциями и распродажами, чтобы увеличить конверсию   \n",
       "7              Добавить форму подписки на все основные страницы, чтобы собрать базу клиентов для email-рассылок   \n",
       "8                                                       Запустить акцию, дающую скидку на товар в день рождения   \n",
       "\n",
       "   reach  impact  confidence  efforts  \n",
       "0      3      10           8        6  \n",
       "1      2       5           4       10  \n",
       "2      8       3           7        3  \n",
       "3      8       3           3        8  \n",
       "4      3       1           1        1  \n",
       "5      3       2           2        3  \n",
       "6      5       3           8        3  \n",
       "7     10       7           8        5  \n",
       "8      1       9           9        5  "
      ]
     },
     "metadata": {},
     "output_type": "display_data"
    }
   ],
   "source": [
    "# таблица с оценками параметров гипотез\n",
    "display(data)"
   ]
  },
  {
   "cell_type": "code",
   "execution_count": 8,
   "metadata": {},
   "outputs": [
    {
     "data": {
      "text/html": [
       "<div>\n",
       "<style scoped>\n",
       "    .dataframe tbody tr th:only-of-type {\n",
       "        vertical-align: middle;\n",
       "    }\n",
       "\n",
       "    .dataframe tbody tr th {\n",
       "        vertical-align: top;\n",
       "    }\n",
       "\n",
       "    .dataframe thead th {\n",
       "        text-align: right;\n",
       "    }\n",
       "</style>\n",
       "<table border=\"1\" class=\"dataframe\">\n",
       "  <thead>\n",
       "    <tr style=\"text-align: right;\">\n",
       "      <th></th>\n",
       "      <th>hypothesis</th>\n",
       "      <th>ice</th>\n",
       "    </tr>\n",
       "  </thead>\n",
       "  <tbody>\n",
       "    <tr>\n",
       "      <th>8</th>\n",
       "      <td>Запустить акцию, дающую скидку на товар в день рождения</td>\n",
       "      <td>16.200000</td>\n",
       "    </tr>\n",
       "    <tr>\n",
       "      <th>0</th>\n",
       "      <td>Добавить два новых канала привлечения трафика, что позволит привлекать на 30% больше пользователей</td>\n",
       "      <td>13.333333</td>\n",
       "    </tr>\n",
       "    <tr>\n",
       "      <th>7</th>\n",
       "      <td>Добавить форму подписки на все основные страницы, чтобы собрать базу клиентов для email-рассылок</td>\n",
       "      <td>11.200000</td>\n",
       "    </tr>\n",
       "    <tr>\n",
       "      <th>6</th>\n",
       "      <td>Показать на главной странице баннеры с актуальными акциями и распродажами, чтобы увеличить конверсию</td>\n",
       "      <td>8.000000</td>\n",
       "    </tr>\n",
       "    <tr>\n",
       "      <th>2</th>\n",
       "      <td>Добавить блоки рекомендаций товаров на сайт интернет магазина, чтобы повысить конверсию и средний чек заказа</td>\n",
       "      <td>7.000000</td>\n",
       "    </tr>\n",
       "    <tr>\n",
       "      <th>1</th>\n",
       "      <td>Запустить собственную службу доставки, что сократит срок доставки заказов</td>\n",
       "      <td>2.000000</td>\n",
       "    </tr>\n",
       "    <tr>\n",
       "      <th>5</th>\n",
       "      <td>Добавить страницу отзывов клиентов о магазине, что позволит увеличить количество заказов</td>\n",
       "      <td>1.333333</td>\n",
       "    </tr>\n",
       "    <tr>\n",
       "      <th>3</th>\n",
       "      <td>Изменить структура категорий, что увеличит конверсию, т.к. пользователи быстрее найдут нужный товар</td>\n",
       "      <td>1.125000</td>\n",
       "    </tr>\n",
       "    <tr>\n",
       "      <th>4</th>\n",
       "      <td>Изменить цвет фона главной страницы, чтобы увеличить вовлеченность пользователей</td>\n",
       "      <td>1.000000</td>\n",
       "    </tr>\n",
       "  </tbody>\n",
       "</table>\n",
       "</div>"
      ],
      "text/plain": [
       "                                                                                                     hypothesis  \\\n",
       "8                                                       Запустить акцию, дающую скидку на товар в день рождения   \n",
       "0            Добавить два новых канала привлечения трафика, что позволит привлекать на 30% больше пользователей   \n",
       "7              Добавить форму подписки на все основные страницы, чтобы собрать базу клиентов для email-рассылок   \n",
       "6          Показать на главной странице баннеры с актуальными акциями и распродажами, чтобы увеличить конверсию   \n",
       "2  Добавить блоки рекомендаций товаров на сайт интернет магазина, чтобы повысить конверсию и средний чек заказа   \n",
       "1                                     Запустить собственную службу доставки, что сократит срок доставки заказов   \n",
       "5                      Добавить страницу отзывов клиентов о магазине, что позволит увеличить количество заказов   \n",
       "3           Изменить структура категорий, что увеличит конверсию, т.к. пользователи быстрее найдут нужный товар   \n",
       "4                              Изменить цвет фона главной страницы, чтобы увеличить вовлеченность пользователей   \n",
       "\n",
       "         ice  \n",
       "8  16.200000  \n",
       "0  13.333333  \n",
       "7  11.200000  \n",
       "6   8.000000  \n",
       "2   7.000000  \n",
       "1   2.000000  \n",
       "5   1.333333  \n",
       "3   1.125000  \n",
       "4   1.000000  "
      ]
     },
     "metadata": {},
     "output_type": "display_data"
    }
   ],
   "source": [
    "# приоритизация по \"ice\"\n",
    "data['ice'] = data['impact'] * data['confidence'] / data['efforts']\n",
    "display(data[['hypothesis', 'ice']].sort_values(by='ice', ascending=False))"
   ]
  },
  {
   "cell_type": "markdown",
   "metadata": {},
   "source": [
    "Наиболее перспективные гипотезы по `ice` под номерами: 8, 0, 7. Больше всего баллов у 8 гипотезы, размер которой составил 16,2. Меньше всего у гипотезы под номером 4 в размере 1 балла."
   ]
  },
  {
   "cell_type": "code",
   "execution_count": 9,
   "metadata": {
    "scrolled": false
   },
   "outputs": [
    {
     "data": {
      "text/html": [
       "<div>\n",
       "<style scoped>\n",
       "    .dataframe tbody tr th:only-of-type {\n",
       "        vertical-align: middle;\n",
       "    }\n",
       "\n",
       "    .dataframe tbody tr th {\n",
       "        vertical-align: top;\n",
       "    }\n",
       "\n",
       "    .dataframe thead th {\n",
       "        text-align: right;\n",
       "    }\n",
       "</style>\n",
       "<table border=\"1\" class=\"dataframe\">\n",
       "  <thead>\n",
       "    <tr style=\"text-align: right;\">\n",
       "      <th></th>\n",
       "      <th>hypothesis</th>\n",
       "      <th>rice</th>\n",
       "    </tr>\n",
       "  </thead>\n",
       "  <tbody>\n",
       "    <tr>\n",
       "      <th>7</th>\n",
       "      <td>Добавить форму подписки на все основные страницы, чтобы собрать базу клиентов для email-рассылок</td>\n",
       "      <td>112.0</td>\n",
       "    </tr>\n",
       "    <tr>\n",
       "      <th>2</th>\n",
       "      <td>Добавить блоки рекомендаций товаров на сайт интернет магазина, чтобы повысить конверсию и средний чек заказа</td>\n",
       "      <td>56.0</td>\n",
       "    </tr>\n",
       "    <tr>\n",
       "      <th>0</th>\n",
       "      <td>Добавить два новых канала привлечения трафика, что позволит привлекать на 30% больше пользователей</td>\n",
       "      <td>40.0</td>\n",
       "    </tr>\n",
       "    <tr>\n",
       "      <th>6</th>\n",
       "      <td>Показать на главной странице баннеры с актуальными акциями и распродажами, чтобы увеличить конверсию</td>\n",
       "      <td>40.0</td>\n",
       "    </tr>\n",
       "    <tr>\n",
       "      <th>8</th>\n",
       "      <td>Запустить акцию, дающую скидку на товар в день рождения</td>\n",
       "      <td>16.2</td>\n",
       "    </tr>\n",
       "    <tr>\n",
       "      <th>3</th>\n",
       "      <td>Изменить структура категорий, что увеличит конверсию, т.к. пользователи быстрее найдут нужный товар</td>\n",
       "      <td>9.0</td>\n",
       "    </tr>\n",
       "    <tr>\n",
       "      <th>1</th>\n",
       "      <td>Запустить собственную службу доставки, что сократит срок доставки заказов</td>\n",
       "      <td>4.0</td>\n",
       "    </tr>\n",
       "    <tr>\n",
       "      <th>5</th>\n",
       "      <td>Добавить страницу отзывов клиентов о магазине, что позволит увеличить количество заказов</td>\n",
       "      <td>4.0</td>\n",
       "    </tr>\n",
       "    <tr>\n",
       "      <th>4</th>\n",
       "      <td>Изменить цвет фона главной страницы, чтобы увеличить вовлеченность пользователей</td>\n",
       "      <td>3.0</td>\n",
       "    </tr>\n",
       "  </tbody>\n",
       "</table>\n",
       "</div>"
      ],
      "text/plain": [
       "                                                                                                     hypothesis  \\\n",
       "7              Добавить форму подписки на все основные страницы, чтобы собрать базу клиентов для email-рассылок   \n",
       "2  Добавить блоки рекомендаций товаров на сайт интернет магазина, чтобы повысить конверсию и средний чек заказа   \n",
       "0            Добавить два новых канала привлечения трафика, что позволит привлекать на 30% больше пользователей   \n",
       "6          Показать на главной странице баннеры с актуальными акциями и распродажами, чтобы увеличить конверсию   \n",
       "8                                                       Запустить акцию, дающую скидку на товар в день рождения   \n",
       "3           Изменить структура категорий, что увеличит конверсию, т.к. пользователи быстрее найдут нужный товар   \n",
       "1                                     Запустить собственную службу доставки, что сократит срок доставки заказов   \n",
       "5                      Добавить страницу отзывов клиентов о магазине, что позволит увеличить количество заказов   \n",
       "4                              Изменить цвет фона главной страницы, чтобы увеличить вовлеченность пользователей   \n",
       "\n",
       "    rice  \n",
       "7  112.0  \n",
       "2   56.0  \n",
       "0   40.0  \n",
       "6   40.0  \n",
       "8   16.2  \n",
       "3    9.0  \n",
       "1    4.0  \n",
       "5    4.0  \n",
       "4    3.0  "
      ]
     },
     "metadata": {},
     "output_type": "display_data"
    }
   ],
   "source": [
    "# приоритизация по \"rice\"\n",
    "data['rice'] = (data['reach'] * data['impact'] * data['confidence']) / data['efforts']\n",
    "display(data[['hypothesis', 'rice']].sort_values(by='rice', ascending=False))"
   ]
  },
  {
   "cell_type": "code",
   "execution_count": 10,
   "metadata": {},
   "outputs": [
    {
     "data": {
      "text/html": [
       "<div>\n",
       "<style scoped>\n",
       "    .dataframe tbody tr th:only-of-type {\n",
       "        vertical-align: middle;\n",
       "    }\n",
       "\n",
       "    .dataframe tbody tr th {\n",
       "        vertical-align: top;\n",
       "    }\n",
       "\n",
       "    .dataframe thead th {\n",
       "        text-align: right;\n",
       "    }\n",
       "</style>\n",
       "<table border=\"1\" class=\"dataframe\">\n",
       "  <thead>\n",
       "    <tr style=\"text-align: right;\">\n",
       "      <th></th>\n",
       "      <th>hypothesis</th>\n",
       "      <th>ice_rank</th>\n",
       "      <th>rice_rank</th>\n",
       "    </tr>\n",
       "  </thead>\n",
       "  <tbody>\n",
       "    <tr>\n",
       "      <th>7</th>\n",
       "      <td>Добавить форму подписки на все основные страницы, чтобы собрать базу клиентов для email-рассылок</td>\n",
       "      <td>3</td>\n",
       "      <td>1</td>\n",
       "    </tr>\n",
       "    <tr>\n",
       "      <th>2</th>\n",
       "      <td>Добавить блоки рекомендаций товаров на сайт интернет магазина, чтобы повысить конверсию и средний чек заказа</td>\n",
       "      <td>5</td>\n",
       "      <td>2</td>\n",
       "    </tr>\n",
       "    <tr>\n",
       "      <th>0</th>\n",
       "      <td>Добавить два новых канала привлечения трафика, что позволит привлекать на 30% больше пользователей</td>\n",
       "      <td>2</td>\n",
       "      <td>3</td>\n",
       "    </tr>\n",
       "    <tr>\n",
       "      <th>6</th>\n",
       "      <td>Показать на главной странице баннеры с актуальными акциями и распродажами, чтобы увеличить конверсию</td>\n",
       "      <td>4</td>\n",
       "      <td>3</td>\n",
       "    </tr>\n",
       "    <tr>\n",
       "      <th>8</th>\n",
       "      <td>Запустить акцию, дающую скидку на товар в день рождения</td>\n",
       "      <td>1</td>\n",
       "      <td>5</td>\n",
       "    </tr>\n",
       "    <tr>\n",
       "      <th>3</th>\n",
       "      <td>Изменить структура категорий, что увеличит конверсию, т.к. пользователи быстрее найдут нужный товар</td>\n",
       "      <td>8</td>\n",
       "      <td>6</td>\n",
       "    </tr>\n",
       "    <tr>\n",
       "      <th>1</th>\n",
       "      <td>Запустить собственную службу доставки, что сократит срок доставки заказов</td>\n",
       "      <td>6</td>\n",
       "      <td>7</td>\n",
       "    </tr>\n",
       "    <tr>\n",
       "      <th>5</th>\n",
       "      <td>Добавить страницу отзывов клиентов о магазине, что позволит увеличить количество заказов</td>\n",
       "      <td>7</td>\n",
       "      <td>7</td>\n",
       "    </tr>\n",
       "    <tr>\n",
       "      <th>4</th>\n",
       "      <td>Изменить цвет фона главной страницы, чтобы увеличить вовлеченность пользователей</td>\n",
       "      <td>9</td>\n",
       "      <td>9</td>\n",
       "    </tr>\n",
       "  </tbody>\n",
       "</table>\n",
       "</div>"
      ],
      "text/plain": [
       "                                                                                                     hypothesis  \\\n",
       "7              Добавить форму подписки на все основные страницы, чтобы собрать базу клиентов для email-рассылок   \n",
       "2  Добавить блоки рекомендаций товаров на сайт интернет магазина, чтобы повысить конверсию и средний чек заказа   \n",
       "0            Добавить два новых канала привлечения трафика, что позволит привлекать на 30% больше пользователей   \n",
       "6          Показать на главной странице баннеры с актуальными акциями и распродажами, чтобы увеличить конверсию   \n",
       "8                                                       Запустить акцию, дающую скидку на товар в день рождения   \n",
       "3           Изменить структура категорий, что увеличит конверсию, т.к. пользователи быстрее найдут нужный товар   \n",
       "1                                     Запустить собственную службу доставки, что сократит срок доставки заказов   \n",
       "5                      Добавить страницу отзывов клиентов о магазине, что позволит увеличить количество заказов   \n",
       "4                              Изменить цвет фона главной страницы, чтобы увеличить вовлеченность пользователей   \n",
       "\n",
       "   ice_rank  rice_rank  \n",
       "7         3          1  \n",
       "2         5          2  \n",
       "0         2          3  \n",
       "6         4          3  \n",
       "8         1          5  \n",
       "3         8          6  \n",
       "1         6          7  \n",
       "5         7          7  \n",
       "4         9          9  "
      ]
     },
     "execution_count": 10,
     "metadata": {},
     "output_type": "execute_result"
    }
   ],
   "source": [
    "# проранжируем результаты в одной таблице\n",
    "data['ice_rank'] = data['ice'].rank(ascending = False).astype(int)\n",
    "data['rice_rank'] = data['rice'].rank(ascending = False).astype(int)\n",
    "data[['hypothesis', 'ice_rank', 'rice_rank']].sort_values('rice_rank')"
   ]
  },
  {
   "cell_type": "markdown",
   "metadata": {},
   "source": [
    "## Промежуточный вывод\n",
    "С учетом охвата аудитории, гипотеза под номером 7 переместилась на первоем место по важности, а 8 гипотеза, которая являлась наиболее приоритетной с точки зрения `ice`, сместилась на пятую позицию в расчете `rice`. Это произошло из-за очень малого количества пользователей, которых затронет это изменение. В то время как у 7 гипотезы параметр *reach* составил 10 баллов, у гипотезы под номером 8 всего 1 балл.</br>\n",
    "Таким образом, с учётом охвата изменений, наиболее приоритетной гипотезой станет гипотеза под номером 7."
   ]
  },
  {
   "cell_type": "markdown",
   "metadata": {},
   "source": [
    "# Анализ А/В-теста"
   ]
  },
  {
   "cell_type": "code",
   "execution_count": 11,
   "metadata": {},
   "outputs": [
    {
     "data": {
      "text/plain": [
       "False    468\n",
       "True      89\n",
       "Name: visitor_id, dtype: int64"
      ]
     },
     "execution_count": 11,
     "metadata": {},
     "output_type": "execute_result"
    }
   ],
   "source": [
    "# проверка на корректность разбиения пользователей на группы\n",
    "re = orders[orders['group'] == 'A']['visitor_id'].isin(orders[orders['group'] == 'B']['visitor_id'])\n",
    "re.value_counts()"
   ]
  },
  {
   "cell_type": "code",
   "execution_count": 12,
   "metadata": {},
   "outputs": [
    {
     "name": "stdout",
     "output_type": "stream",
     "text": [
      "False    468\n",
      "Name: visitor_id, dtype: int64\n"
     ]
    }
   ],
   "source": [
    "# удаление пользователей, попавших в обе группы\n",
    "bad_ids = orders[orders['group'] == 'A'][re]['visitor_id']\n",
    "orders = orders[~orders['visitor_id'].isin(bad_ids)]\n",
    "\n",
    "print(\n",
    "    (orders[orders['group'] == 'A']['visitor_id'].isin(\n",
    "        orders[orders['group'] == 'B']['visitor_id'])\n",
    "    ).value_counts()\n",
    ")"
   ]
  },
  {
   "cell_type": "markdown",
   "metadata": {},
   "source": [
    "Проверим размеры выборок и количество покупок для групп А и В."
   ]
  },
  {
   "cell_type": "code",
   "execution_count": 13,
   "metadata": {
    "scrolled": true
   },
   "outputs": [
    {
     "name": "stdout",
     "output_type": "stream",
     "text": [
      "Кол-во посетителей в группе А: 18736\n",
      "Кол-во посетителей в группе В: 18916\n",
      "Кол-во покупателей в группе А: 468\n",
      "Кол-во покупателей в группе В: 548\n",
      "\n",
      "P-value: 0.73\n",
      "Разница в кол-ве посетителей в группах A и B статистически не значима.\n"
     ]
    }
   ],
   "source": [
    "# проверка количества посетителей\n",
    "print('Кол-во посетителей в группе А: {}\\n'\n",
    "      'Кол-во посетителей в группе В: {}'.format(visitors[visitors['group'] == 'A']['visitors'].sum(), \n",
    "                                                 visitors[visitors['group'] == 'B']['visitors'].sum()\n",
    "                                                )\n",
    ")\n",
    "\n",
    "# проверка количества покупателей\n",
    "print('Кол-во покупателей в группе А: {}\\n'\n",
    "      'Кол-во покупателей в группе В: {}'.format(len(orders[orders['group'] == 'A']),\n",
    "                                                 len(orders[orders['group'] == 'B'])\n",
    "                                                )\n",
    ")\n",
    "\n",
    "# проверка размера выборки с посетителями на статистическую значимость\n",
    "alpha = 0.05\n",
    "\n",
    "results = st.mannwhitneyu(visitors[visitors['group']=='A']['visitors'], visitors[visitors['group']=='B']['visitors'])\n",
    "\n",
    "print('\\nP-value: {:.2f}'.format(results.pvalue))\n",
    "\n",
    "if results.pvalue < alpha:\n",
    "    print('Разница в кол-ве посетителей в группах A и B статистически значима.')\n",
    "else:\n",
    "    print('Разница в кол-ве посетителей в группах A и B статистически не значима.')"
   ]
  },
  {
   "cell_type": "code",
   "execution_count": 14,
   "metadata": {},
   "outputs": [
    {
     "name": "stdout",
     "output_type": "stream",
     "text": [
      "Конверсия до внесения изменений: 0.025\n",
      "Конверсия после внесения изменений: 0.029\n",
      "Относительное изменение конверсии после изменений: 0.16\n",
      "Общее кол-во посетителей: 37652\n"
     ]
    }
   ],
   "source": [
    "# расчет конверсии двух выборок\n",
    "initial_conversion = len(orders[orders['group'] == 'A']) / visitors[visitors['group'] == 'A']['visitors'].sum()\n",
    "resulting_conversion = len(orders[orders['group'] == 'B']) / visitors[visitors['group'] == 'B']['visitors'].sum()\n",
    "\n",
    "print('Конверсия до внесения изменений: {:.3f}'.format(initial_conversion))\n",
    "print('Конверсия после внесения изменений: {:.3f}'.format(resulting_conversion))\n",
    "print('Относительное изменение конверсии после изменений: {:.2f}'.format(abs(resulting_conversion/initial_conversion - 1)))\n",
    "print('Общее кол-во посетителей:', visitors['visitors'].sum())"
   ]
  },
  {
   "cell_type": "markdown",
   "metadata": {},
   "source": [
    "Рассчитаем минимально необходимый объём выборки, на которой будет заметно изменение показателя, если оно есть. В расчетах используем калькулятор https://www.evanmiller.org/ab-testing/sample-size.html. За основу расчетов возьмем относительное различие между группами теста в 16%, базовую конверсию 2.5%, мощность теста 80% и уровень значимости 5%. С учётом перечисленных параметров, минимальный размер выборки должен составлять 24465. В исходных данных размер выборки составляет 37652. Это означает, что выборка представлена в достаточном объёме и можно производить расчеты."
   ]
  },
  {
   "cell_type": "code",
   "execution_count": 15,
   "metadata": {},
   "outputs": [
    {
     "data": {
      "text/html": [
       "<div>\n",
       "<style scoped>\n",
       "    .dataframe tbody tr th:only-of-type {\n",
       "        vertical-align: middle;\n",
       "    }\n",
       "\n",
       "    .dataframe tbody tr th {\n",
       "        vertical-align: top;\n",
       "    }\n",
       "\n",
       "    .dataframe thead th {\n",
       "        text-align: right;\n",
       "    }\n",
       "</style>\n",
       "<table border=\"1\" class=\"dataframe\">\n",
       "  <thead>\n",
       "    <tr style=\"text-align: right;\">\n",
       "      <th></th>\n",
       "      <th>date</th>\n",
       "      <th>group</th>\n",
       "      <th>orders</th>\n",
       "      <th>buyers</th>\n",
       "      <th>revenue</th>\n",
       "      <th>visitors</th>\n",
       "    </tr>\n",
       "  </thead>\n",
       "  <tbody>\n",
       "    <tr>\n",
       "      <th>0</th>\n",
       "      <td>2019-08-01</td>\n",
       "      <td>A</td>\n",
       "      <td>23</td>\n",
       "      <td>19</td>\n",
       "      <td>142779</td>\n",
       "      <td>719</td>\n",
       "    </tr>\n",
       "    <tr>\n",
       "      <th>1</th>\n",
       "      <td>2019-08-01</td>\n",
       "      <td>B</td>\n",
       "      <td>17</td>\n",
       "      <td>17</td>\n",
       "      <td>59758</td>\n",
       "      <td>713</td>\n",
       "    </tr>\n",
       "    <tr>\n",
       "      <th>2</th>\n",
       "      <td>2019-08-02</td>\n",
       "      <td>A</td>\n",
       "      <td>42</td>\n",
       "      <td>36</td>\n",
       "      <td>234381</td>\n",
       "      <td>1338</td>\n",
       "    </tr>\n",
       "    <tr>\n",
       "      <th>3</th>\n",
       "      <td>2019-08-02</td>\n",
       "      <td>B</td>\n",
       "      <td>40</td>\n",
       "      <td>39</td>\n",
       "      <td>221801</td>\n",
       "      <td>1294</td>\n",
       "    </tr>\n",
       "    <tr>\n",
       "      <th>4</th>\n",
       "      <td>2019-08-03</td>\n",
       "      <td>A</td>\n",
       "      <td>66</td>\n",
       "      <td>60</td>\n",
       "      <td>346854</td>\n",
       "      <td>1845</td>\n",
       "    </tr>\n",
       "  </tbody>\n",
       "</table>\n",
       "</div>"
      ],
      "text/plain": [
       "        date group  orders  buyers  revenue  visitors\n",
       "0 2019-08-01     A      23      19   142779       719\n",
       "1 2019-08-01     B      17      17    59758       713\n",
       "2 2019-08-02     A      42      36   234381      1338\n",
       "3 2019-08-02     B      40      39   221801      1294\n",
       "4 2019-08-03     A      66      60   346854      1845"
      ]
     },
     "metadata": {},
     "output_type": "display_data"
    }
   ],
   "source": [
    "# создаем массив уникальных пар значений дат и групп теста\n",
    "datesGroups = orders[['date','group']].drop_duplicates()\n",
    "\n",
    "# получаем агрегированные кумулятивные по дням данные о заказах\n",
    "ordersAggregated = datesGroups.apply(\n",
    "    lambda x: orders[\n",
    "              np.logical_and(\n",
    "              orders['date'] <= x['date'], orders['group'] == x['group'])\n",
    "                    ].agg(\n",
    "                    {\n",
    "                        'date': 'max',\n",
    "                        'group': 'max',\n",
    "                        'transaction_id': 'nunique',\n",
    "                        'visitor_id': 'nunique',\n",
    "                        'revenue': 'sum',\n",
    "                    }\n",
    "                    ),\n",
    "                    axis=1,\n",
    ").sort_values(by=['date', 'group'])\n",
    "\n",
    "# получаем агрегированные кумулятивные по дням данные о посетителях интернет-магазина \n",
    "visitorsAggregated = datesGroups.apply(\n",
    "    lambda x: visitors[\n",
    "              np.logical_and(\n",
    "              visitors['date'] <= x['date'], visitors['group'] == x['group'])\n",
    "                      ].agg(\n",
    "                      {\n",
    "                          'date': 'max', \n",
    "                          'group': 'max', \n",
    "                          'visitors': 'sum',\n",
    "                      }\n",
    "                      ),\n",
    "                      axis=1,\n",
    ").sort_values(by=['date', 'group'])\n",
    "\n",
    "# объединяем кумулятивные данные в одной таблице и присваиваем ее столбцам понятные названия\n",
    "cumulativeData = ordersAggregated.merge(\n",
    "    visitorsAggregated, left_on=['date', 'group'], right_on=['date', 'group']\n",
    ")\n",
    "cumulativeData.columns = [\n",
    "    'date',\n",
    "    'group',\n",
    "    'orders',\n",
    "    'buyers',\n",
    "    'revenue',\n",
    "    'visitors',\n",
    "]\n",
    "\n",
    "display(cumulativeData.head(5))"
   ]
  },
  {
   "cell_type": "code",
   "execution_count": 16,
   "metadata": {},
   "outputs": [
    {
     "data": {
      "image/png": "[encoded data removed]",
      "text/plain": [
       "<Figure size 864x576 with 1 Axes>"
      ]
     },
     "metadata": {
      "needs_background": "light"
     },
     "output_type": "display_data"
    }
   ],
   "source": [
    "# датафрейм с кумулятивным количеством заказов и кумулятивной выручкой по дням в группе А\n",
    "cumulativeRevenueA = cumulativeData[cumulativeData['group']=='A'][['date','revenue', 'orders']]\n",
    "\n",
    "# датафрейм с кумулятивным количеством заказов и кумулятивной выручкой по дням в группе B\n",
    "cumulativeRevenueB = cumulativeData[cumulativeData['group']=='B'][['date','revenue', 'orders']]\n",
    "\n",
    "plt.figure(figsize=(12, 8))\n",
    "\n",
    "# Строим график выручки группы А\n",
    "plt.plot(cumulativeRevenueA['date'], cumulativeRevenueA['revenue'], label='A', color='r')\n",
    "\n",
    "# Строим график выручки группы B\n",
    "plt.plot(cumulativeRevenueB['date'], cumulativeRevenueB['revenue'], label='B', color='g')\n",
    "\n",
    "plt.legend()\n",
    "plt.xlabel('Дата', fontsize=14)\n",
    "plt.ylabel('Кумулятивная выручка', fontsize=14)\n",
    "plt.title('Распределение кумулятивной выручки по группам А и В во времени', fontsize=16)\n",
    "plt.show()"
   ]
  },
  {
   "cell_type": "markdown",
   "metadata": {},
   "source": [
    "График равномерно увеличивается в течении всего теста, что является позитивным сигналом. Выручка группы В стабильно выше выручки группы А, однако график группы В имеет резкий рост в районе 18 августа 2019 года. Это может сигнализировать о всплеске числа заказов, либо о появлении очень дорогих заказов в выборке.\n",
    "\n",
    "Построим графики среднего чека по группам — разделим кумулятивную выручку на кумулятивное число заказов."
   ]
  },
  {
   "cell_type": "code",
   "execution_count": 17,
   "metadata": {},
   "outputs": [
    {
     "data": {
      "image/png": "[encoded data removed]",
      "text/plain": [
       "<Figure size 864x576 with 1 Axes>"
      ]
     },
     "metadata": {
      "needs_background": "light"
     },
     "output_type": "display_data"
    }
   ],
   "source": [
    "plt.figure(figsize=(12, 8))\n",
    "\n",
    "# Строим график среднего чека группы А\n",
    "plt.plot(cumulativeRevenueA['date'], cumulativeRevenueA['revenue']/cumulativeRevenueA['orders'], label='A', color='r')\n",
    "\n",
    "# Строим график среднего чека группы В\n",
    "plt.plot(cumulativeRevenueB['date'], cumulativeRevenueB['revenue']/cumulativeRevenueB['orders'], label='B', color='g')\n",
    "\n",
    "plt.legend()\n",
    "plt.xlabel('Дата', fontsize=14)\n",
    "plt.ylabel('Кумулятивный средний чек', fontsize=14)\n",
    "plt.title('Распределение кумулятивного среднего чека по группам А и В во времени', fontsize=16)\n",
    "plt.show()"
   ]
  },
  {
   "cell_type": "markdown",
   "metadata": {},
   "source": [
    "Кумулятивное значение среднего чека по сегментам имеет сильные колебания. В группе В всё также выделяется резкий рост показателя в районе 18 августа 2019 года, что может быть связано с крупным заказом. На данный момент принимать решение по этой метрике рано. Требуется дополнительный анализ выбросов, которые так сильно искажают результаты. \n",
    "\n",
    "Построим график относительного различия для среднего чека. Добавим горизонтальную ось методом **axhline()**."
   ]
  },
  {
   "cell_type": "code",
   "execution_count": 18,
   "metadata": {},
   "outputs": [
    {
     "data": {
      "image/png": "[encoded data removed]",
      "text/plain": [
       "<Figure size 864x576 with 1 Axes>"
      ]
     },
     "metadata": {
      "needs_background": "light"
     },
     "output_type": "display_data"
    }
   ],
   "source": [
    "# собираем данные в одном датафрейме\n",
    "mergedCumulativeRevenue = cumulativeRevenueA.merge(\n",
    "    cumulativeRevenueB, left_on='date', right_on='date', how='left', suffixes=['A', 'B'])\n",
    "\n",
    "plt.figure(figsize=(12, 8))\n",
    "\n",
    "# cтроим отношение средних чеков\n",
    "plt.plot(\n",
    "    mergedCumulativeRevenue['date'], \n",
    "    (\n",
    "        mergedCumulativeRevenue['revenueB'] / mergedCumulativeRevenue['ordersB']\n",
    "    )/\n",
    "    (\n",
    "        mergedCumulativeRevenue['revenueA'] / mergedCumulativeRevenue['ordersA']\n",
    "    )-1, color = 'c'\n",
    ")\n",
    "\n",
    "# добавим ось X\n",
    "plt.axhline(y = 0, color='gray', linestyle='--') \n",
    "\n",
    "plt.xlabel('Дата', fontsize=14)\n",
    "plt.title('График относительного различия кумулятивного среднего чека группы B к группе A во времени', fontsize=15)\n",
    "\n",
    "plt.show()"
   ]
  },
  {
   "cell_type": "markdown",
   "metadata": {},
   "source": [
    "В нескольких точках график относительного различия между сегментами значительно и резко изменялся. Видимо, именно тогда были совершены аномальные заказы.\n",
    "\n",
    "Аналогично проанализируем график кумулятивной конверсии. Зададим масштаб осей методом **plt.axis()**."
   ]
  },
  {
   "cell_type": "code",
   "execution_count": 19,
   "metadata": {},
   "outputs": [
    {
     "data": {
      "image/png": "[encoded data removed]",
      "text/plain": [
       "<Figure size 864x576 with 1 Axes>"
      ]
     },
     "metadata": {
      "needs_background": "light"
     },
     "output_type": "display_data"
    }
   ],
   "source": [
    "# считаем кумулятивную конверсию\n",
    "cumulativeData['conversion'] = cumulativeData['orders'] / cumulativeData['visitors']\n",
    "\n",
    "# отделяем данные по группе A\n",
    "cumulativeDataA = cumulativeData[cumulativeData['group']=='A']\n",
    "\n",
    "# отделяем данные по группе B\n",
    "cumulativeDataB = cumulativeData[cumulativeData['group']=='B']\n",
    "\n",
    "plt.figure(figsize=(12, 8))\n",
    "\n",
    "# строим графики\n",
    "plt.plot(cumulativeDataA['date'], cumulativeDataA['conversion'], label='A', color = 'r')\n",
    "plt.plot(cumulativeDataB['date'], cumulativeDataB['conversion'], label='B', color = 'g')\n",
    "\n",
    "plt.legend()\n",
    "plt.xlabel('Дата', fontsize=14)\n",
    "plt.ylabel('Куммулятивная конверсия', fontsize=14)\n",
    "plt.title('Динамика куммулятивной конверсии по группам во времени', fontsize=15)\n",
    "\n",
    "# задаем масштаб осей\n",
    "plt.axis([cumulativeData['date'].min(), cumulativeData['date'].max(), 0, 0.06])\n",
    "\n",
    "plt.show()"
   ]
  },
  {
   "cell_type": "markdown",
   "metadata": {},
   "source": [
    "В начале теста сегмент А имел большую конверсию, но постепенно сегмент В выровнялся и зафиксировался примерно около одного значения, больше значения сегмента А. В данном случае был изменен масштаб графика, чтобы убрать колебания и установить конверсию около своего среднего значения.\n",
    "\n",
    "Построим график относительного различия кумулятивных конверсий."
   ]
  },
  {
   "cell_type": "code",
   "execution_count": 20,
   "metadata": {},
   "outputs": [
    {
     "data": {
      "image/png": "[encoded data removed]",
      "text/plain": [
       "<Figure size 864x576 with 1 Axes>"
      ]
     },
     "metadata": {
      "needs_background": "light"
     },
     "output_type": "display_data"
    }
   ],
   "source": [
    "# собираем данные в один датафрейм\n",
    "mergedCumulativeConversions = cumulativeDataA[['date','conversion']].merge(\n",
    "    cumulativeDataB[['date','conversion']], left_on='date', right_on='date', how='left', suffixes=['A', 'B'])\n",
    "\n",
    "plt.figure(figsize=(12, 8))\n",
    "\n",
    "plt.plot(\n",
    "    mergedCumulativeConversions['date'], \n",
    "    mergedCumulativeConversions['conversionB'] / mergedCumulativeConversions['conversionA'] - 1, color = 'c'\n",
    ")\n",
    "\n",
    "plt.xlabel('Дата', fontsize=14)\n",
    "plt.title('График относительного различия конверсии группы B к группе A во времени', fontsize=15)\n",
    "\n",
    "plt.axhline(y = 0, color='gray', linestyle='--')\n",
    "plt.axis([mergedCumulativeConversions['date'].min(), mergedCumulativeConversions['date'].max(), -0.5, 0.5])\n",
    "\n",
    "plt.show()"
   ]
  },
  {
   "cell_type": "markdown",
   "metadata": {},
   "source": [
    "Почти с самого начала теста группа В лидирует по конверсии в среднем на 16% относительно группы А. Однако сейчас делать какие-либо выводы по тесту нельзя, так как сперва нужно проанализировать аномалии, возможно, они изменят картину."
   ]
  },
  {
   "cell_type": "code",
   "execution_count": 21,
   "metadata": {},
   "outputs": [
    {
     "data": {
      "image/png": "[encoded data removed]",
      "text/plain": [
       "<Figure size 864x576 with 1 Axes>"
      ]
     },
     "metadata": {
      "needs_background": "light"
     },
     "output_type": "display_data"
    }
   ],
   "source": [
    "# таблица с числом заказов по пользователям\n",
    "ordersByUsers = (\n",
    "    orders.groupby('visitor_id', as_index = False)\n",
    "    .agg({'transaction_id':'nunique'})\n",
    ")\n",
    "ordersByUsers.columns = ['visitor_id', 'orders']\n",
    "\n",
    "# серия из чисел от 0 до количества наблюдений в ordersByUsers\n",
    "x_values = pd.Series(range(0, len(ordersByUsers)))\n",
    "\n",
    "plt.figure(figsize=(12, 8))\n",
    "sns.scatterplot(x = x_values, y = ordersByUsers['orders'], alpha = 0.7)\n",
    "plt.xlabel('Кол-во пользователей', fontsize=14)\n",
    "plt.ylabel('Кол-во заказов', fontsize=14)\n",
    "plt.title('Точечный график количества заказов по пользователям', fontsize=15)\n",
    "\n",
    "plt.show()"
   ]
  },
  {
   "cell_type": "markdown",
   "metadata": {},
   "source": [
    "Пользователей, заказавших более 2-х раз совсем мало. Они вполне могут быть аномальными. Для этого посчитаем выборочные перцентили количества заказов по пользователям."
   ]
  },
  {
   "cell_type": "code",
   "execution_count": 22,
   "metadata": {},
   "outputs": [
    {
     "name": "stdout",
     "output_type": "stream",
     "text": [
      "[1. 2.]\n"
     ]
    }
   ],
   "source": [
    "print(np.percentile(ordersByUsers['orders'], [95, 99]))"
   ]
  },
  {
   "cell_type": "markdown",
   "metadata": {},
   "source": [
    "Не более 5% пользователей совершали больше одного заказа. И не более 1% пользователей - больше двух заказов. За нижнюю границу количества заказов примем 99-й перцентиль или до 2-х заказов, и отсеим пользователей по ней."
   ]
  },
  {
   "cell_type": "code",
   "execution_count": 23,
   "metadata": {},
   "outputs": [],
   "source": [
    "# лимит на кол-во заказов\n",
    "order_limit = 2"
   ]
  },
  {
   "cell_type": "code",
   "execution_count": 24,
   "metadata": {},
   "outputs": [
    {
     "data": {
      "image/png": "[encoded data removed]",
      "text/plain": [
       "<Figure size 864x576 with 1 Axes>"
      ]
     },
     "metadata": {
      "needs_background": "light"
     },
     "output_type": "display_data"
    }
   ],
   "source": [
    "# точечный график стоимости заказов\n",
    "x_values = pd.Series(range(0, len(orders['revenue'])))\n",
    "\n",
    "plt.figure(figsize=(12, 8))\n",
    "sns.scatterplot(x = x_values, y = orders['revenue'], alpha = 0.7)\n",
    "plt.xlabel('Кол-во пользователей', fontsize = 14)\n",
    "plt.ylabel('Стоимость заказов', fontsize = 14)\n",
    "plt.title('Точечный график стоимости заказов по пользователям', fontsize = 15)\n",
    "\n",
    "plt.show()"
   ]
  },
  {
   "cell_type": "markdown",
   "metadata": {},
   "source": [
    "Есть несколько дорогих заказов, особенно вызывает подозрение заказ стоимостью более 1.2 млн. у.е. Найдем выборочные перцентили стоимости заказов."
   ]
  },
  {
   "cell_type": "code",
   "execution_count": 25,
   "metadata": {},
   "outputs": [
    {
     "name": "stdout",
     "output_type": "stream",
     "text": [
      "[26785. 53904.]\n"
     ]
    }
   ],
   "source": [
    "print(np.percentile(orders['revenue'], [95, 99]))"
   ]
  },
  {
   "cell_type": "markdown",
   "metadata": {},
   "source": [
    "Не более чем у 5% заказов чек дороже 26.8 тыс. у.е. И не больше, чем у 1% заказов - дороже 53.9 тыс. у.е. В качестве нижней границы также возьмем 99-й перцентиль или чек до 53.9 тыс. у.е. "
   ]
  },
  {
   "cell_type": "code",
   "execution_count": 26,
   "metadata": {},
   "outputs": [],
   "source": [
    "# лимит на сумму покупки\n",
    "revenue_limit = 53904"
   ]
  },
  {
   "cell_type": "markdown",
   "metadata": {},
   "source": [
    "Для рассчетов статистической значимости используем критерий Манна-Уитни, поскольку в данных присутствуют выбросы, сдвигающие параметрические результаты. В качестве нулевой гипотезы (Но) примем отсутствие различий между группами, соответственно альтернативная гипотеза (Н1) будет подразумевать наличие статистически значимых различий. Уровень статистической значимости примем за 5%."
   ]
  },
  {
   "cell_type": "code",
   "execution_count": 27,
   "metadata": {},
   "outputs": [
    {
     "name": "stdout",
     "output_type": "stream",
     "text": [
      "P-value: 0.011\n",
      "Отвергаем нулевую гипотезу. По \"сырым\" данным в конверсии групп A и B разница статистически значима.\n",
      "\n",
      "Относительный прирост конверсии группы B по отношению к группе A: 0.160\n"
     ]
    }
   ],
   "source": [
    "# расчет стат.значимости различий в конверсии между группами по \"сырым\" данным\n",
    "ordersByUsersA = (\n",
    "    orders[orders['group'] == 'A']\n",
    "    .groupby('visitor_id', as_index=False)\n",
    "    .agg({'transaction_id': pd.Series.nunique})\n",
    ")\n",
    "ordersByUsersA.columns = ['visitor_id', 'orders']\n",
    "\n",
    "ordersByUsersB = (\n",
    "    orders[orders['group'] == 'B']\n",
    "    .groupby('visitor_id', as_index=False)\n",
    "    .agg({'transaction_id': pd.Series.nunique})\n",
    ")\n",
    "ordersByUsersB.columns = ['visitor_id', 'orders']\n",
    "\n",
    "sampleA = pd.concat(\n",
    "    [\n",
    "        ordersByUsersA['orders'],\n",
    "        pd.Series(\n",
    "            0,\n",
    "            index=np.arange(\n",
    "                visitors[visitors['group'] == 'A']['visitors'].sum() - len(ordersByUsersA)\n",
    "            ),\n",
    "            name='orders',\n",
    "        ),\n",
    "    ],\n",
    "    axis=0,\n",
    ")\n",
    "\n",
    "sampleB = pd.concat(\n",
    "    [\n",
    "        ordersByUsersB['orders'],\n",
    "        pd.Series(\n",
    "            0,\n",
    "            index=np.arange(\n",
    "                visitors[visitors['group'] == 'B']['visitors'].sum() - len(ordersByUsersB)\n",
    "            ),\n",
    "            name='orders',\n",
    "        ),\n",
    "    ],\n",
    "    axis=0,\n",
    ")\n",
    "\n",
    "results = st.mannwhitneyu(sampleA, sampleB)\n",
    "print('P-value: {:.3f}'.format(results.pvalue))\n",
    "\n",
    "if results.pvalue < alpha:\n",
    "    print('Отвергаем нулевую гипотезу. По \"сырым\" данным в конверсии групп A и B разница статистически значима.')\n",
    "else:\n",
    "    print('Не отвергаем нулевую гипотезу. По \"сырым\" данным разницы в конверсии групп A и B нет.')\n",
    "\n",
    "print('\\nОтносительный прирост конверсии группы B по отношению к группе A: {:.3f}'.format(sampleB.mean() / sampleA.mean() - 1))    "
   ]
  },
  {
   "cell_type": "markdown",
   "metadata": {},
   "source": [
    "Посчитаем статистическую значимость различий в среднем чеке заказа между группами по «сырым» данным.\n",
    "\n",
    "Сформулируем гипотезы:\n",
    "\n",
    "Н0 - различий в среднем чеке между группами по «сырым» данным нет\n",
    "\n",
    "Н1 - различия в среднем чеке между группами по «сырым» данным есть\n",
    "\n",
    "Пороговое значение alpha примем за 5%"
   ]
  },
  {
   "cell_type": "code",
   "execution_count": 28,
   "metadata": {},
   "outputs": [
    {
     "name": "stdout",
     "output_type": "stream",
     "text": [
      "P-value: 0.829\n",
      "Не отвергаем нулевую гипотезу. Наблюдаемое различие среднего чека группы B по отношению к группе A в 28.7% не является статистически значимым.\n"
     ]
    }
   ],
   "source": [
    "# расчет стат.значимости различий в среднем чеке между группами по \"сырым\" данным\n",
    "results = st.mannwhitneyu(orders[orders['group'] == 'A']['revenue'], orders[orders['group'] == 'B']['revenue'])\n",
    "print('P-value: {:.3f}'.format(results.pvalue))\n",
    "\n",
    "if results.pvalue < alpha:\n",
    "    print('Отвергаем нулевую гипотезу. Наблюдаемое различие среднего чека группы B по отношению к группе A в {:.1%} является статистически значимым.'.format(\n",
    "    orders[orders['group'] == 'B']['revenue'].mean() / orders[orders['group'] == 'A']['revenue'].mean() - 1))\n",
    "else:\n",
    "    print('Не отвергаем нулевую гипотезу. Наблюдаемое различие среднего чека группы B по отношению к группе A в {:.1%} не является статистически значимым.'.format(\n",
    "    orders[orders['group'] == 'B']['revenue'].mean() / orders[orders['group'] == 'A']['revenue'].mean() - 1))"
   ]
  },
  {
   "cell_type": "markdown",
   "metadata": {},
   "source": [
    "Посчитаем статистическую значимость различий в конверсии между группами по «очищенным» данным.\n",
    "\n",
    "Сформулируем гипотезы:\n",
    "\n",
    "Н0 - различий в конверсиях между группами по «очищенным» данным нет\n",
    "\n",
    "Н1 - различия в конверсиях между группами по «очищенным» данным есть\n",
    "\n",
    "Пороговое значение alpha примем за 5%"
   ]
  },
  {
   "cell_type": "code",
   "execution_count": 29,
   "metadata": {},
   "outputs": [
    {
     "name": "stdout",
     "output_type": "stream",
     "text": [
      "Кол-во аномальных пользователей - 16\n"
     ]
    }
   ],
   "source": [
    "# найдем кол-во аномальных пользователей\n",
    "usersWithManyOrders = pd.concat(\n",
    "    [\n",
    "        ordersByUsersA[ordersByUsersA['orders'] > order_limit]['visitor_id'],\n",
    "        ordersByUsersB[ordersByUsersB['orders'] > order_limit]['visitor_id'],\n",
    "    ],\n",
    "    axis=0,\n",
    ")\n",
    "usersWithExpensiveOrders = orders[orders['revenue'] > revenue_limit]['visitor_id']\n",
    "abnormalUsers = (\n",
    "    pd.concat([usersWithManyOrders, usersWithExpensiveOrders], axis=0)\n",
    "    .drop_duplicates()\n",
    "    .sort_values()\n",
    ")\n",
    "print('Кол-во аномальных пользователей -', abnormalUsers.count())"
   ]
  },
  {
   "cell_type": "code",
   "execution_count": 30,
   "metadata": {},
   "outputs": [
    {
     "name": "stdout",
     "output_type": "stream",
     "text": [
      "P-value: 0.007\n",
      "Отвергаем нулевую гипотезу. По \"очищенным\" данным в конверсии групп A и B разница статистически значима.\n",
      "\n",
      "Относительный прирост конверсии группы B по отношению к группе A: 0.189\n"
     ]
    }
   ],
   "source": [
    "# расчет стат.значимости различий в конверсии между группами по \"очищенным\" данным\n",
    "sampleAFiltered = pd.concat(\n",
    "    [\n",
    "        ordersByUsersA[\n",
    "            np.logical_not(ordersByUsersA['visitor_id'].isin(abnormalUsers))\n",
    "        ]['orders'],\n",
    "        pd.Series(\n",
    "            0,\n",
    "            index=np.arange(\n",
    "                visitors[visitors['group'] == 'A']['visitors'].sum() - len(ordersByUsersA)\n",
    "            ),\n",
    "            name='orders',\n",
    "        ),\n",
    "    ],\n",
    "    axis=0,\n",
    ")\n",
    "\n",
    "sampleBFiltered = pd.concat(\n",
    "    [\n",
    "        ordersByUsersB[\n",
    "            np.logical_not(ordersByUsersB['visitor_id'].isin(abnormalUsers))\n",
    "        ]['orders'],\n",
    "        pd.Series(\n",
    "            0,\n",
    "            index=np.arange(\n",
    "                visitors[visitors['group'] == 'B']['visitors'].sum() - len(ordersByUsersB)\n",
    "            ),\n",
    "            name='orders',\n",
    "        ),\n",
    "    ],\n",
    "    axis=0,\n",
    ")\n",
    "\n",
    "results = st.mannwhitneyu(sampleAFiltered, sampleBFiltered)\n",
    "print('P-value: {:.3f}'.format(results.pvalue))\n",
    "\n",
    "if results.pvalue < alpha:\n",
    "    print('Отвергаем нулевую гипотезу. По \"очищенным\" данным в конверсии групп A и B разница статистически значима.')\n",
    "else:\n",
    "    print('Не отвергаем нулевую гипотезу. По \"очищенным\" данным разницы в конверсии групп A и B нет.')\n",
    "\n",
    "print('\\nОтносительный прирост конверсии группы B по отношению к группе A: {:.3f}'.format(\n",
    "    sampleBFiltered.mean() / sampleAFiltered.mean() - 1)\n",
    ")    "
   ]
  },
  {
   "cell_type": "markdown",
   "metadata": {},
   "source": [
    "Посчитаем статистическую значимость различий в среднем чеке заказа между группами по «очищенным» данным.\n",
    "\n",
    "Сформулируем гипотезы:\n",
    "\n",
    "Н0 - различий в среднем чеке между группами по «очищенным» данным нет\n",
    "\n",
    "Н1 - различия в среднем чеке между группами по «очищенным» данным есть\n",
    "\n",
    "Пороговое значение alpha примем за 5%"
   ]
  },
  {
   "cell_type": "code",
   "execution_count": 31,
   "metadata": {},
   "outputs": [
    {
     "name": "stdout",
     "output_type": "stream",
     "text": [
      "P-value: 0.788\n",
      "Не отвергаем нулевую гипотезу. По \"очищенным\" данным различий в средних чеках между группами А и В нет.\n",
      "\n",
      "Относительный прирост среднего чека группы B по отношению к группе A: -0.032\n"
     ]
    }
   ],
   "source": [
    "# расчет стат.значимости различий в среднем чеке между группами по \"очищенным\" данным \n",
    "results = st.mannwhitneyu(\n",
    "            orders[np.logical_and(orders['group'] == 'A', np.logical_not(orders['visitor_id'].isin(abnormalUsers)))]['revenue'],\n",
    "            orders[np.logical_and(orders['group'] == 'B', np.logical_not(orders['visitor_id'].isin(abnormalUsers)))]['revenue'],\n",
    ")\n",
    "\n",
    "print('P-value: {:.3f}'.format(results.pvalue))  \n",
    "\n",
    "if results.pvalue < alpha:\n",
    "    print('Отвергаем нулевую гипотезу. По \"очищенным\" данным разница в средних чеках между группами А и В статистически значима.')\n",
    "else:\n",
    "    print('Не отвергаем нулевую гипотезу. По \"очищенным\" данным различий в средних чеках между группами А и В нет.')\n",
    "\n",
    "\n",
    "print(\n",
    "    '\\nОтносительный прирост среднего чека группы B по отношению к группе A: {:.3f}'.format(\n",
    "        orders[\n",
    "            np.logical_and(\n",
    "                orders['group'] == 'B',\n",
    "                np.logical_not(orders['visitor_id'].isin(abnormalUsers)),\n",
    "            )\n",
    "        ]['revenue'].mean()\n",
    "        / orders[\n",
    "            np.logical_and(\n",
    "                orders['group'] == 'A',\n",
    "                np.logical_not(orders['visitor_id'].isin(abnormalUsers)),\n",
    "            )\n",
    "        ]['revenue'].mean()\n",
    "        -1\n",
    "    )\n",
    ")"
   ]
  },
  {
   "cell_type": "markdown",
   "metadata": {},
   "source": [
    "# Вывод\n",
    "\n",
    "В текущем проекте были рассмотрены 9 гипотез интернет-магазина и выполнена их приоритизация двумя разными методами: RICE и ICE. По методу ICE наиболее приоритетная гипотеза №8 - запустить акцию, дающую скидку на товар в день рождения. По методу RICE - №7 - добавить форму подписки на все основные страницы, чтобы собрать базу клиентов для email-рассылок. Основное отличие данных методов в том, что RICE берет в расчет количество пользователей, которых затронет это изменение. \n",
    "\n",
    "На основе анализа кумулятивных метрик были сделаны следущие выводы:\n",
    "1. Кумулятивная выручка группы В стабильно выше группы А как по \"сырым\", так и по \"очищенным\" данным;\n",
    "2. Кумулятивная конверсия сегмента В выше сегмента А.\n",
    "\n",
    "На основе А/Б-теста по \"сырым\" и \"очищенным\" данным были сделаны следующие выводы:\n",
    "1. Есть статистически значимое различие в конверсии между группами как по \"сырым\" данным, так и после фильтрации аномалий;\n",
    "2. Статистически значимого различия по среднему чеку не обнаружено.\n",
    "\n",
    "На основании проведенного A/B-тестирования рекомендуется остановить тест и зафиксировать победу группы В."
   ]
  }
 ],
 "metadata": {
  "ExecuteTimeLog": [
   {
    "duration": 1256,
    "start_time": "2022-07-14T11:55:11.400Z"
   },
   {
    "duration": 85,
    "start_time": "2022-07-14T11:58:29.181Z"
   },
   {
    "duration": 4,
    "start_time": "2022-07-14T12:02:05.739Z"
   },
   {
    "duration": 35,
    "start_time": "2022-07-14T12:02:11.087Z"
   },
   {
    "duration": 91,
    "start_time": "2022-07-14T12:03:40.040Z"
   },
   {
    "duration": 597,
    "start_time": "2022-07-14T12:10:29.977Z"
   },
   {
    "duration": 475,
    "start_time": "2022-07-14T12:10:44.217Z"
   },
   {
    "duration": 540,
    "start_time": "2022-07-14T12:11:10.498Z"
   },
   {
    "duration": 19,
    "start_time": "2022-07-14T12:11:23.172Z"
   },
   {
    "duration": 76,
    "start_time": "2022-07-14T12:14:39.475Z"
   },
   {
    "duration": 92,
    "start_time": "2022-07-14T12:16:17.962Z"
   },
   {
    "duration": 11,
    "start_time": "2022-07-14T12:16:25.882Z"
   },
   {
    "duration": 11,
    "start_time": "2022-07-14T12:18:33.019Z"
   },
   {
    "duration": 6,
    "start_time": "2022-07-14T12:18:47.831Z"
   },
   {
    "duration": 10,
    "start_time": "2022-07-14T12:22:29.730Z"
   },
   {
    "duration": 11,
    "start_time": "2022-07-14T12:25:44.869Z"
   },
   {
    "duration": 1061,
    "start_time": "2022-07-14T12:29:13.390Z"
   },
   {
    "duration": 44,
    "start_time": "2022-07-14T12:29:14.453Z"
   },
   {
    "duration": 13,
    "start_time": "2022-07-14T12:29:14.500Z"
   },
   {
    "duration": 51,
    "start_time": "2022-07-14T12:29:14.515Z"
   },
   {
    "duration": 18,
    "start_time": "2022-07-14T12:29:14.568Z"
   },
   {
    "duration": 20,
    "start_time": "2022-07-14T12:29:14.587Z"
   },
   {
    "duration": 30,
    "start_time": "2022-07-14T12:29:14.610Z"
   },
   {
    "duration": 11,
    "start_time": "2022-07-14T12:29:14.642Z"
   },
   {
    "duration": 8,
    "start_time": "2022-07-14T12:29:14.655Z"
   },
   {
    "duration": 16,
    "start_time": "2022-07-14T12:29:45.187Z"
   },
   {
    "duration": 11,
    "start_time": "2022-07-14T12:29:50.679Z"
   },
   {
    "duration": 15,
    "start_time": "2022-07-14T12:30:03.738Z"
   },
   {
    "duration": 1056,
    "start_time": "2022-07-14T12:30:12.289Z"
   },
   {
    "duration": 49,
    "start_time": "2022-07-14T12:30:13.347Z"
   },
   {
    "duration": 13,
    "start_time": "2022-07-14T12:30:13.398Z"
   },
   {
    "duration": 67,
    "start_time": "2022-07-14T12:30:13.413Z"
   },
   {
    "duration": 28,
    "start_time": "2022-07-14T12:30:13.483Z"
   },
   {
    "duration": 53,
    "start_time": "2022-07-14T12:30:13.515Z"
   },
   {
    "duration": 38,
    "start_time": "2022-07-14T12:30:13.570Z"
   },
   {
    "duration": 10,
    "start_time": "2022-07-14T12:30:13.610Z"
   },
   {
    "duration": 18,
    "start_time": "2022-07-14T12:30:13.622Z"
   },
   {
    "duration": 110,
    "start_time": "2022-07-14T12:35:32.122Z"
   },
   {
    "duration": 26,
    "start_time": "2022-07-14T12:38:05.195Z"
   },
   {
    "duration": 41,
    "start_time": "2022-07-14T12:38:59.895Z"
   },
   {
    "duration": 9,
    "start_time": "2022-07-14T12:39:07.653Z"
   },
   {
    "duration": 1211,
    "start_time": "2022-07-14T12:39:16.854Z"
   },
   {
    "duration": 115,
    "start_time": "2022-07-14T12:39:18.067Z"
   },
   {
    "duration": 30,
    "start_time": "2022-07-14T12:39:18.184Z"
   },
   {
    "duration": 36,
    "start_time": "2022-07-14T12:39:18.216Z"
   },
   {
    "duration": 7,
    "start_time": "2022-07-14T12:39:18.255Z"
   },
   {
    "duration": 1064,
    "start_time": "2022-07-14T12:48:51.584Z"
   },
   {
    "duration": 95,
    "start_time": "2022-07-14T12:48:52.650Z"
   },
   {
    "duration": 14,
    "start_time": "2022-07-14T12:48:52.747Z"
   },
   {
    "duration": 36,
    "start_time": "2022-07-14T12:48:52.763Z"
   },
   {
    "duration": 8,
    "start_time": "2022-07-14T12:48:52.801Z"
   },
   {
    "duration": 12,
    "start_time": "2022-07-14T13:42:17.699Z"
   },
   {
    "duration": 9,
    "start_time": "2022-07-14T13:48:42.221Z"
   },
   {
    "duration": 16,
    "start_time": "2022-07-14T13:49:19.191Z"
   },
   {
    "duration": 6,
    "start_time": "2022-07-14T13:50:02.086Z"
   },
   {
    "duration": 970,
    "start_time": "2022-07-14T13:50:20.465Z"
   },
   {
    "duration": 92,
    "start_time": "2022-07-14T13:50:21.437Z"
   },
   {
    "duration": 15,
    "start_time": "2022-07-14T13:50:21.531Z"
   },
   {
    "duration": 22,
    "start_time": "2022-07-14T13:50:21.547Z"
   },
   {
    "duration": 5,
    "start_time": "2022-07-14T13:50:21.572Z"
   },
   {
    "duration": 7,
    "start_time": "2022-07-14T13:50:21.579Z"
   },
   {
    "duration": 9,
    "start_time": "2022-07-14T13:50:21.602Z"
   },
   {
    "duration": 9,
    "start_time": "2022-07-14T13:50:21.612Z"
   },
   {
    "duration": 11,
    "start_time": "2022-07-14T13:51:08.548Z"
   },
   {
    "duration": 991,
    "start_time": "2022-07-14T13:51:19.569Z"
   },
   {
    "duration": 100,
    "start_time": "2022-07-14T13:51:20.561Z"
   },
   {
    "duration": 13,
    "start_time": "2022-07-14T13:51:20.663Z"
   },
   {
    "duration": 37,
    "start_time": "2022-07-14T13:51:20.678Z"
   },
   {
    "duration": 14,
    "start_time": "2022-07-14T13:51:20.717Z"
   },
   {
    "duration": 22,
    "start_time": "2022-07-14T13:51:20.733Z"
   },
   {
    "duration": 9,
    "start_time": "2022-07-14T13:51:20.756Z"
   },
   {
    "duration": 15,
    "start_time": "2022-07-14T13:51:20.766Z"
   },
   {
    "duration": 1316,
    "start_time": "2022-07-15T06:03:20.130Z"
   },
   {
    "duration": 218,
    "start_time": "2022-07-15T06:03:21.448Z"
   },
   {
    "duration": 15,
    "start_time": "2022-07-15T06:03:21.667Z"
   },
   {
    "duration": 41,
    "start_time": "2022-07-15T06:03:21.684Z"
   },
   {
    "duration": 11,
    "start_time": "2022-07-15T06:03:21.727Z"
   },
   {
    "duration": 35,
    "start_time": "2022-07-15T06:03:21.739Z"
   },
   {
    "duration": 17,
    "start_time": "2022-07-15T06:03:21.775Z"
   },
   {
    "duration": 25,
    "start_time": "2022-07-15T06:03:21.794Z"
   },
   {
    "duration": 259,
    "start_time": "2022-07-15T06:36:48.931Z"
   },
   {
    "duration": 267,
    "start_time": "2022-07-15T06:38:08.426Z"
   },
   {
    "duration": 238,
    "start_time": "2022-07-15T06:41:42.289Z"
   },
   {
    "duration": 174,
    "start_time": "2022-07-15T06:42:40.739Z"
   },
   {
    "duration": 202,
    "start_time": "2022-07-15T06:43:09.941Z"
   },
   {
    "duration": 222,
    "start_time": "2022-07-15T06:49:10.763Z"
   },
   {
    "duration": 226,
    "start_time": "2022-07-15T07:26:09.998Z"
   },
   {
    "duration": 282,
    "start_time": "2022-07-15T07:30:42.250Z"
   },
   {
    "duration": 366,
    "start_time": "2022-07-15T07:47:03.575Z"
   },
   {
    "duration": 302,
    "start_time": "2022-07-15T07:47:21.299Z"
   },
   {
    "duration": 249,
    "start_time": "2022-07-15T08:00:28.091Z"
   },
   {
    "duration": 280,
    "start_time": "2022-07-15T08:01:35.742Z"
   },
   {
    "duration": 219,
    "start_time": "2022-07-15T08:02:00.340Z"
   },
   {
    "duration": 219,
    "start_time": "2022-07-15T08:03:47.356Z"
   },
   {
    "duration": 212,
    "start_time": "2022-07-15T08:03:54.882Z"
   },
   {
    "duration": 319,
    "start_time": "2022-07-15T08:20:52.588Z"
   },
   {
    "duration": 327,
    "start_time": "2022-07-15T08:22:18.055Z"
   },
   {
    "duration": 315,
    "start_time": "2022-07-15T08:22:41.674Z"
   },
   {
    "duration": 312,
    "start_time": "2022-07-15T08:23:08.054Z"
   },
   {
    "duration": 10,
    "start_time": "2022-07-15T08:39:30.051Z"
   },
   {
    "duration": 10,
    "start_time": "2022-07-15T08:39:37.334Z"
   },
   {
    "duration": 221,
    "start_time": "2022-07-15T08:41:34.355Z"
   },
   {
    "duration": 129,
    "start_time": "2022-07-15T08:41:51.937Z"
   },
   {
    "duration": 151,
    "start_time": "2022-07-15T08:45:44.537Z"
   },
   {
    "duration": 229,
    "start_time": "2022-07-15T08:47:37.929Z"
   },
   {
    "duration": 4,
    "start_time": "2022-07-15T08:54:08.505Z"
   },
   {
    "duration": 156,
    "start_time": "2022-07-15T10:22:14.801Z"
   },
   {
    "duration": 159,
    "start_time": "2022-07-15T10:23:35.104Z"
   },
   {
    "duration": 9,
    "start_time": "2022-07-15T10:26:55.473Z"
   },
   {
    "duration": 7,
    "start_time": "2022-07-15T10:27:06.765Z"
   },
   {
    "duration": 4,
    "start_time": "2022-07-15T10:32:14.364Z"
   },
   {
    "duration": 14,
    "start_time": "2022-07-15T13:36:26.191Z"
   },
   {
    "duration": 53,
    "start_time": "2022-07-15T18:25:52.882Z"
   },
   {
    "duration": 1210,
    "start_time": "2022-07-15T18:26:02.852Z"
   },
   {
    "duration": 221,
    "start_time": "2022-07-15T18:26:04.064Z"
   },
   {
    "duration": 15,
    "start_time": "2022-07-15T18:26:04.287Z"
   },
   {
    "duration": 25,
    "start_time": "2022-07-15T18:26:04.304Z"
   },
   {
    "duration": 6,
    "start_time": "2022-07-15T18:26:04.332Z"
   },
   {
    "duration": 12,
    "start_time": "2022-07-15T18:26:04.339Z"
   },
   {
    "duration": 14,
    "start_time": "2022-07-15T18:26:04.352Z"
   },
   {
    "duration": 8,
    "start_time": "2022-07-15T18:26:04.367Z"
   },
   {
    "duration": 304,
    "start_time": "2022-07-15T18:26:04.377Z"
   },
   {
    "duration": 329,
    "start_time": "2022-07-15T18:26:04.683Z"
   },
   {
    "duration": 237,
    "start_time": "2022-07-15T18:26:05.014Z"
   },
   {
    "duration": 350,
    "start_time": "2022-07-15T18:26:05.253Z"
   },
   {
    "duration": 228,
    "start_time": "2022-07-15T18:26:05.604Z"
   },
   {
    "duration": 311,
    "start_time": "2022-07-15T18:26:05.835Z"
   },
   {
    "duration": 156,
    "start_time": "2022-07-15T18:26:06.148Z"
   },
   {
    "duration": 4,
    "start_time": "2022-07-15T18:26:06.306Z"
   },
   {
    "duration": 179,
    "start_time": "2022-07-15T18:26:06.311Z"
   },
   {
    "duration": 4,
    "start_time": "2022-07-15T18:26:06.491Z"
   },
   {
    "duration": 233,
    "start_time": "2022-07-15T18:26:06.497Z"
   },
   {
    "duration": 150,
    "start_time": "2022-07-15T18:26:06.732Z"
   },
   {
    "duration": 10,
    "start_time": "2022-07-15T18:26:06.884Z"
   },
   {
    "duration": 208,
    "start_time": "2022-07-15T18:26:59.426Z"
   },
   {
    "duration": 1047,
    "start_time": "2022-07-15T18:27:54.544Z"
   },
   {
    "duration": 99,
    "start_time": "2022-07-15T18:27:55.593Z"
   },
   {
    "duration": 14,
    "start_time": "2022-07-15T18:27:55.694Z"
   },
   {
    "duration": 26,
    "start_time": "2022-07-15T18:27:55.710Z"
   },
   {
    "duration": 5,
    "start_time": "2022-07-15T18:27:55.738Z"
   },
   {
    "duration": 12,
    "start_time": "2022-07-15T18:27:55.745Z"
   },
   {
    "duration": 16,
    "start_time": "2022-07-15T18:27:55.759Z"
   },
   {
    "duration": 8,
    "start_time": "2022-07-15T18:27:55.776Z"
   },
   {
    "duration": 317,
    "start_time": "2022-07-15T18:27:55.786Z"
   },
   {
    "duration": 303,
    "start_time": "2022-07-15T18:27:56.105Z"
   },
   {
    "duration": 233,
    "start_time": "2022-07-15T18:27:56.410Z"
   },
   {
    "duration": 328,
    "start_time": "2022-07-15T18:27:56.646Z"
   },
   {
    "duration": 215,
    "start_time": "2022-07-15T18:27:56.975Z"
   },
   {
    "duration": 343,
    "start_time": "2022-07-15T18:27:57.192Z"
   },
   {
    "duration": 156,
    "start_time": "2022-07-15T18:27:57.537Z"
   },
   {
    "duration": 5,
    "start_time": "2022-07-15T18:27:57.695Z"
   },
   {
    "duration": 177,
    "start_time": "2022-07-15T18:27:57.702Z"
   },
   {
    "duration": 5,
    "start_time": "2022-07-15T18:27:57.881Z"
   },
   {
    "duration": 238,
    "start_time": "2022-07-15T18:27:57.888Z"
   },
   {
    "duration": 157,
    "start_time": "2022-07-15T18:27:58.128Z"
   },
   {
    "duration": 9,
    "start_time": "2022-07-15T18:27:58.287Z"
   },
   {
    "duration": 238,
    "start_time": "2022-07-15T18:30:09.918Z"
   },
   {
    "duration": 160,
    "start_time": "2022-07-15T18:30:16.443Z"
   },
   {
    "duration": 1288,
    "start_time": "2022-07-18T06:00:39.591Z"
   },
   {
    "duration": 246,
    "start_time": "2022-07-18T06:00:40.881Z"
   },
   {
    "duration": 17,
    "start_time": "2022-07-18T06:00:41.139Z"
   },
   {
    "duration": 29,
    "start_time": "2022-07-18T06:00:41.159Z"
   },
   {
    "duration": 8,
    "start_time": "2022-07-18T06:00:41.190Z"
   },
   {
    "duration": 30,
    "start_time": "2022-07-18T06:00:41.200Z"
   },
   {
    "duration": 25,
    "start_time": "2022-07-18T06:00:41.232Z"
   },
   {
    "duration": 16,
    "start_time": "2022-07-18T06:00:41.258Z"
   },
   {
    "duration": 372,
    "start_time": "2022-07-18T06:00:41.276Z"
   },
   {
    "duration": 351,
    "start_time": "2022-07-18T06:00:41.650Z"
   },
   {
    "duration": 283,
    "start_time": "2022-07-18T06:00:42.003Z"
   },
   {
    "duration": 408,
    "start_time": "2022-07-18T06:00:42.288Z"
   },
   {
    "duration": 251,
    "start_time": "2022-07-18T06:00:42.699Z"
   },
   {
    "duration": 306,
    "start_time": "2022-07-18T06:00:42.952Z"
   },
   {
    "duration": 181,
    "start_time": "2022-07-18T06:00:43.260Z"
   },
   {
    "duration": 5,
    "start_time": "2022-07-18T06:00:43.442Z"
   },
   {
    "duration": 215,
    "start_time": "2022-07-18T06:00:43.449Z"
   },
   {
    "duration": 4,
    "start_time": "2022-07-18T06:00:43.665Z"
   },
   {
    "duration": 232,
    "start_time": "2022-07-18T06:00:43.671Z"
   },
   {
    "duration": 199,
    "start_time": "2022-07-18T06:00:43.905Z"
   },
   {
    "duration": 15,
    "start_time": "2022-07-18T06:00:44.106Z"
   },
   {
    "duration": 4,
    "start_time": "2022-07-18T06:04:13.503Z"
   },
   {
    "duration": 4,
    "start_time": "2022-07-18T06:05:40.967Z"
   },
   {
    "duration": 4,
    "start_time": "2022-07-18T06:05:49.234Z"
   },
   {
    "duration": 4,
    "start_time": "2022-07-18T06:06:23.155Z"
   },
   {
    "duration": 109,
    "start_time": "2022-07-18T06:40:29.009Z"
   },
   {
    "duration": 11,
    "start_time": "2022-07-18T06:41:17.697Z"
   },
   {
    "duration": 7,
    "start_time": "2022-07-18T06:41:30.196Z"
   },
   {
    "duration": 11,
    "start_time": "2022-07-18T06:43:15.267Z"
   },
   {
    "duration": 11,
    "start_time": "2022-07-18T06:47:33.282Z"
   },
   {
    "duration": 11,
    "start_time": "2022-07-18T06:48:10.370Z"
   },
   {
    "duration": 11,
    "start_time": "2022-07-18T06:48:18.684Z"
   },
   {
    "duration": 48,
    "start_time": "2022-07-18T06:56:52.653Z"
   },
   {
    "duration": 8,
    "start_time": "2022-07-18T06:57:04.124Z"
   },
   {
    "duration": 8,
    "start_time": "2022-07-18T06:57:15.461Z"
   },
   {
    "duration": 8,
    "start_time": "2022-07-18T07:11:55.589Z"
   },
   {
    "duration": 8,
    "start_time": "2022-07-18T07:11:59.932Z"
   },
   {
    "duration": 154,
    "start_time": "2022-07-18T07:30:14.965Z"
   },
   {
    "duration": 164,
    "start_time": "2022-07-18T07:31:30.661Z"
   },
   {
    "duration": 242,
    "start_time": "2022-07-18T07:33:43.413Z"
   },
   {
    "duration": 157,
    "start_time": "2022-07-18T07:33:53.334Z"
   },
   {
    "duration": 5,
    "start_time": "2022-07-18T07:44:19.444Z"
   },
   {
    "duration": 10,
    "start_time": "2022-07-18T07:44:45.909Z"
   },
   {
    "duration": 152,
    "start_time": "2022-07-18T08:02:29.371Z"
   },
   {
    "duration": 164,
    "start_time": "2022-07-18T08:07:56.284Z"
   },
   {
    "duration": 163,
    "start_time": "2022-07-18T08:08:55.127Z"
   },
   {
    "duration": 11,
    "start_time": "2022-07-18T08:14:08.232Z"
   },
   {
    "duration": 138,
    "start_time": "2022-07-18T08:14:39.682Z"
   },
   {
    "duration": 10,
    "start_time": "2022-07-18T08:19:25.922Z"
   },
   {
    "duration": 1165,
    "start_time": "2022-07-18T08:20:15.087Z"
   },
   {
    "duration": 108,
    "start_time": "2022-07-18T08:20:16.254Z"
   },
   {
    "duration": 17,
    "start_time": "2022-07-18T08:20:16.364Z"
   },
   {
    "duration": 17,
    "start_time": "2022-07-18T08:20:16.383Z"
   },
   {
    "duration": 29,
    "start_time": "2022-07-18T08:20:16.403Z"
   },
   {
    "duration": 6,
    "start_time": "2022-07-18T08:20:16.434Z"
   },
   {
    "duration": 12,
    "start_time": "2022-07-18T08:20:16.442Z"
   },
   {
    "duration": 18,
    "start_time": "2022-07-18T08:20:16.456Z"
   },
   {
    "duration": 21,
    "start_time": "2022-07-18T08:20:16.475Z"
   },
   {
    "duration": 17,
    "start_time": "2022-07-18T08:20:16.498Z"
   },
   {
    "duration": 32,
    "start_time": "2022-07-18T08:20:16.517Z"
   },
   {
    "duration": 277,
    "start_time": "2022-07-18T08:20:16.551Z"
   },
   {
    "duration": 322,
    "start_time": "2022-07-18T08:20:16.830Z"
   },
   {
    "duration": 244,
    "start_time": "2022-07-18T08:20:17.156Z"
   },
   {
    "duration": 344,
    "start_time": "2022-07-18T08:20:17.402Z"
   },
   {
    "duration": 241,
    "start_time": "2022-07-18T08:20:17.747Z"
   },
   {
    "duration": 341,
    "start_time": "2022-07-18T08:20:17.990Z"
   },
   {
    "duration": 158,
    "start_time": "2022-07-18T08:20:18.333Z"
   },
   {
    "duration": 4,
    "start_time": "2022-07-18T08:20:18.493Z"
   },
   {
    "duration": 169,
    "start_time": "2022-07-18T08:20:18.509Z"
   },
   {
    "duration": 4,
    "start_time": "2022-07-18T08:20:18.680Z"
   },
   {
    "duration": 238,
    "start_time": "2022-07-18T08:20:18.686Z"
   },
   {
    "duration": 170,
    "start_time": "2022-07-18T08:20:18.926Z"
   },
   {
    "duration": 14,
    "start_time": "2022-07-18T08:20:19.097Z"
   },
   {
    "duration": 1052,
    "start_time": "2022-07-18T08:24:08.930Z"
   },
   {
    "duration": 11,
    "start_time": "2022-07-18T08:25:35.629Z"
   },
   {
    "duration": 10,
    "start_time": "2022-07-18T08:29:22.212Z"
   },
   {
    "duration": 9,
    "start_time": "2022-07-18T08:29:34.508Z"
   },
   {
    "duration": 8,
    "start_time": "2022-07-18T08:29:35.921Z"
   },
   {
    "duration": 47,
    "start_time": "2022-07-18T08:33:38.854Z"
   },
   {
    "duration": 995,
    "start_time": "2022-07-18T08:39:27.027Z"
   },
   {
    "duration": 930,
    "start_time": "2022-07-18T08:39:40.964Z"
   },
   {
    "duration": 15,
    "start_time": "2022-07-18T08:39:55.438Z"
   },
   {
    "duration": 15,
    "start_time": "2022-07-18T08:48:40.659Z"
   },
   {
    "duration": 100,
    "start_time": "2022-07-18T10:06:15.570Z"
   },
   {
    "duration": 101,
    "start_time": "2022-07-18T10:06:26.025Z"
   },
   {
    "duration": 25,
    "start_time": "2022-07-18T10:08:30.090Z"
   },
   {
    "duration": 1147,
    "start_time": "2022-07-18T10:08:47.924Z"
   },
   {
    "duration": 108,
    "start_time": "2022-07-18T10:08:49.073Z"
   },
   {
    "duration": 14,
    "start_time": "2022-07-18T10:08:49.183Z"
   },
   {
    "duration": 26,
    "start_time": "2022-07-18T10:08:49.200Z"
   },
   {
    "duration": 39,
    "start_time": "2022-07-18T10:08:49.229Z"
   },
   {
    "duration": 8,
    "start_time": "2022-07-18T10:08:49.269Z"
   },
   {
    "duration": 21,
    "start_time": "2022-07-18T10:08:49.278Z"
   },
   {
    "duration": 15,
    "start_time": "2022-07-18T10:08:49.301Z"
   },
   {
    "duration": 18,
    "start_time": "2022-07-18T10:08:49.320Z"
   },
   {
    "duration": 18,
    "start_time": "2022-07-18T10:08:49.340Z"
   },
   {
    "duration": 9,
    "start_time": "2022-07-18T10:08:49.361Z"
   },
   {
    "duration": 308,
    "start_time": "2022-07-18T10:08:49.372Z"
   },
   {
    "duration": 375,
    "start_time": "2022-07-18T10:08:49.682Z"
   },
   {
    "duration": 242,
    "start_time": "2022-07-18T10:08:50.060Z"
   },
   {
    "duration": 340,
    "start_time": "2022-07-18T10:08:50.309Z"
   },
   {
    "duration": 235,
    "start_time": "2022-07-18T10:08:50.651Z"
   },
   {
    "duration": 334,
    "start_time": "2022-07-18T10:08:50.888Z"
   },
   {
    "duration": 157,
    "start_time": "2022-07-18T10:08:51.224Z"
   },
   {
    "duration": 5,
    "start_time": "2022-07-18T10:08:51.383Z"
   },
   {
    "duration": 230,
    "start_time": "2022-07-18T10:08:51.390Z"
   },
   {
    "duration": 5,
    "start_time": "2022-07-18T10:08:51.623Z"
   },
   {
    "duration": 175,
    "start_time": "2022-07-18T10:08:51.630Z"
   },
   {
    "duration": 18,
    "start_time": "2022-07-18T10:08:51.809Z"
   },
   {
    "duration": 10,
    "start_time": "2022-07-18T10:08:51.829Z"
   },
   {
    "duration": 9,
    "start_time": "2022-07-18T10:08:51.841Z"
   },
   {
    "duration": 35,
    "start_time": "2022-07-18T10:08:51.852Z"
   },
   {
    "duration": 36,
    "start_time": "2022-07-18T10:08:51.890Z"
   },
   {
    "duration": 12,
    "start_time": "2022-07-18T10:12:16.927Z"
   },
   {
    "duration": 13,
    "start_time": "2022-07-18T10:13:08.381Z"
   },
   {
    "duration": 3,
    "start_time": "2022-07-18T10:31:46.400Z"
   },
   {
    "duration": 3,
    "start_time": "2022-07-18T10:32:52.651Z"
   },
   {
    "duration": 179,
    "start_time": "2022-07-18T10:43:22.456Z"
   },
   {
    "duration": 12,
    "start_time": "2022-07-18T10:44:13.051Z"
   },
   {
    "duration": 45,
    "start_time": "2022-07-18T10:47:11.601Z"
   },
   {
    "duration": 23,
    "start_time": "2022-07-18T10:48:30.125Z"
   },
   {
    "duration": 1085,
    "start_time": "2022-07-18T11:01:16.327Z"
   },
   {
    "duration": 98,
    "start_time": "2022-07-18T11:01:17.413Z"
   },
   {
    "duration": 14,
    "start_time": "2022-07-18T11:01:17.513Z"
   },
   {
    "duration": 29,
    "start_time": "2022-07-18T11:01:17.529Z"
   },
   {
    "duration": 50,
    "start_time": "2022-07-18T11:01:17.560Z"
   },
   {
    "duration": 8,
    "start_time": "2022-07-18T11:01:17.611Z"
   },
   {
    "duration": 41,
    "start_time": "2022-07-18T11:01:17.621Z"
   },
   {
    "duration": 26,
    "start_time": "2022-07-18T11:01:17.664Z"
   },
   {
    "duration": 15,
    "start_time": "2022-07-18T11:01:17.692Z"
   },
   {
    "duration": 36,
    "start_time": "2022-07-18T11:01:17.711Z"
   },
   {
    "duration": 29,
    "start_time": "2022-07-18T11:01:17.749Z"
   },
   {
    "duration": 292,
    "start_time": "2022-07-18T11:01:17.780Z"
   },
   {
    "duration": 322,
    "start_time": "2022-07-18T11:01:18.074Z"
   },
   {
    "duration": 241,
    "start_time": "2022-07-18T11:01:18.398Z"
   },
   {
    "duration": 315,
    "start_time": "2022-07-18T11:01:18.641Z"
   },
   {
    "duration": 225,
    "start_time": "2022-07-18T11:01:18.958Z"
   },
   {
    "duration": 332,
    "start_time": "2022-07-18T11:01:19.185Z"
   },
   {
    "duration": 160,
    "start_time": "2022-07-18T11:01:19.519Z"
   },
   {
    "duration": 5,
    "start_time": "2022-07-18T11:01:19.681Z"
   },
   {
    "duration": 17,
    "start_time": "2022-07-18T11:01:19.687Z"
   },
   {
    "duration": 174,
    "start_time": "2022-07-18T11:01:19.709Z"
   },
   {
    "duration": 4,
    "start_time": "2022-07-18T11:01:19.885Z"
   },
   {
    "duration": 15,
    "start_time": "2022-07-18T11:01:19.891Z"
   },
   {
    "duration": 185,
    "start_time": "2022-07-18T11:01:19.908Z"
   },
   {
    "duration": 21,
    "start_time": "2022-07-18T11:01:20.096Z"
   },
   {
    "duration": 24,
    "start_time": "2022-07-18T11:01:20.119Z"
   },
   {
    "duration": 33,
    "start_time": "2022-07-18T11:01:20.145Z"
   },
   {
    "duration": 13,
    "start_time": "2022-07-18T11:01:20.181Z"
   },
   {
    "duration": 1331,
    "start_time": "2022-07-18T16:05:01.314Z"
   },
   {
    "duration": 198,
    "start_time": "2022-07-18T16:05:02.647Z"
   },
   {
    "duration": 15,
    "start_time": "2022-07-18T16:05:02.847Z"
   },
   {
    "duration": 11,
    "start_time": "2022-07-18T16:05:02.864Z"
   },
   {
    "duration": 31,
    "start_time": "2022-07-18T16:05:02.877Z"
   },
   {
    "duration": 7,
    "start_time": "2022-07-18T16:05:02.909Z"
   },
   {
    "duration": 31,
    "start_time": "2022-07-18T16:05:02.918Z"
   },
   {
    "duration": 17,
    "start_time": "2022-07-18T16:05:02.950Z"
   },
   {
    "duration": 11,
    "start_time": "2022-07-18T16:05:02.969Z"
   },
   {
    "duration": 18,
    "start_time": "2022-07-18T16:05:02.982Z"
   },
   {
    "duration": 26,
    "start_time": "2022-07-18T16:05:03.003Z"
   },
   {
    "duration": 297,
    "start_time": "2022-07-18T16:05:03.030Z"
   },
   {
    "duration": 324,
    "start_time": "2022-07-18T16:05:03.329Z"
   },
   {
    "duration": 228,
    "start_time": "2022-07-18T16:05:03.654Z"
   },
   {
    "duration": 399,
    "start_time": "2022-07-18T16:05:03.883Z"
   },
   {
    "duration": 209,
    "start_time": "2022-07-18T16:05:04.284Z"
   },
   {
    "duration": 322,
    "start_time": "2022-07-18T16:05:04.494Z"
   },
   {
    "duration": 153,
    "start_time": "2022-07-18T16:05:04.818Z"
   },
   {
    "duration": 4,
    "start_time": "2022-07-18T16:05:04.973Z"
   },
   {
    "duration": 6,
    "start_time": "2022-07-18T16:05:04.979Z"
   },
   {
    "duration": 190,
    "start_time": "2022-07-18T16:05:04.986Z"
   },
   {
    "duration": 4,
    "start_time": "2022-07-18T16:05:05.178Z"
   },
   {
    "duration": 7,
    "start_time": "2022-07-18T16:05:05.183Z"
   },
   {
    "duration": 166,
    "start_time": "2022-07-18T16:05:05.191Z"
   },
   {
    "duration": 19,
    "start_time": "2022-07-18T16:05:05.358Z"
   },
   {
    "duration": 12,
    "start_time": "2022-07-18T16:05:05.379Z"
   },
   {
    "duration": 42,
    "start_time": "2022-07-18T16:05:05.393Z"
   },
   {
    "duration": 13,
    "start_time": "2022-07-18T16:05:05.438Z"
   },
   {
    "duration": 11,
    "start_time": "2022-07-18T16:09:10.672Z"
   },
   {
    "duration": 44,
    "start_time": "2022-07-19T05:12:09.952Z"
   },
   {
    "duration": 1224,
    "start_time": "2022-07-19T05:12:14.741Z"
   },
   {
    "duration": 225,
    "start_time": "2022-07-19T05:12:15.967Z"
   },
   {
    "duration": 19,
    "start_time": "2022-07-19T05:12:16.195Z"
   },
   {
    "duration": 13,
    "start_time": "2022-07-19T05:12:16.217Z"
   },
   {
    "duration": 35,
    "start_time": "2022-07-19T05:12:16.232Z"
   },
   {
    "duration": 14,
    "start_time": "2022-07-19T05:12:16.270Z"
   },
   {
    "duration": 36,
    "start_time": "2022-07-19T05:12:16.286Z"
   },
   {
    "duration": 14,
    "start_time": "2022-07-19T05:12:16.324Z"
   },
   {
    "duration": 20,
    "start_time": "2022-07-19T05:12:16.340Z"
   },
   {
    "duration": 29,
    "start_time": "2022-07-19T05:12:16.363Z"
   },
   {
    "duration": 26,
    "start_time": "2022-07-19T05:12:16.395Z"
   },
   {
    "duration": 337,
    "start_time": "2022-07-19T05:12:16.423Z"
   },
   {
    "duration": 304,
    "start_time": "2022-07-19T05:12:16.762Z"
   },
   {
    "duration": 228,
    "start_time": "2022-07-19T05:12:17.068Z"
   },
   {
    "duration": 338,
    "start_time": "2022-07-19T05:12:17.297Z"
   },
   {
    "duration": 226,
    "start_time": "2022-07-19T05:12:17.637Z"
   },
   {
    "duration": 298,
    "start_time": "2022-07-19T05:12:17.865Z"
   },
   {
    "duration": 149,
    "start_time": "2022-07-19T05:12:18.165Z"
   },
   {
    "duration": 4,
    "start_time": "2022-07-19T05:12:18.317Z"
   },
   {
    "duration": 9,
    "start_time": "2022-07-19T05:12:18.323Z"
   },
   {
    "duration": 173,
    "start_time": "2022-07-19T05:12:18.333Z"
   },
   {
    "duration": 4,
    "start_time": "2022-07-19T05:12:18.509Z"
   },
   {
    "duration": 7,
    "start_time": "2022-07-19T05:12:18.514Z"
   },
   {
    "duration": 193,
    "start_time": "2022-07-19T05:12:18.522Z"
   },
   {
    "duration": 10,
    "start_time": "2022-07-19T05:12:18.716Z"
   },
   {
    "duration": 22,
    "start_time": "2022-07-19T05:12:18.727Z"
   },
   {
    "duration": 33,
    "start_time": "2022-07-19T05:12:18.750Z"
   },
   {
    "duration": 13,
    "start_time": "2022-07-19T05:12:18.787Z"
   },
   {
    "duration": 10,
    "start_time": "2022-07-19T05:13:04.297Z"
   },
   {
    "duration": 7,
    "start_time": "2022-07-19T06:21:28.354Z"
   },
   {
    "duration": 7,
    "start_time": "2022-07-19T06:37:59.892Z"
   },
   {
    "duration": 8,
    "start_time": "2022-07-19T06:42:10.187Z"
   },
   {
    "duration": 8,
    "start_time": "2022-07-19T06:42:41.099Z"
   },
   {
    "duration": 7,
    "start_time": "2022-07-19T06:46:20.059Z"
   },
   {
    "duration": 4,
    "start_time": "2022-07-19T07:05:34.301Z"
   },
   {
    "duration": 9,
    "start_time": "2022-07-19T07:06:47.937Z"
   },
   {
    "duration": 4,
    "start_time": "2022-07-19T07:06:59.233Z"
   },
   {
    "duration": 98,
    "start_time": "2022-07-19T07:12:47.554Z"
   },
   {
    "duration": 14,
    "start_time": "2022-07-19T07:13:53.156Z"
   },
   {
    "duration": 11,
    "start_time": "2022-07-19T07:15:06.453Z"
   },
   {
    "duration": 40,
    "start_time": "2022-07-19T07:15:42.388Z"
   },
   {
    "duration": 16,
    "start_time": "2022-07-19T07:16:01.222Z"
   },
   {
    "duration": 10,
    "start_time": "2022-07-19T07:17:21.342Z"
   },
   {
    "duration": 11,
    "start_time": "2022-07-19T07:18:24.431Z"
   },
   {
    "duration": 17,
    "start_time": "2022-07-19T07:54:00.600Z"
   },
   {
    "duration": 21,
    "start_time": "2022-07-19T07:54:18.290Z"
   },
   {
    "duration": 17,
    "start_time": "2022-07-19T07:58:42.448Z"
   },
   {
    "duration": 1251,
    "start_time": "2022-07-19T12:19:05.667Z"
   },
   {
    "duration": 171,
    "start_time": "2022-07-19T12:19:06.924Z"
   },
   {
    "duration": 22,
    "start_time": "2022-07-19T12:19:07.102Z"
   },
   {
    "duration": 16,
    "start_time": "2022-07-19T12:19:07.141Z"
   },
   {
    "duration": 117,
    "start_time": "2022-07-19T12:19:07.159Z"
   },
   {
    "duration": 60,
    "start_time": "2022-07-19T12:19:07.277Z"
   },
   {
    "duration": 15,
    "start_time": "2022-07-19T12:19:07.339Z"
   },
   {
    "duration": 20,
    "start_time": "2022-07-19T12:19:07.355Z"
   },
   {
    "duration": 66,
    "start_time": "2022-07-19T12:19:07.377Z"
   },
   {
    "duration": 14,
    "start_time": "2022-07-19T12:19:07.445Z"
   },
   {
    "duration": 13,
    "start_time": "2022-07-19T12:19:07.468Z"
   },
   {
    "duration": 56,
    "start_time": "2022-07-19T12:19:07.483Z"
   },
   {
    "duration": 384,
    "start_time": "2022-07-19T12:19:07.541Z"
   },
   {
    "duration": 401,
    "start_time": "2022-07-19T12:19:07.928Z"
   },
   {
    "duration": 320,
    "start_time": "2022-07-19T12:19:08.330Z"
   },
   {
    "duration": 381,
    "start_time": "2022-07-19T12:19:08.652Z"
   },
   {
    "duration": 331,
    "start_time": "2022-07-19T12:19:09.035Z"
   },
   {
    "duration": 350,
    "start_time": "2022-07-19T12:19:09.383Z"
   },
   {
    "duration": 234,
    "start_time": "2022-07-19T12:19:09.738Z"
   },
   {
    "duration": 6,
    "start_time": "2022-07-19T12:19:09.973Z"
   },
   {
    "duration": 59,
    "start_time": "2022-07-19T12:19:09.980Z"
   },
   {
    "duration": 228,
    "start_time": "2022-07-19T12:19:10.041Z"
   },
   {
    "duration": 7,
    "start_time": "2022-07-19T12:19:10.271Z"
   },
   {
    "duration": 63,
    "start_time": "2022-07-19T12:19:10.279Z"
   },
   {
    "duration": 212,
    "start_time": "2022-07-19T12:19:10.344Z"
   },
   {
    "duration": 28,
    "start_time": "2022-07-19T12:19:10.558Z"
   },
   {
    "duration": 84,
    "start_time": "2022-07-19T12:19:10.588Z"
   },
   {
    "duration": 98,
    "start_time": "2022-07-19T12:19:10.677Z"
   },
   {
    "duration": 23,
    "start_time": "2022-07-19T12:19:10.778Z"
   },
   {
    "duration": 1546,
    "start_time": "2022-07-19T16:26:01.084Z"
   },
   {
    "duration": 240,
    "start_time": "2022-07-19T16:26:02.634Z"
   },
   {
    "duration": 15,
    "start_time": "2022-07-19T16:26:02.876Z"
   },
   {
    "duration": 68,
    "start_time": "2022-07-19T16:26:02.894Z"
   },
   {
    "duration": 93,
    "start_time": "2022-07-19T16:26:02.965Z"
   },
   {
    "duration": 8,
    "start_time": "2022-07-19T16:26:03.061Z"
   },
   {
    "duration": 36,
    "start_time": "2022-07-19T16:26:03.070Z"
   },
   {
    "duration": 39,
    "start_time": "2022-07-19T16:26:03.109Z"
   },
   {
    "duration": 25,
    "start_time": "2022-07-19T16:26:03.150Z"
   },
   {
    "duration": 55,
    "start_time": "2022-07-19T16:26:03.178Z"
   },
   {
    "duration": 33,
    "start_time": "2022-07-19T16:26:03.235Z"
   },
   {
    "duration": 23,
    "start_time": "2022-07-19T16:26:03.270Z"
   },
   {
    "duration": 134,
    "start_time": "2022-07-19T16:26:03.295Z"
   },
   {
    "duration": 0,
    "start_time": "2022-07-19T16:26:03.432Z"
   },
   {
    "duration": 1,
    "start_time": "2022-07-19T16:26:03.433Z"
   },
   {
    "duration": 0,
    "start_time": "2022-07-19T16:26:03.434Z"
   },
   {
    "duration": 0,
    "start_time": "2022-07-19T16:26:03.435Z"
   },
   {
    "duration": 0,
    "start_time": "2022-07-19T16:26:03.436Z"
   },
   {
    "duration": 0,
    "start_time": "2022-07-19T16:26:03.438Z"
   },
   {
    "duration": 0,
    "start_time": "2022-07-19T16:26:03.439Z"
   },
   {
    "duration": 1,
    "start_time": "2022-07-19T16:26:03.440Z"
   },
   {
    "duration": 0,
    "start_time": "2022-07-19T16:26:03.442Z"
   },
   {
    "duration": 0,
    "start_time": "2022-07-19T16:26:03.443Z"
   },
   {
    "duration": 0,
    "start_time": "2022-07-19T16:26:03.444Z"
   },
   {
    "duration": 0,
    "start_time": "2022-07-19T16:26:03.445Z"
   },
   {
    "duration": 0,
    "start_time": "2022-07-19T16:26:03.447Z"
   },
   {
    "duration": 0,
    "start_time": "2022-07-19T16:26:03.448Z"
   },
   {
    "duration": 0,
    "start_time": "2022-07-19T16:26:03.449Z"
   },
   {
    "duration": 0,
    "start_time": "2022-07-19T16:26:03.450Z"
   },
   {
    "duration": 0,
    "start_time": "2022-07-19T16:26:03.451Z"
   },
   {
    "duration": 15,
    "start_time": "2022-07-19T16:27:00.738Z"
   },
   {
    "duration": 17,
    "start_time": "2022-07-19T16:27:31.541Z"
   },
   {
    "duration": 86,
    "start_time": "2022-07-19T16:29:02.212Z"
   },
   {
    "duration": 7,
    "start_time": "2022-07-19T16:29:19.719Z"
   },
   {
    "duration": 22,
    "start_time": "2022-07-19T16:29:46.704Z"
   },
   {
    "duration": 14,
    "start_time": "2022-07-19T16:32:12.429Z"
   },
   {
    "duration": 1160,
    "start_time": "2022-07-19T16:32:49.969Z"
   },
   {
    "duration": 102,
    "start_time": "2022-07-19T16:32:51.131Z"
   },
   {
    "duration": 22,
    "start_time": "2022-07-19T16:32:51.235Z"
   },
   {
    "duration": 11,
    "start_time": "2022-07-19T16:32:51.260Z"
   },
   {
    "duration": 40,
    "start_time": "2022-07-19T16:32:51.273Z"
   },
   {
    "duration": 6,
    "start_time": "2022-07-19T16:32:51.314Z"
   },
   {
    "duration": 29,
    "start_time": "2022-07-19T16:32:51.322Z"
   },
   {
    "duration": 12,
    "start_time": "2022-07-19T16:32:51.352Z"
   },
   {
    "duration": 11,
    "start_time": "2022-07-19T16:32:51.365Z"
   },
   {
    "duration": 18,
    "start_time": "2022-07-19T16:32:51.380Z"
   },
   {
    "duration": 16,
    "start_time": "2022-07-19T16:32:51.399Z"
   },
   {
    "duration": 36,
    "start_time": "2022-07-19T16:32:51.417Z"
   },
   {
    "duration": 194,
    "start_time": "2022-07-19T16:32:51.456Z"
   },
   {
    "duration": 0,
    "start_time": "2022-07-19T16:32:51.652Z"
   },
   {
    "duration": 0,
    "start_time": "2022-07-19T16:32:51.654Z"
   },
   {
    "duration": 0,
    "start_time": "2022-07-19T16:32:51.655Z"
   },
   {
    "duration": 0,
    "start_time": "2022-07-19T16:32:51.657Z"
   },
   {
    "duration": 0,
    "start_time": "2022-07-19T16:32:51.658Z"
   },
   {
    "duration": 0,
    "start_time": "2022-07-19T16:32:51.660Z"
   },
   {
    "duration": 0,
    "start_time": "2022-07-19T16:32:51.661Z"
   },
   {
    "duration": 0,
    "start_time": "2022-07-19T16:32:51.663Z"
   },
   {
    "duration": 0,
    "start_time": "2022-07-19T16:32:51.665Z"
   },
   {
    "duration": 0,
    "start_time": "2022-07-19T16:32:51.666Z"
   },
   {
    "duration": 0,
    "start_time": "2022-07-19T16:32:51.668Z"
   },
   {
    "duration": 0,
    "start_time": "2022-07-19T16:32:51.670Z"
   },
   {
    "duration": 0,
    "start_time": "2022-07-19T16:32:51.672Z"
   },
   {
    "duration": 0,
    "start_time": "2022-07-19T16:32:51.673Z"
   },
   {
    "duration": 0,
    "start_time": "2022-07-19T16:32:51.675Z"
   },
   {
    "duration": 0,
    "start_time": "2022-07-19T16:32:51.678Z"
   },
   {
    "duration": 0,
    "start_time": "2022-07-19T16:32:51.680Z"
   },
   {
    "duration": 9,
    "start_time": "2022-07-19T16:32:59.729Z"
   },
   {
    "duration": 8,
    "start_time": "2022-07-19T16:35:43.036Z"
   },
   {
    "duration": 12,
    "start_time": "2022-07-19T16:35:48.892Z"
   },
   {
    "duration": 11,
    "start_time": "2022-07-19T16:36:29.363Z"
   },
   {
    "duration": 12,
    "start_time": "2022-07-19T16:36:36.340Z"
   },
   {
    "duration": 1171,
    "start_time": "2022-07-19T16:40:39.981Z"
   },
   {
    "duration": 107,
    "start_time": "2022-07-19T16:40:41.154Z"
   },
   {
    "duration": 15,
    "start_time": "2022-07-19T16:40:41.262Z"
   },
   {
    "duration": 9,
    "start_time": "2022-07-19T16:40:41.279Z"
   },
   {
    "duration": 32,
    "start_time": "2022-07-19T16:40:41.290Z"
   },
   {
    "duration": 12,
    "start_time": "2022-07-19T16:40:41.328Z"
   },
   {
    "duration": 12,
    "start_time": "2022-07-19T16:40:41.342Z"
   },
   {
    "duration": 12,
    "start_time": "2022-07-19T16:40:41.356Z"
   },
   {
    "duration": 11,
    "start_time": "2022-07-19T16:40:41.370Z"
   },
   {
    "duration": 38,
    "start_time": "2022-07-19T16:40:41.385Z"
   },
   {
    "duration": 26,
    "start_time": "2022-07-19T16:40:41.424Z"
   },
   {
    "duration": 21,
    "start_time": "2022-07-19T16:40:41.452Z"
   },
   {
    "duration": 21,
    "start_time": "2022-07-19T16:40:41.475Z"
   },
   {
    "duration": 40,
    "start_time": "2022-07-19T16:40:41.497Z"
   },
   {
    "duration": 349,
    "start_time": "2022-07-19T16:40:41.540Z"
   },
   {
    "duration": 349,
    "start_time": "2022-07-19T16:40:41.891Z"
   },
   {
    "duration": 266,
    "start_time": "2022-07-19T16:40:42.242Z"
   },
   {
    "duration": 337,
    "start_time": "2022-07-19T16:40:42.514Z"
   },
   {
    "duration": 240,
    "start_time": "2022-07-19T16:40:42.853Z"
   },
   {
    "duration": 341,
    "start_time": "2022-07-19T16:40:43.095Z"
   },
   {
    "duration": 214,
    "start_time": "2022-07-19T16:40:43.438Z"
   },
   {
    "duration": 4,
    "start_time": "2022-07-19T16:40:43.654Z"
   },
   {
    "duration": 34,
    "start_time": "2022-07-19T16:40:43.660Z"
   },
   {
    "duration": 222,
    "start_time": "2022-07-19T16:40:43.697Z"
   },
   {
    "duration": 10,
    "start_time": "2022-07-19T16:40:43.923Z"
   },
   {
    "duration": 26,
    "start_time": "2022-07-19T16:40:43.935Z"
   },
   {
    "duration": 188,
    "start_time": "2022-07-19T16:40:43.963Z"
   },
   {
    "duration": 10,
    "start_time": "2022-07-19T16:40:44.154Z"
   },
   {
    "duration": 33,
    "start_time": "2022-07-19T16:40:44.165Z"
   },
   {
    "duration": 77,
    "start_time": "2022-07-19T16:40:44.200Z"
   },
   {
    "duration": 16,
    "start_time": "2022-07-19T16:40:44.279Z"
   },
   {
    "duration": 316,
    "start_time": "2022-07-19T16:49:08.566Z"
   },
   {
    "duration": 4,
    "start_time": "2022-07-19T16:50:47.406Z"
   },
   {
    "duration": 3,
    "start_time": "2022-07-19T16:52:17.157Z"
   },
   {
    "duration": 1127,
    "start_time": "2022-07-19T16:53:24.480Z"
   },
   {
    "duration": 115,
    "start_time": "2022-07-19T16:53:25.609Z"
   },
   {
    "duration": 19,
    "start_time": "2022-07-19T16:53:25.726Z"
   },
   {
    "duration": 17,
    "start_time": "2022-07-19T16:53:25.747Z"
   },
   {
    "duration": 27,
    "start_time": "2022-07-19T16:53:25.765Z"
   },
   {
    "duration": 21,
    "start_time": "2022-07-19T16:53:25.793Z"
   },
   {
    "duration": 14,
    "start_time": "2022-07-19T16:53:25.820Z"
   },
   {
    "duration": 27,
    "start_time": "2022-07-19T16:53:25.839Z"
   },
   {
    "duration": 10,
    "start_time": "2022-07-19T16:53:25.868Z"
   },
   {
    "duration": 11,
    "start_time": "2022-07-19T16:53:25.882Z"
   },
   {
    "duration": 40,
    "start_time": "2022-07-19T16:53:25.894Z"
   },
   {
    "duration": 39,
    "start_time": "2022-07-19T16:53:25.936Z"
   },
   {
    "duration": 11,
    "start_time": "2022-07-19T16:53:25.977Z"
   },
   {
    "duration": 310,
    "start_time": "2022-07-19T16:53:25.990Z"
   },
   {
    "duration": 327,
    "start_time": "2022-07-19T16:53:26.302Z"
   },
   {
    "duration": 257,
    "start_time": "2022-07-19T16:53:26.636Z"
   },
   {
    "duration": 385,
    "start_time": "2022-07-19T16:53:26.894Z"
   },
   {
    "duration": 255,
    "start_time": "2022-07-19T16:53:27.281Z"
   },
   {
    "duration": 312,
    "start_time": "2022-07-19T16:53:27.540Z"
   },
   {
    "duration": 197,
    "start_time": "2022-07-19T16:53:27.853Z"
   },
   {
    "duration": 5,
    "start_time": "2022-07-19T16:53:28.051Z"
   },
   {
    "duration": 10,
    "start_time": "2022-07-19T16:53:28.057Z"
   },
   {
    "duration": 195,
    "start_time": "2022-07-19T16:53:28.068Z"
   },
   {
    "duration": 5,
    "start_time": "2022-07-19T16:53:28.264Z"
   },
   {
    "duration": 9,
    "start_time": "2022-07-19T16:53:28.270Z"
   },
   {
    "duration": 169,
    "start_time": "2022-07-19T16:53:28.280Z"
   },
   {
    "duration": 10,
    "start_time": "2022-07-19T16:53:28.452Z"
   },
   {
    "duration": 13,
    "start_time": "2022-07-19T16:53:28.465Z"
   },
   {
    "duration": 63,
    "start_time": "2022-07-19T16:53:28.480Z"
   },
   {
    "duration": 17,
    "start_time": "2022-07-19T16:53:28.545Z"
   },
   {
    "duration": 1143,
    "start_time": "2022-07-19T16:56:52.848Z"
   },
   {
    "duration": 105,
    "start_time": "2022-07-19T16:56:53.992Z"
   },
   {
    "duration": 32,
    "start_time": "2022-07-19T16:56:54.099Z"
   },
   {
    "duration": 17,
    "start_time": "2022-07-19T16:56:54.133Z"
   },
   {
    "duration": 27,
    "start_time": "2022-07-19T16:56:54.151Z"
   },
   {
    "duration": 7,
    "start_time": "2022-07-19T16:56:54.180Z"
   },
   {
    "duration": 14,
    "start_time": "2022-07-19T16:56:54.188Z"
   },
   {
    "duration": 23,
    "start_time": "2022-07-19T16:56:54.203Z"
   },
   {
    "duration": 32,
    "start_time": "2022-07-19T16:56:54.230Z"
   },
   {
    "duration": 14,
    "start_time": "2022-07-19T16:56:54.265Z"
   },
   {
    "duration": 11,
    "start_time": "2022-07-19T16:56:54.281Z"
   },
   {
    "duration": 13,
    "start_time": "2022-07-19T16:56:54.294Z"
   },
   {
    "duration": 38,
    "start_time": "2022-07-19T16:56:54.309Z"
   },
   {
    "duration": 314,
    "start_time": "2022-07-19T16:56:54.349Z"
   },
   {
    "duration": 351,
    "start_time": "2022-07-19T16:56:54.665Z"
   },
   {
    "duration": 252,
    "start_time": "2022-07-19T16:56:55.024Z"
   },
   {
    "duration": 392,
    "start_time": "2022-07-19T16:56:55.278Z"
   },
   {
    "duration": 234,
    "start_time": "2022-07-19T16:56:55.672Z"
   },
   {
    "duration": 347,
    "start_time": "2022-07-19T16:56:55.907Z"
   },
   {
    "duration": 193,
    "start_time": "2022-07-19T16:56:56.256Z"
   },
   {
    "duration": 5,
    "start_time": "2022-07-19T16:56:56.451Z"
   },
   {
    "duration": 18,
    "start_time": "2022-07-19T16:56:56.457Z"
   },
   {
    "duration": 187,
    "start_time": "2022-07-19T16:56:56.476Z"
   },
   {
    "duration": 5,
    "start_time": "2022-07-19T16:56:56.664Z"
   },
   {
    "duration": 29,
    "start_time": "2022-07-19T16:56:56.670Z"
   },
   {
    "duration": 192,
    "start_time": "2022-07-19T16:56:56.701Z"
   },
   {
    "duration": 21,
    "start_time": "2022-07-19T16:56:56.895Z"
   },
   {
    "duration": 44,
    "start_time": "2022-07-19T16:56:56.918Z"
   },
   {
    "duration": 67,
    "start_time": "2022-07-19T16:56:56.964Z"
   },
   {
    "duration": 63,
    "start_time": "2022-07-19T16:56:57.032Z"
   },
   {
    "duration": 1259,
    "start_time": "2022-07-20T06:33:11.387Z"
   },
   {
    "duration": 277,
    "start_time": "2022-07-20T06:33:12.648Z"
   },
   {
    "duration": 15,
    "start_time": "2022-07-20T06:33:12.929Z"
   },
   {
    "duration": 7,
    "start_time": "2022-07-20T06:33:12.947Z"
   },
   {
    "duration": 58,
    "start_time": "2022-07-20T06:33:12.956Z"
   },
   {
    "duration": 8,
    "start_time": "2022-07-20T06:33:13.016Z"
   },
   {
    "duration": 20,
    "start_time": "2022-07-20T06:33:13.026Z"
   },
   {
    "duration": 17,
    "start_time": "2022-07-20T06:33:13.049Z"
   },
   {
    "duration": 30,
    "start_time": "2022-07-20T06:33:13.072Z"
   },
   {
    "duration": 21,
    "start_time": "2022-07-20T06:33:13.104Z"
   },
   {
    "duration": 12,
    "start_time": "2022-07-20T06:33:13.127Z"
   },
   {
    "duration": 25,
    "start_time": "2022-07-20T06:33:13.141Z"
   },
   {
    "duration": 13,
    "start_time": "2022-07-20T06:33:13.170Z"
   },
   {
    "duration": 330,
    "start_time": "2022-07-20T06:33:13.186Z"
   },
   {
    "duration": 405,
    "start_time": "2022-07-20T06:33:13.518Z"
   },
   {
    "duration": 283,
    "start_time": "2022-07-20T06:33:13.925Z"
   },
   {
    "duration": 329,
    "start_time": "2022-07-20T06:33:14.210Z"
   },
   {
    "duration": 286,
    "start_time": "2022-07-20T06:33:14.541Z"
   },
   {
    "duration": 401,
    "start_time": "2022-07-20T06:33:14.828Z"
   },
   {
    "duration": 241,
    "start_time": "2022-07-20T06:33:15.231Z"
   },
   {
    "duration": 16,
    "start_time": "2022-07-20T06:33:15.480Z"
   },
   {
    "duration": 6,
    "start_time": "2022-07-20T06:33:15.499Z"
   },
   {
    "duration": 191,
    "start_time": "2022-07-20T06:33:15.507Z"
   },
   {
    "duration": 5,
    "start_time": "2022-07-20T06:33:15.699Z"
   },
   {
    "duration": 15,
    "start_time": "2022-07-20T06:33:15.707Z"
   },
   {
    "duration": 219,
    "start_time": "2022-07-20T06:33:15.724Z"
   },
   {
    "duration": 25,
    "start_time": "2022-07-20T06:33:15.945Z"
   },
   {
    "duration": 18,
    "start_time": "2022-07-20T06:33:15.973Z"
   },
   {
    "duration": 36,
    "start_time": "2022-07-20T06:33:15.993Z"
   },
   {
    "duration": 31,
    "start_time": "2022-07-20T06:33:16.031Z"
   },
   {
    "duration": 1162,
    "start_time": "2022-07-20T06:46:57.945Z"
   },
   {
    "duration": 215,
    "start_time": "2022-07-20T06:46:59.109Z"
   },
   {
    "duration": 15,
    "start_time": "2022-07-20T06:46:59.325Z"
   },
   {
    "duration": 13,
    "start_time": "2022-07-20T06:46:59.342Z"
   },
   {
    "duration": 33,
    "start_time": "2022-07-20T06:46:59.356Z"
   },
   {
    "duration": 7,
    "start_time": "2022-07-20T06:46:59.390Z"
   },
   {
    "duration": 27,
    "start_time": "2022-07-20T06:46:59.398Z"
   },
   {
    "duration": 13,
    "start_time": "2022-07-20T06:46:59.426Z"
   },
   {
    "duration": 12,
    "start_time": "2022-07-20T06:46:59.441Z"
   },
   {
    "duration": 11,
    "start_time": "2022-07-20T06:46:59.455Z"
   },
   {
    "duration": 12,
    "start_time": "2022-07-20T06:46:59.468Z"
   },
   {
    "duration": 34,
    "start_time": "2022-07-20T06:46:59.482Z"
   },
   {
    "duration": 20,
    "start_time": "2022-07-20T06:46:59.517Z"
   },
   {
    "duration": 290,
    "start_time": "2022-07-20T06:46:59.539Z"
   },
   {
    "duration": 300,
    "start_time": "2022-07-20T06:46:59.830Z"
   },
   {
    "duration": 232,
    "start_time": "2022-07-20T06:47:00.132Z"
   },
   {
    "duration": 388,
    "start_time": "2022-07-20T06:47:00.365Z"
   },
   {
    "duration": 223,
    "start_time": "2022-07-20T06:47:00.755Z"
   },
   {
    "duration": 329,
    "start_time": "2022-07-20T06:47:00.980Z"
   },
   {
    "duration": 179,
    "start_time": "2022-07-20T06:47:01.311Z"
   },
   {
    "duration": 9,
    "start_time": "2022-07-20T06:47:01.492Z"
   },
   {
    "duration": 24,
    "start_time": "2022-07-20T06:47:01.503Z"
   },
   {
    "duration": 190,
    "start_time": "2022-07-20T06:47:01.529Z"
   },
   {
    "duration": 4,
    "start_time": "2022-07-20T06:47:01.721Z"
   },
   {
    "duration": 35,
    "start_time": "2022-07-20T06:47:01.726Z"
   },
   {
    "duration": 167,
    "start_time": "2022-07-20T06:47:01.763Z"
   },
   {
    "duration": 18,
    "start_time": "2022-07-20T06:47:01.931Z"
   },
   {
    "duration": 50,
    "start_time": "2022-07-20T06:47:01.952Z"
   },
   {
    "duration": 59,
    "start_time": "2022-07-20T06:47:02.004Z"
   },
   {
    "duration": 110,
    "start_time": "2022-07-20T06:47:02.065Z"
   },
   {
    "duration": 8,
    "start_time": "2022-07-20T06:54:54.783Z"
   },
   {
    "duration": 23,
    "start_time": "2022-07-20T07:00:53.899Z"
   },
   {
    "duration": 1071,
    "start_time": "2022-07-20T07:02:01.017Z"
   },
   {
    "duration": 98,
    "start_time": "2022-07-20T07:02:02.090Z"
   },
   {
    "duration": 14,
    "start_time": "2022-07-20T07:02:02.190Z"
   },
   {
    "duration": 19,
    "start_time": "2022-07-20T07:02:02.205Z"
   },
   {
    "duration": 47,
    "start_time": "2022-07-20T07:02:02.226Z"
   },
   {
    "duration": 6,
    "start_time": "2022-07-20T07:02:02.275Z"
   },
   {
    "duration": 54,
    "start_time": "2022-07-20T07:02:02.283Z"
   },
   {
    "duration": 19,
    "start_time": "2022-07-20T07:02:02.339Z"
   },
   {
    "duration": 78,
    "start_time": "2022-07-20T07:02:02.360Z"
   },
   {
    "duration": 7,
    "start_time": "2022-07-20T07:02:02.440Z"
   },
   {
    "duration": 24,
    "start_time": "2022-07-20T07:02:02.448Z"
   },
   {
    "duration": 2,
    "start_time": "2022-07-20T07:02:02.474Z"
   },
   {
    "duration": 11,
    "start_time": "2022-07-20T07:02:02.478Z"
   },
   {
    "duration": 31,
    "start_time": "2022-07-20T07:02:02.492Z"
   },
   {
    "duration": 118,
    "start_time": "2022-07-20T07:02:02.525Z"
   },
   {
    "duration": 0,
    "start_time": "2022-07-20T07:02:02.645Z"
   },
   {
    "duration": 0,
    "start_time": "2022-07-20T07:02:02.646Z"
   },
   {
    "duration": 0,
    "start_time": "2022-07-20T07:02:02.647Z"
   },
   {
    "duration": 0,
    "start_time": "2022-07-20T07:02:02.648Z"
   },
   {
    "duration": 0,
    "start_time": "2022-07-20T07:02:02.650Z"
   },
   {
    "duration": 0,
    "start_time": "2022-07-20T07:02:02.650Z"
   },
   {
    "duration": 0,
    "start_time": "2022-07-20T07:02:02.652Z"
   },
   {
    "duration": 0,
    "start_time": "2022-07-20T07:02:02.653Z"
   },
   {
    "duration": 0,
    "start_time": "2022-07-20T07:02:02.654Z"
   },
   {
    "duration": 0,
    "start_time": "2022-07-20T07:02:02.655Z"
   },
   {
    "duration": 0,
    "start_time": "2022-07-20T07:02:02.656Z"
   },
   {
    "duration": 0,
    "start_time": "2022-07-20T07:02:02.658Z"
   },
   {
    "duration": 0,
    "start_time": "2022-07-20T07:02:02.659Z"
   },
   {
    "duration": 0,
    "start_time": "2022-07-20T07:02:02.660Z"
   },
   {
    "duration": 0,
    "start_time": "2022-07-20T07:02:02.661Z"
   },
   {
    "duration": 0,
    "start_time": "2022-07-20T07:02:02.662Z"
   },
   {
    "duration": 1169,
    "start_time": "2022-07-20T07:03:14.473Z"
   },
   {
    "duration": 99,
    "start_time": "2022-07-20T07:03:15.644Z"
   },
   {
    "duration": 14,
    "start_time": "2022-07-20T07:03:15.745Z"
   },
   {
    "duration": 12,
    "start_time": "2022-07-20T07:03:15.761Z"
   },
   {
    "duration": 28,
    "start_time": "2022-07-20T07:03:15.775Z"
   },
   {
    "duration": 6,
    "start_time": "2022-07-20T07:03:15.804Z"
   },
   {
    "duration": 17,
    "start_time": "2022-07-20T07:03:15.812Z"
   },
   {
    "duration": 12,
    "start_time": "2022-07-20T07:03:15.830Z"
   },
   {
    "duration": 12,
    "start_time": "2022-07-20T07:03:15.844Z"
   },
   {
    "duration": 14,
    "start_time": "2022-07-20T07:03:15.859Z"
   },
   {
    "duration": 26,
    "start_time": "2022-07-20T07:03:15.874Z"
   },
   {
    "duration": 12,
    "start_time": "2022-07-20T07:03:15.902Z"
   },
   {
    "duration": 18,
    "start_time": "2022-07-20T07:03:15.916Z"
   },
   {
    "duration": 305,
    "start_time": "2022-07-20T07:03:15.935Z"
   },
   {
    "duration": 306,
    "start_time": "2022-07-20T07:03:16.242Z"
   },
   {
    "duration": 243,
    "start_time": "2022-07-20T07:03:16.550Z"
   },
   {
    "duration": 338,
    "start_time": "2022-07-20T07:03:16.795Z"
   },
   {
    "duration": 251,
    "start_time": "2022-07-20T07:03:17.135Z"
   },
   {
    "duration": 330,
    "start_time": "2022-07-20T07:03:17.388Z"
   },
   {
    "duration": 172,
    "start_time": "2022-07-20T07:03:17.719Z"
   },
   {
    "duration": 8,
    "start_time": "2022-07-20T07:03:17.893Z"
   },
   {
    "duration": 7,
    "start_time": "2022-07-20T07:03:17.903Z"
   },
   {
    "duration": 189,
    "start_time": "2022-07-20T07:03:17.912Z"
   },
   {
    "duration": 4,
    "start_time": "2022-07-20T07:03:18.102Z"
   },
   {
    "duration": 18,
    "start_time": "2022-07-20T07:03:18.108Z"
   },
   {
    "duration": 150,
    "start_time": "2022-07-20T07:03:18.127Z"
   },
   {
    "duration": 25,
    "start_time": "2022-07-20T07:03:18.278Z"
   },
   {
    "duration": 14,
    "start_time": "2022-07-20T07:03:18.306Z"
   },
   {
    "duration": 50,
    "start_time": "2022-07-20T07:03:18.323Z"
   },
   {
    "duration": 27,
    "start_time": "2022-07-20T07:03:18.375Z"
   },
   {
    "duration": 13,
    "start_time": "2022-07-20T07:17:55.246Z"
   },
   {
    "duration": 11,
    "start_time": "2022-07-20T07:18:17.736Z"
   },
   {
    "duration": 11,
    "start_time": "2022-07-20T07:20:51.614Z"
   },
   {
    "duration": 15,
    "start_time": "2022-07-20T07:22:44.735Z"
   }
  ],
  "kernelspec": {
   "display_name": "Python 3 (ipykernel)",
   "language": "python",
   "name": "python3"
  },
  "language_info": {
   "codemirror_mode": {
    "name": "ipython",
    "version": 3
   },
   "file_extension": ".py",
   "mimetype": "text/x-python",
   "name": "python",
   "nbconvert_exporter": "python",
   "pygments_lexer": "ipython3",
   "version": "3.9.7"
  },
  "toc": {
   "base_numbering": 1,
   "nav_menu": {},
   "number_sections": true,
   "sideBar": true,
   "skip_h1_title": false,
   "title_cell": "Table of Contents",
   "title_sidebar": "Contents",
   "toc_cell": false,
   "toc_position": {
    "height": "calc(100% - 180px)",
    "left": "10px",
    "top": "150px",
    "width": "194.391px"
   },
   "toc_section_display": true,
   "toc_window_display": true
  }
 },
 "nbformat": 4,
 "nbformat_minor": 2
}
